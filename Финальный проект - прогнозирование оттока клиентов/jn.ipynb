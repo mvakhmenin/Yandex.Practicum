{
 "cells": [
  {
   "cell_type": "markdown",
   "metadata": {},
   "source": [
    "# Прогнозирование оттока клиентов телеком-оператора"
   ]
  },
  {
   "cell_type": "markdown",
   "metadata": {},
   "source": [
    "Импорт библиотек"
   ]
  },
  {
   "cell_type": "code",
   "execution_count": 87,
   "metadata": {},
   "outputs": [],
   "source": [
    "import pandas as pd\n",
    "import numpy as np\n",
    "import matplotlib.pyplot as plt\n",
    "import seaborn as sns\n",
    "\n",
    "from sklearn.model_selection import train_test_split\n",
    "from sklearn.model_selection import cross_validate\n",
    "from sklearn.metrics import roc_auc_score\n",
    "from sklearn.linear_model import LogisticRegression\n",
    "from sklearn.neighbors import KNeighborsClassifier\n",
    "from sklearn.ensemble import RandomForestClassifier\n",
    "from sklearn.cluster import KMeans\n",
    "from sklearn.decomposition import PCA\n",
    "\n",
    "import lightgbm\n",
    "import catboost\n",
    "\n",
    "import optuna\n",
    "\n",
    "import warnings"
   ]
  },
  {
   "cell_type": "code",
   "execution_count": 2,
   "metadata": {},
   "outputs": [],
   "source": [
    "plt.rcParams['figure.figsize'] = (12,6)"
   ]
  },
  {
   "cell_type": "markdown",
   "metadata": {},
   "source": [
    "## Исследовательский анализ данных"
   ]
  },
  {
   "cell_type": "markdown",
   "metadata": {},
   "source": [
    "### Обзор файлов с данными"
   ]
  },
  {
   "cell_type": "code",
   "execution_count": 3,
   "metadata": {},
   "outputs": [
    {
     "data": {
      "text/html": [
       "<div>\n",
       "<style scoped>\n",
       "    .dataframe tbody tr th:only-of-type {\n",
       "        vertical-align: middle;\n",
       "    }\n",
       "\n",
       "    .dataframe tbody tr th {\n",
       "        vertical-align: top;\n",
       "    }\n",
       "\n",
       "    .dataframe thead th {\n",
       "        text-align: right;\n",
       "    }\n",
       "</style>\n",
       "<table border=\"1\" class=\"dataframe\">\n",
       "  <thead>\n",
       "    <tr style=\"text-align: right;\">\n",
       "      <th></th>\n",
       "      <th>customerID</th>\n",
       "      <th>BeginDate</th>\n",
       "      <th>EndDate</th>\n",
       "      <th>Type</th>\n",
       "      <th>PaperlessBilling</th>\n",
       "      <th>PaymentMethod</th>\n",
       "      <th>MonthlyCharges</th>\n",
       "      <th>TotalCharges</th>\n",
       "    </tr>\n",
       "  </thead>\n",
       "  <tbody>\n",
       "    <tr>\n",
       "      <th>0</th>\n",
       "      <td>7590-VHVEG</td>\n",
       "      <td>2020-01-01</td>\n",
       "      <td>No</td>\n",
       "      <td>Month-to-month</td>\n",
       "      <td>Yes</td>\n",
       "      <td>Electronic check</td>\n",
       "      <td>29.85</td>\n",
       "      <td>29.85</td>\n",
       "    </tr>\n",
       "    <tr>\n",
       "      <th>1</th>\n",
       "      <td>5575-GNVDE</td>\n",
       "      <td>2017-04-01</td>\n",
       "      <td>No</td>\n",
       "      <td>One year</td>\n",
       "      <td>No</td>\n",
       "      <td>Mailed check</td>\n",
       "      <td>56.95</td>\n",
       "      <td>1889.5</td>\n",
       "    </tr>\n",
       "    <tr>\n",
       "      <th>2</th>\n",
       "      <td>3668-QPYBK</td>\n",
       "      <td>2019-10-01</td>\n",
       "      <td>2019-12-01 00:00:00</td>\n",
       "      <td>Month-to-month</td>\n",
       "      <td>Yes</td>\n",
       "      <td>Mailed check</td>\n",
       "      <td>53.85</td>\n",
       "      <td>108.15</td>\n",
       "    </tr>\n",
       "    <tr>\n",
       "      <th>3</th>\n",
       "      <td>7795-CFOCW</td>\n",
       "      <td>2016-05-01</td>\n",
       "      <td>No</td>\n",
       "      <td>One year</td>\n",
       "      <td>No</td>\n",
       "      <td>Bank transfer (automatic)</td>\n",
       "      <td>42.30</td>\n",
       "      <td>1840.75</td>\n",
       "    </tr>\n",
       "    <tr>\n",
       "      <th>4</th>\n",
       "      <td>9237-HQITU</td>\n",
       "      <td>2019-09-01</td>\n",
       "      <td>2019-11-01 00:00:00</td>\n",
       "      <td>Month-to-month</td>\n",
       "      <td>Yes</td>\n",
       "      <td>Electronic check</td>\n",
       "      <td>70.70</td>\n",
       "      <td>151.65</td>\n",
       "    </tr>\n",
       "  </tbody>\n",
       "</table>\n",
       "</div>"
      ],
      "text/plain": [
       "   customerID   BeginDate              EndDate            Type  \\\n",
       "0  7590-VHVEG  2020-01-01                   No  Month-to-month   \n",
       "1  5575-GNVDE  2017-04-01                   No        One year   \n",
       "2  3668-QPYBK  2019-10-01  2019-12-01 00:00:00  Month-to-month   \n",
       "3  7795-CFOCW  2016-05-01                   No        One year   \n",
       "4  9237-HQITU  2019-09-01  2019-11-01 00:00:00  Month-to-month   \n",
       "\n",
       "  PaperlessBilling              PaymentMethod  MonthlyCharges TotalCharges  \n",
       "0              Yes           Electronic check           29.85        29.85  \n",
       "1               No               Mailed check           56.95       1889.5  \n",
       "2              Yes               Mailed check           53.85       108.15  \n",
       "3               No  Bank transfer (automatic)           42.30      1840.75  \n",
       "4              Yes           Electronic check           70.70       151.65  "
      ]
     },
     "execution_count": 3,
     "metadata": {},
     "output_type": "execute_result"
    }
   ],
   "source": [
    "try:\n",
    "    df_contract = pd.read_csv('/home/mike/repos/contract.csv')\n",
    "except FileNotFoundError:\n",
    "    df_contract = pd.read_csv('/datasets/final_provider/contract.csv')\n",
    "df_contract.head()"
   ]
  },
  {
   "cell_type": "code",
   "execution_count": 4,
   "metadata": {},
   "outputs": [
    {
     "data": {
      "text/html": [
       "<div>\n",
       "<style scoped>\n",
       "    .dataframe tbody tr th:only-of-type {\n",
       "        vertical-align: middle;\n",
       "    }\n",
       "\n",
       "    .dataframe tbody tr th {\n",
       "        vertical-align: top;\n",
       "    }\n",
       "\n",
       "    .dataframe thead th {\n",
       "        text-align: right;\n",
       "    }\n",
       "</style>\n",
       "<table border=\"1\" class=\"dataframe\">\n",
       "  <thead>\n",
       "    <tr style=\"text-align: right;\">\n",
       "      <th></th>\n",
       "      <th>customerID</th>\n",
       "      <th>InternetService</th>\n",
       "      <th>OnlineSecurity</th>\n",
       "      <th>OnlineBackup</th>\n",
       "      <th>DeviceProtection</th>\n",
       "      <th>TechSupport</th>\n",
       "      <th>StreamingTV</th>\n",
       "      <th>StreamingMovies</th>\n",
       "    </tr>\n",
       "  </thead>\n",
       "  <tbody>\n",
       "    <tr>\n",
       "      <th>0</th>\n",
       "      <td>7590-VHVEG</td>\n",
       "      <td>DSL</td>\n",
       "      <td>No</td>\n",
       "      <td>Yes</td>\n",
       "      <td>No</td>\n",
       "      <td>No</td>\n",
       "      <td>No</td>\n",
       "      <td>No</td>\n",
       "    </tr>\n",
       "    <tr>\n",
       "      <th>1</th>\n",
       "      <td>5575-GNVDE</td>\n",
       "      <td>DSL</td>\n",
       "      <td>Yes</td>\n",
       "      <td>No</td>\n",
       "      <td>Yes</td>\n",
       "      <td>No</td>\n",
       "      <td>No</td>\n",
       "      <td>No</td>\n",
       "    </tr>\n",
       "    <tr>\n",
       "      <th>2</th>\n",
       "      <td>3668-QPYBK</td>\n",
       "      <td>DSL</td>\n",
       "      <td>Yes</td>\n",
       "      <td>Yes</td>\n",
       "      <td>No</td>\n",
       "      <td>No</td>\n",
       "      <td>No</td>\n",
       "      <td>No</td>\n",
       "    </tr>\n",
       "    <tr>\n",
       "      <th>3</th>\n",
       "      <td>7795-CFOCW</td>\n",
       "      <td>DSL</td>\n",
       "      <td>Yes</td>\n",
       "      <td>No</td>\n",
       "      <td>Yes</td>\n",
       "      <td>Yes</td>\n",
       "      <td>No</td>\n",
       "      <td>No</td>\n",
       "    </tr>\n",
       "    <tr>\n",
       "      <th>4</th>\n",
       "      <td>9237-HQITU</td>\n",
       "      <td>Fiber optic</td>\n",
       "      <td>No</td>\n",
       "      <td>No</td>\n",
       "      <td>No</td>\n",
       "      <td>No</td>\n",
       "      <td>No</td>\n",
       "      <td>No</td>\n",
       "    </tr>\n",
       "  </tbody>\n",
       "</table>\n",
       "</div>"
      ],
      "text/plain": [
       "   customerID InternetService OnlineSecurity OnlineBackup DeviceProtection  \\\n",
       "0  7590-VHVEG             DSL             No          Yes               No   \n",
       "1  5575-GNVDE             DSL            Yes           No              Yes   \n",
       "2  3668-QPYBK             DSL            Yes          Yes               No   \n",
       "3  7795-CFOCW             DSL            Yes           No              Yes   \n",
       "4  9237-HQITU     Fiber optic             No           No               No   \n",
       "\n",
       "  TechSupport StreamingTV StreamingMovies  \n",
       "0          No          No              No  \n",
       "1          No          No              No  \n",
       "2          No          No              No  \n",
       "3         Yes          No              No  \n",
       "4          No          No              No  "
      ]
     },
     "execution_count": 4,
     "metadata": {},
     "output_type": "execute_result"
    }
   ],
   "source": [
    "try:\n",
    "    df_internet = pd.read_csv('/home/mike/repos/internet.csv')\n",
    "except FileNotFoundError:\n",
    "    df_internet = pd.read_csv('/datasets/final_provider/internet.csv')\n",
    "df_internet.head()"
   ]
  },
  {
   "cell_type": "code",
   "execution_count": 5,
   "metadata": {},
   "outputs": [
    {
     "data": {
      "text/html": [
       "<div>\n",
       "<style scoped>\n",
       "    .dataframe tbody tr th:only-of-type {\n",
       "        vertical-align: middle;\n",
       "    }\n",
       "\n",
       "    .dataframe tbody tr th {\n",
       "        vertical-align: top;\n",
       "    }\n",
       "\n",
       "    .dataframe thead th {\n",
       "        text-align: right;\n",
       "    }\n",
       "</style>\n",
       "<table border=\"1\" class=\"dataframe\">\n",
       "  <thead>\n",
       "    <tr style=\"text-align: right;\">\n",
       "      <th></th>\n",
       "      <th>customerID</th>\n",
       "      <th>gender</th>\n",
       "      <th>SeniorCitizen</th>\n",
       "      <th>Partner</th>\n",
       "      <th>Dependents</th>\n",
       "    </tr>\n",
       "  </thead>\n",
       "  <tbody>\n",
       "    <tr>\n",
       "      <th>0</th>\n",
       "      <td>7590-VHVEG</td>\n",
       "      <td>Female</td>\n",
       "      <td>0</td>\n",
       "      <td>Yes</td>\n",
       "      <td>No</td>\n",
       "    </tr>\n",
       "    <tr>\n",
       "      <th>1</th>\n",
       "      <td>5575-GNVDE</td>\n",
       "      <td>Male</td>\n",
       "      <td>0</td>\n",
       "      <td>No</td>\n",
       "      <td>No</td>\n",
       "    </tr>\n",
       "    <tr>\n",
       "      <th>2</th>\n",
       "      <td>3668-QPYBK</td>\n",
       "      <td>Male</td>\n",
       "      <td>0</td>\n",
       "      <td>No</td>\n",
       "      <td>No</td>\n",
       "    </tr>\n",
       "    <tr>\n",
       "      <th>3</th>\n",
       "      <td>7795-CFOCW</td>\n",
       "      <td>Male</td>\n",
       "      <td>0</td>\n",
       "      <td>No</td>\n",
       "      <td>No</td>\n",
       "    </tr>\n",
       "    <tr>\n",
       "      <th>4</th>\n",
       "      <td>9237-HQITU</td>\n",
       "      <td>Female</td>\n",
       "      <td>0</td>\n",
       "      <td>No</td>\n",
       "      <td>No</td>\n",
       "    </tr>\n",
       "  </tbody>\n",
       "</table>\n",
       "</div>"
      ],
      "text/plain": [
       "   customerID  gender  SeniorCitizen Partner Dependents\n",
       "0  7590-VHVEG  Female              0     Yes         No\n",
       "1  5575-GNVDE    Male              0      No         No\n",
       "2  3668-QPYBK    Male              0      No         No\n",
       "3  7795-CFOCW    Male              0      No         No\n",
       "4  9237-HQITU  Female              0      No         No"
      ]
     },
     "execution_count": 5,
     "metadata": {},
     "output_type": "execute_result"
    }
   ],
   "source": [
    "try:\n",
    "    df_personal = pd.read_csv('/home/mike/repos/personal.csv')\n",
    "except FileNotFoundError:\n",
    "    df_personal = pd.read_csv('/datasets/final_provider/personal.csv')\n",
    "df_personal.head()"
   ]
  },
  {
   "cell_type": "code",
   "execution_count": 6,
   "metadata": {},
   "outputs": [
    {
     "data": {
      "text/html": [
       "<div>\n",
       "<style scoped>\n",
       "    .dataframe tbody tr th:only-of-type {\n",
       "        vertical-align: middle;\n",
       "    }\n",
       "\n",
       "    .dataframe tbody tr th {\n",
       "        vertical-align: top;\n",
       "    }\n",
       "\n",
       "    .dataframe thead th {\n",
       "        text-align: right;\n",
       "    }\n",
       "</style>\n",
       "<table border=\"1\" class=\"dataframe\">\n",
       "  <thead>\n",
       "    <tr style=\"text-align: right;\">\n",
       "      <th></th>\n",
       "      <th>customerID</th>\n",
       "      <th>MultipleLines</th>\n",
       "    </tr>\n",
       "  </thead>\n",
       "  <tbody>\n",
       "    <tr>\n",
       "      <th>0</th>\n",
       "      <td>5575-GNVDE</td>\n",
       "      <td>No</td>\n",
       "    </tr>\n",
       "    <tr>\n",
       "      <th>1</th>\n",
       "      <td>3668-QPYBK</td>\n",
       "      <td>No</td>\n",
       "    </tr>\n",
       "    <tr>\n",
       "      <th>2</th>\n",
       "      <td>9237-HQITU</td>\n",
       "      <td>No</td>\n",
       "    </tr>\n",
       "    <tr>\n",
       "      <th>3</th>\n",
       "      <td>9305-CDSKC</td>\n",
       "      <td>Yes</td>\n",
       "    </tr>\n",
       "    <tr>\n",
       "      <th>4</th>\n",
       "      <td>1452-KIOVK</td>\n",
       "      <td>Yes</td>\n",
       "    </tr>\n",
       "  </tbody>\n",
       "</table>\n",
       "</div>"
      ],
      "text/plain": [
       "   customerID MultipleLines\n",
       "0  5575-GNVDE            No\n",
       "1  3668-QPYBK            No\n",
       "2  9237-HQITU            No\n",
       "3  9305-CDSKC           Yes\n",
       "4  1452-KIOVK           Yes"
      ]
     },
     "execution_count": 6,
     "metadata": {},
     "output_type": "execute_result"
    }
   ],
   "source": [
    "try:\n",
    "    df_phone = pd.read_csv('/home/mike/repos/phone.csv')\n",
    "except FileNotFoundError:\n",
    "    df_phone = pd.read_csv('/datasets/final_provider/phone.csv')\n",
    "df_phone.head()"
   ]
  },
  {
   "cell_type": "markdown",
   "metadata": {},
   "source": [
    "### Обзор данных и первичная предобработка"
   ]
  },
  {
   "cell_type": "markdown",
   "metadata": {},
   "source": [
    "Изучение данных с помощью методов:\n",
    "* df.info() - общее количество данных, проверка наименований столбцов (переименование при необходимости), проверка на соответствие типов данных (изменение типов данных при необходимости), наличие пропущенных значений (анализ возможных стратегий избавления от пропусков: удаление объектов с пропущенными значениями, заполнение нулями, заполнение медианой и т.п.)."
   ]
  },
  {
   "cell_type": "code",
   "execution_count": 7,
   "metadata": {},
   "outputs": [
    {
     "name": "stdout",
     "output_type": "stream",
     "text": [
      "<class 'pandas.core.frame.DataFrame'>\n",
      "RangeIndex: 7043 entries, 0 to 7042\n",
      "Data columns (total 8 columns):\n",
      " #   Column            Non-Null Count  Dtype  \n",
      "---  ------            --------------  -----  \n",
      " 0   customerID        7043 non-null   object \n",
      " 1   BeginDate         7043 non-null   object \n",
      " 2   EndDate           7043 non-null   object \n",
      " 3   Type              7043 non-null   object \n",
      " 4   PaperlessBilling  7043 non-null   object \n",
      " 5   PaymentMethod     7043 non-null   object \n",
      " 6   MonthlyCharges    7043 non-null   float64\n",
      " 7   TotalCharges      7043 non-null   object \n",
      "dtypes: float64(1), object(7)\n",
      "memory usage: 440.3+ KB\n"
     ]
    }
   ],
   "source": [
    "df_contract.info()"
   ]
  },
  {
   "cell_type": "markdown",
   "metadata": {},
   "source": [
    "`BeginDate` необходимо перевести в тип date, `EndDate` - из этого столбца делаем целевой признак (если указана дата, то абонент ушел, ставим значение 1, в противном случае 0), `TotalCharges` необходимо перевести в тип float64"
   ]
  },
  {
   "cell_type": "code",
   "execution_count": 8,
   "metadata": {},
   "outputs": [],
   "source": [
    "def is_churn(x):\n",
    "    if x == 'No':\n",
    "        return 0\n",
    "    else: return 1"
   ]
  },
  {
   "cell_type": "code",
   "execution_count": 9,
   "metadata": {},
   "outputs": [],
   "source": [
    "df_contract.TotalCharges = df_contract.TotalCharges.str.replace(' ', '0').astype(float)\n",
    "df_contract.BeginDate = pd.to_datetime(df_contract.BeginDate)\n",
    "df_contract['Churn'] = df_contract.EndDate.apply(is_churn)"
   ]
  },
  {
   "cell_type": "code",
   "execution_count": 10,
   "metadata": {},
   "outputs": [
    {
     "name": "stdout",
     "output_type": "stream",
     "text": [
      "<class 'pandas.core.frame.DataFrame'>\n",
      "RangeIndex: 7043 entries, 0 to 7042\n",
      "Data columns (total 9 columns):\n",
      " #   Column            Non-Null Count  Dtype         \n",
      "---  ------            --------------  -----         \n",
      " 0   customerID        7043 non-null   object        \n",
      " 1   BeginDate         7043 non-null   datetime64[ns]\n",
      " 2   EndDate           7043 non-null   object        \n",
      " 3   Type              7043 non-null   object        \n",
      " 4   PaperlessBilling  7043 non-null   object        \n",
      " 5   PaymentMethod     7043 non-null   object        \n",
      " 6   MonthlyCharges    7043 non-null   float64       \n",
      " 7   TotalCharges      7043 non-null   float64       \n",
      " 8   Churn             7043 non-null   int64         \n",
      "dtypes: datetime64[ns](1), float64(2), int64(1), object(5)\n",
      "memory usage: 495.3+ KB\n"
     ]
    }
   ],
   "source": [
    "df_contract.info()"
   ]
  },
  {
   "cell_type": "markdown",
   "metadata": {},
   "source": [
    "Все преобразования выполнены"
   ]
  },
  {
   "cell_type": "code",
   "execution_count": 11,
   "metadata": {},
   "outputs": [
    {
     "name": "stdout",
     "output_type": "stream",
     "text": [
      "<class 'pandas.core.frame.DataFrame'>\n",
      "RangeIndex: 5517 entries, 0 to 5516\n",
      "Data columns (total 8 columns):\n",
      " #   Column            Non-Null Count  Dtype \n",
      "---  ------            --------------  ----- \n",
      " 0   customerID        5517 non-null   object\n",
      " 1   InternetService   5517 non-null   object\n",
      " 2   OnlineSecurity    5517 non-null   object\n",
      " 3   OnlineBackup      5517 non-null   object\n",
      " 4   DeviceProtection  5517 non-null   object\n",
      " 5   TechSupport       5517 non-null   object\n",
      " 6   StreamingTV       5517 non-null   object\n",
      " 7   StreamingMovies   5517 non-null   object\n",
      "dtypes: object(8)\n",
      "memory usage: 344.9+ KB\n"
     ]
    }
   ],
   "source": [
    "df_internet.info()"
   ]
  },
  {
   "cell_type": "markdown",
   "metadata": {},
   "source": [
    "Преобразования не нужны"
   ]
  },
  {
   "cell_type": "code",
   "execution_count": 12,
   "metadata": {},
   "outputs": [
    {
     "name": "stdout",
     "output_type": "stream",
     "text": [
      "<class 'pandas.core.frame.DataFrame'>\n",
      "RangeIndex: 7043 entries, 0 to 7042\n",
      "Data columns (total 5 columns):\n",
      " #   Column         Non-Null Count  Dtype \n",
      "---  ------         --------------  ----- \n",
      " 0   customerID     7043 non-null   object\n",
      " 1   gender         7043 non-null   object\n",
      " 2   SeniorCitizen  7043 non-null   int64 \n",
      " 3   Partner        7043 non-null   object\n",
      " 4   Dependents     7043 non-null   object\n",
      "dtypes: int64(1), object(4)\n",
      "memory usage: 275.2+ KB\n"
     ]
    }
   ],
   "source": [
    "df_personal.info()"
   ]
  },
  {
   "cell_type": "markdown",
   "metadata": {},
   "source": [
    "Преобразования не нужны"
   ]
  },
  {
   "cell_type": "code",
   "execution_count": 13,
   "metadata": {},
   "outputs": [
    {
     "name": "stdout",
     "output_type": "stream",
     "text": [
      "<class 'pandas.core.frame.DataFrame'>\n",
      "RangeIndex: 6361 entries, 0 to 6360\n",
      "Data columns (total 2 columns):\n",
      " #   Column         Non-Null Count  Dtype \n",
      "---  ------         --------------  ----- \n",
      " 0   customerID     6361 non-null   object\n",
      " 1   MultipleLines  6361 non-null   object\n",
      "dtypes: object(2)\n",
      "memory usage: 99.5+ KB\n"
     ]
    }
   ],
   "source": [
    "df_phone.info()"
   ]
  },
  {
   "cell_type": "markdown",
   "metadata": {},
   "source": [
    "Преобразования не нужны"
   ]
  },
  {
   "cell_type": "markdown",
   "metadata": {},
   "source": [
    "* df.describe() - для числовых данных анализ рахмаха (обоснованность максимальных и минимальных значений и удаление объектов с ошибочными данными, квартильный анализ).\n",
    "\n",
    "числовые данные есть только в датафрейме `df_contract`"
   ]
  },
  {
   "cell_type": "code",
   "execution_count": 14,
   "metadata": {},
   "outputs": [
    {
     "data": {
      "text/html": [
       "<div>\n",
       "<style scoped>\n",
       "    .dataframe tbody tr th:only-of-type {\n",
       "        vertical-align: middle;\n",
       "    }\n",
       "\n",
       "    .dataframe tbody tr th {\n",
       "        vertical-align: top;\n",
       "    }\n",
       "\n",
       "    .dataframe thead th {\n",
       "        text-align: right;\n",
       "    }\n",
       "</style>\n",
       "<table border=\"1\" class=\"dataframe\">\n",
       "  <thead>\n",
       "    <tr style=\"text-align: right;\">\n",
       "      <th></th>\n",
       "      <th>MonthlyCharges</th>\n",
       "      <th>TotalCharges</th>\n",
       "    </tr>\n",
       "  </thead>\n",
       "  <tbody>\n",
       "    <tr>\n",
       "      <th>count</th>\n",
       "      <td>7043.000000</td>\n",
       "      <td>7043.000000</td>\n",
       "    </tr>\n",
       "    <tr>\n",
       "      <th>mean</th>\n",
       "      <td>64.761692</td>\n",
       "      <td>2279.734304</td>\n",
       "    </tr>\n",
       "    <tr>\n",
       "      <th>std</th>\n",
       "      <td>30.090047</td>\n",
       "      <td>2266.794470</td>\n",
       "    </tr>\n",
       "    <tr>\n",
       "      <th>min</th>\n",
       "      <td>18.250000</td>\n",
       "      <td>0.000000</td>\n",
       "    </tr>\n",
       "    <tr>\n",
       "      <th>25%</th>\n",
       "      <td>35.500000</td>\n",
       "      <td>398.550000</td>\n",
       "    </tr>\n",
       "    <tr>\n",
       "      <th>50%</th>\n",
       "      <td>70.350000</td>\n",
       "      <td>1394.550000</td>\n",
       "    </tr>\n",
       "    <tr>\n",
       "      <th>75%</th>\n",
       "      <td>89.850000</td>\n",
       "      <td>3786.600000</td>\n",
       "    </tr>\n",
       "    <tr>\n",
       "      <th>max</th>\n",
       "      <td>118.750000</td>\n",
       "      <td>8684.800000</td>\n",
       "    </tr>\n",
       "  </tbody>\n",
       "</table>\n",
       "</div>"
      ],
      "text/plain": [
       "       MonthlyCharges  TotalCharges\n",
       "count     7043.000000   7043.000000\n",
       "mean        64.761692   2279.734304\n",
       "std         30.090047   2266.794470\n",
       "min         18.250000      0.000000\n",
       "25%         35.500000    398.550000\n",
       "50%         70.350000   1394.550000\n",
       "75%         89.850000   3786.600000\n",
       "max        118.750000   8684.800000"
      ]
     },
     "execution_count": 14,
     "metadata": {},
     "output_type": "execute_result"
    }
   ],
   "source": [
    "df_contract[['MonthlyCharges','TotalCharges']].describe()"
   ]
  },
  {
   "cell_type": "markdown",
   "metadata": {},
   "source": [
    "Разброс `TotalCharges` значительно больше, чем `MonthlyCharges` - максимальное значение `MonthlyCharges` больше среднего примерно в 2 раза, а максимальное значение `TotalCharges` больше среднего почти в 4 раза. При этом медиана `MonthlyCharges` чуть больше среднего, а медиана `TotalCharges` значительно меньше среднего. То есть ежемесячные платежи абонентов не очень сильно отличаются друг от друга, а в накопленных платежах абонентов есть группа больших значений, которые увелививают разброс и смещают среднее вправо. Возможно, это группа \"ветеранов\", которые давно пользуются услугами оператора. Проверим эту гипотезу на графиках плотности распрееления."
   ]
  },
  {
   "cell_type": "markdown",
   "metadata": {},
   "source": [
    "* s.plot(kind='kde') - построение графиков плотности распределения для цифровых данных, оценка формы распределения."
   ]
  },
  {
   "cell_type": "code",
   "execution_count": 15,
   "metadata": {},
   "outputs": [
    {
     "data": {
      "image/png": "[encoded data removed]",
      "text/plain": [
       "<Figure size 432x288 with 1 Axes>"
      ]
     },
     "metadata": {
      "needs_background": "light"
     },
     "output_type": "display_data"
    }
   ],
   "source": [
    "df_contract['MonthlyCharges'].plot(kind='kde', \n",
    "                                   title='Распределение абонентов по сумме ежемесячных платежей',\n",
    "                                   xlim=(0, df_contract['MonthlyCharges'].max()*1.1)\n",
    "                                   )\n",
    "None"
   ]
  },
  {
   "cell_type": "markdown",
   "metadata": {},
   "source": [
    "Большинство абонентов платят около 20 в месяц, при этом есть значительная группа абонентов, которые платят от 70 до 100 в месяц. Распределение очень сильно отличается от нормального."
   ]
  },
  {
   "cell_type": "code",
   "execution_count": 16,
   "metadata": {},
   "outputs": [
    {
     "data": {
      "image/png": "[encoded data removed]",
      "text/plain": [
       "<Figure size 432x288 with 1 Axes>"
      ]
     },
     "metadata": {
      "needs_background": "light"
     },
     "output_type": "display_data"
    }
   ],
   "source": [
    "df_contract['TotalCharges'].plot(kind='kde', \n",
    "                                 title='Распределение абонентов по сумме накопленных платежей',\n",
    "                                 xlim=(-1000, df_contract['TotalCharges'].max()*1.1)\n",
    "                                   )\n",
    "None"
   ]
  },
  {
   "cell_type": "markdown",
   "metadata": {},
   "source": [
    "У большинства абонентов небольшая накопленная сумма платежей. Скорее всего они недавно пользуются услугами оператора. Распределение сильно отличается от нормального."
   ]
  },
  {
   "cell_type": "markdown",
   "metadata": {},
   "source": [
    "\n",
    "* s.value_counts() - для категориальных данных подсчет количества объектов в каждой категории (построение столбчатых диаграм для наглядности)."
   ]
  },
  {
   "cell_type": "code",
   "execution_count": 17,
   "metadata": {},
   "outputs": [
    {
     "data": {
      "image/png": "[encoded data removed]",
      "text/plain": [
       "<Figure size 432x288 with 1 Axes>"
      ]
     },
     "metadata": {
      "needs_background": "light"
     },
     "output_type": "display_data"
    },
    {
     "data": {
      "image/png": "[encoded data removed]",
      "text/plain": [
       "<Figure size 432x288 with 1 Axes>"
      ]
     },
     "metadata": {
      "needs_background": "light"
     },
     "output_type": "display_data"
    },
    {
     "data": {
      "image/png": "[encoded data removed]",
      "text/plain": [
       "<Figure size 432x288 with 1 Axes>"
      ]
     },
     "metadata": {
      "needs_background": "light"
     },
     "output_type": "display_data"
    },
    {
     "data": {
      "image/png": "[encoded data removed]",
      "text/plain": [
       "<Figure size 432x288 with 1 Axes>"
      ]
     },
     "metadata": {
      "needs_background": "light"
     },
     "output_type": "display_data"
    }
   ],
   "source": [
    "for column in ['Type', 'PaperlessBilling', 'PaymentMethod', 'Churn']:\n",
    "    df_contract[column].value_counts(normalize=True).plot(kind='bar', title=column)\n",
    "    plt.show()"
   ]
  },
  {
   "cell_type": "code",
   "execution_count": 18,
   "metadata": {},
   "outputs": [
    {
     "data": {
      "image/png": "[encoded data removed]",
      "text/plain": [
       "<Figure size 432x288 with 1 Axes>"
      ]
     },
     "metadata": {
      "needs_background": "light"
     },
     "output_type": "display_data"
    },
    {
     "data": {
      "image/png": "[encoded data removed]",
      "text/plain": [
       "<Figure size 432x288 with 1 Axes>"
      ]
     },
     "metadata": {
      "needs_background": "light"
     },
     "output_type": "display_data"
    },
    {
     "data": {
      "image/png": "[encoded data removed]",
      "text/plain": [
       "<Figure size 432x288 with 1 Axes>"
      ]
     },
     "metadata": {
      "needs_background": "light"
     },
     "output_type": "display_data"
    },
    {
     "data": {
      "image/png": "[encoded data removed]",
      "text/plain": [
       "<Figure size 432x288 with 1 Axes>"
      ]
     },
     "metadata": {
      "needs_background": "light"
     },
     "output_type": "display_data"
    },
    {
     "data": {
      "image/png": "[encoded data removed]",
      "text/plain": [
       "<Figure size 432x288 with 1 Axes>"
      ]
     },
     "metadata": {
      "needs_background": "light"
     },
     "output_type": "display_data"
    },
    {
     "data": {
      "image/png": "[encoded data removed]",
      "text/plain": [
       "<Figure size 432x288 with 1 Axes>"
      ]
     },
     "metadata": {
      "needs_background": "light"
     },
     "output_type": "display_data"
    },
    {
     "data": {
      "image/png": "[encoded data removed]",
      "text/plain": [
       "<Figure size 432x288 with 1 Axes>"
      ]
     },
     "metadata": {
      "needs_background": "light"
     },
     "output_type": "display_data"
    }
   ],
   "source": [
    "for column in df_internet.drop(columns='customerID').columns:\n",
    "    df_internet[column].value_counts(normalize=True).plot(kind='bar', title=column)\n",
    "    plt.show()"
   ]
  },
  {
   "cell_type": "code",
   "execution_count": 19,
   "metadata": {},
   "outputs": [
    {
     "data": {
      "image/png": "[encoded data removed]",
      "text/plain": [
       "<Figure size 432x288 with 1 Axes>"
      ]
     },
     "metadata": {
      "needs_background": "light"
     },
     "output_type": "display_data"
    },
    {
     "data": {
      "image/png": "[encoded data removed]",
      "text/plain": [
       "<Figure size 432x288 with 1 Axes>"
      ]
     },
     "metadata": {
      "needs_background": "light"
     },
     "output_type": "display_data"
    },
    {
     "data": {
      "image/png": "[encoded data removed]",
      "text/plain": [
       "<Figure size 432x288 with 1 Axes>"
      ]
     },
     "metadata": {
      "needs_background": "light"
     },
     "output_type": "display_data"
    },
    {
     "data": {
      "image/png": "[encoded data removed]",
      "text/plain": [
       "<Figure size 432x288 with 1 Axes>"
      ]
     },
     "metadata": {
      "needs_background": "light"
     },
     "output_type": "display_data"
    }
   ],
   "source": [
    "for column in df_personal.drop(columns='customerID').columns:\n",
    "    df_personal[column].value_counts(normalize=True).plot(kind='bar', title=column)\n",
    "    plt.show()"
   ]
  },
  {
   "cell_type": "code",
   "execution_count": 20,
   "metadata": {},
   "outputs": [
    {
     "data": {
      "image/png": "[encoded data removed]",
      "text/plain": [
       "<Figure size 432x288 with 1 Axes>"
      ]
     },
     "metadata": {
      "needs_background": "light"
     },
     "output_type": "display_data"
    }
   ],
   "source": [
    "for column in df_phone.drop(columns='customerID').columns:\n",
    "    df_phone[column].value_counts(normalize=True).plot(kind='bar', title=column)\n",
    "    plt.show()"
   ]
  },
  {
   "cell_type": "markdown",
   "metadata": {},
   "source": [
    "Присутствует дисбаланс классов. Необходимо это учесть при обучении моделей.\n",
    "Значений в категориальных признаках достаточно для обучения (отсутствуют категории с очень маленьким количеством объектов)"
   ]
  },
  {
   "cell_type": "markdown",
   "metadata": {},
   "source": [
    "\n",
    "Дополнительно обзор данных отдельно для оставшихся клиентов и ушедших для оценки наиболее значимых факторов (датафреймы объединяются по полю `customerID`).\n",
    "В датафреймах `df_contract` и `df_personal` одинаковое количество строк. Очевидно, они содержат данные обо всех клиентах. В этом случае `customerID` в обоих датафреймах должны совпадать. Проверим это."
   ]
  },
  {
   "cell_type": "code",
   "execution_count": 21,
   "metadata": {},
   "outputs": [
    {
     "name": "stdout",
     "output_type": "stream",
     "text": [
      "Отличий не найдено\n"
     ]
    }
   ],
   "source": [
    "if len(df_personal['customerID'].unique()) == len(df_contract['customerID'].unique()):\n",
    "    for contract in df_contract['customerID'].unique():\n",
    "        if contract not in df_personal['customerID'].unique():\n",
    "            print('Найдено отличие')\n",
    "    print('Отличий не найдено')"
   ]
  },
  {
   "cell_type": "markdown",
   "metadata": {},
   "source": [
    "Можно объединять датафреймы `df_contract` и `df_personal` по `customerID`"
   ]
  },
  {
   "cell_type": "code",
   "execution_count": 22,
   "metadata": {},
   "outputs": [
    {
     "name": "stdout",
     "output_type": "stream",
     "text": [
      "df_contract shape (7043, 9)\n",
      "df_personal shape (7043, 5)\n",
      "df_clients shape (7043, 13)\n"
     ]
    }
   ],
   "source": [
    "print('df_contract shape', df_contract.shape)\n",
    "print('df_personal shape', df_personal.shape)\n",
    "df_clients = df_contract.merge(df_personal, on='customerID')\n",
    "print('df_clients shape', df_clients.shape)"
   ]
  },
  {
   "cell_type": "code",
   "execution_count": 23,
   "metadata": {},
   "outputs": [
    {
     "name": "stdout",
     "output_type": "stream",
     "text": [
      "Index(['customerID', 'BeginDate', 'EndDate', 'Type', 'PaperlessBilling',\n",
      "       'PaymentMethod', 'MonthlyCharges', 'TotalCharges', 'Churn'],\n",
      "      dtype='object')\n",
      "Index(['customerID', 'gender', 'SeniorCitizen', 'Partner', 'Dependents'], dtype='object')\n",
      "Index(['customerID', 'BeginDate', 'EndDate', 'Type', 'PaperlessBilling',\n",
      "       'PaymentMethod', 'MonthlyCharges', 'TotalCharges', 'Churn', 'gender',\n",
      "       'SeniorCitizen', 'Partner', 'Dependents'],\n",
      "      dtype='object')\n"
     ]
    }
   ],
   "source": [
    "print(df_contract.columns)\n",
    "print(df_personal.columns)\n",
    "print(df_clients.columns)"
   ]
  },
  {
   "cell_type": "markdown",
   "metadata": {},
   "source": [
    "Количество строк в итоговом датафрейме совпадает с исходными. Количество столбцов совпадает за исключением `customerID` - он не дублируется"
   ]
  },
  {
   "cell_type": "markdown",
   "metadata": {},
   "source": [
    "### Визуальный анализ данных"
   ]
  },
  {
   "cell_type": "markdown",
   "metadata": {},
   "source": [
    "* Построение sns.pairplot() для оценки линейной корреляции"
   ]
  },
  {
   "cell_type": "code",
   "execution_count": 24,
   "metadata": {},
   "outputs": [
    {
     "data": {
      "image/png": "[encoded data removed]",
      "text/plain": [
       "<Figure size 720x720 with 6 Axes>"
      ]
     },
     "metadata": {
      "needs_background": "light"
     },
     "output_type": "display_data"
    }
   ],
   "source": [
    "sns.pairplot(df_contract[['TotalCharges', 'MonthlyCharges']], height=5)\n",
    "None"
   ]
  },
  {
   "cell_type": "markdown",
   "metadata": {},
   "source": [
    "Среди абонентов с небольшими ежемесячными платежами остуствуют абоенты с большой накопленной суммой платежей. То есть мало платящие абоненты не пользуются услугами оператора очен долго"
   ]
  },
  {
   "cell_type": "markdown",
   "metadata": {},
   "source": [
    "* Построение boxplot() для оценки количества выбросов (полтора межквартильных интервала)"
   ]
  },
  {
   "cell_type": "code",
   "execution_count": 25,
   "metadata": {},
   "outputs": [
    {
     "data": {
      "text/plain": [
       "<AxesSubplot:>"
      ]
     },
     "execution_count": 25,
     "metadata": {},
     "output_type": "execute_result"
    },
    {
     "data": {
      "image/png": "[encoded data removed]",
      "text/plain": [
       "<Figure size 432x864 with 1 Axes>"
      ]
     },
     "metadata": {
      "needs_background": "light"
     },
     "output_type": "display_data"
    }
   ],
   "source": [
    "df_contract['MonthlyCharges'].plot(kind='box', figsize=(6,12))"
   ]
  },
  {
   "cell_type": "code",
   "execution_count": 26,
   "metadata": {},
   "outputs": [
    {
     "data": {
      "text/plain": [
       "<AxesSubplot:>"
      ]
     },
     "execution_count": 26,
     "metadata": {},
     "output_type": "execute_result"
    },
    {
     "data": {
      "image/png": "[encoded data removed]",
      "text/plain": [
       "<Figure size 432x864 with 1 Axes>"
      ]
     },
     "metadata": {
      "needs_background": "light"
     },
     "output_type": "display_data"
    }
   ],
   "source": [
    "df_contract['TotalCharges'].plot(kind='box', figsize=(6,12))"
   ]
  },
  {
   "cell_type": "markdown",
   "metadata": {},
   "source": [
    "* Построение матрицы корреляции числовых признаков для оценки наиболее значимых факторов и мультиколлинеарности"
   ]
  },
  {
   "cell_type": "code",
   "execution_count": 27,
   "metadata": {},
   "outputs": [
    {
     "data": {
      "text/html": [
       "<div>\n",
       "<style scoped>\n",
       "    .dataframe tbody tr th:only-of-type {\n",
       "        vertical-align: middle;\n",
       "    }\n",
       "\n",
       "    .dataframe tbody tr th {\n",
       "        vertical-align: top;\n",
       "    }\n",
       "\n",
       "    .dataframe thead th {\n",
       "        text-align: right;\n",
       "    }\n",
       "</style>\n",
       "<table border=\"1\" class=\"dataframe\">\n",
       "  <thead>\n",
       "    <tr style=\"text-align: right;\">\n",
       "      <th></th>\n",
       "      <th>TotalCharges</th>\n",
       "      <th>MonthlyCharges</th>\n",
       "    </tr>\n",
       "  </thead>\n",
       "  <tbody>\n",
       "    <tr>\n",
       "      <th>TotalCharges</th>\n",
       "      <td>1.000000</td>\n",
       "      <td>0.651174</td>\n",
       "    </tr>\n",
       "    <tr>\n",
       "      <th>MonthlyCharges</th>\n",
       "      <td>0.651174</td>\n",
       "      <td>1.000000</td>\n",
       "    </tr>\n",
       "  </tbody>\n",
       "</table>\n",
       "</div>"
      ],
      "text/plain": [
       "                TotalCharges  MonthlyCharges\n",
       "TotalCharges        1.000000        0.651174\n",
       "MonthlyCharges      0.651174        1.000000"
      ]
     },
     "execution_count": 27,
     "metadata": {},
     "output_type": "execute_result"
    }
   ],
   "source": [
    "df_contract[['TotalCharges', 'MonthlyCharges']].corr()"
   ]
  },
  {
   "cell_type": "markdown",
   "metadata": {},
   "source": [
    "***Выводы:***\n",
    "1. Пропущенные значения отсуствуют, ничего заполнять не нужно.\n",
    "2. Типы данных исправлены.\n",
    "3. Создан целевой признак `Churn` из столбца `EndDate` (No = 0, дата = 1)."
   ]
  },
  {
   "cell_type": "markdown",
   "metadata": {},
   "source": [
    "### Предобработка данных"
   ]
  },
  {
   "cell_type": "markdown",
   "metadata": {},
   "source": [
    "Объединим все датафреймы в один по `customerID`"
   ]
  },
  {
   "cell_type": "code",
   "execution_count": 28,
   "metadata": {},
   "outputs": [
    {
     "data": {
      "text/plain": [
       "(7043, 21)"
      ]
     },
     "execution_count": 28,
     "metadata": {},
     "output_type": "execute_result"
    }
   ],
   "source": [
    "df_cb = df_clients.merge(df_internet, on='customerID', how='left')\n",
    "df_cb = df_cb.merge(df_phone, on='customerID', how='left')\n",
    "df_cb.shape"
   ]
  },
  {
   "cell_type": "code",
   "execution_count": 29,
   "metadata": {},
   "outputs": [
    {
     "data": {
      "text/html": [
       "<div>\n",
       "<style scoped>\n",
       "    .dataframe tbody tr th:only-of-type {\n",
       "        vertical-align: middle;\n",
       "    }\n",
       "\n",
       "    .dataframe tbody tr th {\n",
       "        vertical-align: top;\n",
       "    }\n",
       "\n",
       "    .dataframe thead th {\n",
       "        text-align: right;\n",
       "    }\n",
       "</style>\n",
       "<table border=\"1\" class=\"dataframe\">\n",
       "  <thead>\n",
       "    <tr style=\"text-align: right;\">\n",
       "      <th></th>\n",
       "      <th>customerID</th>\n",
       "      <th>BeginDate</th>\n",
       "      <th>EndDate</th>\n",
       "      <th>Type</th>\n",
       "      <th>PaperlessBilling</th>\n",
       "      <th>PaymentMethod</th>\n",
       "      <th>MonthlyCharges</th>\n",
       "      <th>TotalCharges</th>\n",
       "      <th>Churn</th>\n",
       "      <th>gender</th>\n",
       "      <th>...</th>\n",
       "      <th>Partner</th>\n",
       "      <th>Dependents</th>\n",
       "      <th>InternetService</th>\n",
       "      <th>OnlineSecurity</th>\n",
       "      <th>OnlineBackup</th>\n",
       "      <th>DeviceProtection</th>\n",
       "      <th>TechSupport</th>\n",
       "      <th>StreamingTV</th>\n",
       "      <th>StreamingMovies</th>\n",
       "      <th>MultipleLines</th>\n",
       "    </tr>\n",
       "  </thead>\n",
       "  <tbody>\n",
       "    <tr>\n",
       "      <th>0</th>\n",
       "      <td>7590-VHVEG</td>\n",
       "      <td>2020-01-01</td>\n",
       "      <td>No</td>\n",
       "      <td>Month-to-month</td>\n",
       "      <td>Yes</td>\n",
       "      <td>Electronic check</td>\n",
       "      <td>29.85</td>\n",
       "      <td>29.85</td>\n",
       "      <td>0</td>\n",
       "      <td>Female</td>\n",
       "      <td>...</td>\n",
       "      <td>Yes</td>\n",
       "      <td>No</td>\n",
       "      <td>DSL</td>\n",
       "      <td>No</td>\n",
       "      <td>Yes</td>\n",
       "      <td>No</td>\n",
       "      <td>No</td>\n",
       "      <td>No</td>\n",
       "      <td>No</td>\n",
       "      <td>NaN</td>\n",
       "    </tr>\n",
       "    <tr>\n",
       "      <th>1</th>\n",
       "      <td>5575-GNVDE</td>\n",
       "      <td>2017-04-01</td>\n",
       "      <td>No</td>\n",
       "      <td>One year</td>\n",
       "      <td>No</td>\n",
       "      <td>Mailed check</td>\n",
       "      <td>56.95</td>\n",
       "      <td>1889.50</td>\n",
       "      <td>0</td>\n",
       "      <td>Male</td>\n",
       "      <td>...</td>\n",
       "      <td>No</td>\n",
       "      <td>No</td>\n",
       "      <td>DSL</td>\n",
       "      <td>Yes</td>\n",
       "      <td>No</td>\n",
       "      <td>Yes</td>\n",
       "      <td>No</td>\n",
       "      <td>No</td>\n",
       "      <td>No</td>\n",
       "      <td>No</td>\n",
       "    </tr>\n",
       "    <tr>\n",
       "      <th>2</th>\n",
       "      <td>3668-QPYBK</td>\n",
       "      <td>2019-10-01</td>\n",
       "      <td>2019-12-01 00:00:00</td>\n",
       "      <td>Month-to-month</td>\n",
       "      <td>Yes</td>\n",
       "      <td>Mailed check</td>\n",
       "      <td>53.85</td>\n",
       "      <td>108.15</td>\n",
       "      <td>1</td>\n",
       "      <td>Male</td>\n",
       "      <td>...</td>\n",
       "      <td>No</td>\n",
       "      <td>No</td>\n",
       "      <td>DSL</td>\n",
       "      <td>Yes</td>\n",
       "      <td>Yes</td>\n",
       "      <td>No</td>\n",
       "      <td>No</td>\n",
       "      <td>No</td>\n",
       "      <td>No</td>\n",
       "      <td>No</td>\n",
       "    </tr>\n",
       "    <tr>\n",
       "      <th>3</th>\n",
       "      <td>7795-CFOCW</td>\n",
       "      <td>2016-05-01</td>\n",
       "      <td>No</td>\n",
       "      <td>One year</td>\n",
       "      <td>No</td>\n",
       "      <td>Bank transfer (automatic)</td>\n",
       "      <td>42.30</td>\n",
       "      <td>1840.75</td>\n",
       "      <td>0</td>\n",
       "      <td>Male</td>\n",
       "      <td>...</td>\n",
       "      <td>No</td>\n",
       "      <td>No</td>\n",
       "      <td>DSL</td>\n",
       "      <td>Yes</td>\n",
       "      <td>No</td>\n",
       "      <td>Yes</td>\n",
       "      <td>Yes</td>\n",
       "      <td>No</td>\n",
       "      <td>No</td>\n",
       "      <td>NaN</td>\n",
       "    </tr>\n",
       "    <tr>\n",
       "      <th>4</th>\n",
       "      <td>9237-HQITU</td>\n",
       "      <td>2019-09-01</td>\n",
       "      <td>2019-11-01 00:00:00</td>\n",
       "      <td>Month-to-month</td>\n",
       "      <td>Yes</td>\n",
       "      <td>Electronic check</td>\n",
       "      <td>70.70</td>\n",
       "      <td>151.65</td>\n",
       "      <td>1</td>\n",
       "      <td>Female</td>\n",
       "      <td>...</td>\n",
       "      <td>No</td>\n",
       "      <td>No</td>\n",
       "      <td>Fiber optic</td>\n",
       "      <td>No</td>\n",
       "      <td>No</td>\n",
       "      <td>No</td>\n",
       "      <td>No</td>\n",
       "      <td>No</td>\n",
       "      <td>No</td>\n",
       "      <td>No</td>\n",
       "    </tr>\n",
       "    <tr>\n",
       "      <th>...</th>\n",
       "      <td>...</td>\n",
       "      <td>...</td>\n",
       "      <td>...</td>\n",
       "      <td>...</td>\n",
       "      <td>...</td>\n",
       "      <td>...</td>\n",
       "      <td>...</td>\n",
       "      <td>...</td>\n",
       "      <td>...</td>\n",
       "      <td>...</td>\n",
       "      <td>...</td>\n",
       "      <td>...</td>\n",
       "      <td>...</td>\n",
       "      <td>...</td>\n",
       "      <td>...</td>\n",
       "      <td>...</td>\n",
       "      <td>...</td>\n",
       "      <td>...</td>\n",
       "      <td>...</td>\n",
       "      <td>...</td>\n",
       "      <td>...</td>\n",
       "    </tr>\n",
       "    <tr>\n",
       "      <th>7038</th>\n",
       "      <td>6840-RESVB</td>\n",
       "      <td>2018-02-01</td>\n",
       "      <td>No</td>\n",
       "      <td>One year</td>\n",
       "      <td>Yes</td>\n",
       "      <td>Mailed check</td>\n",
       "      <td>84.80</td>\n",
       "      <td>1990.50</td>\n",
       "      <td>0</td>\n",
       "      <td>Male</td>\n",
       "      <td>...</td>\n",
       "      <td>Yes</td>\n",
       "      <td>Yes</td>\n",
       "      <td>DSL</td>\n",
       "      <td>Yes</td>\n",
       "      <td>No</td>\n",
       "      <td>Yes</td>\n",
       "      <td>Yes</td>\n",
       "      <td>Yes</td>\n",
       "      <td>Yes</td>\n",
       "      <td>Yes</td>\n",
       "    </tr>\n",
       "    <tr>\n",
       "      <th>7039</th>\n",
       "      <td>2234-XADUH</td>\n",
       "      <td>2014-02-01</td>\n",
       "      <td>No</td>\n",
       "      <td>One year</td>\n",
       "      <td>Yes</td>\n",
       "      <td>Credit card (automatic)</td>\n",
       "      <td>103.20</td>\n",
       "      <td>7362.90</td>\n",
       "      <td>0</td>\n",
       "      <td>Female</td>\n",
       "      <td>...</td>\n",
       "      <td>Yes</td>\n",
       "      <td>Yes</td>\n",
       "      <td>Fiber optic</td>\n",
       "      <td>No</td>\n",
       "      <td>Yes</td>\n",
       "      <td>Yes</td>\n",
       "      <td>No</td>\n",
       "      <td>Yes</td>\n",
       "      <td>Yes</td>\n",
       "      <td>Yes</td>\n",
       "    </tr>\n",
       "    <tr>\n",
       "      <th>7040</th>\n",
       "      <td>4801-JZAZL</td>\n",
       "      <td>2019-03-01</td>\n",
       "      <td>No</td>\n",
       "      <td>Month-to-month</td>\n",
       "      <td>Yes</td>\n",
       "      <td>Electronic check</td>\n",
       "      <td>29.60</td>\n",
       "      <td>346.45</td>\n",
       "      <td>0</td>\n",
       "      <td>Female</td>\n",
       "      <td>...</td>\n",
       "      <td>Yes</td>\n",
       "      <td>Yes</td>\n",
       "      <td>DSL</td>\n",
       "      <td>Yes</td>\n",
       "      <td>No</td>\n",
       "      <td>No</td>\n",
       "      <td>No</td>\n",
       "      <td>No</td>\n",
       "      <td>No</td>\n",
       "      <td>NaN</td>\n",
       "    </tr>\n",
       "    <tr>\n",
       "      <th>7041</th>\n",
       "      <td>8361-LTMKD</td>\n",
       "      <td>2019-07-01</td>\n",
       "      <td>2019-11-01 00:00:00</td>\n",
       "      <td>Month-to-month</td>\n",
       "      <td>Yes</td>\n",
       "      <td>Mailed check</td>\n",
       "      <td>74.40</td>\n",
       "      <td>306.60</td>\n",
       "      <td>1</td>\n",
       "      <td>Male</td>\n",
       "      <td>...</td>\n",
       "      <td>Yes</td>\n",
       "      <td>No</td>\n",
       "      <td>Fiber optic</td>\n",
       "      <td>No</td>\n",
       "      <td>No</td>\n",
       "      <td>No</td>\n",
       "      <td>No</td>\n",
       "      <td>No</td>\n",
       "      <td>No</td>\n",
       "      <td>Yes</td>\n",
       "    </tr>\n",
       "    <tr>\n",
       "      <th>7042</th>\n",
       "      <td>3186-AJIEK</td>\n",
       "      <td>2014-08-01</td>\n",
       "      <td>No</td>\n",
       "      <td>Two year</td>\n",
       "      <td>Yes</td>\n",
       "      <td>Bank transfer (automatic)</td>\n",
       "      <td>105.65</td>\n",
       "      <td>6844.50</td>\n",
       "      <td>0</td>\n",
       "      <td>Male</td>\n",
       "      <td>...</td>\n",
       "      <td>No</td>\n",
       "      <td>No</td>\n",
       "      <td>Fiber optic</td>\n",
       "      <td>Yes</td>\n",
       "      <td>No</td>\n",
       "      <td>Yes</td>\n",
       "      <td>Yes</td>\n",
       "      <td>Yes</td>\n",
       "      <td>Yes</td>\n",
       "      <td>No</td>\n",
       "    </tr>\n",
       "  </tbody>\n",
       "</table>\n",
       "<p>7043 rows × 21 columns</p>\n",
       "</div>"
      ],
      "text/plain": [
       "      customerID  BeginDate              EndDate            Type  \\\n",
       "0     7590-VHVEG 2020-01-01                   No  Month-to-month   \n",
       "1     5575-GNVDE 2017-04-01                   No        One year   \n",
       "2     3668-QPYBK 2019-10-01  2019-12-01 00:00:00  Month-to-month   \n",
       "3     7795-CFOCW 2016-05-01                   No        One year   \n",
       "4     9237-HQITU 2019-09-01  2019-11-01 00:00:00  Month-to-month   \n",
       "...          ...        ...                  ...             ...   \n",
       "7038  6840-RESVB 2018-02-01                   No        One year   \n",
       "7039  2234-XADUH 2014-02-01                   No        One year   \n",
       "7040  4801-JZAZL 2019-03-01                   No  Month-to-month   \n",
       "7041  8361-LTMKD 2019-07-01  2019-11-01 00:00:00  Month-to-month   \n",
       "7042  3186-AJIEK 2014-08-01                   No        Two year   \n",
       "\n",
       "     PaperlessBilling              PaymentMethod  MonthlyCharges  \\\n",
       "0                 Yes           Electronic check           29.85   \n",
       "1                  No               Mailed check           56.95   \n",
       "2                 Yes               Mailed check           53.85   \n",
       "3                  No  Bank transfer (automatic)           42.30   \n",
       "4                 Yes           Electronic check           70.70   \n",
       "...               ...                        ...             ...   \n",
       "7038              Yes               Mailed check           84.80   \n",
       "7039              Yes    Credit card (automatic)          103.20   \n",
       "7040              Yes           Electronic check           29.60   \n",
       "7041              Yes               Mailed check           74.40   \n",
       "7042              Yes  Bank transfer (automatic)          105.65   \n",
       "\n",
       "      TotalCharges  Churn  gender  ...  Partner Dependents InternetService  \\\n",
       "0            29.85      0  Female  ...      Yes         No             DSL   \n",
       "1          1889.50      0    Male  ...       No         No             DSL   \n",
       "2           108.15      1    Male  ...       No         No             DSL   \n",
       "3          1840.75      0    Male  ...       No         No             DSL   \n",
       "4           151.65      1  Female  ...       No         No     Fiber optic   \n",
       "...            ...    ...     ...  ...      ...        ...             ...   \n",
       "7038       1990.50      0    Male  ...      Yes        Yes             DSL   \n",
       "7039       7362.90      0  Female  ...      Yes        Yes     Fiber optic   \n",
       "7040        346.45      0  Female  ...      Yes        Yes             DSL   \n",
       "7041        306.60      1    Male  ...      Yes         No     Fiber optic   \n",
       "7042       6844.50      0    Male  ...       No         No     Fiber optic   \n",
       "\n",
       "     OnlineSecurity OnlineBackup DeviceProtection TechSupport StreamingTV  \\\n",
       "0                No          Yes               No          No          No   \n",
       "1               Yes           No              Yes          No          No   \n",
       "2               Yes          Yes               No          No          No   \n",
       "3               Yes           No              Yes         Yes          No   \n",
       "4                No           No               No          No          No   \n",
       "...             ...          ...              ...         ...         ...   \n",
       "7038            Yes           No              Yes         Yes         Yes   \n",
       "7039             No          Yes              Yes          No         Yes   \n",
       "7040            Yes           No               No          No          No   \n",
       "7041             No           No               No          No          No   \n",
       "7042            Yes           No              Yes         Yes         Yes   \n",
       "\n",
       "     StreamingMovies MultipleLines  \n",
       "0                 No           NaN  \n",
       "1                 No            No  \n",
       "2                 No            No  \n",
       "3                 No           NaN  \n",
       "4                 No            No  \n",
       "...              ...           ...  \n",
       "7038             Yes           Yes  \n",
       "7039             Yes           Yes  \n",
       "7040              No           NaN  \n",
       "7041              No           Yes  \n",
       "7042             Yes            No  \n",
       "\n",
       "[7043 rows x 21 columns]"
      ]
     },
     "execution_count": 29,
     "metadata": {},
     "output_type": "execute_result"
    }
   ],
   "source": [
    "df_cb"
   ]
  },
  {
   "cell_type": "markdown",
   "metadata": {},
   "source": [
    "* Кодирование категориальных признаков (с небольшим количеством значений - OneHotEncoding, с большим количеством значений - OrdinalEncoding). "
   ]
  },
  {
   "cell_type": "markdown",
   "metadata": {},
   "source": [
    "Все признаки с небольшим количеством значений: максимум 4, почти все кроме двух - только 2 значения. Поэтому используем OneHotEncoding."
   ]
  },
  {
   "cell_type": "code",
   "execution_count": 30,
   "metadata": {},
   "outputs": [
    {
     "data": {
      "text/html": [
       "<div>\n",
       "<style scoped>\n",
       "    .dataframe tbody tr th:only-of-type {\n",
       "        vertical-align: middle;\n",
       "    }\n",
       "\n",
       "    .dataframe tbody tr th {\n",
       "        vertical-align: top;\n",
       "    }\n",
       "\n",
       "    .dataframe thead th {\n",
       "        text-align: right;\n",
       "    }\n",
       "</style>\n",
       "<table border=\"1\" class=\"dataframe\">\n",
       "  <thead>\n",
       "    <tr style=\"text-align: right;\">\n",
       "      <th></th>\n",
       "      <th>Churn</th>\n",
       "      <th>MonthlyCharges</th>\n",
       "      <th>TotalCharges</th>\n",
       "      <th>SeniorCitizen</th>\n",
       "      <th>Type_One year</th>\n",
       "      <th>Type_Two year</th>\n",
       "      <th>PaperlessBilling_Yes</th>\n",
       "      <th>PaymentMethod_Credit card (automatic)</th>\n",
       "      <th>PaymentMethod_Electronic check</th>\n",
       "      <th>PaymentMethod_Mailed check</th>\n",
       "      <th>...</th>\n",
       "      <th>DeviceProtection_No</th>\n",
       "      <th>DeviceProtection_Yes</th>\n",
       "      <th>TechSupport_No</th>\n",
       "      <th>TechSupport_Yes</th>\n",
       "      <th>StreamingTV_No</th>\n",
       "      <th>StreamingTV_Yes</th>\n",
       "      <th>StreamingMovies_No</th>\n",
       "      <th>StreamingMovies_Yes</th>\n",
       "      <th>MultipleLines_No</th>\n",
       "      <th>MultipleLines_Yes</th>\n",
       "    </tr>\n",
       "    <tr>\n",
       "      <th>customerID</th>\n",
       "      <th></th>\n",
       "      <th></th>\n",
       "      <th></th>\n",
       "      <th></th>\n",
       "      <th></th>\n",
       "      <th></th>\n",
       "      <th></th>\n",
       "      <th></th>\n",
       "      <th></th>\n",
       "      <th></th>\n",
       "      <th></th>\n",
       "      <th></th>\n",
       "      <th></th>\n",
       "      <th></th>\n",
       "      <th></th>\n",
       "      <th></th>\n",
       "      <th></th>\n",
       "      <th></th>\n",
       "      <th></th>\n",
       "      <th></th>\n",
       "      <th></th>\n",
       "    </tr>\n",
       "  </thead>\n",
       "  <tbody>\n",
       "    <tr>\n",
       "      <th>7590-VHVEG</th>\n",
       "      <td>0</td>\n",
       "      <td>29.85</td>\n",
       "      <td>29.85</td>\n",
       "      <td>0</td>\n",
       "      <td>0</td>\n",
       "      <td>0</td>\n",
       "      <td>1</td>\n",
       "      <td>0</td>\n",
       "      <td>1</td>\n",
       "      <td>0</td>\n",
       "      <td>...</td>\n",
       "      <td>1</td>\n",
       "      <td>0</td>\n",
       "      <td>1</td>\n",
       "      <td>0</td>\n",
       "      <td>1</td>\n",
       "      <td>0</td>\n",
       "      <td>1</td>\n",
       "      <td>0</td>\n",
       "      <td>0</td>\n",
       "      <td>0</td>\n",
       "    </tr>\n",
       "    <tr>\n",
       "      <th>5575-GNVDE</th>\n",
       "      <td>0</td>\n",
       "      <td>56.95</td>\n",
       "      <td>1889.50</td>\n",
       "      <td>0</td>\n",
       "      <td>1</td>\n",
       "      <td>0</td>\n",
       "      <td>0</td>\n",
       "      <td>0</td>\n",
       "      <td>0</td>\n",
       "      <td>1</td>\n",
       "      <td>...</td>\n",
       "      <td>0</td>\n",
       "      <td>1</td>\n",
       "      <td>1</td>\n",
       "      <td>0</td>\n",
       "      <td>1</td>\n",
       "      <td>0</td>\n",
       "      <td>1</td>\n",
       "      <td>0</td>\n",
       "      <td>1</td>\n",
       "      <td>0</td>\n",
       "    </tr>\n",
       "    <tr>\n",
       "      <th>3668-QPYBK</th>\n",
       "      <td>1</td>\n",
       "      <td>53.85</td>\n",
       "      <td>108.15</td>\n",
       "      <td>0</td>\n",
       "      <td>0</td>\n",
       "      <td>0</td>\n",
       "      <td>1</td>\n",
       "      <td>0</td>\n",
       "      <td>0</td>\n",
       "      <td>1</td>\n",
       "      <td>...</td>\n",
       "      <td>1</td>\n",
       "      <td>0</td>\n",
       "      <td>1</td>\n",
       "      <td>0</td>\n",
       "      <td>1</td>\n",
       "      <td>0</td>\n",
       "      <td>1</td>\n",
       "      <td>0</td>\n",
       "      <td>1</td>\n",
       "      <td>0</td>\n",
       "    </tr>\n",
       "    <tr>\n",
       "      <th>7795-CFOCW</th>\n",
       "      <td>0</td>\n",
       "      <td>42.30</td>\n",
       "      <td>1840.75</td>\n",
       "      <td>0</td>\n",
       "      <td>1</td>\n",
       "      <td>0</td>\n",
       "      <td>0</td>\n",
       "      <td>0</td>\n",
       "      <td>0</td>\n",
       "      <td>0</td>\n",
       "      <td>...</td>\n",
       "      <td>0</td>\n",
       "      <td>1</td>\n",
       "      <td>0</td>\n",
       "      <td>1</td>\n",
       "      <td>1</td>\n",
       "      <td>0</td>\n",
       "      <td>1</td>\n",
       "      <td>0</td>\n",
       "      <td>0</td>\n",
       "      <td>0</td>\n",
       "    </tr>\n",
       "    <tr>\n",
       "      <th>9237-HQITU</th>\n",
       "      <td>1</td>\n",
       "      <td>70.70</td>\n",
       "      <td>151.65</td>\n",
       "      <td>0</td>\n",
       "      <td>0</td>\n",
       "      <td>0</td>\n",
       "      <td>1</td>\n",
       "      <td>0</td>\n",
       "      <td>1</td>\n",
       "      <td>0</td>\n",
       "      <td>...</td>\n",
       "      <td>1</td>\n",
       "      <td>0</td>\n",
       "      <td>1</td>\n",
       "      <td>0</td>\n",
       "      <td>1</td>\n",
       "      <td>0</td>\n",
       "      <td>1</td>\n",
       "      <td>0</td>\n",
       "      <td>1</td>\n",
       "      <td>0</td>\n",
       "    </tr>\n",
       "    <tr>\n",
       "      <th>...</th>\n",
       "      <td>...</td>\n",
       "      <td>...</td>\n",
       "      <td>...</td>\n",
       "      <td>...</td>\n",
       "      <td>...</td>\n",
       "      <td>...</td>\n",
       "      <td>...</td>\n",
       "      <td>...</td>\n",
       "      <td>...</td>\n",
       "      <td>...</td>\n",
       "      <td>...</td>\n",
       "      <td>...</td>\n",
       "      <td>...</td>\n",
       "      <td>...</td>\n",
       "      <td>...</td>\n",
       "      <td>...</td>\n",
       "      <td>...</td>\n",
       "      <td>...</td>\n",
       "      <td>...</td>\n",
       "      <td>...</td>\n",
       "      <td>...</td>\n",
       "    </tr>\n",
       "    <tr>\n",
       "      <th>6840-RESVB</th>\n",
       "      <td>0</td>\n",
       "      <td>84.80</td>\n",
       "      <td>1990.50</td>\n",
       "      <td>0</td>\n",
       "      <td>1</td>\n",
       "      <td>0</td>\n",
       "      <td>1</td>\n",
       "      <td>0</td>\n",
       "      <td>0</td>\n",
       "      <td>1</td>\n",
       "      <td>...</td>\n",
       "      <td>0</td>\n",
       "      <td>1</td>\n",
       "      <td>0</td>\n",
       "      <td>1</td>\n",
       "      <td>0</td>\n",
       "      <td>1</td>\n",
       "      <td>0</td>\n",
       "      <td>1</td>\n",
       "      <td>0</td>\n",
       "      <td>1</td>\n",
       "    </tr>\n",
       "    <tr>\n",
       "      <th>2234-XADUH</th>\n",
       "      <td>0</td>\n",
       "      <td>103.20</td>\n",
       "      <td>7362.90</td>\n",
       "      <td>0</td>\n",
       "      <td>1</td>\n",
       "      <td>0</td>\n",
       "      <td>1</td>\n",
       "      <td>1</td>\n",
       "      <td>0</td>\n",
       "      <td>0</td>\n",
       "      <td>...</td>\n",
       "      <td>0</td>\n",
       "      <td>1</td>\n",
       "      <td>1</td>\n",
       "      <td>0</td>\n",
       "      <td>0</td>\n",
       "      <td>1</td>\n",
       "      <td>0</td>\n",
       "      <td>1</td>\n",
       "      <td>0</td>\n",
       "      <td>1</td>\n",
       "    </tr>\n",
       "    <tr>\n",
       "      <th>4801-JZAZL</th>\n",
       "      <td>0</td>\n",
       "      <td>29.60</td>\n",
       "      <td>346.45</td>\n",
       "      <td>0</td>\n",
       "      <td>0</td>\n",
       "      <td>0</td>\n",
       "      <td>1</td>\n",
       "      <td>0</td>\n",
       "      <td>1</td>\n",
       "      <td>0</td>\n",
       "      <td>...</td>\n",
       "      <td>1</td>\n",
       "      <td>0</td>\n",
       "      <td>1</td>\n",
       "      <td>0</td>\n",
       "      <td>1</td>\n",
       "      <td>0</td>\n",
       "      <td>1</td>\n",
       "      <td>0</td>\n",
       "      <td>0</td>\n",
       "      <td>0</td>\n",
       "    </tr>\n",
       "    <tr>\n",
       "      <th>8361-LTMKD</th>\n",
       "      <td>1</td>\n",
       "      <td>74.40</td>\n",
       "      <td>306.60</td>\n",
       "      <td>1</td>\n",
       "      <td>0</td>\n",
       "      <td>0</td>\n",
       "      <td>1</td>\n",
       "      <td>0</td>\n",
       "      <td>0</td>\n",
       "      <td>1</td>\n",
       "      <td>...</td>\n",
       "      <td>1</td>\n",
       "      <td>0</td>\n",
       "      <td>1</td>\n",
       "      <td>0</td>\n",
       "      <td>1</td>\n",
       "      <td>0</td>\n",
       "      <td>1</td>\n",
       "      <td>0</td>\n",
       "      <td>0</td>\n",
       "      <td>1</td>\n",
       "    </tr>\n",
       "    <tr>\n",
       "      <th>3186-AJIEK</th>\n",
       "      <td>0</td>\n",
       "      <td>105.65</td>\n",
       "      <td>6844.50</td>\n",
       "      <td>0</td>\n",
       "      <td>0</td>\n",
       "      <td>1</td>\n",
       "      <td>1</td>\n",
       "      <td>0</td>\n",
       "      <td>0</td>\n",
       "      <td>0</td>\n",
       "      <td>...</td>\n",
       "      <td>0</td>\n",
       "      <td>1</td>\n",
       "      <td>0</td>\n",
       "      <td>1</td>\n",
       "      <td>0</td>\n",
       "      <td>1</td>\n",
       "      <td>0</td>\n",
       "      <td>1</td>\n",
       "      <td>1</td>\n",
       "      <td>0</td>\n",
       "    </tr>\n",
       "  </tbody>\n",
       "</table>\n",
       "<p>7043 rows × 29 columns</p>\n",
       "</div>"
      ],
      "text/plain": [
       "            Churn  MonthlyCharges  TotalCharges  SeniorCitizen  Type_One year  \\\n",
       "customerID                                                                      \n",
       "7590-VHVEG      0           29.85         29.85              0              0   \n",
       "5575-GNVDE      0           56.95       1889.50              0              1   \n",
       "3668-QPYBK      1           53.85        108.15              0              0   \n",
       "7795-CFOCW      0           42.30       1840.75              0              1   \n",
       "9237-HQITU      1           70.70        151.65              0              0   \n",
       "...           ...             ...           ...            ...            ...   \n",
       "6840-RESVB      0           84.80       1990.50              0              1   \n",
       "2234-XADUH      0          103.20       7362.90              0              1   \n",
       "4801-JZAZL      0           29.60        346.45              0              0   \n",
       "8361-LTMKD      1           74.40        306.60              1              0   \n",
       "3186-AJIEK      0          105.65       6844.50              0              0   \n",
       "\n",
       "            Type_Two year  PaperlessBilling_Yes  \\\n",
       "customerID                                        \n",
       "7590-VHVEG              0                     1   \n",
       "5575-GNVDE              0                     0   \n",
       "3668-QPYBK              0                     1   \n",
       "7795-CFOCW              0                     0   \n",
       "9237-HQITU              0                     1   \n",
       "...                   ...                   ...   \n",
       "6840-RESVB              0                     1   \n",
       "2234-XADUH              0                     1   \n",
       "4801-JZAZL              0                     1   \n",
       "8361-LTMKD              0                     1   \n",
       "3186-AJIEK              1                     1   \n",
       "\n",
       "            PaymentMethod_Credit card (automatic)  \\\n",
       "customerID                                          \n",
       "7590-VHVEG                                      0   \n",
       "5575-GNVDE                                      0   \n",
       "3668-QPYBK                                      0   \n",
       "7795-CFOCW                                      0   \n",
       "9237-HQITU                                      0   \n",
       "...                                           ...   \n",
       "6840-RESVB                                      0   \n",
       "2234-XADUH                                      1   \n",
       "4801-JZAZL                                      0   \n",
       "8361-LTMKD                                      0   \n",
       "3186-AJIEK                                      0   \n",
       "\n",
       "            PaymentMethod_Electronic check  PaymentMethod_Mailed check  ...  \\\n",
       "customerID                                                              ...   \n",
       "7590-VHVEG                               1                           0  ...   \n",
       "5575-GNVDE                               0                           1  ...   \n",
       "3668-QPYBK                               0                           1  ...   \n",
       "7795-CFOCW                               0                           0  ...   \n",
       "9237-HQITU                               1                           0  ...   \n",
       "...                                    ...                         ...  ...   \n",
       "6840-RESVB                               0                           1  ...   \n",
       "2234-XADUH                               0                           0  ...   \n",
       "4801-JZAZL                               1                           0  ...   \n",
       "8361-LTMKD                               0                           1  ...   \n",
       "3186-AJIEK                               0                           0  ...   \n",
       "\n",
       "            DeviceProtection_No  DeviceProtection_Yes  TechSupport_No  \\\n",
       "customerID                                                              \n",
       "7590-VHVEG                    1                     0               1   \n",
       "5575-GNVDE                    0                     1               1   \n",
       "3668-QPYBK                    1                     0               1   \n",
       "7795-CFOCW                    0                     1               0   \n",
       "9237-HQITU                    1                     0               1   \n",
       "...                         ...                   ...             ...   \n",
       "6840-RESVB                    0                     1               0   \n",
       "2234-XADUH                    0                     1               1   \n",
       "4801-JZAZL                    1                     0               1   \n",
       "8361-LTMKD                    1                     0               1   \n",
       "3186-AJIEK                    0                     1               0   \n",
       "\n",
       "            TechSupport_Yes  StreamingTV_No  StreamingTV_Yes  \\\n",
       "customerID                                                     \n",
       "7590-VHVEG                0               1                0   \n",
       "5575-GNVDE                0               1                0   \n",
       "3668-QPYBK                0               1                0   \n",
       "7795-CFOCW                1               1                0   \n",
       "9237-HQITU                0               1                0   \n",
       "...                     ...             ...              ...   \n",
       "6840-RESVB                1               0                1   \n",
       "2234-XADUH                0               0                1   \n",
       "4801-JZAZL                0               1                0   \n",
       "8361-LTMKD                0               1                0   \n",
       "3186-AJIEK                1               0                1   \n",
       "\n",
       "            StreamingMovies_No  StreamingMovies_Yes  MultipleLines_No  \\\n",
       "customerID                                                              \n",
       "7590-VHVEG                   1                    0                 0   \n",
       "5575-GNVDE                   1                    0                 1   \n",
       "3668-QPYBK                   1                    0                 1   \n",
       "7795-CFOCW                   1                    0                 0   \n",
       "9237-HQITU                   1                    0                 1   \n",
       "...                        ...                  ...               ...   \n",
       "6840-RESVB                   0                    1                 0   \n",
       "2234-XADUH                   0                    1                 0   \n",
       "4801-JZAZL                   1                    0                 0   \n",
       "8361-LTMKD                   1                    0                 0   \n",
       "3186-AJIEK                   0                    1                 1   \n",
       "\n",
       "            MultipleLines_Yes  \n",
       "customerID                     \n",
       "7590-VHVEG                  0  \n",
       "5575-GNVDE                  0  \n",
       "3668-QPYBK                  0  \n",
       "7795-CFOCW                  0  \n",
       "9237-HQITU                  0  \n",
       "...                       ...  \n",
       "6840-RESVB                  1  \n",
       "2234-XADUH                  1  \n",
       "4801-JZAZL                  0  \n",
       "8361-LTMKD                  1  \n",
       "3186-AJIEK                  0  \n",
       "\n",
       "[7043 rows x 29 columns]"
      ]
     },
     "execution_count": 30,
     "metadata": {},
     "output_type": "execute_result"
    }
   ],
   "source": [
    "df_cb = df_cb.drop(columns=['BeginDate', 'EndDate'])\n",
    "df_cb.set_index('customerID', inplace=True)\n",
    "df_cb.fillna(0, inplace=True)\n",
    "df_ohe = pd.get_dummies(df_cb.drop(columns=['Churn']), drop_first=True)\n",
    "df = pd.concat([df_cb[['Churn']], df_ohe],\n",
    "                ignore_index=True, axis=1\n",
    ")\n",
    "df.columns = ['Churn'] + list(df_ohe.columns)\n",
    "df"
   ]
  },
  {
   "cell_type": "markdown",
   "metadata": {},
   "source": [
    "На этом этапе оставляем датафрей с некодированными категориальными данными, который будем использовать для работы с CatBoost."
   ]
  },
  {
   "cell_type": "code",
   "execution_count": 31,
   "metadata": {},
   "outputs": [
    {
     "data": {
      "text/html": [
       "<div>\n",
       "<style scoped>\n",
       "    .dataframe tbody tr th:only-of-type {\n",
       "        vertical-align: middle;\n",
       "    }\n",
       "\n",
       "    .dataframe tbody tr th {\n",
       "        vertical-align: top;\n",
       "    }\n",
       "\n",
       "    .dataframe thead th {\n",
       "        text-align: right;\n",
       "    }\n",
       "</style>\n",
       "<table border=\"1\" class=\"dataframe\">\n",
       "  <thead>\n",
       "    <tr style=\"text-align: right;\">\n",
       "      <th></th>\n",
       "      <th>Type</th>\n",
       "      <th>PaperlessBilling</th>\n",
       "      <th>PaymentMethod</th>\n",
       "      <th>MonthlyCharges</th>\n",
       "      <th>TotalCharges</th>\n",
       "      <th>Churn</th>\n",
       "      <th>gender</th>\n",
       "      <th>SeniorCitizen</th>\n",
       "      <th>Partner</th>\n",
       "      <th>Dependents</th>\n",
       "      <th>InternetService</th>\n",
       "      <th>OnlineSecurity</th>\n",
       "      <th>OnlineBackup</th>\n",
       "      <th>DeviceProtection</th>\n",
       "      <th>TechSupport</th>\n",
       "      <th>StreamingTV</th>\n",
       "      <th>StreamingMovies</th>\n",
       "      <th>MultipleLines</th>\n",
       "    </tr>\n",
       "    <tr>\n",
       "      <th>customerID</th>\n",
       "      <th></th>\n",
       "      <th></th>\n",
       "      <th></th>\n",
       "      <th></th>\n",
       "      <th></th>\n",
       "      <th></th>\n",
       "      <th></th>\n",
       "      <th></th>\n",
       "      <th></th>\n",
       "      <th></th>\n",
       "      <th></th>\n",
       "      <th></th>\n",
       "      <th></th>\n",
       "      <th></th>\n",
       "      <th></th>\n",
       "      <th></th>\n",
       "      <th></th>\n",
       "      <th></th>\n",
       "    </tr>\n",
       "  </thead>\n",
       "  <tbody>\n",
       "    <tr>\n",
       "      <th>7590-VHVEG</th>\n",
       "      <td>Month-to-month</td>\n",
       "      <td>Yes</td>\n",
       "      <td>Electronic check</td>\n",
       "      <td>29.85</td>\n",
       "      <td>29.85</td>\n",
       "      <td>0</td>\n",
       "      <td>Female</td>\n",
       "      <td>0</td>\n",
       "      <td>Yes</td>\n",
       "      <td>No</td>\n",
       "      <td>DSL</td>\n",
       "      <td>No</td>\n",
       "      <td>Yes</td>\n",
       "      <td>No</td>\n",
       "      <td>No</td>\n",
       "      <td>No</td>\n",
       "      <td>No</td>\n",
       "      <td>0</td>\n",
       "    </tr>\n",
       "    <tr>\n",
       "      <th>5575-GNVDE</th>\n",
       "      <td>One year</td>\n",
       "      <td>No</td>\n",
       "      <td>Mailed check</td>\n",
       "      <td>56.95</td>\n",
       "      <td>1889.50</td>\n",
       "      <td>0</td>\n",
       "      <td>Male</td>\n",
       "      <td>0</td>\n",
       "      <td>No</td>\n",
       "      <td>No</td>\n",
       "      <td>DSL</td>\n",
       "      <td>Yes</td>\n",
       "      <td>No</td>\n",
       "      <td>Yes</td>\n",
       "      <td>No</td>\n",
       "      <td>No</td>\n",
       "      <td>No</td>\n",
       "      <td>No</td>\n",
       "    </tr>\n",
       "    <tr>\n",
       "      <th>3668-QPYBK</th>\n",
       "      <td>Month-to-month</td>\n",
       "      <td>Yes</td>\n",
       "      <td>Mailed check</td>\n",
       "      <td>53.85</td>\n",
       "      <td>108.15</td>\n",
       "      <td>1</td>\n",
       "      <td>Male</td>\n",
       "      <td>0</td>\n",
       "      <td>No</td>\n",
       "      <td>No</td>\n",
       "      <td>DSL</td>\n",
       "      <td>Yes</td>\n",
       "      <td>Yes</td>\n",
       "      <td>No</td>\n",
       "      <td>No</td>\n",
       "      <td>No</td>\n",
       "      <td>No</td>\n",
       "      <td>No</td>\n",
       "    </tr>\n",
       "    <tr>\n",
       "      <th>7795-CFOCW</th>\n",
       "      <td>One year</td>\n",
       "      <td>No</td>\n",
       "      <td>Bank transfer (automatic)</td>\n",
       "      <td>42.30</td>\n",
       "      <td>1840.75</td>\n",
       "      <td>0</td>\n",
       "      <td>Male</td>\n",
       "      <td>0</td>\n",
       "      <td>No</td>\n",
       "      <td>No</td>\n",
       "      <td>DSL</td>\n",
       "      <td>Yes</td>\n",
       "      <td>No</td>\n",
       "      <td>Yes</td>\n",
       "      <td>Yes</td>\n",
       "      <td>No</td>\n",
       "      <td>No</td>\n",
       "      <td>0</td>\n",
       "    </tr>\n",
       "    <tr>\n",
       "      <th>9237-HQITU</th>\n",
       "      <td>Month-to-month</td>\n",
       "      <td>Yes</td>\n",
       "      <td>Electronic check</td>\n",
       "      <td>70.70</td>\n",
       "      <td>151.65</td>\n",
       "      <td>1</td>\n",
       "      <td>Female</td>\n",
       "      <td>0</td>\n",
       "      <td>No</td>\n",
       "      <td>No</td>\n",
       "      <td>Fiber optic</td>\n",
       "      <td>No</td>\n",
       "      <td>No</td>\n",
       "      <td>No</td>\n",
       "      <td>No</td>\n",
       "      <td>No</td>\n",
       "      <td>No</td>\n",
       "      <td>No</td>\n",
       "    </tr>\n",
       "    <tr>\n",
       "      <th>...</th>\n",
       "      <td>...</td>\n",
       "      <td>...</td>\n",
       "      <td>...</td>\n",
       "      <td>...</td>\n",
       "      <td>...</td>\n",
       "      <td>...</td>\n",
       "      <td>...</td>\n",
       "      <td>...</td>\n",
       "      <td>...</td>\n",
       "      <td>...</td>\n",
       "      <td>...</td>\n",
       "      <td>...</td>\n",
       "      <td>...</td>\n",
       "      <td>...</td>\n",
       "      <td>...</td>\n",
       "      <td>...</td>\n",
       "      <td>...</td>\n",
       "      <td>...</td>\n",
       "    </tr>\n",
       "    <tr>\n",
       "      <th>6840-RESVB</th>\n",
       "      <td>One year</td>\n",
       "      <td>Yes</td>\n",
       "      <td>Mailed check</td>\n",
       "      <td>84.80</td>\n",
       "      <td>1990.50</td>\n",
       "      <td>0</td>\n",
       "      <td>Male</td>\n",
       "      <td>0</td>\n",
       "      <td>Yes</td>\n",
       "      <td>Yes</td>\n",
       "      <td>DSL</td>\n",
       "      <td>Yes</td>\n",
       "      <td>No</td>\n",
       "      <td>Yes</td>\n",
       "      <td>Yes</td>\n",
       "      <td>Yes</td>\n",
       "      <td>Yes</td>\n",
       "      <td>Yes</td>\n",
       "    </tr>\n",
       "    <tr>\n",
       "      <th>2234-XADUH</th>\n",
       "      <td>One year</td>\n",
       "      <td>Yes</td>\n",
       "      <td>Credit card (automatic)</td>\n",
       "      <td>103.20</td>\n",
       "      <td>7362.90</td>\n",
       "      <td>0</td>\n",
       "      <td>Female</td>\n",
       "      <td>0</td>\n",
       "      <td>Yes</td>\n",
       "      <td>Yes</td>\n",
       "      <td>Fiber optic</td>\n",
       "      <td>No</td>\n",
       "      <td>Yes</td>\n",
       "      <td>Yes</td>\n",
       "      <td>No</td>\n",
       "      <td>Yes</td>\n",
       "      <td>Yes</td>\n",
       "      <td>Yes</td>\n",
       "    </tr>\n",
       "    <tr>\n",
       "      <th>4801-JZAZL</th>\n",
       "      <td>Month-to-month</td>\n",
       "      <td>Yes</td>\n",
       "      <td>Electronic check</td>\n",
       "      <td>29.60</td>\n",
       "      <td>346.45</td>\n",
       "      <td>0</td>\n",
       "      <td>Female</td>\n",
       "      <td>0</td>\n",
       "      <td>Yes</td>\n",
       "      <td>Yes</td>\n",
       "      <td>DSL</td>\n",
       "      <td>Yes</td>\n",
       "      <td>No</td>\n",
       "      <td>No</td>\n",
       "      <td>No</td>\n",
       "      <td>No</td>\n",
       "      <td>No</td>\n",
       "      <td>0</td>\n",
       "    </tr>\n",
       "    <tr>\n",
       "      <th>8361-LTMKD</th>\n",
       "      <td>Month-to-month</td>\n",
       "      <td>Yes</td>\n",
       "      <td>Mailed check</td>\n",
       "      <td>74.40</td>\n",
       "      <td>306.60</td>\n",
       "      <td>1</td>\n",
       "      <td>Male</td>\n",
       "      <td>1</td>\n",
       "      <td>Yes</td>\n",
       "      <td>No</td>\n",
       "      <td>Fiber optic</td>\n",
       "      <td>No</td>\n",
       "      <td>No</td>\n",
       "      <td>No</td>\n",
       "      <td>No</td>\n",
       "      <td>No</td>\n",
       "      <td>No</td>\n",
       "      <td>Yes</td>\n",
       "    </tr>\n",
       "    <tr>\n",
       "      <th>3186-AJIEK</th>\n",
       "      <td>Two year</td>\n",
       "      <td>Yes</td>\n",
       "      <td>Bank transfer (automatic)</td>\n",
       "      <td>105.65</td>\n",
       "      <td>6844.50</td>\n",
       "      <td>0</td>\n",
       "      <td>Male</td>\n",
       "      <td>0</td>\n",
       "      <td>No</td>\n",
       "      <td>No</td>\n",
       "      <td>Fiber optic</td>\n",
       "      <td>Yes</td>\n",
       "      <td>No</td>\n",
       "      <td>Yes</td>\n",
       "      <td>Yes</td>\n",
       "      <td>Yes</td>\n",
       "      <td>Yes</td>\n",
       "      <td>No</td>\n",
       "    </tr>\n",
       "  </tbody>\n",
       "</table>\n",
       "<p>7043 rows × 18 columns</p>\n",
       "</div>"
      ],
      "text/plain": [
       "                      Type PaperlessBilling              PaymentMethod  \\\n",
       "customerID                                                               \n",
       "7590-VHVEG  Month-to-month              Yes           Electronic check   \n",
       "5575-GNVDE        One year               No               Mailed check   \n",
       "3668-QPYBK  Month-to-month              Yes               Mailed check   \n",
       "7795-CFOCW        One year               No  Bank transfer (automatic)   \n",
       "9237-HQITU  Month-to-month              Yes           Electronic check   \n",
       "...                    ...              ...                        ...   \n",
       "6840-RESVB        One year              Yes               Mailed check   \n",
       "2234-XADUH        One year              Yes    Credit card (automatic)   \n",
       "4801-JZAZL  Month-to-month              Yes           Electronic check   \n",
       "8361-LTMKD  Month-to-month              Yes               Mailed check   \n",
       "3186-AJIEK        Two year              Yes  Bank transfer (automatic)   \n",
       "\n",
       "            MonthlyCharges  TotalCharges  Churn  gender  SeniorCitizen  \\\n",
       "customerID                                                               \n",
       "7590-VHVEG           29.85         29.85      0  Female              0   \n",
       "5575-GNVDE           56.95       1889.50      0    Male              0   \n",
       "3668-QPYBK           53.85        108.15      1    Male              0   \n",
       "7795-CFOCW           42.30       1840.75      0    Male              0   \n",
       "9237-HQITU           70.70        151.65      1  Female              0   \n",
       "...                    ...           ...    ...     ...            ...   \n",
       "6840-RESVB           84.80       1990.50      0    Male              0   \n",
       "2234-XADUH          103.20       7362.90      0  Female              0   \n",
       "4801-JZAZL           29.60        346.45      0  Female              0   \n",
       "8361-LTMKD           74.40        306.60      1    Male              1   \n",
       "3186-AJIEK          105.65       6844.50      0    Male              0   \n",
       "\n",
       "           Partner Dependents InternetService OnlineSecurity OnlineBackup  \\\n",
       "customerID                                                                  \n",
       "7590-VHVEG     Yes         No             DSL             No          Yes   \n",
       "5575-GNVDE      No         No             DSL            Yes           No   \n",
       "3668-QPYBK      No         No             DSL            Yes          Yes   \n",
       "7795-CFOCW      No         No             DSL            Yes           No   \n",
       "9237-HQITU      No         No     Fiber optic             No           No   \n",
       "...            ...        ...             ...            ...          ...   \n",
       "6840-RESVB     Yes        Yes             DSL            Yes           No   \n",
       "2234-XADUH     Yes        Yes     Fiber optic             No          Yes   \n",
       "4801-JZAZL     Yes        Yes             DSL            Yes           No   \n",
       "8361-LTMKD     Yes         No     Fiber optic             No           No   \n",
       "3186-AJIEK      No         No     Fiber optic            Yes           No   \n",
       "\n",
       "           DeviceProtection TechSupport StreamingTV StreamingMovies  \\\n",
       "customerID                                                            \n",
       "7590-VHVEG               No          No          No              No   \n",
       "5575-GNVDE              Yes          No          No              No   \n",
       "3668-QPYBK               No          No          No              No   \n",
       "7795-CFOCW              Yes         Yes          No              No   \n",
       "9237-HQITU               No          No          No              No   \n",
       "...                     ...         ...         ...             ...   \n",
       "6840-RESVB              Yes         Yes         Yes             Yes   \n",
       "2234-XADUH              Yes          No         Yes             Yes   \n",
       "4801-JZAZL               No          No          No              No   \n",
       "8361-LTMKD               No          No          No              No   \n",
       "3186-AJIEK              Yes         Yes         Yes             Yes   \n",
       "\n",
       "           MultipleLines  \n",
       "customerID                \n",
       "7590-VHVEG             0  \n",
       "5575-GNVDE            No  \n",
       "3668-QPYBK            No  \n",
       "7795-CFOCW             0  \n",
       "9237-HQITU            No  \n",
       "...                  ...  \n",
       "6840-RESVB           Yes  \n",
       "2234-XADUH           Yes  \n",
       "4801-JZAZL             0  \n",
       "8361-LTMKD           Yes  \n",
       "3186-AJIEK            No  \n",
       "\n",
       "[7043 rows x 18 columns]"
      ]
     },
     "execution_count": 31,
     "metadata": {},
     "output_type": "execute_result"
    }
   ],
   "source": [
    "df_cb"
   ]
  },
  {
   "cell_type": "markdown",
   "metadata": {},
   "source": [
    "* Разделение выборки на обучающую и тестовую (hold out)"
   ]
  },
  {
   "cell_type": "code",
   "execution_count": 32,
   "metadata": {},
   "outputs": [],
   "source": [
    "X_train, X_test, y_train, y_test = train_test_split(df.drop(columns='Churn'), \n",
    "                                                    df['Churn'], \n",
    "                                                    test_size=0.25, \n",
    "                                                    random_state=0,\n",
    "                                                    stratify=df['Churn']\n",
    "                                                    )\n",
    "X_cb_train, X_cb_test, y_cb_train, y_cb_test = train_test_split(df_cb.drop(columns='Churn'), \n",
    "                                                                df_cb['Churn'], \n",
    "                                                                test_size=0.25, \n",
    "                                                                random_state=0,\n",
    "                                                                stratify=df_cb['Churn']\n",
    "                                                                )\n",
    "cat_features = list(df_cb.drop(columns=['MonthlyCharges','TotalCharges', 'Churn', 'SeniorCitizen']).columns)"
   ]
  },
  {
   "cell_type": "code",
   "execution_count": 33,
   "metadata": {},
   "outputs": [
    {
     "name": "stdout",
     "output_type": "stream",
     "text": [
      "(5282, 28)\n",
      "(1761, 28)\n",
      "(5282,)\n",
      "(1761,)\n",
      "0    0.73457\n",
      "1    0.26543\n",
      "Name: Churn, dtype: float64\n",
      "0    0.73481\n",
      "1    0.26519\n",
      "Name: Churn, dtype: float64\n"
     ]
    }
   ],
   "source": [
    "print(X_train.shape)\n",
    "print(X_test.shape)\n",
    "print(y_train.shape)\n",
    "print(y_test.shape)\n",
    "print(y_train.value_counts(normalize=True))\n",
    "print(y_test.value_counts(normalize=True))"
   ]
  },
  {
   "cell_type": "markdown",
   "metadata": {},
   "source": [
    "## Построение моделей"
   ]
  },
  {
   "cell_type": "markdown",
   "metadata": {},
   "source": [
    "### Построение моделей на исходном датасете"
   ]
  },
  {
   "cell_type": "markdown",
   "metadata": {},
   "source": [
    "Построение LogisticRegression, kNN, RandomForest, LightGBM, CatBoost (на датасете без кодирования категориальных признаков). Выбор лучшей модели для дальнейшей тонкой настройки\n",
    "from sklearn.linear_model import LogisticRegression\n",
    "from sklearn.neighbors import KNeighborsClassifier\n",
    "from sklearn.ensemble import RandomForestClassifier\n",
    "from lightgbm import lightgbm"
   ]
  },
  {
   "cell_type": "code",
   "execution_count": 47,
   "metadata": {},
   "outputs": [],
   "source": [
    "models = {\n",
    "    'LogisticRegression':LogisticRegression(random_state=0), \n",
    "    'kNN':KNeighborsClassifier(), \n",
    "    'RandomForest':RandomForestClassifier(random_state=0, class_weight='balanced'), \n",
    "    'LightGBM':lightgbm.LGBMClassifier(random_state=0, class_weight='balanced')\n",
    "}"
   ]
  },
  {
   "cell_type": "code",
   "execution_count": 48,
   "metadata": {},
   "outputs": [
    {
     "name": "stdout",
     "output_type": "stream",
     "text": [
      "LogisticRegression ROC_AUC: 0.835\n",
      "kNN ROC_AUC: 0.746\n",
      "RandomForest ROC_AUC: 0.818\n",
      "LightGBM ROC_AUC: 0.835\n"
     ]
    }
   ],
   "source": [
    "for model_name in models:\n",
    "    with warnings.catch_warnings():\n",
    "        warnings.simplefilter(\"ignore\")\n",
    "        cv_results = cross_validate(models[model_name], X_train, y_train, scoring='roc_auc', trturn_estimator=True)\n",
    "    print(f'{model_name} ROC_AUC: {cv_results[\"test_score\"].mean():.3f}')"
   ]
  },
  {
   "cell_type": "code",
   "execution_count": 85,
   "metadata": {},
   "outputs": [
    {
     "name": "stdout",
     "output_type": "stream",
     "text": [
      "CatBoostClassifier ROC_AUC: 0.847\n"
     ]
    }
   ],
   "source": [
    "cv_results = cross_validate(catboost.CatBoostClassifier(cat_features=cat_features, \n",
    "                                                        silent=True, random_state=0, \n",
    "                                                        auto_class_weights='SqrtBalanced'), \n",
    "                                                        X_cb_train, \n",
    "                                                        y_cb_train, \n",
    "                                                        scoring='roc_auc',\n",
    "                                                        return_estimator=True)\n",
    "print(f'CatBoostClassifier ROC_AUC: {cv_results[\"test_score\"].mean():.3f}')"
   ]
  },
  {
   "cell_type": "code",
   "execution_count": 64,
   "metadata": {},
   "outputs": [
    {
     "data": {
      "text/plain": [
       "<catboost.core.CatBoostClassifier at 0x7efcf1e6f100>"
      ]
     },
     "execution_count": 64,
     "metadata": {},
     "output_type": "execute_result"
    }
   ],
   "source": [
    "best_cvscore = cv_results['test_score'].max()\n",
    "best_cvest = cv_results['estimator'][list(cv_results['test_score']).index(best_cvscore)]\n",
    "best_cvest"
   ]
  },
  {
   "cell_type": "code",
   "execution_count": 68,
   "metadata": {},
   "outputs": [
    {
     "data": {
      "text/plain": [
       "0.8423972940502864"
      ]
     },
     "execution_count": 68,
     "metadata": {},
     "output_type": "execute_result"
    }
   ],
   "source": [
    "cb_preds = best_cvest.predict_proba(X_cb_test)\n",
    "#cb_preds\n",
    "roc_auc_score(y_test, cb_preds[:,1])"
   ]
  },
  {
   "cell_type": "code",
   "execution_count": 71,
   "metadata": {},
   "outputs": [
    {
     "data": {
      "text/html": [
       "<div>\n",
       "<style scoped>\n",
       "    .dataframe tbody tr th:only-of-type {\n",
       "        vertical-align: middle;\n",
       "    }\n",
       "\n",
       "    .dataframe tbody tr th {\n",
       "        vertical-align: top;\n",
       "    }\n",
       "\n",
       "    .dataframe thead th {\n",
       "        text-align: right;\n",
       "    }\n",
       "</style>\n",
       "<table border=\"1\" class=\"dataframe\">\n",
       "  <thead>\n",
       "    <tr style=\"text-align: right;\">\n",
       "      <th></th>\n",
       "      <th>Type</th>\n",
       "      <th>PaperlessBilling</th>\n",
       "      <th>PaymentMethod</th>\n",
       "      <th>MonthlyCharges</th>\n",
       "      <th>TotalCharges</th>\n",
       "      <th>gender</th>\n",
       "      <th>SeniorCitizen</th>\n",
       "      <th>Partner</th>\n",
       "      <th>Dependents</th>\n",
       "      <th>InternetService</th>\n",
       "      <th>OnlineSecurity</th>\n",
       "      <th>OnlineBackup</th>\n",
       "      <th>DeviceProtection</th>\n",
       "      <th>TechSupport</th>\n",
       "      <th>StreamingTV</th>\n",
       "      <th>StreamingMovies</th>\n",
       "      <th>MultipleLines</th>\n",
       "    </tr>\n",
       "    <tr>\n",
       "      <th>customerID</th>\n",
       "      <th></th>\n",
       "      <th></th>\n",
       "      <th></th>\n",
       "      <th></th>\n",
       "      <th></th>\n",
       "      <th></th>\n",
       "      <th></th>\n",
       "      <th></th>\n",
       "      <th></th>\n",
       "      <th></th>\n",
       "      <th></th>\n",
       "      <th></th>\n",
       "      <th></th>\n",
       "      <th></th>\n",
       "      <th></th>\n",
       "      <th></th>\n",
       "      <th></th>\n",
       "    </tr>\n",
       "  </thead>\n",
       "  <tbody>\n",
       "    <tr>\n",
       "      <th>2782-LFZVW</th>\n",
       "      <td>Month-to-month</td>\n",
       "      <td>Yes</td>\n",
       "      <td>Mailed check</td>\n",
       "      <td>58.95</td>\n",
       "      <td>601.60</td>\n",
       "      <td>Female</td>\n",
       "      <td>0</td>\n",
       "      <td>No</td>\n",
       "      <td>No</td>\n",
       "      <td>DSL</td>\n",
       "      <td>No</td>\n",
       "      <td>No</td>\n",
       "      <td>No</td>\n",
       "      <td>No</td>\n",
       "      <td>No</td>\n",
       "      <td>Yes</td>\n",
       "      <td>Yes</td>\n",
       "    </tr>\n",
       "    <tr>\n",
       "      <th>0098-BOWSO</th>\n",
       "      <td>Month-to-month</td>\n",
       "      <td>Yes</td>\n",
       "      <td>Electronic check</td>\n",
       "      <td>19.40</td>\n",
       "      <td>529.80</td>\n",
       "      <td>Male</td>\n",
       "      <td>0</td>\n",
       "      <td>No</td>\n",
       "      <td>No</td>\n",
       "      <td>0</td>\n",
       "      <td>0</td>\n",
       "      <td>0</td>\n",
       "      <td>0</td>\n",
       "      <td>0</td>\n",
       "      <td>0</td>\n",
       "      <td>0</td>\n",
       "      <td>No</td>\n",
       "    </tr>\n",
       "    <tr>\n",
       "      <th>1293-BSEUN</th>\n",
       "      <td>Two year</td>\n",
       "      <td>Yes</td>\n",
       "      <td>Mailed check</td>\n",
       "      <td>20.70</td>\n",
       "      <td>1482.30</td>\n",
       "      <td>Female</td>\n",
       "      <td>0</td>\n",
       "      <td>Yes</td>\n",
       "      <td>Yes</td>\n",
       "      <td>0</td>\n",
       "      <td>0</td>\n",
       "      <td>0</td>\n",
       "      <td>0</td>\n",
       "      <td>0</td>\n",
       "      <td>0</td>\n",
       "      <td>0</td>\n",
       "      <td>No</td>\n",
       "    </tr>\n",
       "    <tr>\n",
       "      <th>4475-NVTLU</th>\n",
       "      <td>Two year</td>\n",
       "      <td>No</td>\n",
       "      <td>Electronic check</td>\n",
       "      <td>19.20</td>\n",
       "      <td>903.70</td>\n",
       "      <td>Male</td>\n",
       "      <td>0</td>\n",
       "      <td>Yes</td>\n",
       "      <td>Yes</td>\n",
       "      <td>0</td>\n",
       "      <td>0</td>\n",
       "      <td>0</td>\n",
       "      <td>0</td>\n",
       "      <td>0</td>\n",
       "      <td>0</td>\n",
       "      <td>0</td>\n",
       "      <td>No</td>\n",
       "    </tr>\n",
       "    <tr>\n",
       "      <th>1763-WQFUK</th>\n",
       "      <td>Month-to-month</td>\n",
       "      <td>Yes</td>\n",
       "      <td>Mailed check</td>\n",
       "      <td>50.50</td>\n",
       "      <td>147.75</td>\n",
       "      <td>Male</td>\n",
       "      <td>0</td>\n",
       "      <td>No</td>\n",
       "      <td>No</td>\n",
       "      <td>DSL</td>\n",
       "      <td>No</td>\n",
       "      <td>No</td>\n",
       "      <td>No</td>\n",
       "      <td>Yes</td>\n",
       "      <td>No</td>\n",
       "      <td>No</td>\n",
       "      <td>No</td>\n",
       "    </tr>\n",
       "    <tr>\n",
       "      <th>...</th>\n",
       "      <td>...</td>\n",
       "      <td>...</td>\n",
       "      <td>...</td>\n",
       "      <td>...</td>\n",
       "      <td>...</td>\n",
       "      <td>...</td>\n",
       "      <td>...</td>\n",
       "      <td>...</td>\n",
       "      <td>...</td>\n",
       "      <td>...</td>\n",
       "      <td>...</td>\n",
       "      <td>...</td>\n",
       "      <td>...</td>\n",
       "      <td>...</td>\n",
       "      <td>...</td>\n",
       "      <td>...</td>\n",
       "      <td>...</td>\n",
       "    </tr>\n",
       "    <tr>\n",
       "      <th>1106-HRLKZ</th>\n",
       "      <td>Two year</td>\n",
       "      <td>No</td>\n",
       "      <td>Mailed check</td>\n",
       "      <td>19.60</td>\n",
       "      <td>808.95</td>\n",
       "      <td>Male</td>\n",
       "      <td>0</td>\n",
       "      <td>Yes</td>\n",
       "      <td>Yes</td>\n",
       "      <td>0</td>\n",
       "      <td>0</td>\n",
       "      <td>0</td>\n",
       "      <td>0</td>\n",
       "      <td>0</td>\n",
       "      <td>0</td>\n",
       "      <td>0</td>\n",
       "      <td>No</td>\n",
       "    </tr>\n",
       "    <tr>\n",
       "      <th>1513-XNPPH</th>\n",
       "      <td>Month-to-month</td>\n",
       "      <td>Yes</td>\n",
       "      <td>Electronic check</td>\n",
       "      <td>89.40</td>\n",
       "      <td>1095.65</td>\n",
       "      <td>Female</td>\n",
       "      <td>0</td>\n",
       "      <td>No</td>\n",
       "      <td>No</td>\n",
       "      <td>Fiber optic</td>\n",
       "      <td>No</td>\n",
       "      <td>No</td>\n",
       "      <td>Yes</td>\n",
       "      <td>Yes</td>\n",
       "      <td>No</td>\n",
       "      <td>Yes</td>\n",
       "      <td>No</td>\n",
       "    </tr>\n",
       "    <tr>\n",
       "      <th>7145-FEJWU</th>\n",
       "      <td>Month-to-month</td>\n",
       "      <td>Yes</td>\n",
       "      <td>Electronic check</td>\n",
       "      <td>105.30</td>\n",
       "      <td>1275.65</td>\n",
       "      <td>Female</td>\n",
       "      <td>0</td>\n",
       "      <td>No</td>\n",
       "      <td>Yes</td>\n",
       "      <td>Fiber optic</td>\n",
       "      <td>No</td>\n",
       "      <td>Yes</td>\n",
       "      <td>Yes</td>\n",
       "      <td>No</td>\n",
       "      <td>Yes</td>\n",
       "      <td>Yes</td>\n",
       "      <td>Yes</td>\n",
       "    </tr>\n",
       "    <tr>\n",
       "      <th>9450-TRJUU</th>\n",
       "      <td>Month-to-month</td>\n",
       "      <td>No</td>\n",
       "      <td>Electronic check</td>\n",
       "      <td>83.15</td>\n",
       "      <td>2848.45</td>\n",
       "      <td>Male</td>\n",
       "      <td>0</td>\n",
       "      <td>No</td>\n",
       "      <td>No</td>\n",
       "      <td>Fiber optic</td>\n",
       "      <td>No</td>\n",
       "      <td>No</td>\n",
       "      <td>No</td>\n",
       "      <td>No</td>\n",
       "      <td>Yes</td>\n",
       "      <td>No</td>\n",
       "      <td>Yes</td>\n",
       "    </tr>\n",
       "    <tr>\n",
       "      <th>2311-QYMUQ</th>\n",
       "      <td>Month-to-month</td>\n",
       "      <td>Yes</td>\n",
       "      <td>Credit card (automatic)</td>\n",
       "      <td>89.45</td>\n",
       "      <td>1430.25</td>\n",
       "      <td>Female</td>\n",
       "      <td>0</td>\n",
       "      <td>Yes</td>\n",
       "      <td>Yes</td>\n",
       "      <td>Fiber optic</td>\n",
       "      <td>No</td>\n",
       "      <td>Yes</td>\n",
       "      <td>Yes</td>\n",
       "      <td>No</td>\n",
       "      <td>Yes</td>\n",
       "      <td>No</td>\n",
       "      <td>No</td>\n",
       "    </tr>\n",
       "  </tbody>\n",
       "</table>\n",
       "<p>1761 rows × 17 columns</p>\n",
       "</div>"
      ],
      "text/plain": [
       "                      Type PaperlessBilling            PaymentMethod  \\\n",
       "customerID                                                             \n",
       "2782-LFZVW  Month-to-month              Yes             Mailed check   \n",
       "0098-BOWSO  Month-to-month              Yes         Electronic check   \n",
       "1293-BSEUN        Two year              Yes             Mailed check   \n",
       "4475-NVTLU        Two year               No         Electronic check   \n",
       "1763-WQFUK  Month-to-month              Yes             Mailed check   \n",
       "...                    ...              ...                      ...   \n",
       "1106-HRLKZ        Two year               No             Mailed check   \n",
       "1513-XNPPH  Month-to-month              Yes         Electronic check   \n",
       "7145-FEJWU  Month-to-month              Yes         Electronic check   \n",
       "9450-TRJUU  Month-to-month               No         Electronic check   \n",
       "2311-QYMUQ  Month-to-month              Yes  Credit card (automatic)   \n",
       "\n",
       "            MonthlyCharges  TotalCharges  gender  SeniorCitizen Partner  \\\n",
       "customerID                                                                \n",
       "2782-LFZVW           58.95        601.60  Female              0      No   \n",
       "0098-BOWSO           19.40        529.80    Male              0      No   \n",
       "1293-BSEUN           20.70       1482.30  Female              0     Yes   \n",
       "4475-NVTLU           19.20        903.70    Male              0     Yes   \n",
       "1763-WQFUK           50.50        147.75    Male              0      No   \n",
       "...                    ...           ...     ...            ...     ...   \n",
       "1106-HRLKZ           19.60        808.95    Male              0     Yes   \n",
       "1513-XNPPH           89.40       1095.65  Female              0      No   \n",
       "7145-FEJWU          105.30       1275.65  Female              0      No   \n",
       "9450-TRJUU           83.15       2848.45    Male              0      No   \n",
       "2311-QYMUQ           89.45       1430.25  Female              0     Yes   \n",
       "\n",
       "           Dependents InternetService OnlineSecurity OnlineBackup  \\\n",
       "customerID                                                          \n",
       "2782-LFZVW         No             DSL             No           No   \n",
       "0098-BOWSO         No               0              0            0   \n",
       "1293-BSEUN        Yes               0              0            0   \n",
       "4475-NVTLU        Yes               0              0            0   \n",
       "1763-WQFUK         No             DSL             No           No   \n",
       "...               ...             ...            ...          ...   \n",
       "1106-HRLKZ        Yes               0              0            0   \n",
       "1513-XNPPH         No     Fiber optic             No           No   \n",
       "7145-FEJWU        Yes     Fiber optic             No          Yes   \n",
       "9450-TRJUU         No     Fiber optic             No           No   \n",
       "2311-QYMUQ        Yes     Fiber optic             No          Yes   \n",
       "\n",
       "           DeviceProtection TechSupport StreamingTV StreamingMovies  \\\n",
       "customerID                                                            \n",
       "2782-LFZVW               No          No          No             Yes   \n",
       "0098-BOWSO                0           0           0               0   \n",
       "1293-BSEUN                0           0           0               0   \n",
       "4475-NVTLU                0           0           0               0   \n",
       "1763-WQFUK               No         Yes          No              No   \n",
       "...                     ...         ...         ...             ...   \n",
       "1106-HRLKZ                0           0           0               0   \n",
       "1513-XNPPH              Yes         Yes          No             Yes   \n",
       "7145-FEJWU              Yes          No         Yes             Yes   \n",
       "9450-TRJUU               No          No         Yes              No   \n",
       "2311-QYMUQ              Yes          No         Yes              No   \n",
       "\n",
       "           MultipleLines  \n",
       "customerID                \n",
       "2782-LFZVW           Yes  \n",
       "0098-BOWSO            No  \n",
       "1293-BSEUN            No  \n",
       "4475-NVTLU            No  \n",
       "1763-WQFUK            No  \n",
       "...                  ...  \n",
       "1106-HRLKZ            No  \n",
       "1513-XNPPH            No  \n",
       "7145-FEJWU           Yes  \n",
       "9450-TRJUU           Yes  \n",
       "2311-QYMUQ            No  \n",
       "\n",
       "[1761 rows x 17 columns]"
      ]
     },
     "execution_count": 71,
     "metadata": {},
     "output_type": "execute_result"
    }
   ],
   "source": [
    "X_cb_test"
   ]
  },
  {
   "cell_type": "code",
   "execution_count": 77,
   "metadata": {},
   "outputs": [
    {
     "data": {
      "application/vnd.jupyter.widget-view+json": {
       "model_id": "61b8628d597f46ea922c1d9e8146b22e",
       "version_major": 2,
       "version_minor": 0
      },
      "text/plain": [
       "MetricVisualizer(layout=Layout(align_self='stretch', height='500px'))"
      ]
     },
     "metadata": {},
     "output_type": "display_data"
    },
    {
     "data": {
      "application/vnd.plotly.v1+json": {
       "config": {
        "plotlyServerURL": "https://plot.ly"
       },
       "data": [
        {
         "line": {
          "color": "rgb(51,160,44)"
         },
         "mode": "lines+markers",
         "name": "",
         "text": [
          "",
          "SeniorCitizen",
          "gender",
          "DeviceProtection",
          "Partner",
          "Dependents",
          "MultipleLines",
          "StreamingMovies"
         ],
         "type": "scatter",
         "x": [
          0,
          1,
          2,
          3,
          4,
          5,
          6,
          7
         ],
         "y": [
          0.4612797279231963,
          0.46046887522154983,
          0.45976176685063275,
          0.45976319918748715,
          0.4598013301243374,
          0.4600776730487546,
          0.46147948497788316,
          0.46312562807395924
         ]
        },
        {
         "marker": {
          "size": 10,
          "symbol": "square"
         },
         "mode": "markers",
         "name": "",
         "text": [
          "",
          "StreamingMovies"
         ],
         "type": "scatter",
         "x": [
          0,
          7
         ],
         "y": [
          0.4612797279231963,
          0.46312562807395924
         ]
        },
        {
         "mode": "text",
         "name": "",
         "text": [
          "",
          "6",
          "5",
          "12",
          "7",
          "8",
          "16",
          "15"
         ],
         "textfont": {
          "color": "rgb(51,160,44)",
          "family": "sans serif",
          "size": 18
         },
         "textposition": "bottom center",
         "type": "scatter",
         "visible": false,
         "x": [
          0,
          1,
          2,
          3,
          4,
          5,
          6,
          7
         ],
         "y": [
          0.4612797279231963,
          0.46046887522154983,
          0.45976176685063275,
          0.45976319918748715,
          0.4598013301243374,
          0.4600776730487546,
          0.46147948497788316,
          0.46312562807395924
         ]
        },
        {
         "mode": "text",
         "name": "",
         "text": [
          "",
          "SeniorCitizen",
          "gender",
          "DeviceProtection",
          "Partner",
          "Dependents",
          "MultipleLines",
          "StreamingMovies"
         ],
         "textfont": {
          "color": "rgb(51,160,44)",
          "family": "sans serif",
          "size": 18
         },
         "textposition": "bottom center",
         "type": "scatter",
         "visible": false,
         "x": [
          0,
          1,
          2,
          3,
          4,
          5,
          6,
          7
         ],
         "y": [
          0.4612797279231963,
          0.46046887522154983,
          0.45976176685063275,
          0.45976319918748715,
          0.4598013301243374,
          0.4600776730487546,
          0.46147948497788316,
          0.46312562807395924
         ]
        }
       ],
       "layout": {
        "showlegend": false,
        "template": {
         "data": {
          "bar": [
           {
            "error_x": {
             "color": "#2a3f5f"
            },
            "error_y": {
             "color": "#2a3f5f"
            },
            "marker": {
             "line": {
              "color": "#E5ECF6",
              "width": 0.5
             },
             "pattern": {
              "fillmode": "overlay",
              "size": 10,
              "solidity": 0.2
             }
            },
            "type": "bar"
           }
          ],
          "barpolar": [
           {
            "marker": {
             "line": {
              "color": "#E5ECF6",
              "width": 0.5
             },
             "pattern": {
              "fillmode": "overlay",
              "size": 10,
              "solidity": 0.2
             }
            },
            "type": "barpolar"
           }
          ],
          "carpet": [
           {
            "aaxis": {
             "endlinecolor": "#2a3f5f",
             "gridcolor": "white",
             "linecolor": "white",
             "minorgridcolor": "white",
             "startlinecolor": "#2a3f5f"
            },
            "baxis": {
             "endlinecolor": "#2a3f5f",
             "gridcolor": "white",
             "linecolor": "white",
             "minorgridcolor": "white",
             "startlinecolor": "#2a3f5f"
            },
            "type": "carpet"
           }
          ],
          "choropleth": [
           {
            "colorbar": {
             "outlinewidth": 0,
             "ticks": ""
            },
            "type": "choropleth"
           }
          ],
          "contour": [
           {
            "colorbar": {
             "outlinewidth": 0,
             "ticks": ""
            },
            "colorscale": [
             [
              0,
              "#0d0887"
             ],
             [
              0.1111111111111111,
              "#46039f"
             ],
             [
              0.2222222222222222,
              "#7201a8"
             ],
             [
              0.3333333333333333,
              "#9c179e"
             ],
             [
              0.4444444444444444,
              "#bd3786"
             ],
             [
              0.5555555555555556,
              "#d8576b"
             ],
             [
              0.6666666666666666,
              "#ed7953"
             ],
             [
              0.7777777777777778,
              "#fb9f3a"
             ],
             [
              0.8888888888888888,
              "#fdca26"
             ],
             [
              1,
              "#f0f921"
             ]
            ],
            "type": "contour"
           }
          ],
          "contourcarpet": [
           {
            "colorbar": {
             "outlinewidth": 0,
             "ticks": ""
            },
            "type": "contourcarpet"
           }
          ],
          "heatmap": [
           {
            "colorbar": {
             "outlinewidth": 0,
             "ticks": ""
            },
            "colorscale": [
             [
              0,
              "#0d0887"
             ],
             [
              0.1111111111111111,
              "#46039f"
             ],
             [
              0.2222222222222222,
              "#7201a8"
             ],
             [
              0.3333333333333333,
              "#9c179e"
             ],
             [
              0.4444444444444444,
              "#bd3786"
             ],
             [
              0.5555555555555556,
              "#d8576b"
             ],
             [
              0.6666666666666666,
              "#ed7953"
             ],
             [
              0.7777777777777778,
              "#fb9f3a"
             ],
             [
              0.8888888888888888,
              "#fdca26"
             ],
             [
              1,
              "#f0f921"
             ]
            ],
            "type": "heatmap"
           }
          ],
          "heatmapgl": [
           {
            "colorbar": {
             "outlinewidth": 0,
             "ticks": ""
            },
            "colorscale": [
             [
              0,
              "#0d0887"
             ],
             [
              0.1111111111111111,
              "#46039f"
             ],
             [
              0.2222222222222222,
              "#7201a8"
             ],
             [
              0.3333333333333333,
              "#9c179e"
             ],
             [
              0.4444444444444444,
              "#bd3786"
             ],
             [
              0.5555555555555556,
              "#d8576b"
             ],
             [
              0.6666666666666666,
              "#ed7953"
             ],
             [
              0.7777777777777778,
              "#fb9f3a"
             ],
             [
              0.8888888888888888,
              "#fdca26"
             ],
             [
              1,
              "#f0f921"
             ]
            ],
            "type": "heatmapgl"
           }
          ],
          "histogram": [
           {
            "marker": {
             "pattern": {
              "fillmode": "overlay",
              "size": 10,
              "solidity": 0.2
             }
            },
            "type": "histogram"
           }
          ],
          "histogram2d": [
           {
            "colorbar": {
             "outlinewidth": 0,
             "ticks": ""
            },
            "colorscale": [
             [
              0,
              "#0d0887"
             ],
             [
              0.1111111111111111,
              "#46039f"
             ],
             [
              0.2222222222222222,
              "#7201a8"
             ],
             [
              0.3333333333333333,
              "#9c179e"
             ],
             [
              0.4444444444444444,
              "#bd3786"
             ],
             [
              0.5555555555555556,
              "#d8576b"
             ],
             [
              0.6666666666666666,
              "#ed7953"
             ],
             [
              0.7777777777777778,
              "#fb9f3a"
             ],
             [
              0.8888888888888888,
              "#fdca26"
             ],
             [
              1,
              "#f0f921"
             ]
            ],
            "type": "histogram2d"
           }
          ],
          "histogram2dcontour": [
           {
            "colorbar": {
             "outlinewidth": 0,
             "ticks": ""
            },
            "colorscale": [
             [
              0,
              "#0d0887"
             ],
             [
              0.1111111111111111,
              "#46039f"
             ],
             [
              0.2222222222222222,
              "#7201a8"
             ],
             [
              0.3333333333333333,
              "#9c179e"
             ],
             [
              0.4444444444444444,
              "#bd3786"
             ],
             [
              0.5555555555555556,
              "#d8576b"
             ],
             [
              0.6666666666666666,
              "#ed7953"
             ],
             [
              0.7777777777777778,
              "#fb9f3a"
             ],
             [
              0.8888888888888888,
              "#fdca26"
             ],
             [
              1,
              "#f0f921"
             ]
            ],
            "type": "histogram2dcontour"
           }
          ],
          "mesh3d": [
           {
            "colorbar": {
             "outlinewidth": 0,
             "ticks": ""
            },
            "type": "mesh3d"
           }
          ],
          "parcoords": [
           {
            "line": {
             "colorbar": {
              "outlinewidth": 0,
              "ticks": ""
             }
            },
            "type": "parcoords"
           }
          ],
          "pie": [
           {
            "automargin": true,
            "type": "pie"
           }
          ],
          "scatter": [
           {
            "fillpattern": {
             "fillmode": "overlay",
             "size": 10,
             "solidity": 0.2
            },
            "type": "scatter"
           }
          ],
          "scatter3d": [
           {
            "line": {
             "colorbar": {
              "outlinewidth": 0,
              "ticks": ""
             }
            },
            "marker": {
             "colorbar": {
              "outlinewidth": 0,
              "ticks": ""
             }
            },
            "type": "scatter3d"
           }
          ],
          "scattercarpet": [
           {
            "marker": {
             "colorbar": {
              "outlinewidth": 0,
              "ticks": ""
             }
            },
            "type": "scattercarpet"
           }
          ],
          "scattergeo": [
           {
            "marker": {
             "colorbar": {
              "outlinewidth": 0,
              "ticks": ""
             }
            },
            "type": "scattergeo"
           }
          ],
          "scattergl": [
           {
            "marker": {
             "colorbar": {
              "outlinewidth": 0,
              "ticks": ""
             }
            },
            "type": "scattergl"
           }
          ],
          "scattermapbox": [
           {
            "marker": {
             "colorbar": {
              "outlinewidth": 0,
              "ticks": ""
             }
            },
            "type": "scattermapbox"
           }
          ],
          "scatterpolar": [
           {
            "marker": {
             "colorbar": {
              "outlinewidth": 0,
              "ticks": ""
             }
            },
            "type": "scatterpolar"
           }
          ],
          "scatterpolargl": [
           {
            "marker": {
             "colorbar": {
              "outlinewidth": 0,
              "ticks": ""
             }
            },
            "type": "scatterpolargl"
           }
          ],
          "scatterternary": [
           {
            "marker": {
             "colorbar": {
              "outlinewidth": 0,
              "ticks": ""
             }
            },
            "type": "scatterternary"
           }
          ],
          "surface": [
           {
            "colorbar": {
             "outlinewidth": 0,
             "ticks": ""
            },
            "colorscale": [
             [
              0,
              "#0d0887"
             ],
             [
              0.1111111111111111,
              "#46039f"
             ],
             [
              0.2222222222222222,
              "#7201a8"
             ],
             [
              0.3333333333333333,
              "#9c179e"
             ],
             [
              0.4444444444444444,
              "#bd3786"
             ],
             [
              0.5555555555555556,
              "#d8576b"
             ],
             [
              0.6666666666666666,
              "#ed7953"
             ],
             [
              0.7777777777777778,
              "#fb9f3a"
             ],
             [
              0.8888888888888888,
              "#fdca26"
             ],
             [
              1,
              "#f0f921"
             ]
            ],
            "type": "surface"
           }
          ],
          "table": [
           {
            "cells": {
             "fill": {
              "color": "#EBF0F8"
             },
             "line": {
              "color": "white"
             }
            },
            "header": {
             "fill": {
              "color": "#C8D4E3"
             },
             "line": {
              "color": "white"
             }
            },
            "type": "table"
           }
          ]
         },
         "layout": {
          "annotationdefaults": {
           "arrowcolor": "#2a3f5f",
           "arrowhead": 0,
           "arrowwidth": 1
          },
          "autotypenumbers": "strict",
          "coloraxis": {
           "colorbar": {
            "outlinewidth": 0,
            "ticks": ""
           }
          },
          "colorscale": {
           "diverging": [
            [
             0,
             "#8e0152"
            ],
            [
             0.1,
             "#c51b7d"
            ],
            [
             0.2,
             "#de77ae"
            ],
            [
             0.3,
             "#f1b6da"
            ],
            [
             0.4,
             "#fde0ef"
            ],
            [
             0.5,
             "#f7f7f7"
            ],
            [
             0.6,
             "#e6f5d0"
            ],
            [
             0.7,
             "#b8e186"
            ],
            [
             0.8,
             "#7fbc41"
            ],
            [
             0.9,
             "#4d9221"
            ],
            [
             1,
             "#276419"
            ]
           ],
           "sequential": [
            [
             0,
             "#0d0887"
            ],
            [
             0.1111111111111111,
             "#46039f"
            ],
            [
             0.2222222222222222,
             "#7201a8"
            ],
            [
             0.3333333333333333,
             "#9c179e"
            ],
            [
             0.4444444444444444,
             "#bd3786"
            ],
            [
             0.5555555555555556,
             "#d8576b"
            ],
            [
             0.6666666666666666,
             "#ed7953"
            ],
            [
             0.7777777777777778,
             "#fb9f3a"
            ],
            [
             0.8888888888888888,
             "#fdca26"
            ],
            [
             1,
             "#f0f921"
            ]
           ],
           "sequentialminus": [
            [
             0,
             "#0d0887"
            ],
            [
             0.1111111111111111,
             "#46039f"
            ],
            [
             0.2222222222222222,
             "#7201a8"
            ],
            [
             0.3333333333333333,
             "#9c179e"
            ],
            [
             0.4444444444444444,
             "#bd3786"
            ],
            [
             0.5555555555555556,
             "#d8576b"
            ],
            [
             0.6666666666666666,
             "#ed7953"
            ],
            [
             0.7777777777777778,
             "#fb9f3a"
            ],
            [
             0.8888888888888888,
             "#fdca26"
            ],
            [
             1,
             "#f0f921"
            ]
           ]
          },
          "colorway": [
           "#636efa",
           "#EF553B",
           "#00cc96",
           "#ab63fa",
           "#FFA15A",
           "#19d3f3",
           "#FF6692",
           "#B6E880",
           "#FF97FF",
           "#FECB52"
          ],
          "font": {
           "color": "#2a3f5f"
          },
          "geo": {
           "bgcolor": "white",
           "lakecolor": "white",
           "landcolor": "#E5ECF6",
           "showlakes": true,
           "showland": true,
           "subunitcolor": "white"
          },
          "hoverlabel": {
           "align": "left"
          },
          "hovermode": "closest",
          "mapbox": {
           "style": "light"
          },
          "paper_bgcolor": "white",
          "plot_bgcolor": "#E5ECF6",
          "polar": {
           "angularaxis": {
            "gridcolor": "white",
            "linecolor": "white",
            "ticks": ""
           },
           "bgcolor": "#E5ECF6",
           "radialaxis": {
            "gridcolor": "white",
            "linecolor": "white",
            "ticks": ""
           }
          },
          "scene": {
           "xaxis": {
            "backgroundcolor": "#E5ECF6",
            "gridcolor": "white",
            "gridwidth": 2,
            "linecolor": "white",
            "showbackground": true,
            "ticks": "",
            "zerolinecolor": "white"
           },
           "yaxis": {
            "backgroundcolor": "#E5ECF6",
            "gridcolor": "white",
            "gridwidth": 2,
            "linecolor": "white",
            "showbackground": true,
            "ticks": "",
            "zerolinecolor": "white"
           },
           "zaxis": {
            "backgroundcolor": "#E5ECF6",
            "gridcolor": "white",
            "gridwidth": 2,
            "linecolor": "white",
            "showbackground": true,
            "ticks": "",
            "zerolinecolor": "white"
           }
          },
          "shapedefaults": {
           "line": {
            "color": "#2a3f5f"
           }
          },
          "ternary": {
           "aaxis": {
            "gridcolor": "white",
            "linecolor": "white",
            "ticks": ""
           },
           "baxis": {
            "gridcolor": "white",
            "linecolor": "white",
            "ticks": ""
           },
           "bgcolor": "#E5ECF6",
           "caxis": {
            "gridcolor": "white",
            "linecolor": "white",
            "ticks": ""
           }
          },
          "title": {
           "x": 0.05
          },
          "xaxis": {
           "automargin": true,
           "gridcolor": "white",
           "linecolor": "white",
           "ticks": "",
           "title": {
            "standoff": 15
           },
           "zerolinecolor": "white",
           "zerolinewidth": 2
          },
          "yaxis": {
           "automargin": true,
           "gridcolor": "white",
           "linecolor": "white",
           "ticks": "",
           "title": {
            "standoff": 15
           },
           "zerolinecolor": "white",
           "zerolinewidth": 2
          }
         }
        },
        "title": {
         "text": "Loss by eliminated features"
        },
        "updatemenus": [
         {
          "active": 0,
          "buttons": [
           {
            "args": [
             {
              "visible": [
               true,
               true,
               false,
               false
              ]
             }
            ],
            "label": "Hide features",
            "method": "update"
           },
           {
            "args": [
             {
              "visible": [
               true,
               true,
               true,
               false
              ]
             }
            ],
            "label": "Show indices",
            "method": "update"
           },
           {
            "args": [
             {
              "visible": [
               true,
               true,
               false,
               true
              ]
             }
            ],
            "label": "Show names",
            "method": "update"
           }
          ],
          "pad": {
           "r": 10,
           "t": 10
          },
          "showactive": true,
          "x": -0.25,
          "xanchor": "left",
          "y": 1.03,
          "yanchor": "top"
         }
        ],
        "xaxis": {
         "gridcolor": "rgb(255,255,255)",
         "showgrid": true,
         "showline": false,
         "showticklabels": true,
         "tickcolor": "rgb(127,127,127)",
         "ticks": "outside",
         "title": {
          "text": "number of removed features"
         },
         "zeroline": false
        },
        "yaxis": {
         "gridcolor": "rgb(255,255,255)",
         "showgrid": true,
         "showline": false,
         "showticklabels": true,
         "tickcolor": "rgb(127,127,127)",
         "tickfont": {
          "color": "rgb(51,160,44)"
         },
         "ticks": "outside",
         "title": {
          "font": {
           "color": "rgb(51,160,44)"
          },
          "text": "loss value"
         },
         "zeroline": false
        }
       }
      },
      "text/html": [
       "<div>                            <div id=\"8293c44f-8998-40c6-850f-50be01391f6b\" class=\"plotly-graph-div\" style=\"height:525px; width:100%;\"></div>            <script type=\"text/javascript\">                require([\"plotly\"], function(Plotly) {                    window.PLOTLYENV=window.PLOTLYENV || {};                                    if (document.getElementById(\"8293c44f-8998-40c6-850f-50be01391f6b\")) {                    Plotly.newPlot(                        \"8293c44f-8998-40c6-850f-50be01391f6b\",                        [{\"line\":{\"color\":\"rgb(51,160,44)\"},\"mode\":\"lines+markers\",\"name\":\"\",\"text\":[\"\",\"SeniorCitizen\",\"gender\",\"DeviceProtection\",\"Partner\",\"Dependents\",\"MultipleLines\",\"StreamingMovies\"],\"x\":[0,1,2,3,4,5,6,7],\"y\":[0.4612797279231963,0.46046887522154983,0.45976176685063275,0.45976319918748715,0.4598013301243374,0.4600776730487546,0.46147948497788316,0.46312562807395924],\"type\":\"scatter\"},{\"marker\":{\"size\":10,\"symbol\":\"square\"},\"mode\":\"markers\",\"name\":\"\",\"text\":[\"\",\"StreamingMovies\"],\"x\":[0,7],\"y\":[0.4612797279231963,0.46312562807395924],\"type\":\"scatter\"},{\"mode\":\"text\",\"name\":\"\",\"text\":[\"\",\"6\",\"5\",\"12\",\"7\",\"8\",\"16\",\"15\"],\"textfont\":{\"color\":\"rgb(51,160,44)\",\"family\":\"sans serif\",\"size\":18},\"textposition\":\"bottom center\",\"visible\":false,\"x\":[0,1,2,3,4,5,6,7],\"y\":[0.4612797279231963,0.46046887522154983,0.45976176685063275,0.45976319918748715,0.4598013301243374,0.4600776730487546,0.46147948497788316,0.46312562807395924],\"type\":\"scatter\"},{\"mode\":\"text\",\"name\":\"\",\"text\":[\"\",\"SeniorCitizen\",\"gender\",\"DeviceProtection\",\"Partner\",\"Dependents\",\"MultipleLines\",\"StreamingMovies\"],\"textfont\":{\"color\":\"rgb(51,160,44)\",\"family\":\"sans serif\",\"size\":18},\"textposition\":\"bottom center\",\"visible\":false,\"x\":[0,1,2,3,4,5,6,7],\"y\":[0.4612797279231963,0.46046887522154983,0.45976176685063275,0.45976319918748715,0.4598013301243374,0.4600776730487546,0.46147948497788316,0.46312562807395924],\"type\":\"scatter\"}],                        {\"template\":{\"data\":{\"histogram2dcontour\":[{\"type\":\"histogram2dcontour\",\"colorbar\":{\"outlinewidth\":0,\"ticks\":\"\"},\"colorscale\":[[0.0,\"#0d0887\"],[0.1111111111111111,\"#46039f\"],[0.2222222222222222,\"#7201a8\"],[0.3333333333333333,\"#9c179e\"],[0.4444444444444444,\"#bd3786\"],[0.5555555555555556,\"#d8576b\"],[0.6666666666666666,\"#ed7953\"],[0.7777777777777778,\"#fb9f3a\"],[0.8888888888888888,\"#fdca26\"],[1.0,\"#f0f921\"]]}],\"choropleth\":[{\"type\":\"choropleth\",\"colorbar\":{\"outlinewidth\":0,\"ticks\":\"\"}}],\"histogram2d\":[{\"type\":\"histogram2d\",\"colorbar\":{\"outlinewidth\":0,\"ticks\":\"\"},\"colorscale\":[[0.0,\"#0d0887\"],[0.1111111111111111,\"#46039f\"],[0.2222222222222222,\"#7201a8\"],[0.3333333333333333,\"#9c179e\"],[0.4444444444444444,\"#bd3786\"],[0.5555555555555556,\"#d8576b\"],[0.6666666666666666,\"#ed7953\"],[0.7777777777777778,\"#fb9f3a\"],[0.8888888888888888,\"#fdca26\"],[1.0,\"#f0f921\"]]}],\"heatmap\":[{\"type\":\"heatmap\",\"colorbar\":{\"outlinewidth\":0,\"ticks\":\"\"},\"colorscale\":[[0.0,\"#0d0887\"],[0.1111111111111111,\"#46039f\"],[0.2222222222222222,\"#7201a8\"],[0.3333333333333333,\"#9c179e\"],[0.4444444444444444,\"#bd3786\"],[0.5555555555555556,\"#d8576b\"],[0.6666666666666666,\"#ed7953\"],[0.7777777777777778,\"#fb9f3a\"],[0.8888888888888888,\"#fdca26\"],[1.0,\"#f0f921\"]]}],\"heatmapgl\":[{\"type\":\"heatmapgl\",\"colorbar\":{\"outlinewidth\":0,\"ticks\":\"\"},\"colorscale\":[[0.0,\"#0d0887\"],[0.1111111111111111,\"#46039f\"],[0.2222222222222222,\"#7201a8\"],[0.3333333333333333,\"#9c179e\"],[0.4444444444444444,\"#bd3786\"],[0.5555555555555556,\"#d8576b\"],[0.6666666666666666,\"#ed7953\"],[0.7777777777777778,\"#fb9f3a\"],[0.8888888888888888,\"#fdca26\"],[1.0,\"#f0f921\"]]}],\"contourcarpet\":[{\"type\":\"contourcarpet\",\"colorbar\":{\"outlinewidth\":0,\"ticks\":\"\"}}],\"contour\":[{\"type\":\"contour\",\"colorbar\":{\"outlinewidth\":0,\"ticks\":\"\"},\"colorscale\":[[0.0,\"#0d0887\"],[0.1111111111111111,\"#46039f\"],[0.2222222222222222,\"#7201a8\"],[0.3333333333333333,\"#9c179e\"],[0.4444444444444444,\"#bd3786\"],[0.5555555555555556,\"#d8576b\"],[0.6666666666666666,\"#ed7953\"],[0.7777777777777778,\"#fb9f3a\"],[0.8888888888888888,\"#fdca26\"],[1.0,\"#f0f921\"]]}],\"surface\":[{\"type\":\"surface\",\"colorbar\":{\"outlinewidth\":0,\"ticks\":\"\"},\"colorscale\":[[0.0,\"#0d0887\"],[0.1111111111111111,\"#46039f\"],[0.2222222222222222,\"#7201a8\"],[0.3333333333333333,\"#9c179e\"],[0.4444444444444444,\"#bd3786\"],[0.5555555555555556,\"#d8576b\"],[0.6666666666666666,\"#ed7953\"],[0.7777777777777778,\"#fb9f3a\"],[0.8888888888888888,\"#fdca26\"],[1.0,\"#f0f921\"]]}],\"mesh3d\":[{\"type\":\"mesh3d\",\"colorbar\":{\"outlinewidth\":0,\"ticks\":\"\"}}],\"scatter\":[{\"fillpattern\":{\"fillmode\":\"overlay\",\"size\":10,\"solidity\":0.2},\"type\":\"scatter\"}],\"parcoords\":[{\"type\":\"parcoords\",\"line\":{\"colorbar\":{\"outlinewidth\":0,\"ticks\":\"\"}}}],\"scatterpolargl\":[{\"type\":\"scatterpolargl\",\"marker\":{\"colorbar\":{\"outlinewidth\":0,\"ticks\":\"\"}}}],\"bar\":[{\"error_x\":{\"color\":\"#2a3f5f\"},\"error_y\":{\"color\":\"#2a3f5f\"},\"marker\":{\"line\":{\"color\":\"#E5ECF6\",\"width\":0.5},\"pattern\":{\"fillmode\":\"overlay\",\"size\":10,\"solidity\":0.2}},\"type\":\"bar\"}],\"scattergeo\":[{\"type\":\"scattergeo\",\"marker\":{\"colorbar\":{\"outlinewidth\":0,\"ticks\":\"\"}}}],\"scatterpolar\":[{\"type\":\"scatterpolar\",\"marker\":{\"colorbar\":{\"outlinewidth\":0,\"ticks\":\"\"}}}],\"histogram\":[{\"marker\":{\"pattern\":{\"fillmode\":\"overlay\",\"size\":10,\"solidity\":0.2}},\"type\":\"histogram\"}],\"scattergl\":[{\"type\":\"scattergl\",\"marker\":{\"colorbar\":{\"outlinewidth\":0,\"ticks\":\"\"}}}],\"scatter3d\":[{\"type\":\"scatter3d\",\"line\":{\"colorbar\":{\"outlinewidth\":0,\"ticks\":\"\"}},\"marker\":{\"colorbar\":{\"outlinewidth\":0,\"ticks\":\"\"}}}],\"scattermapbox\":[{\"type\":\"scattermapbox\",\"marker\":{\"colorbar\":{\"outlinewidth\":0,\"ticks\":\"\"}}}],\"scatterternary\":[{\"type\":\"scatterternary\",\"marker\":{\"colorbar\":{\"outlinewidth\":0,\"ticks\":\"\"}}}],\"scattercarpet\":[{\"type\":\"scattercarpet\",\"marker\":{\"colorbar\":{\"outlinewidth\":0,\"ticks\":\"\"}}}],\"carpet\":[{\"aaxis\":{\"endlinecolor\":\"#2a3f5f\",\"gridcolor\":\"white\",\"linecolor\":\"white\",\"minorgridcolor\":\"white\",\"startlinecolor\":\"#2a3f5f\"},\"baxis\":{\"endlinecolor\":\"#2a3f5f\",\"gridcolor\":\"white\",\"linecolor\":\"white\",\"minorgridcolor\":\"white\",\"startlinecolor\":\"#2a3f5f\"},\"type\":\"carpet\"}],\"table\":[{\"cells\":{\"fill\":{\"color\":\"#EBF0F8\"},\"line\":{\"color\":\"white\"}},\"header\":{\"fill\":{\"color\":\"#C8D4E3\"},\"line\":{\"color\":\"white\"}},\"type\":\"table\"}],\"barpolar\":[{\"marker\":{\"line\":{\"color\":\"#E5ECF6\",\"width\":0.5},\"pattern\":{\"fillmode\":\"overlay\",\"size\":10,\"solidity\":0.2}},\"type\":\"barpolar\"}],\"pie\":[{\"automargin\":true,\"type\":\"pie\"}]},\"layout\":{\"autotypenumbers\":\"strict\",\"colorway\":[\"#636efa\",\"#EF553B\",\"#00cc96\",\"#ab63fa\",\"#FFA15A\",\"#19d3f3\",\"#FF6692\",\"#B6E880\",\"#FF97FF\",\"#FECB52\"],\"font\":{\"color\":\"#2a3f5f\"},\"hovermode\":\"closest\",\"hoverlabel\":{\"align\":\"left\"},\"paper_bgcolor\":\"white\",\"plot_bgcolor\":\"#E5ECF6\",\"polar\":{\"bgcolor\":\"#E5ECF6\",\"angularaxis\":{\"gridcolor\":\"white\",\"linecolor\":\"white\",\"ticks\":\"\"},\"radialaxis\":{\"gridcolor\":\"white\",\"linecolor\":\"white\",\"ticks\":\"\"}},\"ternary\":{\"bgcolor\":\"#E5ECF6\",\"aaxis\":{\"gridcolor\":\"white\",\"linecolor\":\"white\",\"ticks\":\"\"},\"baxis\":{\"gridcolor\":\"white\",\"linecolor\":\"white\",\"ticks\":\"\"},\"caxis\":{\"gridcolor\":\"white\",\"linecolor\":\"white\",\"ticks\":\"\"}},\"coloraxis\":{\"colorbar\":{\"outlinewidth\":0,\"ticks\":\"\"}},\"colorscale\":{\"sequential\":[[0.0,\"#0d0887\"],[0.1111111111111111,\"#46039f\"],[0.2222222222222222,\"#7201a8\"],[0.3333333333333333,\"#9c179e\"],[0.4444444444444444,\"#bd3786\"],[0.5555555555555556,\"#d8576b\"],[0.6666666666666666,\"#ed7953\"],[0.7777777777777778,\"#fb9f3a\"],[0.8888888888888888,\"#fdca26\"],[1.0,\"#f0f921\"]],\"sequentialminus\":[[0.0,\"#0d0887\"],[0.1111111111111111,\"#46039f\"],[0.2222222222222222,\"#7201a8\"],[0.3333333333333333,\"#9c179e\"],[0.4444444444444444,\"#bd3786\"],[0.5555555555555556,\"#d8576b\"],[0.6666666666666666,\"#ed7953\"],[0.7777777777777778,\"#fb9f3a\"],[0.8888888888888888,\"#fdca26\"],[1.0,\"#f0f921\"]],\"diverging\":[[0,\"#8e0152\"],[0.1,\"#c51b7d\"],[0.2,\"#de77ae\"],[0.3,\"#f1b6da\"],[0.4,\"#fde0ef\"],[0.5,\"#f7f7f7\"],[0.6,\"#e6f5d0\"],[0.7,\"#b8e186\"],[0.8,\"#7fbc41\"],[0.9,\"#4d9221\"],[1,\"#276419\"]]},\"xaxis\":{\"gridcolor\":\"white\",\"linecolor\":\"white\",\"ticks\":\"\",\"title\":{\"standoff\":15},\"zerolinecolor\":\"white\",\"automargin\":true,\"zerolinewidth\":2},\"yaxis\":{\"gridcolor\":\"white\",\"linecolor\":\"white\",\"ticks\":\"\",\"title\":{\"standoff\":15},\"zerolinecolor\":\"white\",\"automargin\":true,\"zerolinewidth\":2},\"scene\":{\"xaxis\":{\"backgroundcolor\":\"#E5ECF6\",\"gridcolor\":\"white\",\"linecolor\":\"white\",\"showbackground\":true,\"ticks\":\"\",\"zerolinecolor\":\"white\",\"gridwidth\":2},\"yaxis\":{\"backgroundcolor\":\"#E5ECF6\",\"gridcolor\":\"white\",\"linecolor\":\"white\",\"showbackground\":true,\"ticks\":\"\",\"zerolinecolor\":\"white\",\"gridwidth\":2},\"zaxis\":{\"backgroundcolor\":\"#E5ECF6\",\"gridcolor\":\"white\",\"linecolor\":\"white\",\"showbackground\":true,\"ticks\":\"\",\"zerolinecolor\":\"white\",\"gridwidth\":2}},\"shapedefaults\":{\"line\":{\"color\":\"#2a3f5f\"}},\"annotationdefaults\":{\"arrowcolor\":\"#2a3f5f\",\"arrowhead\":0,\"arrowwidth\":1},\"geo\":{\"bgcolor\":\"white\",\"landcolor\":\"#E5ECF6\",\"subunitcolor\":\"white\",\"showland\":true,\"showlakes\":true,\"lakecolor\":\"white\"},\"title\":{\"x\":0.05},\"mapbox\":{\"style\":\"light\"}}},\"title\":{\"text\":\"Loss by eliminated features\"},\"xaxis\":{\"title\":{\"text\":\"number of removed features\"},\"gridcolor\":\"rgb(255,255,255)\",\"showgrid\":true,\"showline\":false,\"showticklabels\":true,\"tickcolor\":\"rgb(127,127,127)\",\"ticks\":\"outside\",\"zeroline\":false},\"yaxis\":{\"title\":{\"text\":\"loss value\",\"font\":{\"color\":\"rgb(51,160,44)\"}},\"tickfont\":{\"color\":\"rgb(51,160,44)\"},\"gridcolor\":\"rgb(255,255,255)\",\"showgrid\":true,\"showline\":false,\"showticklabels\":true,\"tickcolor\":\"rgb(127,127,127)\",\"ticks\":\"outside\",\"zeroline\":false},\"updatemenus\":[{\"active\":0,\"buttons\":[{\"args\":[{\"visible\":[true,true,false,false]}],\"label\":\"Hide features\",\"method\":\"update\"},{\"args\":[{\"visible\":[true,true,true,false]}],\"label\":\"Show indices\",\"method\":\"update\"},{\"args\":[{\"visible\":[true,true,false,true]}],\"label\":\"Show names\",\"method\":\"update\"}],\"pad\":{\"r\":10,\"t\":10},\"showactive\":true,\"x\":-0.25,\"xanchor\":\"left\",\"y\":1.03,\"yanchor\":\"top\"}],\"showlegend\":false},                        {\"responsive\": true}                    ).then(function(){\n",
       "                            \n",
       "var gd = document.getElementById('8293c44f-8998-40c6-850f-50be01391f6b');\n",
       "var x = new MutationObserver(function (mutations, observer) {{\n",
       "        var display = window.getComputedStyle(gd).display;\n",
       "        if (!display || display === 'none') {{\n",
       "            console.log([gd, 'removed!']);\n",
       "            Plotly.purge(gd);\n",
       "            observer.disconnect();\n",
       "        }}\n",
       "}});\n",
       "\n",
       "// Listen for the removal of the full notebook cells\n",
       "var notebookContainer = gd.closest('#notebook-container');\n",
       "if (notebookContainer) {{\n",
       "    x.observe(notebookContainer, {childList: true});\n",
       "}}\n",
       "\n",
       "// Listen for the clearing of the current output cell\n",
       "var outputEl = gd.closest('.output');\n",
       "if (outputEl) {{\n",
       "    x.observe(outputEl, {childList: true});\n",
       "}}\n",
       "\n",
       "                        })                };                });            </script>        </div>"
      ]
     },
     "metadata": {},
     "output_type": "display_data"
    }
   ],
   "source": [
    "cb_model = catboost.CatBoostClassifier(cat_features=cat_features,\n",
    "                                        iterations=1000, \n",
    "                                        random_seed=0,\n",
    "                                        auto_class_weights='SqrtBalanced')\n",
    "cb_summary = cb_model.select_features(\n",
    "    X_cb_train, y_cb_train,\n",
    "    eval_set=(X_cb_test, y_cb_test),\n",
    "    features_for_select='0-16',\n",
    "    num_features_to_select=10,\n",
    "    train_final_model=True,\n",
    "    logging_level='Silent',\n",
    "    plot=True\n",
    ")"
   ]
  },
  {
   "cell_type": "code",
   "execution_count": 81,
   "metadata": {},
   "outputs": [
    {
     "data": {
      "text/html": [
       "<div>\n",
       "<style scoped>\n",
       "    .dataframe tbody tr th:only-of-type {\n",
       "        vertical-align: middle;\n",
       "    }\n",
       "\n",
       "    .dataframe tbody tr th {\n",
       "        vertical-align: top;\n",
       "    }\n",
       "\n",
       "    .dataframe thead th {\n",
       "        text-align: right;\n",
       "    }\n",
       "</style>\n",
       "<table border=\"1\" class=\"dataframe\">\n",
       "  <thead>\n",
       "    <tr style=\"text-align: right;\">\n",
       "      <th></th>\n",
       "      <th>Type</th>\n",
       "      <th>PaperlessBilling</th>\n",
       "      <th>PaymentMethod</th>\n",
       "      <th>MonthlyCharges</th>\n",
       "      <th>TotalCharges</th>\n",
       "      <th>InternetService</th>\n",
       "      <th>OnlineSecurity</th>\n",
       "      <th>OnlineBackup</th>\n",
       "      <th>TechSupport</th>\n",
       "      <th>StreamingTV</th>\n",
       "    </tr>\n",
       "    <tr>\n",
       "      <th>customerID</th>\n",
       "      <th></th>\n",
       "      <th></th>\n",
       "      <th></th>\n",
       "      <th></th>\n",
       "      <th></th>\n",
       "      <th></th>\n",
       "      <th></th>\n",
       "      <th></th>\n",
       "      <th></th>\n",
       "      <th></th>\n",
       "    </tr>\n",
       "  </thead>\n",
       "  <tbody>\n",
       "    <tr>\n",
       "      <th>2782-LFZVW</th>\n",
       "      <td>Month-to-month</td>\n",
       "      <td>Yes</td>\n",
       "      <td>Mailed check</td>\n",
       "      <td>58.95</td>\n",
       "      <td>601.60</td>\n",
       "      <td>DSL</td>\n",
       "      <td>No</td>\n",
       "      <td>No</td>\n",
       "      <td>No</td>\n",
       "      <td>No</td>\n",
       "    </tr>\n",
       "    <tr>\n",
       "      <th>0098-BOWSO</th>\n",
       "      <td>Month-to-month</td>\n",
       "      <td>Yes</td>\n",
       "      <td>Electronic check</td>\n",
       "      <td>19.40</td>\n",
       "      <td>529.80</td>\n",
       "      <td>0</td>\n",
       "      <td>0</td>\n",
       "      <td>0</td>\n",
       "      <td>0</td>\n",
       "      <td>0</td>\n",
       "    </tr>\n",
       "    <tr>\n",
       "      <th>1293-BSEUN</th>\n",
       "      <td>Two year</td>\n",
       "      <td>Yes</td>\n",
       "      <td>Mailed check</td>\n",
       "      <td>20.70</td>\n",
       "      <td>1482.30</td>\n",
       "      <td>0</td>\n",
       "      <td>0</td>\n",
       "      <td>0</td>\n",
       "      <td>0</td>\n",
       "      <td>0</td>\n",
       "    </tr>\n",
       "    <tr>\n",
       "      <th>4475-NVTLU</th>\n",
       "      <td>Two year</td>\n",
       "      <td>No</td>\n",
       "      <td>Electronic check</td>\n",
       "      <td>19.20</td>\n",
       "      <td>903.70</td>\n",
       "      <td>0</td>\n",
       "      <td>0</td>\n",
       "      <td>0</td>\n",
       "      <td>0</td>\n",
       "      <td>0</td>\n",
       "    </tr>\n",
       "    <tr>\n",
       "      <th>1763-WQFUK</th>\n",
       "      <td>Month-to-month</td>\n",
       "      <td>Yes</td>\n",
       "      <td>Mailed check</td>\n",
       "      <td>50.50</td>\n",
       "      <td>147.75</td>\n",
       "      <td>DSL</td>\n",
       "      <td>No</td>\n",
       "      <td>No</td>\n",
       "      <td>Yes</td>\n",
       "      <td>No</td>\n",
       "    </tr>\n",
       "    <tr>\n",
       "      <th>...</th>\n",
       "      <td>...</td>\n",
       "      <td>...</td>\n",
       "      <td>...</td>\n",
       "      <td>...</td>\n",
       "      <td>...</td>\n",
       "      <td>...</td>\n",
       "      <td>...</td>\n",
       "      <td>...</td>\n",
       "      <td>...</td>\n",
       "      <td>...</td>\n",
       "    </tr>\n",
       "    <tr>\n",
       "      <th>1106-HRLKZ</th>\n",
       "      <td>Two year</td>\n",
       "      <td>No</td>\n",
       "      <td>Mailed check</td>\n",
       "      <td>19.60</td>\n",
       "      <td>808.95</td>\n",
       "      <td>0</td>\n",
       "      <td>0</td>\n",
       "      <td>0</td>\n",
       "      <td>0</td>\n",
       "      <td>0</td>\n",
       "    </tr>\n",
       "    <tr>\n",
       "      <th>1513-XNPPH</th>\n",
       "      <td>Month-to-month</td>\n",
       "      <td>Yes</td>\n",
       "      <td>Electronic check</td>\n",
       "      <td>89.40</td>\n",
       "      <td>1095.65</td>\n",
       "      <td>Fiber optic</td>\n",
       "      <td>No</td>\n",
       "      <td>No</td>\n",
       "      <td>Yes</td>\n",
       "      <td>No</td>\n",
       "    </tr>\n",
       "    <tr>\n",
       "      <th>7145-FEJWU</th>\n",
       "      <td>Month-to-month</td>\n",
       "      <td>Yes</td>\n",
       "      <td>Electronic check</td>\n",
       "      <td>105.30</td>\n",
       "      <td>1275.65</td>\n",
       "      <td>Fiber optic</td>\n",
       "      <td>No</td>\n",
       "      <td>Yes</td>\n",
       "      <td>No</td>\n",
       "      <td>Yes</td>\n",
       "    </tr>\n",
       "    <tr>\n",
       "      <th>9450-TRJUU</th>\n",
       "      <td>Month-to-month</td>\n",
       "      <td>No</td>\n",
       "      <td>Electronic check</td>\n",
       "      <td>83.15</td>\n",
       "      <td>2848.45</td>\n",
       "      <td>Fiber optic</td>\n",
       "      <td>No</td>\n",
       "      <td>No</td>\n",
       "      <td>No</td>\n",
       "      <td>Yes</td>\n",
       "    </tr>\n",
       "    <tr>\n",
       "      <th>2311-QYMUQ</th>\n",
       "      <td>Month-to-month</td>\n",
       "      <td>Yes</td>\n",
       "      <td>Credit card (automatic)</td>\n",
       "      <td>89.45</td>\n",
       "      <td>1430.25</td>\n",
       "      <td>Fiber optic</td>\n",
       "      <td>No</td>\n",
       "      <td>Yes</td>\n",
       "      <td>No</td>\n",
       "      <td>Yes</td>\n",
       "    </tr>\n",
       "  </tbody>\n",
       "</table>\n",
       "<p>1761 rows × 10 columns</p>\n",
       "</div>"
      ],
      "text/plain": [
       "                      Type PaperlessBilling            PaymentMethod  \\\n",
       "customerID                                                             \n",
       "2782-LFZVW  Month-to-month              Yes             Mailed check   \n",
       "0098-BOWSO  Month-to-month              Yes         Electronic check   \n",
       "1293-BSEUN        Two year              Yes             Mailed check   \n",
       "4475-NVTLU        Two year               No         Electronic check   \n",
       "1763-WQFUK  Month-to-month              Yes             Mailed check   \n",
       "...                    ...              ...                      ...   \n",
       "1106-HRLKZ        Two year               No             Mailed check   \n",
       "1513-XNPPH  Month-to-month              Yes         Electronic check   \n",
       "7145-FEJWU  Month-to-month              Yes         Electronic check   \n",
       "9450-TRJUU  Month-to-month               No         Electronic check   \n",
       "2311-QYMUQ  Month-to-month              Yes  Credit card (automatic)   \n",
       "\n",
       "            MonthlyCharges  TotalCharges InternetService OnlineSecurity  \\\n",
       "customerID                                                                \n",
       "2782-LFZVW           58.95        601.60             DSL             No   \n",
       "0098-BOWSO           19.40        529.80               0              0   \n",
       "1293-BSEUN           20.70       1482.30               0              0   \n",
       "4475-NVTLU           19.20        903.70               0              0   \n",
       "1763-WQFUK           50.50        147.75             DSL             No   \n",
       "...                    ...           ...             ...            ...   \n",
       "1106-HRLKZ           19.60        808.95               0              0   \n",
       "1513-XNPPH           89.40       1095.65     Fiber optic             No   \n",
       "7145-FEJWU          105.30       1275.65     Fiber optic             No   \n",
       "9450-TRJUU           83.15       2848.45     Fiber optic             No   \n",
       "2311-QYMUQ           89.45       1430.25     Fiber optic             No   \n",
       "\n",
       "           OnlineBackup TechSupport StreamingTV  \n",
       "customerID                                       \n",
       "2782-LFZVW           No          No          No  \n",
       "0098-BOWSO            0           0           0  \n",
       "1293-BSEUN            0           0           0  \n",
       "4475-NVTLU            0           0           0  \n",
       "1763-WQFUK           No         Yes          No  \n",
       "...                 ...         ...         ...  \n",
       "1106-HRLKZ            0           0           0  \n",
       "1513-XNPPH           No         Yes          No  \n",
       "7145-FEJWU          Yes          No         Yes  \n",
       "9450-TRJUU           No          No         Yes  \n",
       "2311-QYMUQ          Yes          No         Yes  \n",
       "\n",
       "[1761 rows x 10 columns]"
      ]
     },
     "execution_count": 81,
     "metadata": {},
     "output_type": "execute_result"
    }
   ],
   "source": [
    "X_cb_test[cb_summary['selected_features_names']]"
   ]
  },
  {
   "cell_type": "code",
   "execution_count": 83,
   "metadata": {},
   "outputs": [
    {
     "data": {
      "text/plain": [
       "0.8455042048790496"
      ]
     },
     "execution_count": 83,
     "metadata": {},
     "output_type": "execute_result"
    }
   ],
   "source": [
    "cb_model = catboost.CatBoostClassifier(cat_features=['Type','PaperlessBilling','PaymentMethod','InternetService','OnlineSecurity','OnlineBackup','TechSupport','StreamingTV'], \n",
    "                                                        silent=True, random_state=0, \n",
    "                                                        auto_class_weights='SqrtBalanced')\n",
    "\n",
    "cb_model.fit(X_cb_train[cb_summary['selected_features_names']], y_cb_train)\n",
    "cb_preds = cb_model.predict_proba(X_cb_test[cb_summary['selected_features_names']])\n",
    "roc_auc_score(y_test, cb_preds[:,1])"
   ]
  },
  {
   "cell_type": "markdown",
   "metadata": {},
   "source": [
    "### Перобразование существующих и создание дополнительных признаков"
   ]
  },
  {
   "cell_type": "markdown",
   "metadata": {},
   "source": [
    "* Масштабирование числовых признаков\n",
    "* Логарифмирование числовых признаков с распределением отличным от нормального\n",
    "* Добавление столбцов для выбросов (полтора межквартильных интервала, три межквартильных интервала)\n",
    "* Добавление признаков кластеризацией и поиском аномалий\n",
    "* Определение наиболее важных признаков, перестроение моделей только на них, чтобы избавиться от возможного шума, снижение размерности (PCA)\n",
    "* После определения наиболее точной модели и лучшего датасета для нее можно попробовать создать дополнительные признаки как предсказания более слабых моделей (bagging?)"
   ]
  },
  {
   "cell_type": "code",
   "execution_count": 37,
   "metadata": {},
   "outputs": [],
   "source": [
    "# df['sum_features'] = df[df.columns[3:]].sum(axis=1) # LR хуже на 2 тысячные, LightGBM лучше на одну тысячную"
   ]
  },
  {
   "cell_type": "code",
   "execution_count": 59,
   "metadata": {},
   "outputs": [
    {
     "name": "stdout",
     "output_type": "stream",
     "text": [
      "Количество кластеров: 2\n",
      "LogisticRegression ROC_AUC: 0.838\n",
      "kNN ROC_AUC: 0.746\n",
      "RandomForest ROC_AUC: 0.816\n",
      "LightGBM ROC_AUC: 0.836\n",
      "Количество кластеров: 3\n",
      "LogisticRegression ROC_AUC: 0.834\n",
      "kNN ROC_AUC: 0.746\n",
      "RandomForest ROC_AUC: 0.816\n",
      "LightGBM ROC_AUC: 0.837\n",
      "Количество кластеров: 4\n",
      "LogisticRegression ROC_AUC: 0.838\n",
      "kNN ROC_AUC: 0.746\n",
      "RandomForest ROC_AUC: 0.816\n",
      "LightGBM ROC_AUC: 0.836\n",
      "Количество кластеров: 5\n",
      "LogisticRegression ROC_AUC: 0.836\n",
      "kNN ROC_AUC: 0.746\n",
      "RandomForest ROC_AUC: 0.818\n",
      "LightGBM ROC_AUC: 0.836\n",
      "Количество кластеров: 6\n",
      "LogisticRegression ROC_AUC: 0.837\n",
      "kNN ROC_AUC: 0.746\n",
      "RandomForest ROC_AUC: 0.817\n",
      "LightGBM ROC_AUC: 0.836\n",
      "Количество кластеров: 7\n",
      "LogisticRegression ROC_AUC: 0.837\n",
      "kNN ROC_AUC: 0.746\n",
      "RandomForest ROC_AUC: 0.817\n",
      "LightGBM ROC_AUC: 0.833\n",
      "Количество кластеров: 8\n",
      "LogisticRegression ROC_AUC: 0.834\n",
      "kNN ROC_AUC: 0.746\n",
      "RandomForest ROC_AUC: 0.819\n",
      "LightGBM ROC_AUC: 0.835\n",
      "Количество кластеров: 9\n",
      "LogisticRegression ROC_AUC: 0.835\n",
      "kNN ROC_AUC: 0.746\n",
      "RandomForest ROC_AUC: 0.818\n",
      "LightGBM ROC_AUC: 0.835\n"
     ]
    }
   ],
   "source": [
    "for i in range(2,10):\n",
    "    print('Количество кластеров:', i)\n",
    "    X_train['clusters'] = KMeans(n_clusters=i, random_state=0).fit_predict(X_train)\n",
    "    for model_name in models:\n",
    "        with warnings.catch_warnings():\n",
    "            warnings.simplefilter(\"ignore\")\n",
    "            cv_results = cross_validate(models[model_name], X_train, y_train, scoring='roc_auc', return_estimator=True)\n",
    "        print(f'{model_name} ROC_AUC: {cv_results[\"test_score\"].mean():.3f}')"
   ]
  },
  {
   "cell_type": "code",
   "execution_count": 39,
   "metadata": {},
   "outputs": [
    {
     "data": {
      "text/html": [
       "<div>\n",
       "<style scoped>\n",
       "    .dataframe tbody tr th:only-of-type {\n",
       "        vertical-align: middle;\n",
       "    }\n",
       "\n",
       "    .dataframe tbody tr th {\n",
       "        vertical-align: top;\n",
       "    }\n",
       "\n",
       "    .dataframe thead th {\n",
       "        text-align: right;\n",
       "    }\n",
       "</style>\n",
       "<table border=\"1\" class=\"dataframe\">\n",
       "  <thead>\n",
       "    <tr style=\"text-align: right;\">\n",
       "      <th></th>\n",
       "      <th>MonthlyCharges</th>\n",
       "      <th>TotalCharges</th>\n",
       "      <th>SeniorCitizen</th>\n",
       "      <th>Type_One year</th>\n",
       "      <th>Type_Two year</th>\n",
       "      <th>PaperlessBilling_Yes</th>\n",
       "      <th>PaymentMethod_Credit card (automatic)</th>\n",
       "      <th>PaymentMethod_Electronic check</th>\n",
       "      <th>PaymentMethod_Mailed check</th>\n",
       "      <th>gender_Male</th>\n",
       "      <th>...</th>\n",
       "      <th>DeviceProtection_Yes</th>\n",
       "      <th>TechSupport_No</th>\n",
       "      <th>TechSupport_Yes</th>\n",
       "      <th>StreamingTV_No</th>\n",
       "      <th>StreamingTV_Yes</th>\n",
       "      <th>StreamingMovies_No</th>\n",
       "      <th>StreamingMovies_Yes</th>\n",
       "      <th>MultipleLines_No</th>\n",
       "      <th>MultipleLines_Yes</th>\n",
       "      <th>clusters</th>\n",
       "    </tr>\n",
       "    <tr>\n",
       "      <th>customerID</th>\n",
       "      <th></th>\n",
       "      <th></th>\n",
       "      <th></th>\n",
       "      <th></th>\n",
       "      <th></th>\n",
       "      <th></th>\n",
       "      <th></th>\n",
       "      <th></th>\n",
       "      <th></th>\n",
       "      <th></th>\n",
       "      <th></th>\n",
       "      <th></th>\n",
       "      <th></th>\n",
       "      <th></th>\n",
       "      <th></th>\n",
       "      <th></th>\n",
       "      <th></th>\n",
       "      <th></th>\n",
       "      <th></th>\n",
       "      <th></th>\n",
       "      <th></th>\n",
       "    </tr>\n",
       "  </thead>\n",
       "  <tbody>\n",
       "    <tr>\n",
       "      <th>6885-PKOAM</th>\n",
       "      <td>0.710728</td>\n",
       "      <td>1.763542</td>\n",
       "      <td>-0.444934</td>\n",
       "      <td>-0.511935</td>\n",
       "      <td>1.791133</td>\n",
       "      <td>-1.204479</td>\n",
       "      <td>1.876591</td>\n",
       "      <td>-0.708044</td>\n",
       "      <td>-0.546525</td>\n",
       "      <td>-1.000663</td>\n",
       "      <td>...</td>\n",
       "      <td>1.393647</td>\n",
       "      <td>-0.996504</td>\n",
       "      <td>1.599630</td>\n",
       "      <td>-0.818417</td>\n",
       "      <td>1.282441</td>\n",
       "      <td>-0.804620</td>\n",
       "      <td>1.260522</td>\n",
       "      <td>-0.970430</td>\n",
       "      <td>1.177058</td>\n",
       "      <td>-1.222544</td>\n",
       "    </tr>\n",
       "    <tr>\n",
       "      <th>1064-FBXNK</th>\n",
       "      <td>-1.477173</td>\n",
       "      <td>-0.991223</td>\n",
       "      <td>-0.444934</td>\n",
       "      <td>1.953005</td>\n",
       "      <td>-0.558200</td>\n",
       "      <td>-1.204479</td>\n",
       "      <td>1.876591</td>\n",
       "      <td>-0.708044</td>\n",
       "      <td>-0.546525</td>\n",
       "      <td>0.999148</td>\n",
       "      <td>...</td>\n",
       "      <td>-0.717406</td>\n",
       "      <td>-0.996504</td>\n",
       "      <td>-0.625026</td>\n",
       "      <td>-0.818417</td>\n",
       "      <td>-0.779615</td>\n",
       "      <td>-0.804620</td>\n",
       "      <td>-0.793172</td>\n",
       "      <td>1.030276</td>\n",
       "      <td>-0.849415</td>\n",
       "      <td>0.716289</td>\n",
       "    </tr>\n",
       "    <tr>\n",
       "      <th>7284-BUYEC</th>\n",
       "      <td>-0.444643</td>\n",
       "      <td>-0.898176</td>\n",
       "      <td>-0.444934</td>\n",
       "      <td>-0.511935</td>\n",
       "      <td>-0.558200</td>\n",
       "      <td>0.830077</td>\n",
       "      <td>1.876591</td>\n",
       "      <td>-0.708044</td>\n",
       "      <td>-0.546525</td>\n",
       "      <td>-1.000663</td>\n",
       "      <td>...</td>\n",
       "      <td>-0.717406</td>\n",
       "      <td>1.003319</td>\n",
       "      <td>-0.625026</td>\n",
       "      <td>-0.818417</td>\n",
       "      <td>1.282441</td>\n",
       "      <td>-0.804620</td>\n",
       "      <td>1.260522</td>\n",
       "      <td>-0.970430</td>\n",
       "      <td>-0.849415</td>\n",
       "      <td>0.716289</td>\n",
       "    </tr>\n",
       "    <tr>\n",
       "      <th>9447-YPTBX</th>\n",
       "      <td>-1.477173</td>\n",
       "      <td>-0.581269</td>\n",
       "      <td>-0.444934</td>\n",
       "      <td>1.953005</td>\n",
       "      <td>-0.558200</td>\n",
       "      <td>0.830077</td>\n",
       "      <td>-0.532780</td>\n",
       "      <td>-0.708044</td>\n",
       "      <td>-0.546525</td>\n",
       "      <td>-1.000663</td>\n",
       "      <td>...</td>\n",
       "      <td>-0.717406</td>\n",
       "      <td>-0.996504</td>\n",
       "      <td>-0.625026</td>\n",
       "      <td>-0.818417</td>\n",
       "      <td>-0.779615</td>\n",
       "      <td>-0.804620</td>\n",
       "      <td>-0.793172</td>\n",
       "      <td>1.030276</td>\n",
       "      <td>-0.849415</td>\n",
       "      <td>-1.610310</td>\n",
       "    </tr>\n",
       "    <tr>\n",
       "      <th>2924-KHUVI</th>\n",
       "      <td>1.202092</td>\n",
       "      <td>1.448788</td>\n",
       "      <td>-0.444934</td>\n",
       "      <td>1.953005</td>\n",
       "      <td>-0.558200</td>\n",
       "      <td>0.830077</td>\n",
       "      <td>-0.532780</td>\n",
       "      <td>1.412074</td>\n",
       "      <td>-0.546525</td>\n",
       "      <td>0.999148</td>\n",
       "      <td>...</td>\n",
       "      <td>-0.717406</td>\n",
       "      <td>1.003319</td>\n",
       "      <td>-0.625026</td>\n",
       "      <td>-0.818417</td>\n",
       "      <td>1.282441</td>\n",
       "      <td>-0.804620</td>\n",
       "      <td>1.260522</td>\n",
       "      <td>-0.970430</td>\n",
       "      <td>1.177058</td>\n",
       "      <td>1.491822</td>\n",
       "    </tr>\n",
       "    <tr>\n",
       "      <th>...</th>\n",
       "      <td>...</td>\n",
       "      <td>...</td>\n",
       "      <td>...</td>\n",
       "      <td>...</td>\n",
       "      <td>...</td>\n",
       "      <td>...</td>\n",
       "      <td>...</td>\n",
       "      <td>...</td>\n",
       "      <td>...</td>\n",
       "      <td>...</td>\n",
       "      <td>...</td>\n",
       "      <td>...</td>\n",
       "      <td>...</td>\n",
       "      <td>...</td>\n",
       "      <td>...</td>\n",
       "      <td>...</td>\n",
       "      <td>...</td>\n",
       "      <td>...</td>\n",
       "      <td>...</td>\n",
       "      <td>...</td>\n",
       "      <td>...</td>\n",
       "    </tr>\n",
       "    <tr>\n",
       "      <th>6303-KFWSL</th>\n",
       "      <td>-0.301882</td>\n",
       "      <td>-0.280613</td>\n",
       "      <td>-0.444934</td>\n",
       "      <td>1.953005</td>\n",
       "      <td>-0.558200</td>\n",
       "      <td>0.830077</td>\n",
       "      <td>-0.532780</td>\n",
       "      <td>1.412074</td>\n",
       "      <td>-0.546525</td>\n",
       "      <td>-1.000663</td>\n",
       "      <td>...</td>\n",
       "      <td>-0.717406</td>\n",
       "      <td>1.003319</td>\n",
       "      <td>-0.625026</td>\n",
       "      <td>1.221639</td>\n",
       "      <td>-0.779615</td>\n",
       "      <td>1.242587</td>\n",
       "      <td>-0.793172</td>\n",
       "      <td>-0.970430</td>\n",
       "      <td>1.177058</td>\n",
       "      <td>0.328522</td>\n",
       "    </tr>\n",
       "    <tr>\n",
       "      <th>2911-UREFD</th>\n",
       "      <td>-0.280302</td>\n",
       "      <td>-0.030111</td>\n",
       "      <td>-0.444934</td>\n",
       "      <td>-0.511935</td>\n",
       "      <td>-0.558200</td>\n",
       "      <td>-1.204479</td>\n",
       "      <td>-0.532780</td>\n",
       "      <td>1.412074</td>\n",
       "      <td>-0.546525</td>\n",
       "      <td>-1.000663</td>\n",
       "      <td>...</td>\n",
       "      <td>1.393647</td>\n",
       "      <td>1.003319</td>\n",
       "      <td>-0.625026</td>\n",
       "      <td>-0.818417</td>\n",
       "      <td>1.282441</td>\n",
       "      <td>-0.804620</td>\n",
       "      <td>1.260522</td>\n",
       "      <td>-0.970430</td>\n",
       "      <td>-0.849415</td>\n",
       "      <td>-0.834777</td>\n",
       "    </tr>\n",
       "    <tr>\n",
       "      <th>0750-EBAIU</th>\n",
       "      <td>0.893329</td>\n",
       "      <td>1.103929</td>\n",
       "      <td>-0.444934</td>\n",
       "      <td>1.953005</td>\n",
       "      <td>-0.558200</td>\n",
       "      <td>-1.204479</td>\n",
       "      <td>-0.532780</td>\n",
       "      <td>1.412074</td>\n",
       "      <td>-0.546525</td>\n",
       "      <td>0.999148</td>\n",
       "      <td>...</td>\n",
       "      <td>1.393647</td>\n",
       "      <td>1.003319</td>\n",
       "      <td>-0.625026</td>\n",
       "      <td>-0.818417</td>\n",
       "      <td>1.282441</td>\n",
       "      <td>1.242587</td>\n",
       "      <td>-0.793172</td>\n",
       "      <td>1.030276</td>\n",
       "      <td>-0.849415</td>\n",
       "      <td>-0.447011</td>\n",
       "    </tr>\n",
       "    <tr>\n",
       "      <th>4686-UXDML</th>\n",
       "      <td>1.178852</td>\n",
       "      <td>-0.115277</td>\n",
       "      <td>-0.444934</td>\n",
       "      <td>-0.511935</td>\n",
       "      <td>-0.558200</td>\n",
       "      <td>0.830077</td>\n",
       "      <td>1.876591</td>\n",
       "      <td>-0.708044</td>\n",
       "      <td>-0.546525</td>\n",
       "      <td>-1.000663</td>\n",
       "      <td>...</td>\n",
       "      <td>-0.717406</td>\n",
       "      <td>1.003319</td>\n",
       "      <td>-0.625026</td>\n",
       "      <td>-0.818417</td>\n",
       "      <td>1.282441</td>\n",
       "      <td>-0.804620</td>\n",
       "      <td>1.260522</td>\n",
       "      <td>-0.970430</td>\n",
       "      <td>1.177058</td>\n",
       "      <td>0.328522</td>\n",
       "    </tr>\n",
       "    <tr>\n",
       "      <th>1794-SWWKL</th>\n",
       "      <td>-0.155800</td>\n",
       "      <td>-0.615015</td>\n",
       "      <td>-0.444934</td>\n",
       "      <td>-0.511935</td>\n",
       "      <td>-0.558200</td>\n",
       "      <td>0.830077</td>\n",
       "      <td>-0.532780</td>\n",
       "      <td>-0.708044</td>\n",
       "      <td>-0.546525</td>\n",
       "      <td>0.999148</td>\n",
       "      <td>...</td>\n",
       "      <td>1.393647</td>\n",
       "      <td>-0.996504</td>\n",
       "      <td>1.599630</td>\n",
       "      <td>1.221639</td>\n",
       "      <td>-0.779615</td>\n",
       "      <td>1.242587</td>\n",
       "      <td>-0.793172</td>\n",
       "      <td>-0.970430</td>\n",
       "      <td>1.177058</td>\n",
       "      <td>-1.610310</td>\n",
       "    </tr>\n",
       "  </tbody>\n",
       "</table>\n",
       "<p>5282 rows × 29 columns</p>\n",
       "</div>"
      ],
      "text/plain": [
       "            MonthlyCharges  TotalCharges  SeniorCitizen  Type_One year  \\\n",
       "customerID                                                               \n",
       "6885-PKOAM        0.710728      1.763542      -0.444934      -0.511935   \n",
       "1064-FBXNK       -1.477173     -0.991223      -0.444934       1.953005   \n",
       "7284-BUYEC       -0.444643     -0.898176      -0.444934      -0.511935   \n",
       "9447-YPTBX       -1.477173     -0.581269      -0.444934       1.953005   \n",
       "2924-KHUVI        1.202092      1.448788      -0.444934       1.953005   \n",
       "...                    ...           ...            ...            ...   \n",
       "6303-KFWSL       -0.301882     -0.280613      -0.444934       1.953005   \n",
       "2911-UREFD       -0.280302     -0.030111      -0.444934      -0.511935   \n",
       "0750-EBAIU        0.893329      1.103929      -0.444934       1.953005   \n",
       "4686-UXDML        1.178852     -0.115277      -0.444934      -0.511935   \n",
       "1794-SWWKL       -0.155800     -0.615015      -0.444934      -0.511935   \n",
       "\n",
       "            Type_Two year  PaperlessBilling_Yes  \\\n",
       "customerID                                        \n",
       "6885-PKOAM       1.791133             -1.204479   \n",
       "1064-FBXNK      -0.558200             -1.204479   \n",
       "7284-BUYEC      -0.558200              0.830077   \n",
       "9447-YPTBX      -0.558200              0.830077   \n",
       "2924-KHUVI      -0.558200              0.830077   \n",
       "...                   ...                   ...   \n",
       "6303-KFWSL      -0.558200              0.830077   \n",
       "2911-UREFD      -0.558200             -1.204479   \n",
       "0750-EBAIU      -0.558200             -1.204479   \n",
       "4686-UXDML      -0.558200              0.830077   \n",
       "1794-SWWKL      -0.558200              0.830077   \n",
       "\n",
       "            PaymentMethod_Credit card (automatic)  \\\n",
       "customerID                                          \n",
       "6885-PKOAM                               1.876591   \n",
       "1064-FBXNK                               1.876591   \n",
       "7284-BUYEC                               1.876591   \n",
       "9447-YPTBX                              -0.532780   \n",
       "2924-KHUVI                              -0.532780   \n",
       "...                                           ...   \n",
       "6303-KFWSL                              -0.532780   \n",
       "2911-UREFD                              -0.532780   \n",
       "0750-EBAIU                              -0.532780   \n",
       "4686-UXDML                               1.876591   \n",
       "1794-SWWKL                              -0.532780   \n",
       "\n",
       "            PaymentMethod_Electronic check  PaymentMethod_Mailed check  \\\n",
       "customerID                                                               \n",
       "6885-PKOAM                       -0.708044                   -0.546525   \n",
       "1064-FBXNK                       -0.708044                   -0.546525   \n",
       "7284-BUYEC                       -0.708044                   -0.546525   \n",
       "9447-YPTBX                       -0.708044                   -0.546525   \n",
       "2924-KHUVI                        1.412074                   -0.546525   \n",
       "...                                    ...                         ...   \n",
       "6303-KFWSL                        1.412074                   -0.546525   \n",
       "2911-UREFD                        1.412074                   -0.546525   \n",
       "0750-EBAIU                        1.412074                   -0.546525   \n",
       "4686-UXDML                       -0.708044                   -0.546525   \n",
       "1794-SWWKL                       -0.708044                   -0.546525   \n",
       "\n",
       "            gender_Male  ...  DeviceProtection_Yes  TechSupport_No  \\\n",
       "customerID               ...                                         \n",
       "6885-PKOAM    -1.000663  ...              1.393647       -0.996504   \n",
       "1064-FBXNK     0.999148  ...             -0.717406       -0.996504   \n",
       "7284-BUYEC    -1.000663  ...             -0.717406        1.003319   \n",
       "9447-YPTBX    -1.000663  ...             -0.717406       -0.996504   \n",
       "2924-KHUVI     0.999148  ...             -0.717406        1.003319   \n",
       "...                 ...  ...                   ...             ...   \n",
       "6303-KFWSL    -1.000663  ...             -0.717406        1.003319   \n",
       "2911-UREFD    -1.000663  ...              1.393647        1.003319   \n",
       "0750-EBAIU     0.999148  ...              1.393647        1.003319   \n",
       "4686-UXDML    -1.000663  ...             -0.717406        1.003319   \n",
       "1794-SWWKL     0.999148  ...              1.393647       -0.996504   \n",
       "\n",
       "            TechSupport_Yes  StreamingTV_No  StreamingTV_Yes  \\\n",
       "customerID                                                     \n",
       "6885-PKOAM         1.599630       -0.818417         1.282441   \n",
       "1064-FBXNK        -0.625026       -0.818417        -0.779615   \n",
       "7284-BUYEC        -0.625026       -0.818417         1.282441   \n",
       "9447-YPTBX        -0.625026       -0.818417        -0.779615   \n",
       "2924-KHUVI        -0.625026       -0.818417         1.282441   \n",
       "...                     ...             ...              ...   \n",
       "6303-KFWSL        -0.625026        1.221639        -0.779615   \n",
       "2911-UREFD        -0.625026       -0.818417         1.282441   \n",
       "0750-EBAIU        -0.625026       -0.818417         1.282441   \n",
       "4686-UXDML        -0.625026       -0.818417         1.282441   \n",
       "1794-SWWKL         1.599630        1.221639        -0.779615   \n",
       "\n",
       "            StreamingMovies_No  StreamingMovies_Yes  MultipleLines_No  \\\n",
       "customerID                                                              \n",
       "6885-PKOAM           -0.804620             1.260522         -0.970430   \n",
       "1064-FBXNK           -0.804620            -0.793172          1.030276   \n",
       "7284-BUYEC           -0.804620             1.260522         -0.970430   \n",
       "9447-YPTBX           -0.804620            -0.793172          1.030276   \n",
       "2924-KHUVI           -0.804620             1.260522         -0.970430   \n",
       "...                        ...                  ...               ...   \n",
       "6303-KFWSL            1.242587            -0.793172         -0.970430   \n",
       "2911-UREFD           -0.804620             1.260522         -0.970430   \n",
       "0750-EBAIU            1.242587            -0.793172          1.030276   \n",
       "4686-UXDML           -0.804620             1.260522         -0.970430   \n",
       "1794-SWWKL            1.242587            -0.793172         -0.970430   \n",
       "\n",
       "            MultipleLines_Yes  clusters  \n",
       "customerID                               \n",
       "6885-PKOAM           1.177058 -1.222544  \n",
       "1064-FBXNK          -0.849415  0.716289  \n",
       "7284-BUYEC          -0.849415  0.716289  \n",
       "9447-YPTBX          -0.849415 -1.610310  \n",
       "2924-KHUVI           1.177058  1.491822  \n",
       "...                       ...       ...  \n",
       "6303-KFWSL           1.177058  0.328522  \n",
       "2911-UREFD          -0.849415 -0.834777  \n",
       "0750-EBAIU          -0.849415 -0.447011  \n",
       "4686-UXDML           1.177058  0.328522  \n",
       "1794-SWWKL           1.177058 -1.610310  \n",
       "\n",
       "[5282 rows x 29 columns]"
      ]
     },
     "execution_count": 39,
     "metadata": {},
     "output_type": "execute_result"
    }
   ],
   "source": [
    "X_train_scaled = (X_train - X_train.mean(axis=0)) / X_train.std(axis=0)\n",
    "X_train_scaled"
   ]
  },
  {
   "cell_type": "code",
   "execution_count": 40,
   "metadata": {},
   "outputs": [
    {
     "data": {
      "text/plain": [
       "array([[ 3.16520288e+00,  4.22106080e+00,  1.70758018e+00, ...,\n",
       "         1.12984056e-15, -4.24126848e-15, -3.09900414e-15],\n",
       "       [-2.78998888e+00,  2.37923072e+00, -1.11553125e+00, ...,\n",
       "        -2.42595516e-15, -5.11749502e-15,  1.53582620e-16],\n",
       "       [ 3.44526044e-01, -5.39140101e-01,  1.14861000e-01, ...,\n",
       "        -3.73667864e-17,  2.35357454e-15,  6.59916592e-16],\n",
       "       ...,\n",
       "       [ 9.39316350e-01, -6.20356497e-01, -1.96651295e-01, ...,\n",
       "        -2.10547831e-16, -1.28078947e-16, -2.47270011e-16],\n",
       "       [ 2.47153122e+00, -1.08753954e+00, -1.33736980e+00, ...,\n",
       "         6.76697440e-17, -9.27330226e-18, -3.27687764e-17],\n",
       "       [-9.68643578e-02,  6.46456378e-02,  2.12984857e+00, ...,\n",
       "        -5.86616069e-16, -1.26475591e-16, -1.47903049e-16]])"
      ]
     },
     "execution_count": 40,
     "metadata": {},
     "output_type": "execute_result"
    }
   ],
   "source": [
    "pca = PCA()\n",
    "X_pca = pca.fit_transform(X_train_scaled)\n",
    "X_pca"
   ]
  },
  {
   "cell_type": "code",
   "execution_count": 41,
   "metadata": {},
   "outputs": [
    {
     "data": {
      "text/plain": [
       "(5282, 29)"
      ]
     },
     "execution_count": 41,
     "metadata": {},
     "output_type": "execute_result"
    }
   ],
   "source": [
    "X_pca.shape"
   ]
  },
  {
   "cell_type": "code",
   "execution_count": 42,
   "metadata": {},
   "outputs": [
    {
     "data": {
      "text/plain": [
       "(5282, 58)"
      ]
     },
     "execution_count": 42,
     "metadata": {},
     "output_type": "execute_result"
    }
   ],
   "source": [
    "X_train_scaled_pca = pd.concat([X_train_scaled, pd.DataFrame(X_pca, index=X_train_scaled.index)],\n",
    "                ignore_index=True, axis=1\n",
    ")\n",
    "X_train_scaled_pca.shape"
   ]
  },
  {
   "cell_type": "code",
   "execution_count": 86,
   "metadata": {},
   "outputs": [
    {
     "name": "stdout",
     "output_type": "stream",
     "text": [
      "LogisticRegression ROC_AUC: 0.839\n",
      "kNN ROC_AUC: 0.773\n",
      "RandomForest ROC_AUC: 0.817\n",
      "LightGBM ROC_AUC: 0.831\n"
     ]
    }
   ],
   "source": [
    "for model_name in models:\n",
    "    with warnings.catch_warnings():\n",
    "        warnings.simplefilter(\"ignore\")\n",
    "        cv_results = cross_validate(models[model_name], X_train_scaled_pca, y_train, scoring='roc_auc')\n",
    "    print(f'{model_name} ROC_AUC: {cv_results[\"test_score\"].mean():.3f}')"
   ]
  },
  {
   "cell_type": "markdown",
   "metadata": {},
   "source": [
    "### Тонкая настройка самой точной модели"
   ]
  },
  {
   "cell_type": "markdown",
   "metadata": {},
   "source": [
    "Подбор гиперпараметров самой точной модели с помощью optuna"
   ]
  },
  {
   "cell_type": "code",
   "execution_count": 99,
   "metadata": {},
   "outputs": [
    {
     "name": "stderr",
     "output_type": "stream",
     "text": [
      "\u001b[32m[I 2022-07-18 16:30:55,216]\u001b[0m A new study created in memory with name: no-name-c58ae241-8551-4106-a582-53158d4f0cca\u001b[0m\n",
      "\u001b[32m[I 2022-07-18 16:30:59,210]\u001b[0m Trial 0 finished with value: 0.8378705539320004 and parameters: {'colsample_bylevel': 0.024671546767322618, 'depth': 11, 'boosting_type': 'Ordered', 'bootstrap_type': 'MVS'}. Best is trial 0 with value: 0.8378705539320004.\u001b[0m\n",
      "\u001b[32m[I 2022-07-18 16:31:02,954]\u001b[0m Trial 1 finished with value: 0.8449275026559744 and parameters: {'colsample_bylevel': 0.06687342561529776, 'depth': 5, 'boosting_type': 'Ordered', 'bootstrap_type': 'Bernoulli', 'subsample': 0.8509577147520194}. Best is trial 1 with value: 0.8449275026559744.\u001b[0m\n",
      "\u001b[32m[I 2022-07-18 16:31:05,984]\u001b[0m Trial 2 finished with value: 0.8289709712757614 and parameters: {'colsample_bylevel': 0.018465688815733534, 'depth': 1, 'boosting_type': 'Ordered', 'bootstrap_type': 'MVS'}. Best is trial 1 with value: 0.8449275026559744.\u001b[0m\n",
      "\u001b[32m[I 2022-07-18 16:31:09,632]\u001b[0m Trial 3 finished with value: 0.8400813836881803 and parameters: {'colsample_bylevel': 0.055868582720570686, 'depth': 9, 'boosting_type': 'Ordered', 'bootstrap_type': 'MVS'}. Best is trial 1 with value: 0.8449275026559744.\u001b[0m\n",
      "\u001b[32m[I 2022-07-18 16:31:12,420]\u001b[0m Trial 4 finished with value: 0.8361015591645181 and parameters: {'colsample_bylevel': 0.024349694309076644, 'depth': 9, 'boosting_type': 'Ordered', 'bootstrap_type': 'Bernoulli', 'subsample': 0.9589144174273074}. Best is trial 1 with value: 0.8449275026559744.\u001b[0m\n",
      "\u001b[32m[I 2022-07-18 16:31:16,066]\u001b[0m Trial 5 finished with value: 0.8436764642610103 and parameters: {'colsample_bylevel': 0.08360585198076895, 'depth': 2, 'boosting_type': 'Ordered', 'bootstrap_type': 'Bernoulli', 'subsample': 0.48017711867256796}. Best is trial 1 with value: 0.8449275026559744.\u001b[0m\n",
      "\u001b[32m[I 2022-07-18 16:31:18,367]\u001b[0m Trial 6 finished with value: 0.8331766777318476 and parameters: {'colsample_bylevel': 0.012430945851492712, 'depth': 10, 'boosting_type': 'Plain', 'bootstrap_type': 'Bernoulli', 'subsample': 0.41940330425758876}. Best is trial 1 with value: 0.8449275026559744.\u001b[0m\n",
      "\u001b[32m[I 2022-07-18 16:31:22,788]\u001b[0m Trial 7 finished with value: 0.8437029412640784 and parameters: {'colsample_bylevel': 0.0446181265560798, 'depth': 10, 'boosting_type': 'Ordered', 'bootstrap_type': 'Bernoulli', 'subsample': 0.9350975269504617}. Best is trial 1 with value: 0.8449275026559744.\u001b[0m\n",
      "\u001b[32m[I 2022-07-18 16:31:30,957]\u001b[0m Trial 8 finished with value: 0.8446743163141364 and parameters: {'colsample_bylevel': 0.07927663542945022, 'depth': 10, 'boosting_type': 'Ordered', 'bootstrap_type': 'MVS'}. Best is trial 1 with value: 0.8449275026559744.\u001b[0m\n",
      "\u001b[32m[I 2022-07-18 16:31:33,333]\u001b[0m Trial 9 finished with value: 0.8335183965526941 and parameters: {'colsample_bylevel': 0.034349539574422876, 'depth': 1, 'boosting_type': 'Plain', 'bootstrap_type': 'Bernoulli', 'subsample': 0.905587287913564}. Best is trial 1 with value: 0.8449275026559744.\u001b[0m\n",
      "\u001b[32m[I 2022-07-18 16:31:35,799]\u001b[0m Trial 10 finished with value: 0.8376322609043882 and parameters: {'colsample_bylevel': 0.06413465135636971, 'depth': 5, 'boosting_type': 'Plain', 'bootstrap_type': 'Bayesian', 'bagging_temperature': 5.310880501410258}. Best is trial 1 with value: 0.8449275026559744.\u001b[0m\n",
      "\u001b[32m[I 2022-07-18 16:31:39,689]\u001b[0m Trial 11 finished with value: 0.8431030716633184 and parameters: {'colsample_bylevel': 0.0974843268738594, 'depth': 6, 'boosting_type': 'Ordered', 'bootstrap_type': 'Bayesian', 'bagging_temperature': 0.521980911380072}. Best is trial 1 with value: 0.8449275026559744.\u001b[0m\n",
      "\u001b[32m[I 2022-07-18 16:31:44,275]\u001b[0m Trial 12 finished with value: 0.8447876709835214 and parameters: {'colsample_bylevel': 0.07554466800414143, 'depth': 4, 'boosting_type': 'Ordered', 'bootstrap_type': 'MVS'}. Best is trial 1 with value: 0.8449275026559744.\u001b[0m\n",
      "\u001b[32m[I 2022-07-18 16:31:48,387]\u001b[0m Trial 13 finished with value: 0.8446147430572334 and parameters: {'colsample_bylevel': 0.07002474087746213, 'depth': 4, 'boosting_type': 'Ordered', 'bootstrap_type': 'MVS'}. Best is trial 1 with value: 0.8449275026559744.\u001b[0m\n",
      "\u001b[32m[I 2022-07-18 16:31:51,478]\u001b[0m Trial 14 finished with value: 0.8423104163839695 and parameters: {'colsample_bylevel': 0.09535997859443653, 'depth': 3, 'boosting_type': 'Ordered', 'bootstrap_type': 'Bayesian', 'bagging_temperature': 9.598860565531025}. Best is trial 1 with value: 0.8449275026559744.\u001b[0m\n",
      "\u001b[32m[I 2022-07-18 16:31:53,314]\u001b[0m Trial 15 finished with value: 0.8380641670169353 and parameters: {'colsample_bylevel': 0.0742357460595048, 'depth': 7, 'boosting_type': 'Plain', 'bootstrap_type': 'Bernoulli', 'subsample': 0.12883040560270292}. Best is trial 1 with value: 0.8449275026559744.\u001b[0m\n",
      "\u001b[32m[I 2022-07-18 16:31:56,306]\u001b[0m Trial 16 finished with value: 0.8415773343615236 and parameters: {'colsample_bylevel': 0.05165928051238135, 'depth': 7, 'boosting_type': 'Ordered', 'bootstrap_type': 'MVS'}. Best is trial 1 with value: 0.8449275026559744.\u001b[0m\n",
      "\u001b[32m[I 2022-07-18 16:32:01,108]\u001b[0m Trial 17 finished with value: 0.8471681190406057 and parameters: {'colsample_bylevel': 0.08676937396171057, 'depth': 4, 'boosting_type': 'Ordered', 'bootstrap_type': 'MVS'}. Best is trial 17 with value: 0.8471681190406057.\u001b[0m\n",
      "\u001b[32m[I 2022-07-18 16:32:02,405]\u001b[0m Trial 18 finished with value: 0.8373774197498586 and parameters: {'colsample_bylevel': 0.08623673976820975, 'depth': 6, 'boosting_type': 'Plain', 'bootstrap_type': 'Bernoulli', 'subsample': 0.7083576146451329}. Best is trial 17 with value: 0.8471681190406057.\u001b[0m\n",
      "\u001b[32m[I 2022-07-18 16:32:06,107]\u001b[0m Trial 19 finished with value: 0.8433024765926747 and parameters: {'colsample_bylevel': 0.06150232158263445, 'depth': 3, 'boosting_type': 'Ordered', 'bootstrap_type': 'Bayesian', 'bagging_temperature': 0.29305029539472116}. Best is trial 17 with value: 0.8471681190406057.\u001b[0m\n",
      "\u001b[32m[I 2022-07-18 16:32:10,006]\u001b[0m Trial 20 finished with value: 0.8424858265292952 and parameters: {'colsample_bylevel': 0.04560763420895081, 'depth': 5, 'boosting_type': 'Ordered', 'bootstrap_type': 'MVS'}. Best is trial 17 with value: 0.8471681190406057.\u001b[0m\n",
      "\u001b[32m[I 2022-07-18 16:32:13,372]\u001b[0m Trial 21 finished with value: 0.8446552859681811 and parameters: {'colsample_bylevel': 0.08747183717014828, 'depth': 4, 'boosting_type': 'Ordered', 'bootstrap_type': 'MVS'}. Best is trial 17 with value: 0.8471681190406057.\u001b[0m\n",
      "\u001b[32m[I 2022-07-18 16:32:15,277]\u001b[0m Trial 22 finished with value: 0.8409195463165523 and parameters: {'colsample_bylevel': 0.07209120494737076, 'depth': 4, 'boosting_type': 'Ordered', 'bootstrap_type': 'MVS'}. Best is trial 17 with value: 0.8471681190406057.\u001b[0m\n",
      "\u001b[32m[I 2022-07-18 16:32:19,713]\u001b[0m Trial 23 finished with value: 0.8423782637043312 and parameters: {'colsample_bylevel': 0.09174102514939318, 'depth': 5, 'boosting_type': 'Ordered', 'bootstrap_type': 'MVS'}. Best is trial 17 with value: 0.8471681190406057.\u001b[0m\n",
      "\u001b[32m[I 2022-07-18 16:32:23,705]\u001b[0m Trial 24 finished with value: 0.8449473604082754 and parameters: {'colsample_bylevel': 0.07725314401236559, 'depth': 3, 'boosting_type': 'Ordered', 'bootstrap_type': 'MVS'}. Best is trial 17 with value: 0.8471681190406057.\u001b[0m\n",
      "\u001b[32m[I 2022-07-18 16:32:27,123]\u001b[0m Trial 25 finished with value: 0.8435432518393243 and parameters: {'colsample_bylevel': 0.0814844513841312, 'depth': 2, 'boosting_type': 'Ordered', 'bootstrap_type': 'Bernoulli', 'subsample': 0.699600388445171}. Best is trial 17 with value: 0.8471681190406057.\u001b[0m\n",
      "\u001b[32m[I 2022-07-18 16:32:30,545]\u001b[0m Trial 26 finished with value: 0.8438005752128916 and parameters: {'colsample_bylevel': 0.06422751247458497, 'depth': 3, 'boosting_type': 'Plain', 'bootstrap_type': 'MVS'}. Best is trial 17 with value: 0.8471681190406057.\u001b[0m\n",
      "\u001b[32m[I 2022-07-18 16:32:34,583]\u001b[0m Trial 27 finished with value: 0.8452518459435576 and parameters: {'colsample_bylevel': 0.09977029523806238, 'depth': 8, 'boosting_type': 'Ordered', 'bootstrap_type': 'Bernoulli', 'subsample': 0.7135290647814646}. Best is trial 17 with value: 0.8471681190406057.\u001b[0m\n",
      "\u001b[32m[I 2022-07-18 16:32:37,928]\u001b[0m Trial 28 finished with value: 0.8404661276390125 and parameters: {'colsample_bylevel': 0.0992742954350717, 'depth': 8, 'boosting_type': 'Ordered', 'bootstrap_type': 'Bayesian', 'bagging_temperature': 9.942261035385384}. Best is trial 17 with value: 0.8471681190406057.\u001b[0m\n",
      "\u001b[32m[I 2022-07-18 16:32:40,443]\u001b[0m Trial 29 finished with value: 0.8438750417840204 and parameters: {'colsample_bylevel': 0.09045339945468522, 'depth': 8, 'boosting_type': 'Ordered', 'bootstrap_type': 'MVS'}. Best is trial 17 with value: 0.8471681190406057.\u001b[0m\n",
      "\u001b[32m[I 2022-07-18 16:32:54,227]\u001b[0m Trial 30 finished with value: 0.8475900962770023 and parameters: {'colsample_bylevel': 0.09244160551911602, 'depth': 11, 'boosting_type': 'Ordered', 'bootstrap_type': 'MVS'}. Best is trial 30 with value: 0.8475900962770023.\u001b[0m\n",
      "\u001b[32m[I 2022-07-18 16:33:07,295]\u001b[0m Trial 31 finished with value: 0.8408012272090921 and parameters: {'colsample_bylevel': 0.09069384864063423, 'depth': 12, 'boosting_type': 'Ordered', 'bootstrap_type': 'MVS'}. Best is trial 30 with value: 0.8475900962770023.\u001b[0m\n",
      "\u001b[32m[I 2022-07-18 16:33:16,918]\u001b[0m Trial 32 finished with value: 0.8427671446868928 and parameters: {'colsample_bylevel': 0.09485184721223804, 'depth': 12, 'boosting_type': 'Ordered', 'bootstrap_type': 'MVS'}. Best is trial 30 with value: 0.8475900962770023.\u001b[0m\n",
      "\u001b[32m[I 2022-07-18 16:33:22,755]\u001b[0m Trial 33 finished with value: 0.8471308857550414 and parameters: {'colsample_bylevel': 0.07865502546476341, 'depth': 8, 'boosting_type': 'Ordered', 'bootstrap_type': 'MVS'}. Best is trial 30 with value: 0.8475900962770023.\u001b[0m\n",
      "\u001b[32m[I 2022-07-18 16:33:33,583]\u001b[0m Trial 34 finished with value: 0.8470928250631311 and parameters: {'colsample_bylevel': 0.0986695892178052, 'depth': 11, 'boosting_type': 'Ordered', 'bootstrap_type': 'MVS'}. Best is trial 30 with value: 0.8475900962770023.\u001b[0m\n",
      "\u001b[32m[I 2022-07-18 16:33:47,235]\u001b[0m Trial 35 finished with value: 0.8470911702504393 and parameters: {'colsample_bylevel': 0.08420198475234703, 'depth': 11, 'boosting_type': 'Ordered', 'bootstrap_type': 'MVS'}. Best is trial 30 with value: 0.8475900962770023.\u001b[0m\n",
      "\u001b[32m[I 2022-07-18 16:34:05,115]\u001b[0m Trial 36 finished with value: 0.841662557215149 and parameters: {'colsample_bylevel': 0.09193885839553446, 'depth': 11, 'boosting_type': 'Ordered', 'bootstrap_type': 'MVS'}. Best is trial 30 with value: 0.8475900962770023.\u001b[0m\n",
      "\u001b[32m[I 2022-07-18 16:34:08,583]\u001b[0m Trial 37 finished with value: 0.8407573746727607 and parameters: {'colsample_bylevel': 0.08257828783659607, 'depth': 9, 'boosting_type': 'Ordered', 'bootstrap_type': 'MVS'}. Best is trial 30 with value: 0.8475900962770023.\u001b[0m\n",
      "\u001b[32m[I 2022-07-18 16:34:17,865]\u001b[0m Trial 38 finished with value: 0.8441000963100985 and parameters: {'colsample_bylevel': 0.08648605812400334, 'depth': 12, 'boosting_type': 'Ordered', 'bootstrap_type': 'MVS'}. Best is trial 30 with value: 0.8475900962770023.\u001b[0m\n",
      "\u001b[32m[I 2022-07-18 16:34:20,807]\u001b[0m Trial 39 finished with value: 0.8393383727895839 and parameters: {'colsample_bylevel': 0.06928145531332722, 'depth': 9, 'boosting_type': 'Plain', 'bootstrap_type': 'MVS'}. Best is trial 30 with value: 0.8475900962770023.\u001b[0m\n",
      "\u001b[32m[I 2022-07-18 16:34:25,755]\u001b[0m Trial 40 finished with value: 0.8420787426071242 and parameters: {'colsample_bylevel': 0.07881580688687263, 'depth': 10, 'boosting_type': 'Ordered', 'bootstrap_type': 'MVS'}. Best is trial 30 with value: 0.8475900962770023.\u001b[0m\n",
      "\u001b[32m[I 2022-07-18 16:34:38,583]\u001b[0m Trial 41 finished with value: 0.8435432518393242 and parameters: {'colsample_bylevel': 0.08374643024932582, 'depth': 11, 'boosting_type': 'Ordered', 'bootstrap_type': 'MVS'}. Best is trial 30 with value: 0.8475900962770023.\u001b[0m\n",
      "\u001b[32m[I 2022-07-18 16:34:49,984]\u001b[0m Trial 42 finished with value: 0.8454462864348384 and parameters: {'colsample_bylevel': 0.09459466007404783, 'depth': 11, 'boosting_type': 'Ordered', 'bootstrap_type': 'MVS'}. Best is trial 30 with value: 0.8475900962770023.\u001b[0m\n",
      "\u001b[32m[I 2022-07-18 16:34:56,529]\u001b[0m Trial 43 finished with value: 0.8456010114215172 and parameters: {'colsample_bylevel': 0.08898652199067715, 'depth': 10, 'boosting_type': 'Ordered', 'bootstrap_type': 'MVS'}. Best is trial 30 with value: 0.8475900962770023.\u001b[0m\n",
      "\u001b[32m[I 2022-07-18 16:35:05,519]\u001b[0m Trial 44 finished with value: 0.8455579862915317 and parameters: {'colsample_bylevel': 0.08393411724344896, 'depth': 11, 'boosting_type': 'Ordered', 'bootstrap_type': 'MVS'}. Best is trial 30 with value: 0.8475900962770023.\u001b[0m\n",
      "\u001b[32m[I 2022-07-18 16:35:11,839]\u001b[0m Trial 45 finished with value: 0.8440893400276024 and parameters: {'colsample_bylevel': 0.09530522853439391, 'depth': 10, 'boosting_type': 'Ordered', 'bootstrap_type': 'MVS'}. Best is trial 30 with value: 0.8475900962770023.\u001b[0m\n",
      "\u001b[32m[I 2022-07-18 16:35:15,127]\u001b[0m Trial 46 finished with value: 0.8413125643308432 and parameters: {'colsample_bylevel': 0.05667233287433311, 'depth': 11, 'boosting_type': 'Ordered', 'bootstrap_type': 'MVS'}. Best is trial 30 with value: 0.8475900962770023.\u001b[0m\n",
      "\u001b[32m[I 2022-07-18 16:35:32,536]\u001b[0m Trial 47 finished with value: 0.8452791503529716 and parameters: {'colsample_bylevel': 0.08027683231062158, 'depth': 12, 'boosting_type': 'Ordered', 'bootstrap_type': 'MVS'}. Best is trial 30 with value: 0.8475900962770023.\u001b[0m\n",
      "\u001b[32m[I 2022-07-18 16:35:34,869]\u001b[0m Trial 48 finished with value: 0.8318586194228674 and parameters: {'colsample_bylevel': 0.0761144448871568, 'depth': 9, 'boosting_type': 'Plain', 'bootstrap_type': 'Bayesian', 'bagging_temperature': 4.671301520982826}. Best is trial 30 with value: 0.8475900962770023.\u001b[0m\n",
      "\u001b[32m[I 2022-07-18 16:35:40,148]\u001b[0m Trial 49 finished with value: 0.8438535292190277 and parameters: {'colsample_bylevel': 0.08585777744759801, 'depth': 10, 'boosting_type': 'Ordered', 'bootstrap_type': 'MVS'}. Best is trial 30 with value: 0.8475900962770023.\u001b[0m\n",
      "\u001b[32m[I 2022-07-18 16:35:42,954]\u001b[0m Trial 50 finished with value: 0.8388791622676228 and parameters: {'colsample_bylevel': 0.033501617238293334, 'depth': 7, 'boosting_type': 'Ordered', 'bootstrap_type': 'MVS'}. Best is trial 30 with value: 0.8475900962770023.\u001b[0m\n",
      "\u001b[32m[I 2022-07-18 16:35:51,044]\u001b[0m Trial 51 finished with value: 0.8459410754296722 and parameters: {'colsample_bylevel': 0.08928603157743631, 'depth': 10, 'boosting_type': 'Ordered', 'bootstrap_type': 'MVS'}. Best is trial 30 with value: 0.8475900962770023.\u001b[0m\n",
      "\u001b[32m[I 2022-07-18 16:35:57,581]\u001b[0m Trial 52 finished with value: 0.8446825903775952 and parameters: {'colsample_bylevel': 0.09339180586039575, 'depth': 10, 'boosting_type': 'Ordered', 'bootstrap_type': 'MVS'}. Best is trial 30 with value: 0.8475900962770023.\u001b[0m\n",
      "\u001b[32m[I 2022-07-18 16:36:06,426]\u001b[0m Trial 53 finished with value: 0.8434969170839552 and parameters: {'colsample_bylevel': 0.09693007480492417, 'depth': 11, 'boosting_type': 'Ordered', 'bootstrap_type': 'MVS'}. Best is trial 30 with value: 0.8475900962770023.\u001b[0m\n",
      "\u001b[32m[I 2022-07-18 16:36:23,954]\u001b[0m Trial 54 finished with value: 0.8460651863815534 and parameters: {'colsample_bylevel': 0.08886228735699044, 'depth': 12, 'boosting_type': 'Ordered', 'bootstrap_type': 'MVS'}. Best is trial 30 with value: 0.8475900962770023.\u001b[0m\n",
      "\u001b[32m[I 2022-07-18 16:36:38,226]\u001b[0m Trial 55 finished with value: 0.8422847667872473 and parameters: {'colsample_bylevel': 0.07399851834559894, 'depth': 12, 'boosting_type': 'Ordered', 'bootstrap_type': 'MVS'}. Best is trial 30 with value: 0.8475900962770023.\u001b[0m\n",
      "\u001b[32m[I 2022-07-18 16:36:41,869]\u001b[0m Trial 56 finished with value: 0.8300267417730989 and parameters: {'colsample_bylevel': 0.08644302351891618, 'depth': 12, 'boosting_type': 'Plain', 'bootstrap_type': 'Bayesian', 'bagging_temperature': 5.73646849277718}. Best is trial 30 with value: 0.8475900962770023.\u001b[0m\n",
      "\u001b[32m[I 2022-07-18 16:36:45,047]\u001b[0m Trial 57 finished with value: 0.8450317558555548 and parameters: {'colsample_bylevel': 0.09896649781218513, 'depth': 6, 'boosting_type': 'Ordered', 'bootstrap_type': 'MVS'}. Best is trial 30 with value: 0.8475900962770023.\u001b[0m\n",
      "\u001b[32m[I 2022-07-18 16:36:48,432]\u001b[0m Trial 58 finished with value: 0.8414325382509954 and parameters: {'colsample_bylevel': 0.07942975804322934, 'depth': 1, 'boosting_type': 'Ordered', 'bootstrap_type': 'MVS'}. Best is trial 30 with value: 0.8475900962770023.\u001b[0m\n",
      "\u001b[32m[I 2022-07-18 16:36:56,446]\u001b[0m Trial 59 finished with value: 0.8384389820916169 and parameters: {'colsample_bylevel': 0.06850301051011362, 'depth': 11, 'boosting_type': 'Ordered', 'bootstrap_type': 'Bernoulli', 'subsample': 0.11859306327359054}. Best is trial 30 with value: 0.8475900962770023.\u001b[0m\n",
      "\u001b[32m[I 2022-07-18 16:36:59,580]\u001b[0m Trial 60 finished with value: 0.8321697242089168 and parameters: {'colsample_bylevel': 0.019067797005850616, 'depth': 2, 'boosting_type': 'Ordered', 'bootstrap_type': 'MVS'}. Best is trial 30 with value: 0.8475900962770023.\u001b[0m\n",
      "\u001b[32m[I 2022-07-18 16:37:04,365]\u001b[0m Trial 61 finished with value: 0.8448836501196431 and parameters: {'colsample_bylevel': 0.08902489063263863, 'depth': 9, 'boosting_type': 'Ordered', 'bootstrap_type': 'MVS'}. Best is trial 30 with value: 0.8475900962770023.\u001b[0m\n",
      "\u001b[32m[I 2022-07-18 16:37:18,407]\u001b[0m Trial 62 finished with value: 0.842739012871133 and parameters: {'colsample_bylevel': 0.09113717054017469, 'depth': 12, 'boosting_type': 'Ordered', 'bootstrap_type': 'MVS'}. Best is trial 30 with value: 0.8475900962770023.\u001b[0m\n",
      "\u001b[32m[I 2022-07-18 16:37:23,271]\u001b[0m Trial 63 finished with value: 0.8412703666072037 and parameters: {'colsample_bylevel': 0.08306857178186586, 'depth': 10, 'boosting_type': 'Ordered', 'bootstrap_type': 'MVS'}. Best is trial 30 with value: 0.8475900962770023.\u001b[0m\n",
      "\u001b[32m[I 2022-07-18 16:37:31,443]\u001b[0m Trial 64 finished with value: 0.8439230313520814 and parameters: {'colsample_bylevel': 0.0961652259800704, 'depth': 11, 'boosting_type': 'Ordered', 'bootstrap_type': 'MVS'}. Best is trial 30 with value: 0.8475900962770023.\u001b[0m\n",
      "\u001b[32m[I 2022-07-18 16:37:34,677]\u001b[0m Trial 65 finished with value: 0.8445932304922406 and parameters: {'colsample_bylevel': 0.08904980124984553, 'depth': 8, 'boosting_type': 'Ordered', 'bootstrap_type': 'MVS'}. Best is trial 30 with value: 0.8475900962770023.\u001b[0m\n",
      "\u001b[32m[I 2022-07-18 16:37:55,602]\u001b[0m Trial 66 finished with value: 0.8384654590946851 and parameters: {'colsample_bylevel': 0.09361774981977851, 'depth': 11, 'boosting_type': 'Ordered', 'bootstrap_type': 'MVS'}. Best is trial 30 with value: 0.8475900962770023.\u001b[0m\n",
      "\u001b[32m[I 2022-07-18 16:37:58,604]\u001b[0m Trial 67 finished with value: 0.8306274387802044 and parameters: {'colsample_bylevel': 0.07307204019212431, 'depth': 12, 'boosting_type': 'Plain', 'bootstrap_type': 'Bayesian', 'bagging_temperature': 3.052464087315433}. Best is trial 30 with value: 0.8475900962770023.\u001b[0m\n",
      "\u001b[32m[I 2022-07-18 16:38:01,358]\u001b[0m Trial 68 finished with value: 0.8409526425703875 and parameters: {'colsample_bylevel': 0.09994123887612676, 'depth': 9, 'boosting_type': 'Ordered', 'bootstrap_type': 'Bernoulli', 'subsample': 0.3254519802506896}. Best is trial 30 with value: 0.8475900962770023.\u001b[0m\n",
      "\u001b[32m[I 2022-07-18 16:38:05,434]\u001b[0m Trial 69 finished with value: 0.8442928819886877 and parameters: {'colsample_bylevel': 0.07699850361197111, 'depth': 6, 'boosting_type': 'Ordered', 'bootstrap_type': 'MVS'}. Best is trial 30 with value: 0.8475900962770023.\u001b[0m\n",
      "\u001b[32m[I 2022-07-18 16:38:09,512]\u001b[0m Trial 70 finished with value: 0.8444203025659525 and parameters: {'colsample_bylevel': 0.08467799997590261, 'depth': 10, 'boosting_type': 'Ordered', 'bootstrap_type': 'MVS'}. Best is trial 30 with value: 0.8475900962770023.\u001b[0m\n",
      "\u001b[32m[I 2022-07-18 16:38:29,041]\u001b[0m Trial 71 finished with value: 0.8453370687971828 and parameters: {'colsample_bylevel': 0.09003928204304606, 'depth': 11, 'boosting_type': 'Ordered', 'bootstrap_type': 'MVS'}. Best is trial 30 with value: 0.8475900962770023.\u001b[0m\n",
      "\u001b[32m[I 2022-07-18 16:38:36,395]\u001b[0m Trial 72 finished with value: 0.8441365021893171 and parameters: {'colsample_bylevel': 0.08746825733877747, 'depth': 10, 'boosting_type': 'Ordered', 'bootstrap_type': 'MVS'}. Best is trial 30 with value: 0.8475900962770023.\u001b[0m\n",
      "\u001b[32m[I 2022-07-18 16:38:38,341]\u001b[0m Trial 73 finished with value: 0.8399969882409011 and parameters: {'colsample_bylevel': 0.09285229825206026, 'depth': 7, 'boosting_type': 'Ordered', 'bootstrap_type': 'MVS'}. Best is trial 30 with value: 0.8475900962770023.\u001b[0m\n",
      "\u001b[32m[I 2022-07-18 16:38:42,164]\u001b[0m Trial 74 finished with value: 0.8453709924573639 and parameters: {'colsample_bylevel': 0.08830509617859343, 'depth': 9, 'boosting_type': 'Ordered', 'bootstrap_type': 'MVS'}. Best is trial 30 with value: 0.8475900962770023.\u001b[0m\n",
      "\u001b[32m[I 2022-07-18 16:38:47,205]\u001b[0m Trial 75 finished with value: 0.8424370095548885 and parameters: {'colsample_bylevel': 0.08231527281216433, 'depth': 10, 'boosting_type': 'Ordered', 'bootstrap_type': 'MVS'}. Best is trial 30 with value: 0.8475900962770023.\u001b[0m\n",
      "\u001b[32m[I 2022-07-18 16:39:03,847]\u001b[0m Trial 76 finished with value: 0.8435341503695196 and parameters: {'colsample_bylevel': 0.09756700419157965, 'depth': 11, 'boosting_type': 'Ordered', 'bootstrap_type': 'MVS'}. Best is trial 30 with value: 0.8475900962770023.\u001b[0m\n",
      "\u001b[32m[I 2022-07-18 16:39:08,210]\u001b[0m Trial 77 finished with value: 0.8421159758926887 and parameters: {'colsample_bylevel': 0.08136829229517091, 'depth': 8, 'boosting_type': 'Ordered', 'bootstrap_type': 'MVS'}. Best is trial 30 with value: 0.8475900962770023.\u001b[0m\n",
      "\u001b[32m[I 2022-07-18 16:39:11,276]\u001b[0m Trial 78 finished with value: 0.8339958100142644 and parameters: {'colsample_bylevel': 0.09265367486913378, 'depth': 12, 'boosting_type': 'Plain', 'bootstrap_type': 'MVS'}. Best is trial 30 with value: 0.8475900962770023.\u001b[0m\n",
      "\u001b[32m[I 2022-07-18 16:39:13,631]\u001b[0m Trial 79 finished with value: 0.8419968293788826 and parameters: {'colsample_bylevel': 0.08598348393657929, 'depth': 5, 'boosting_type': 'Ordered', 'bootstrap_type': 'Bernoulli', 'subsample': 0.2981933543429671}. Best is trial 30 with value: 0.8475900962770023.\u001b[0m\n",
      "\u001b[32m[I 2022-07-18 16:39:20,991]\u001b[0m Trial 80 finished with value: 0.8430368791556484 and parameters: {'colsample_bylevel': 0.04811941969388871, 'depth': 11, 'boosting_type': 'Ordered', 'bootstrap_type': 'MVS'}. Best is trial 30 with value: 0.8475900962770023.\u001b[0m\n",
      "\u001b[32m[I 2022-07-18 16:39:28,706]\u001b[0m Trial 81 finished with value: 0.844250684265048 and parameters: {'colsample_bylevel': 0.08442509628447574, 'depth': 11, 'boosting_type': 'Ordered', 'bootstrap_type': 'MVS'}. Best is trial 30 with value: 0.8475900962770023.\u001b[0m\n",
      "\u001b[32m[I 2022-07-18 16:39:35,149]\u001b[0m Trial 82 finished with value: 0.844543586111488 and parameters: {'colsample_bylevel': 0.07869744294733247, 'depth': 10, 'boosting_type': 'Ordered', 'bootstrap_type': 'MVS'}. Best is trial 30 with value: 0.8475900962770023.\u001b[0m\n",
      "\u001b[32m[I 2022-07-18 16:39:53,708]\u001b[0m Trial 83 finished with value: 0.841994347159845 and parameters: {'colsample_bylevel': 0.09085826378894386, 'depth': 12, 'boosting_type': 'Ordered', 'bootstrap_type': 'MVS'}. Best is trial 30 with value: 0.8475900962770023.\u001b[0m\n",
      "\u001b[32m[I 2022-07-18 16:40:02,054]\u001b[0m Trial 84 finished with value: 0.843563936997971 and parameters: {'colsample_bylevel': 0.08774873858430401, 'depth': 11, 'boosting_type': 'Ordered', 'bootstrap_type': 'MVS'}. Best is trial 30 with value: 0.8475900962770023.\u001b[0m\n",
      "\u001b[32m[I 2022-07-18 16:40:07,697]\u001b[0m Trial 85 finished with value: 0.8431278938536947 and parameters: {'colsample_bylevel': 0.09688927930331251, 'depth': 10, 'boosting_type': 'Ordered', 'bootstrap_type': 'Bayesian', 'bagging_temperature': 7.91351997523159}. Best is trial 30 with value: 0.8475900962770023.\u001b[0m\n",
      "\u001b[32m[I 2022-07-18 16:40:20,104]\u001b[0m Trial 86 finished with value: 0.8438055396509669 and parameters: {'colsample_bylevel': 0.07125407320647366, 'depth': 12, 'boosting_type': 'Ordered', 'bootstrap_type': 'MVS'}. Best is trial 30 with value: 0.8475900962770023.\u001b[0m\n",
      "\u001b[32m[I 2022-07-18 16:40:39,519]\u001b[0m Trial 87 finished with value: 0.8434332067953229 and parameters: {'colsample_bylevel': 0.08447428653622172, 'depth': 11, 'boosting_type': 'Ordered', 'bootstrap_type': 'MVS'}. Best is trial 30 with value: 0.8475900962770023.\u001b[0m\n",
      "\u001b[32m[I 2022-07-18 16:40:42,101]\u001b[0m Trial 88 finished with value: 0.840163296916422 and parameters: {'colsample_bylevel': 0.03786242390973865, 'depth': 9, 'boosting_type': 'Ordered', 'bootstrap_type': 'MVS'}. Best is trial 30 with value: 0.8475900962770023.\u001b[0m\n",
      "\u001b[32m[I 2022-07-18 16:40:45,237]\u001b[0m Trial 89 finished with value: 0.8424163243962417 and parameters: {'colsample_bylevel': 0.059133196316693594, 'depth': 10, 'boosting_type': 'Ordered', 'bootstrap_type': 'MVS'}. Best is trial 30 with value: 0.8475900962770023.\u001b[0m\n",
      "\u001b[32m[I 2022-07-18 16:40:47,280]\u001b[0m Trial 90 finished with value: 0.8422136098415021 and parameters: {'colsample_bylevel': 0.08166494581368808, 'depth': 4, 'boosting_type': 'Plain', 'bootstrap_type': 'MVS'}. Best is trial 30 with value: 0.8475900962770023.\u001b[0m\n",
      "\u001b[32m[I 2022-07-18 16:40:58,195]\u001b[0m Trial 91 finished with value: 0.8453544443304462 and parameters: {'colsample_bylevel': 0.09471172492050242, 'depth': 11, 'boosting_type': 'Ordered', 'bootstrap_type': 'MVS'}. Best is trial 30 with value: 0.8475900962770023.\u001b[0m\n"
     ]
    },
    {
     "name": "stdout",
     "output_type": "stream",
     "text": [
      "Number of finished trials: 92\n",
      "Best trial:\n",
      "  Value: 0.8475900962770023\n",
      "  Params: \n",
      "    colsample_bylevel: 0.09244160551911602\n",
      "    depth: 11\n",
      "    boosting_type: Ordered\n",
      "    bootstrap_type: MVS\n"
     ]
    }
   ],
   "source": [
    "# https://github.com/optuna/optuna-examples/blob/main/catboost/catboost_simple.py\n",
    "\n",
    "def objective(trial):\n",
    "    X_cb_train_ot, X_cb_valid_ot, y_cb_train_ot, y_cb_valid_ot = train_test_split(X_cb_train.copy(), y_cb_train.copy(), test_size=0.3, stratify=y_cb_train)\n",
    "    \n",
    "    param = {\n",
    "        #\"objective\": trial.suggest_categorical(\"objective\", [\"Logloss\", \"CrossEntropy\"]),\n",
    "        \"colsample_bylevel\": trial.suggest_float(\"colsample_bylevel\", 0.01, 0.1),\n",
    "        \"depth\": trial.suggest_int(\"depth\", 1, 12),\n",
    "        \"boosting_type\": trial.suggest_categorical(\"boosting_type\", [\"Ordered\", \"Plain\"]),\n",
    "        \"bootstrap_type\": trial.suggest_categorical(\n",
    "            \"bootstrap_type\", [\"Bayesian\", \"Bernoulli\", \"MVS\"]\n",
    "        )\n",
    "    }\n",
    "\n",
    "    if param[\"bootstrap_type\"] == \"Bayesian\":\n",
    "        param[\"bagging_temperature\"] = trial.suggest_float(\"bagging_temperature\", 0, 10)\n",
    "    elif param[\"bootstrap_type\"] == \"Bernoulli\":\n",
    "        param[\"subsample\"] = trial.suggest_float(\"subsample\", 0.1, 1)\n",
    "\n",
    "    gbm = catboost.CatBoostClassifier(cat_features=cat_features, \n",
    "                                                        silent=True, random_state=0, \n",
    "                                                        auto_class_weights='SqrtBalanced',\n",
    "                                                        **param)\n",
    "\n",
    "    \n",
    "    gbm.fit(X_cb_train_ot, y_cb_train_ot, eval_set=[(X_cb_valid_ot, y_cb_valid_ot)], verbose=0, early_stopping_rounds=100)\n",
    "\n",
    "    cb_preds = gbm.predict_proba(X_cb_test)\n",
    "    roc_auc = roc_auc_score(y_cb_test, cb_preds[:,1])\n",
    "    return roc_auc\n",
    "\n",
    "\n",
    "if __name__ == \"__main__\":\n",
    "    study = optuna.create_study(direction=\"maximize\")\n",
    "    study.optimize(objective, n_trials=100, timeout=600)\n",
    "\n",
    "    print(\"Number of finished trials: {}\".format(len(study.trials)))\n",
    "\n",
    "    print(\"Best trial:\")\n",
    "    trial = study.best_trial\n",
    "\n",
    "    print(\"  Value: {}\".format(trial.value))\n",
    "\n",
    "    print(\"  Params: \")\n",
    "    for key, value in trial.params.items():\n",
    "        print(\"    {}: {}\".format(key, value))"
   ]
  },
  {
   "cell_type": "markdown",
   "metadata": {},
   "source": []
  }
 ],
 "metadata": {
  "kernelspec": {
   "display_name": "Python 3.8.10 64-bit",
   "language": "python",
   "name": "python3"
  },
  "language_info": {
   "codemirror_mode": {
    "name": "ipython",
    "version": 3
   },
   "file_extension": ".py",
   "mimetype": "text/x-python",
   "name": "python",
   "nbconvert_exporter": "python",
   "pygments_lexer": "ipython3",
   "version": "3.8.10"
  },
  "orig_nbformat": 4,
  "vscode": {
   "interpreter": {
    "hash": "916dbcbb3f70747c44a77c7bcd40155683ae19c65e1c03b4aa3499c5328201f1"
   }
  }
 },
 "nbformat": 4,
 "nbformat_minor": 2
}
