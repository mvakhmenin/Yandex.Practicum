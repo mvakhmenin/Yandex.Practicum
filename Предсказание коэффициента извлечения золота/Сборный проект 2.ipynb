{
 "cells": [
  {
   "cell_type": "markdown",
   "metadata": {
    "toc": true
   },
   "source": [
    "<h1>Содержание<span class=\"tocSkip\"></span></h1>\n",
    "<div class=\"toc\"><ul class=\"toc-item\"><li><span><a href=\"#Подготовка-данных\" data-toc-modified-id=\"Подготовка-данных-1\"><span class=\"toc-item-num\">1&nbsp;&nbsp;</span>Подготовка данных</a></span><ul class=\"toc-item\"><li><span><a href=\"#Загрузка-данных\" data-toc-modified-id=\"Загрузка-данных-1.1\"><span class=\"toc-item-num\">1.1&nbsp;&nbsp;</span>Загрузка данных</a></span></li><li><span><a href=\"#Проверим,-что-эффективность-обогащения-расчитана-правильно\" data-toc-modified-id=\"Проверим,-что-эффективность-обогащения-расчитана-правильно-1.2\"><span class=\"toc-item-num\">1.2&nbsp;&nbsp;</span>Проверим, что эффективность обогащения расчитана правильно</a></span></li><li><span><a href=\"#Признаки,-недоступные-в-тестовой-выборке\" data-toc-modified-id=\"Признаки,-недоступные-в-тестовой-выборке-1.3\"><span class=\"toc-item-num\">1.3&nbsp;&nbsp;</span>Признаки, недоступные в тестовой выборке</a></span></li><li><span><a href=\"#Предобработка-данных\" data-toc-modified-id=\"Предобработка-данных-1.4\"><span class=\"toc-item-num\">1.4&nbsp;&nbsp;</span>Предобработка данных</a></span></li></ul></li><li><span><a href=\"#Анализ-данных\" data-toc-modified-id=\"Анализ-данных-2\"><span class=\"toc-item-num\">2&nbsp;&nbsp;</span>Анализ данных</a></span><ul class=\"toc-item\"><li><span><a href=\"#Изменение-концентрации-металлов-на-различных-этапах-очистки\" data-toc-modified-id=\"Изменение-концентрации-металлов-на-различных-этапах-очистки-2.1\"><span class=\"toc-item-num\">2.1&nbsp;&nbsp;</span>Изменение концентрации металлов на различных этапах очистки</a></span></li><li><span><a href=\"#Распределение-размеров-гранул-сырья\" data-toc-modified-id=\"Распределение-размеров-гранул-сырья-2.2\"><span class=\"toc-item-num\">2.2&nbsp;&nbsp;</span>Распределение размеров гранул сырья</a></span></li><li><span><a href=\"#Суммарные-концентрации\" data-toc-modified-id=\"Суммарные-концентрации-2.3\"><span class=\"toc-item-num\">2.3&nbsp;&nbsp;</span>Суммарные концентрации</a></span></li></ul></li><li><span><a href=\"#Модель\" data-toc-modified-id=\"Модель-3\"><span class=\"toc-item-num\">3&nbsp;&nbsp;</span>Модель</a></span><ul class=\"toc-item\"><li><span><a href=\"#Функция-для-вычисления-итогового-sMAPE\" data-toc-modified-id=\"Функция-для-вычисления-итогового-sMAPE-3.1\"><span class=\"toc-item-num\">3.1&nbsp;&nbsp;</span>Функция для вычисления итогового sMAPE</a></span></li><li><span><a href=\"#Обучение-моделей\" data-toc-modified-id=\"Обучение-моделей-3.2\"><span class=\"toc-item-num\">3.2&nbsp;&nbsp;</span>Обучение моделей</a></span></li><li><span><a href=\"#Проверка-лучшей-модели-на-тестовой-выборке\" data-toc-modified-id=\"Проверка-лучшей-модели-на-тестовой-выборке-3.3\"><span class=\"toc-item-num\">3.3&nbsp;&nbsp;</span>Проверка лучшей модели на тестовой выборке</a></span></li></ul></li><li><span><a href=\"#Чек-лист-готовности-проекта\" data-toc-modified-id=\"Чек-лист-готовности-проекта-4\"><span class=\"toc-item-num\">4&nbsp;&nbsp;</span>Чек-лист готовности проекта</a></span></li></ul></div>"
   ]
  },
  {
   "cell_type": "markdown",
   "metadata": {},
   "source": [
    "# Восстановление золота из руды"
   ]
  },
  {
   "cell_type": "markdown",
   "metadata": {},
   "source": [
    "## Подготовка данных"
   ]
  },
  {
   "cell_type": "code",
   "execution_count": 1,
   "metadata": {},
   "outputs": [],
   "source": [
    "import pandas as pd\n",
    "import numpy as np\n",
    "import matplotlib.pyplot as plt\n",
    "\n",
    "from sklearn.metrics import mean_absolute_error\n",
    "from sklearn.model_selection import cross_val_score\n",
    "from sklearn.linear_model import LinearRegression\n",
    "from sklearn.metrics import make_scorer\n",
    "from sklearn.ensemble import RandomForestRegressor\n",
    "from sklearn.tree import DecisionTreeRegressor\n",
    "from sklearn.dummy import DummyRegressor\n",
    "from sklearn.linear_model import ElasticNet\n",
    "from sklearn.model_selection import GridSearchCV\n",
    "import catboost"
   ]
  },
  {
   "cell_type": "markdown",
   "metadata": {},
   "source": [
    "### Загрузка данных"
   ]
  },
  {
   "cell_type": "code",
   "execution_count": 2,
   "metadata": {},
   "outputs": [],
   "source": [
    "df_train = pd.read_csv('/datasets/gold_recovery_train_new.csv')\n",
    "df_test = pd.read_csv('/datasets/gold_recovery_test_new.csv')\n",
    "df_full = pd.read_csv('/datasets/gold_recovery_full_new.csv')"
   ]
  },
  {
   "cell_type": "code",
   "execution_count": 3,
   "metadata": {},
   "outputs": [
    {
     "data": {
      "text/html": [
       "<div>\n",
       "<style scoped>\n",
       "    .dataframe tbody tr th:only-of-type {\n",
       "        vertical-align: middle;\n",
       "    }\n",
       "\n",
       "    .dataframe tbody tr th {\n",
       "        vertical-align: top;\n",
       "    }\n",
       "\n",
       "    .dataframe thead th {\n",
       "        text-align: right;\n",
       "    }\n",
       "</style>\n",
       "<table border=\"1\" class=\"dataframe\">\n",
       "  <thead>\n",
       "    <tr style=\"text-align: right;\">\n",
       "      <th></th>\n",
       "      <th>date</th>\n",
       "      <th>final.output.concentrate_ag</th>\n",
       "      <th>final.output.concentrate_pb</th>\n",
       "      <th>final.output.concentrate_sol</th>\n",
       "      <th>final.output.concentrate_au</th>\n",
       "      <th>final.output.recovery</th>\n",
       "      <th>final.output.tail_ag</th>\n",
       "      <th>final.output.tail_pb</th>\n",
       "      <th>final.output.tail_sol</th>\n",
       "      <th>final.output.tail_au</th>\n",
       "      <th>...</th>\n",
       "      <th>secondary_cleaner.state.floatbank4_a_air</th>\n",
       "      <th>secondary_cleaner.state.floatbank4_a_level</th>\n",
       "      <th>secondary_cleaner.state.floatbank4_b_air</th>\n",
       "      <th>secondary_cleaner.state.floatbank4_b_level</th>\n",
       "      <th>secondary_cleaner.state.floatbank5_a_air</th>\n",
       "      <th>secondary_cleaner.state.floatbank5_a_level</th>\n",
       "      <th>secondary_cleaner.state.floatbank5_b_air</th>\n",
       "      <th>secondary_cleaner.state.floatbank5_b_level</th>\n",
       "      <th>secondary_cleaner.state.floatbank6_a_air</th>\n",
       "      <th>secondary_cleaner.state.floatbank6_a_level</th>\n",
       "    </tr>\n",
       "  </thead>\n",
       "  <tbody>\n",
       "    <tr>\n",
       "      <th>0</th>\n",
       "      <td>2016-01-15 00:00:00</td>\n",
       "      <td>6.055403</td>\n",
       "      <td>9.889648</td>\n",
       "      <td>5.507324</td>\n",
       "      <td>42.192020</td>\n",
       "      <td>70.541216</td>\n",
       "      <td>10.411962</td>\n",
       "      <td>0.895447</td>\n",
       "      <td>16.904297</td>\n",
       "      <td>2.143149</td>\n",
       "      <td>...</td>\n",
       "      <td>14.016835</td>\n",
       "      <td>-502.488007</td>\n",
       "      <td>12.099931</td>\n",
       "      <td>-504.715942</td>\n",
       "      <td>9.925633</td>\n",
       "      <td>-498.310211</td>\n",
       "      <td>8.079666</td>\n",
       "      <td>-500.470978</td>\n",
       "      <td>14.151341</td>\n",
       "      <td>-605.841980</td>\n",
       "    </tr>\n",
       "    <tr>\n",
       "      <th>1</th>\n",
       "      <td>2016-01-15 01:00:00</td>\n",
       "      <td>6.029369</td>\n",
       "      <td>9.968944</td>\n",
       "      <td>5.257781</td>\n",
       "      <td>42.701629</td>\n",
       "      <td>69.266198</td>\n",
       "      <td>10.462676</td>\n",
       "      <td>0.927452</td>\n",
       "      <td>16.634514</td>\n",
       "      <td>2.224930</td>\n",
       "      <td>...</td>\n",
       "      <td>13.992281</td>\n",
       "      <td>-505.503262</td>\n",
       "      <td>11.950531</td>\n",
       "      <td>-501.331529</td>\n",
       "      <td>10.039245</td>\n",
       "      <td>-500.169983</td>\n",
       "      <td>7.984757</td>\n",
       "      <td>-500.582168</td>\n",
       "      <td>13.998353</td>\n",
       "      <td>-599.787184</td>\n",
       "    </tr>\n",
       "    <tr>\n",
       "      <th>2</th>\n",
       "      <td>2016-01-15 02:00:00</td>\n",
       "      <td>6.055926</td>\n",
       "      <td>10.213995</td>\n",
       "      <td>5.383759</td>\n",
       "      <td>42.657501</td>\n",
       "      <td>68.116445</td>\n",
       "      <td>10.507046</td>\n",
       "      <td>0.953716</td>\n",
       "      <td>16.208849</td>\n",
       "      <td>2.257889</td>\n",
       "      <td>...</td>\n",
       "      <td>14.015015</td>\n",
       "      <td>-502.520901</td>\n",
       "      <td>11.912783</td>\n",
       "      <td>-501.133383</td>\n",
       "      <td>10.070913</td>\n",
       "      <td>-500.129135</td>\n",
       "      <td>8.013877</td>\n",
       "      <td>-500.517572</td>\n",
       "      <td>14.028663</td>\n",
       "      <td>-601.427363</td>\n",
       "    </tr>\n",
       "    <tr>\n",
       "      <th>3</th>\n",
       "      <td>2016-01-15 03:00:00</td>\n",
       "      <td>6.047977</td>\n",
       "      <td>9.977019</td>\n",
       "      <td>4.858634</td>\n",
       "      <td>42.689819</td>\n",
       "      <td>68.347543</td>\n",
       "      <td>10.422762</td>\n",
       "      <td>0.883763</td>\n",
       "      <td>16.532835</td>\n",
       "      <td>2.146849</td>\n",
       "      <td>...</td>\n",
       "      <td>14.036510</td>\n",
       "      <td>-500.857308</td>\n",
       "      <td>11.999550</td>\n",
       "      <td>-501.193686</td>\n",
       "      <td>9.970366</td>\n",
       "      <td>-499.201640</td>\n",
       "      <td>7.977324</td>\n",
       "      <td>-500.255908</td>\n",
       "      <td>14.005551</td>\n",
       "      <td>-599.996129</td>\n",
       "    </tr>\n",
       "    <tr>\n",
       "      <th>4</th>\n",
       "      <td>2016-01-15 04:00:00</td>\n",
       "      <td>6.148599</td>\n",
       "      <td>10.142511</td>\n",
       "      <td>4.939416</td>\n",
       "      <td>42.774141</td>\n",
       "      <td>66.927016</td>\n",
       "      <td>10.360302</td>\n",
       "      <td>0.792826</td>\n",
       "      <td>16.525686</td>\n",
       "      <td>2.055292</td>\n",
       "      <td>...</td>\n",
       "      <td>14.027298</td>\n",
       "      <td>-499.838632</td>\n",
       "      <td>11.953070</td>\n",
       "      <td>-501.053894</td>\n",
       "      <td>9.925709</td>\n",
       "      <td>-501.686727</td>\n",
       "      <td>7.894242</td>\n",
       "      <td>-500.356035</td>\n",
       "      <td>13.996647</td>\n",
       "      <td>-601.496691</td>\n",
       "    </tr>\n",
       "    <tr>\n",
       "      <th>...</th>\n",
       "      <td>...</td>\n",
       "      <td>...</td>\n",
       "      <td>...</td>\n",
       "      <td>...</td>\n",
       "      <td>...</td>\n",
       "      <td>...</td>\n",
       "      <td>...</td>\n",
       "      <td>...</td>\n",
       "      <td>...</td>\n",
       "      <td>...</td>\n",
       "      <td>...</td>\n",
       "      <td>...</td>\n",
       "      <td>...</td>\n",
       "      <td>...</td>\n",
       "      <td>...</td>\n",
       "      <td>...</td>\n",
       "      <td>...</td>\n",
       "      <td>...</td>\n",
       "      <td>...</td>\n",
       "      <td>...</td>\n",
       "      <td>...</td>\n",
       "    </tr>\n",
       "    <tr>\n",
       "      <th>14144</th>\n",
       "      <td>2018-08-18 06:59:59</td>\n",
       "      <td>3.224920</td>\n",
       "      <td>11.356233</td>\n",
       "      <td>6.803482</td>\n",
       "      <td>46.713954</td>\n",
       "      <td>73.755150</td>\n",
       "      <td>8.769645</td>\n",
       "      <td>3.141541</td>\n",
       "      <td>10.403181</td>\n",
       "      <td>1.529220</td>\n",
       "      <td>...</td>\n",
       "      <td>23.031497</td>\n",
       "      <td>-501.167942</td>\n",
       "      <td>20.007571</td>\n",
       "      <td>-499.740028</td>\n",
       "      <td>18.006038</td>\n",
       "      <td>-499.834374</td>\n",
       "      <td>13.001114</td>\n",
       "      <td>-500.155694</td>\n",
       "      <td>20.007840</td>\n",
       "      <td>-501.296428</td>\n",
       "    </tr>\n",
       "    <tr>\n",
       "      <th>14145</th>\n",
       "      <td>2018-08-18 07:59:59</td>\n",
       "      <td>3.195978</td>\n",
       "      <td>11.349355</td>\n",
       "      <td>6.862249</td>\n",
       "      <td>46.866780</td>\n",
       "      <td>69.049291</td>\n",
       "      <td>8.897321</td>\n",
       "      <td>3.130493</td>\n",
       "      <td>10.549470</td>\n",
       "      <td>1.612542</td>\n",
       "      <td>...</td>\n",
       "      <td>22.960095</td>\n",
       "      <td>-501.612783</td>\n",
       "      <td>20.035660</td>\n",
       "      <td>-500.251357</td>\n",
       "      <td>17.998535</td>\n",
       "      <td>-500.395178</td>\n",
       "      <td>12.954048</td>\n",
       "      <td>-499.895163</td>\n",
       "      <td>19.968498</td>\n",
       "      <td>-501.041608</td>\n",
       "    </tr>\n",
       "    <tr>\n",
       "      <th>14146</th>\n",
       "      <td>2018-08-18 08:59:59</td>\n",
       "      <td>3.109998</td>\n",
       "      <td>11.434366</td>\n",
       "      <td>6.886013</td>\n",
       "      <td>46.795691</td>\n",
       "      <td>67.002189</td>\n",
       "      <td>8.529606</td>\n",
       "      <td>2.911418</td>\n",
       "      <td>11.115147</td>\n",
       "      <td>1.596616</td>\n",
       "      <td>...</td>\n",
       "      <td>23.015718</td>\n",
       "      <td>-501.711599</td>\n",
       "      <td>19.951231</td>\n",
       "      <td>-499.857027</td>\n",
       "      <td>18.019543</td>\n",
       "      <td>-500.451156</td>\n",
       "      <td>13.023431</td>\n",
       "      <td>-499.914391</td>\n",
       "      <td>19.990885</td>\n",
       "      <td>-501.518452</td>\n",
       "    </tr>\n",
       "    <tr>\n",
       "      <th>14147</th>\n",
       "      <td>2018-08-18 09:59:59</td>\n",
       "      <td>3.367241</td>\n",
       "      <td>11.625587</td>\n",
       "      <td>6.799433</td>\n",
       "      <td>46.408188</td>\n",
       "      <td>65.523246</td>\n",
       "      <td>8.777171</td>\n",
       "      <td>2.819214</td>\n",
       "      <td>10.463847</td>\n",
       "      <td>1.602879</td>\n",
       "      <td>...</td>\n",
       "      <td>23.024963</td>\n",
       "      <td>-501.153409</td>\n",
       "      <td>20.054122</td>\n",
       "      <td>-500.314711</td>\n",
       "      <td>17.979515</td>\n",
       "      <td>-499.272871</td>\n",
       "      <td>12.992404</td>\n",
       "      <td>-499.976268</td>\n",
       "      <td>20.013986</td>\n",
       "      <td>-500.625471</td>\n",
       "    </tr>\n",
       "    <tr>\n",
       "      <th>14148</th>\n",
       "      <td>2018-08-18 10:59:59</td>\n",
       "      <td>3.598375</td>\n",
       "      <td>11.737832</td>\n",
       "      <td>6.717509</td>\n",
       "      <td>46.299438</td>\n",
       "      <td>70.281454</td>\n",
       "      <td>8.406690</td>\n",
       "      <td>2.517518</td>\n",
       "      <td>10.652193</td>\n",
       "      <td>1.389434</td>\n",
       "      <td>...</td>\n",
       "      <td>23.018622</td>\n",
       "      <td>-500.492702</td>\n",
       "      <td>20.020205</td>\n",
       "      <td>-500.220296</td>\n",
       "      <td>17.963512</td>\n",
       "      <td>-499.939490</td>\n",
       "      <td>12.990306</td>\n",
       "      <td>-500.080993</td>\n",
       "      <td>19.990336</td>\n",
       "      <td>-499.191575</td>\n",
       "    </tr>\n",
       "  </tbody>\n",
       "</table>\n",
       "<p>14149 rows × 87 columns</p>\n",
       "</div>"
      ],
      "text/plain": [
       "                      date  final.output.concentrate_ag  \\\n",
       "0      2016-01-15 00:00:00                     6.055403   \n",
       "1      2016-01-15 01:00:00                     6.029369   \n",
       "2      2016-01-15 02:00:00                     6.055926   \n",
       "3      2016-01-15 03:00:00                     6.047977   \n",
       "4      2016-01-15 04:00:00                     6.148599   \n",
       "...                    ...                          ...   \n",
       "14144  2018-08-18 06:59:59                     3.224920   \n",
       "14145  2018-08-18 07:59:59                     3.195978   \n",
       "14146  2018-08-18 08:59:59                     3.109998   \n",
       "14147  2018-08-18 09:59:59                     3.367241   \n",
       "14148  2018-08-18 10:59:59                     3.598375   \n",
       "\n",
       "       final.output.concentrate_pb  final.output.concentrate_sol  \\\n",
       "0                         9.889648                      5.507324   \n",
       "1                         9.968944                      5.257781   \n",
       "2                        10.213995                      5.383759   \n",
       "3                         9.977019                      4.858634   \n",
       "4                        10.142511                      4.939416   \n",
       "...                            ...                           ...   \n",
       "14144                    11.356233                      6.803482   \n",
       "14145                    11.349355                      6.862249   \n",
       "14146                    11.434366                      6.886013   \n",
       "14147                    11.625587                      6.799433   \n",
       "14148                    11.737832                      6.717509   \n",
       "\n",
       "       final.output.concentrate_au  final.output.recovery  \\\n",
       "0                        42.192020              70.541216   \n",
       "1                        42.701629              69.266198   \n",
       "2                        42.657501              68.116445   \n",
       "3                        42.689819              68.347543   \n",
       "4                        42.774141              66.927016   \n",
       "...                            ...                    ...   \n",
       "14144                    46.713954              73.755150   \n",
       "14145                    46.866780              69.049291   \n",
       "14146                    46.795691              67.002189   \n",
       "14147                    46.408188              65.523246   \n",
       "14148                    46.299438              70.281454   \n",
       "\n",
       "       final.output.tail_ag  final.output.tail_pb  final.output.tail_sol  \\\n",
       "0                 10.411962              0.895447              16.904297   \n",
       "1                 10.462676              0.927452              16.634514   \n",
       "2                 10.507046              0.953716              16.208849   \n",
       "3                 10.422762              0.883763              16.532835   \n",
       "4                 10.360302              0.792826              16.525686   \n",
       "...                     ...                   ...                    ...   \n",
       "14144              8.769645              3.141541              10.403181   \n",
       "14145              8.897321              3.130493              10.549470   \n",
       "14146              8.529606              2.911418              11.115147   \n",
       "14147              8.777171              2.819214              10.463847   \n",
       "14148              8.406690              2.517518              10.652193   \n",
       "\n",
       "       final.output.tail_au  ...  secondary_cleaner.state.floatbank4_a_air  \\\n",
       "0                  2.143149  ...                                 14.016835   \n",
       "1                  2.224930  ...                                 13.992281   \n",
       "2                  2.257889  ...                                 14.015015   \n",
       "3                  2.146849  ...                                 14.036510   \n",
       "4                  2.055292  ...                                 14.027298   \n",
       "...                     ...  ...                                       ...   \n",
       "14144              1.529220  ...                                 23.031497   \n",
       "14145              1.612542  ...                                 22.960095   \n",
       "14146              1.596616  ...                                 23.015718   \n",
       "14147              1.602879  ...                                 23.024963   \n",
       "14148              1.389434  ...                                 23.018622   \n",
       "\n",
       "       secondary_cleaner.state.floatbank4_a_level  \\\n",
       "0                                     -502.488007   \n",
       "1                                     -505.503262   \n",
       "2                                     -502.520901   \n",
       "3                                     -500.857308   \n",
       "4                                     -499.838632   \n",
       "...                                           ...   \n",
       "14144                                 -501.167942   \n",
       "14145                                 -501.612783   \n",
       "14146                                 -501.711599   \n",
       "14147                                 -501.153409   \n",
       "14148                                 -500.492702   \n",
       "\n",
       "       secondary_cleaner.state.floatbank4_b_air  \\\n",
       "0                                     12.099931   \n",
       "1                                     11.950531   \n",
       "2                                     11.912783   \n",
       "3                                     11.999550   \n",
       "4                                     11.953070   \n",
       "...                                         ...   \n",
       "14144                                 20.007571   \n",
       "14145                                 20.035660   \n",
       "14146                                 19.951231   \n",
       "14147                                 20.054122   \n",
       "14148                                 20.020205   \n",
       "\n",
       "       secondary_cleaner.state.floatbank4_b_level  \\\n",
       "0                                     -504.715942   \n",
       "1                                     -501.331529   \n",
       "2                                     -501.133383   \n",
       "3                                     -501.193686   \n",
       "4                                     -501.053894   \n",
       "...                                           ...   \n",
       "14144                                 -499.740028   \n",
       "14145                                 -500.251357   \n",
       "14146                                 -499.857027   \n",
       "14147                                 -500.314711   \n",
       "14148                                 -500.220296   \n",
       "\n",
       "       secondary_cleaner.state.floatbank5_a_air  \\\n",
       "0                                      9.925633   \n",
       "1                                     10.039245   \n",
       "2                                     10.070913   \n",
       "3                                      9.970366   \n",
       "4                                      9.925709   \n",
       "...                                         ...   \n",
       "14144                                 18.006038   \n",
       "14145                                 17.998535   \n",
       "14146                                 18.019543   \n",
       "14147                                 17.979515   \n",
       "14148                                 17.963512   \n",
       "\n",
       "       secondary_cleaner.state.floatbank5_a_level  \\\n",
       "0                                     -498.310211   \n",
       "1                                     -500.169983   \n",
       "2                                     -500.129135   \n",
       "3                                     -499.201640   \n",
       "4                                     -501.686727   \n",
       "...                                           ...   \n",
       "14144                                 -499.834374   \n",
       "14145                                 -500.395178   \n",
       "14146                                 -500.451156   \n",
       "14147                                 -499.272871   \n",
       "14148                                 -499.939490   \n",
       "\n",
       "       secondary_cleaner.state.floatbank5_b_air  \\\n",
       "0                                      8.079666   \n",
       "1                                      7.984757   \n",
       "2                                      8.013877   \n",
       "3                                      7.977324   \n",
       "4                                      7.894242   \n",
       "...                                         ...   \n",
       "14144                                 13.001114   \n",
       "14145                                 12.954048   \n",
       "14146                                 13.023431   \n",
       "14147                                 12.992404   \n",
       "14148                                 12.990306   \n",
       "\n",
       "       secondary_cleaner.state.floatbank5_b_level  \\\n",
       "0                                     -500.470978   \n",
       "1                                     -500.582168   \n",
       "2                                     -500.517572   \n",
       "3                                     -500.255908   \n",
       "4                                     -500.356035   \n",
       "...                                           ...   \n",
       "14144                                 -500.155694   \n",
       "14145                                 -499.895163   \n",
       "14146                                 -499.914391   \n",
       "14147                                 -499.976268   \n",
       "14148                                 -500.080993   \n",
       "\n",
       "       secondary_cleaner.state.floatbank6_a_air  \\\n",
       "0                                     14.151341   \n",
       "1                                     13.998353   \n",
       "2                                     14.028663   \n",
       "3                                     14.005551   \n",
       "4                                     13.996647   \n",
       "...                                         ...   \n",
       "14144                                 20.007840   \n",
       "14145                                 19.968498   \n",
       "14146                                 19.990885   \n",
       "14147                                 20.013986   \n",
       "14148                                 19.990336   \n",
       "\n",
       "       secondary_cleaner.state.floatbank6_a_level  \n",
       "0                                     -605.841980  \n",
       "1                                     -599.787184  \n",
       "2                                     -601.427363  \n",
       "3                                     -599.996129  \n",
       "4                                     -601.496691  \n",
       "...                                           ...  \n",
       "14144                                 -501.296428  \n",
       "14145                                 -501.041608  \n",
       "14146                                 -501.518452  \n",
       "14147                                 -500.625471  \n",
       "14148                                 -499.191575  \n",
       "\n",
       "[14149 rows x 87 columns]"
      ]
     },
     "execution_count": 3,
     "metadata": {},
     "output_type": "execute_result"
    }
   ],
   "source": [
    "df_train"
   ]
  },
  {
   "cell_type": "code",
   "execution_count": 4,
   "metadata": {},
   "outputs": [
    {
     "name": "stdout",
     "output_type": "stream",
     "text": [
      "<class 'pandas.core.frame.DataFrame'>\n",
      "RangeIndex: 14149 entries, 0 to 14148\n",
      "Data columns (total 87 columns):\n",
      " #   Column                                              Non-Null Count  Dtype  \n",
      "---  ------                                              --------------  -----  \n",
      " 0   date                                                14149 non-null  object \n",
      " 1   final.output.concentrate_ag                         14148 non-null  float64\n",
      " 2   final.output.concentrate_pb                         14148 non-null  float64\n",
      " 3   final.output.concentrate_sol                        13938 non-null  float64\n",
      " 4   final.output.concentrate_au                         14149 non-null  float64\n",
      " 5   final.output.recovery                               14149 non-null  float64\n",
      " 6   final.output.tail_ag                                14149 non-null  float64\n",
      " 7   final.output.tail_pb                                14049 non-null  float64\n",
      " 8   final.output.tail_sol                               14144 non-null  float64\n",
      " 9   final.output.tail_au                                14149 non-null  float64\n",
      " 10  primary_cleaner.input.sulfate                       14129 non-null  float64\n",
      " 11  primary_cleaner.input.depressant                    14117 non-null  float64\n",
      " 12  primary_cleaner.input.feed_size                     14149 non-null  float64\n",
      " 13  primary_cleaner.input.xanthate                      14049 non-null  float64\n",
      " 14  primary_cleaner.output.concentrate_ag               14149 non-null  float64\n",
      " 15  primary_cleaner.output.concentrate_pb               14063 non-null  float64\n",
      " 16  primary_cleaner.output.concentrate_sol              13863 non-null  float64\n",
      " 17  primary_cleaner.output.concentrate_au               14149 non-null  float64\n",
      " 18  primary_cleaner.output.tail_ag                      14148 non-null  float64\n",
      " 19  primary_cleaner.output.tail_pb                      14134 non-null  float64\n",
      " 20  primary_cleaner.output.tail_sol                     14103 non-null  float64\n",
      " 21  primary_cleaner.output.tail_au                      14149 non-null  float64\n",
      " 22  primary_cleaner.state.floatbank8_a_air              14145 non-null  float64\n",
      " 23  primary_cleaner.state.floatbank8_a_level            14148 non-null  float64\n",
      " 24  primary_cleaner.state.floatbank8_b_air              14145 non-null  float64\n",
      " 25  primary_cleaner.state.floatbank8_b_level            14148 non-null  float64\n",
      " 26  primary_cleaner.state.floatbank8_c_air              14147 non-null  float64\n",
      " 27  primary_cleaner.state.floatbank8_c_level            14148 non-null  float64\n",
      " 28  primary_cleaner.state.floatbank8_d_air              14146 non-null  float64\n",
      " 29  primary_cleaner.state.floatbank8_d_level            14148 non-null  float64\n",
      " 30  rougher.calculation.sulfate_to_au_concentrate       14148 non-null  float64\n",
      " 31  rougher.calculation.floatbank10_sulfate_to_au_feed  14148 non-null  float64\n",
      " 32  rougher.calculation.floatbank11_sulfate_to_au_feed  14148 non-null  float64\n",
      " 33  rougher.calculation.au_pb_ratio                     14149 non-null  float64\n",
      " 34  rougher.input.feed_ag                               14149 non-null  float64\n",
      " 35  rougher.input.feed_pb                               14049 non-null  float64\n",
      " 36  rougher.input.feed_rate                             14141 non-null  float64\n",
      " 37  rougher.input.feed_size                             14005 non-null  float64\n",
      " 38  rougher.input.feed_sol                              14071 non-null  float64\n",
      " 39  rougher.input.feed_au                               14149 non-null  float64\n",
      " 40  rougher.input.floatbank10_sulfate                   14120 non-null  float64\n",
      " 41  rougher.input.floatbank10_xanthate                  14141 non-null  float64\n",
      " 42  rougher.input.floatbank11_sulfate                   14113 non-null  float64\n",
      " 43  rougher.input.floatbank11_xanthate                  13721 non-null  float64\n",
      " 44  rougher.output.concentrate_ag                       14149 non-null  float64\n",
      " 45  rougher.output.concentrate_pb                       14149 non-null  float64\n",
      " 46  rougher.output.concentrate_sol                      14127 non-null  float64\n",
      " 47  rougher.output.concentrate_au                       14149 non-null  float64\n",
      " 48  rougher.output.recovery                             14149 non-null  float64\n",
      " 49  rougher.output.tail_ag                              14148 non-null  float64\n",
      " 50  rougher.output.tail_pb                              14149 non-null  float64\n",
      " 51  rougher.output.tail_sol                             14149 non-null  float64\n",
      " 52  rougher.output.tail_au                              14149 non-null  float64\n",
      " 53  rougher.state.floatbank10_a_air                     14148 non-null  float64\n",
      " 54  rougher.state.floatbank10_a_level                   14148 non-null  float64\n",
      " 55  rougher.state.floatbank10_b_air                     14148 non-null  float64\n",
      " 56  rougher.state.floatbank10_b_level                   14148 non-null  float64\n",
      " 57  rougher.state.floatbank10_c_air                     14148 non-null  float64\n",
      " 58  rougher.state.floatbank10_c_level                   14148 non-null  float64\n",
      " 59  rougher.state.floatbank10_d_air                     14149 non-null  float64\n",
      " 60  rougher.state.floatbank10_d_level                   14149 non-null  float64\n",
      " 61  rougher.state.floatbank10_e_air                     13713 non-null  float64\n",
      " 62  rougher.state.floatbank10_e_level                   14149 non-null  float64\n",
      " 63  rougher.state.floatbank10_f_air                     14149 non-null  float64\n",
      " 64  rougher.state.floatbank10_f_level                   14149 non-null  float64\n",
      " 65  secondary_cleaner.output.tail_ag                    14147 non-null  float64\n",
      " 66  secondary_cleaner.output.tail_pb                    14139 non-null  float64\n",
      " 67  secondary_cleaner.output.tail_sol                   12544 non-null  float64\n",
      " 68  secondary_cleaner.output.tail_au                    14149 non-null  float64\n",
      " 69  secondary_cleaner.state.floatbank2_a_air            13932 non-null  float64\n",
      " 70  secondary_cleaner.state.floatbank2_a_level          14148 non-null  float64\n",
      " 71  secondary_cleaner.state.floatbank2_b_air            14128 non-null  float64\n",
      " 72  secondary_cleaner.state.floatbank2_b_level          14148 non-null  float64\n",
      " 73  secondary_cleaner.state.floatbank3_a_air            14145 non-null  float64\n",
      " 74  secondary_cleaner.state.floatbank3_a_level          14148 non-null  float64\n",
      " 75  secondary_cleaner.state.floatbank3_b_air            14148 non-null  float64\n",
      " 76  secondary_cleaner.state.floatbank3_b_level          14148 non-null  float64\n",
      " 77  secondary_cleaner.state.floatbank4_a_air            14143 non-null  float64\n",
      " 78  secondary_cleaner.state.floatbank4_a_level          14148 non-null  float64\n",
      " 79  secondary_cleaner.state.floatbank4_b_air            14148 non-null  float64\n",
      " 80  secondary_cleaner.state.floatbank4_b_level          14148 non-null  float64\n",
      " 81  secondary_cleaner.state.floatbank5_a_air            14148 non-null  float64\n",
      " 82  secondary_cleaner.state.floatbank5_a_level          14148 non-null  float64\n",
      " 83  secondary_cleaner.state.floatbank5_b_air            14148 non-null  float64\n",
      " 84  secondary_cleaner.state.floatbank5_b_level          14148 non-null  float64\n",
      " 85  secondary_cleaner.state.floatbank6_a_air            14147 non-null  float64\n",
      " 86  secondary_cleaner.state.floatbank6_a_level          14148 non-null  float64\n",
      "dtypes: float64(86), object(1)\n",
      "memory usage: 9.4+ MB\n"
     ]
    }
   ],
   "source": [
    "df_train.info()"
   ]
  },
  {
   "cell_type": "code",
   "execution_count": 5,
   "metadata": {},
   "outputs": [
    {
     "data": {
      "text/html": [
       "<div>\n",
       "<style scoped>\n",
       "    .dataframe tbody tr th:only-of-type {\n",
       "        vertical-align: middle;\n",
       "    }\n",
       "\n",
       "    .dataframe tbody tr th {\n",
       "        vertical-align: top;\n",
       "    }\n",
       "\n",
       "    .dataframe thead th {\n",
       "        text-align: right;\n",
       "    }\n",
       "</style>\n",
       "<table border=\"1\" class=\"dataframe\">\n",
       "  <thead>\n",
       "    <tr style=\"text-align: right;\">\n",
       "      <th></th>\n",
       "      <th>date</th>\n",
       "      <th>primary_cleaner.input.sulfate</th>\n",
       "      <th>primary_cleaner.input.depressant</th>\n",
       "      <th>primary_cleaner.input.feed_size</th>\n",
       "      <th>primary_cleaner.input.xanthate</th>\n",
       "      <th>primary_cleaner.state.floatbank8_a_air</th>\n",
       "      <th>primary_cleaner.state.floatbank8_a_level</th>\n",
       "      <th>primary_cleaner.state.floatbank8_b_air</th>\n",
       "      <th>primary_cleaner.state.floatbank8_b_level</th>\n",
       "      <th>primary_cleaner.state.floatbank8_c_air</th>\n",
       "      <th>...</th>\n",
       "      <th>secondary_cleaner.state.floatbank4_a_air</th>\n",
       "      <th>secondary_cleaner.state.floatbank4_a_level</th>\n",
       "      <th>secondary_cleaner.state.floatbank4_b_air</th>\n",
       "      <th>secondary_cleaner.state.floatbank4_b_level</th>\n",
       "      <th>secondary_cleaner.state.floatbank5_a_air</th>\n",
       "      <th>secondary_cleaner.state.floatbank5_a_level</th>\n",
       "      <th>secondary_cleaner.state.floatbank5_b_air</th>\n",
       "      <th>secondary_cleaner.state.floatbank5_b_level</th>\n",
       "      <th>secondary_cleaner.state.floatbank6_a_air</th>\n",
       "      <th>secondary_cleaner.state.floatbank6_a_level</th>\n",
       "    </tr>\n",
       "  </thead>\n",
       "  <tbody>\n",
       "    <tr>\n",
       "      <th>0</th>\n",
       "      <td>2016-09-01 00:59:59</td>\n",
       "      <td>210.800909</td>\n",
       "      <td>14.993118</td>\n",
       "      <td>8.080000</td>\n",
       "      <td>1.005021</td>\n",
       "      <td>1398.981301</td>\n",
       "      <td>-500.225577</td>\n",
       "      <td>1399.144926</td>\n",
       "      <td>-499.919735</td>\n",
       "      <td>1400.102998</td>\n",
       "      <td>...</td>\n",
       "      <td>12.023554</td>\n",
       "      <td>-497.795834</td>\n",
       "      <td>8.016656</td>\n",
       "      <td>-501.289139</td>\n",
       "      <td>7.946562</td>\n",
       "      <td>-432.317850</td>\n",
       "      <td>4.872511</td>\n",
       "      <td>-500.037437</td>\n",
       "      <td>26.705889</td>\n",
       "      <td>-499.709414</td>\n",
       "    </tr>\n",
       "    <tr>\n",
       "      <th>1</th>\n",
       "      <td>2016-09-01 01:59:59</td>\n",
       "      <td>215.392455</td>\n",
       "      <td>14.987471</td>\n",
       "      <td>8.080000</td>\n",
       "      <td>0.990469</td>\n",
       "      <td>1398.777912</td>\n",
       "      <td>-500.057435</td>\n",
       "      <td>1398.055362</td>\n",
       "      <td>-499.778182</td>\n",
       "      <td>1396.151033</td>\n",
       "      <td>...</td>\n",
       "      <td>12.058140</td>\n",
       "      <td>-498.695773</td>\n",
       "      <td>8.130979</td>\n",
       "      <td>-499.634209</td>\n",
       "      <td>7.958270</td>\n",
       "      <td>-525.839648</td>\n",
       "      <td>4.878850</td>\n",
       "      <td>-500.162375</td>\n",
       "      <td>25.019940</td>\n",
       "      <td>-499.819438</td>\n",
       "    </tr>\n",
       "    <tr>\n",
       "      <th>2</th>\n",
       "      <td>2016-09-01 02:59:59</td>\n",
       "      <td>215.259946</td>\n",
       "      <td>12.884934</td>\n",
       "      <td>7.786667</td>\n",
       "      <td>0.996043</td>\n",
       "      <td>1398.493666</td>\n",
       "      <td>-500.868360</td>\n",
       "      <td>1398.860436</td>\n",
       "      <td>-499.764529</td>\n",
       "      <td>1398.075709</td>\n",
       "      <td>...</td>\n",
       "      <td>11.962366</td>\n",
       "      <td>-498.767484</td>\n",
       "      <td>8.096893</td>\n",
       "      <td>-500.827423</td>\n",
       "      <td>8.071056</td>\n",
       "      <td>-500.801673</td>\n",
       "      <td>4.905125</td>\n",
       "      <td>-499.828510</td>\n",
       "      <td>24.994862</td>\n",
       "      <td>-500.622559</td>\n",
       "    </tr>\n",
       "    <tr>\n",
       "      <th>3</th>\n",
       "      <td>2016-09-01 03:59:59</td>\n",
       "      <td>215.336236</td>\n",
       "      <td>12.006805</td>\n",
       "      <td>7.640000</td>\n",
       "      <td>0.863514</td>\n",
       "      <td>1399.618111</td>\n",
       "      <td>-498.863574</td>\n",
       "      <td>1397.440120</td>\n",
       "      <td>-499.211024</td>\n",
       "      <td>1400.129303</td>\n",
       "      <td>...</td>\n",
       "      <td>12.033091</td>\n",
       "      <td>-498.350935</td>\n",
       "      <td>8.074946</td>\n",
       "      <td>-499.474407</td>\n",
       "      <td>7.897085</td>\n",
       "      <td>-500.868509</td>\n",
       "      <td>4.931400</td>\n",
       "      <td>-499.963623</td>\n",
       "      <td>24.948919</td>\n",
       "      <td>-498.709987</td>\n",
       "    </tr>\n",
       "    <tr>\n",
       "      <th>4</th>\n",
       "      <td>2016-09-01 04:59:59</td>\n",
       "      <td>199.099327</td>\n",
       "      <td>10.682530</td>\n",
       "      <td>7.530000</td>\n",
       "      <td>0.805575</td>\n",
       "      <td>1401.268123</td>\n",
       "      <td>-500.808305</td>\n",
       "      <td>1398.128818</td>\n",
       "      <td>-499.504543</td>\n",
       "      <td>1402.172226</td>\n",
       "      <td>...</td>\n",
       "      <td>12.025367</td>\n",
       "      <td>-500.786497</td>\n",
       "      <td>8.054678</td>\n",
       "      <td>-500.397500</td>\n",
       "      <td>8.107890</td>\n",
       "      <td>-509.526725</td>\n",
       "      <td>4.957674</td>\n",
       "      <td>-500.360026</td>\n",
       "      <td>25.003331</td>\n",
       "      <td>-500.856333</td>\n",
       "    </tr>\n",
       "    <tr>\n",
       "      <th>...</th>\n",
       "      <td>...</td>\n",
       "      <td>...</td>\n",
       "      <td>...</td>\n",
       "      <td>...</td>\n",
       "      <td>...</td>\n",
       "      <td>...</td>\n",
       "      <td>...</td>\n",
       "      <td>...</td>\n",
       "      <td>...</td>\n",
       "      <td>...</td>\n",
       "      <td>...</td>\n",
       "      <td>...</td>\n",
       "      <td>...</td>\n",
       "      <td>...</td>\n",
       "      <td>...</td>\n",
       "      <td>...</td>\n",
       "      <td>...</td>\n",
       "      <td>...</td>\n",
       "      <td>...</td>\n",
       "      <td>...</td>\n",
       "      <td>...</td>\n",
       "    </tr>\n",
       "    <tr>\n",
       "      <th>5285</th>\n",
       "      <td>2017-12-31 19:59:59</td>\n",
       "      <td>173.957757</td>\n",
       "      <td>15.963399</td>\n",
       "      <td>8.070000</td>\n",
       "      <td>0.896701</td>\n",
       "      <td>1401.930554</td>\n",
       "      <td>-499.728848</td>\n",
       "      <td>1401.441445</td>\n",
       "      <td>-499.193423</td>\n",
       "      <td>1399.810313</td>\n",
       "      <td>...</td>\n",
       "      <td>13.995957</td>\n",
       "      <td>-500.157454</td>\n",
       "      <td>12.069155</td>\n",
       "      <td>-499.673279</td>\n",
       "      <td>7.977259</td>\n",
       "      <td>-499.516126</td>\n",
       "      <td>5.933319</td>\n",
       "      <td>-499.965973</td>\n",
       "      <td>8.987171</td>\n",
       "      <td>-499.755909</td>\n",
       "    </tr>\n",
       "    <tr>\n",
       "      <th>5286</th>\n",
       "      <td>2017-12-31 20:59:59</td>\n",
       "      <td>172.910270</td>\n",
       "      <td>16.002605</td>\n",
       "      <td>8.070000</td>\n",
       "      <td>0.896519</td>\n",
       "      <td>1447.075722</td>\n",
       "      <td>-494.716823</td>\n",
       "      <td>1448.851892</td>\n",
       "      <td>-465.963026</td>\n",
       "      <td>1443.890424</td>\n",
       "      <td>...</td>\n",
       "      <td>16.749781</td>\n",
       "      <td>-496.031539</td>\n",
       "      <td>13.365371</td>\n",
       "      <td>-499.122723</td>\n",
       "      <td>9.288553</td>\n",
       "      <td>-496.892967</td>\n",
       "      <td>7.372897</td>\n",
       "      <td>-499.942956</td>\n",
       "      <td>8.986832</td>\n",
       "      <td>-499.903761</td>\n",
       "    </tr>\n",
       "    <tr>\n",
       "      <th>5287</th>\n",
       "      <td>2017-12-31 21:59:59</td>\n",
       "      <td>171.135718</td>\n",
       "      <td>15.993669</td>\n",
       "      <td>8.070000</td>\n",
       "      <td>1.165996</td>\n",
       "      <td>1498.836182</td>\n",
       "      <td>-501.770403</td>\n",
       "      <td>1499.572353</td>\n",
       "      <td>-495.516347</td>\n",
       "      <td>1502.749213</td>\n",
       "      <td>...</td>\n",
       "      <td>19.994130</td>\n",
       "      <td>-499.791312</td>\n",
       "      <td>15.101425</td>\n",
       "      <td>-499.936252</td>\n",
       "      <td>10.989181</td>\n",
       "      <td>-498.347898</td>\n",
       "      <td>9.020944</td>\n",
       "      <td>-500.040448</td>\n",
       "      <td>8.982038</td>\n",
       "      <td>-497.789882</td>\n",
       "    </tr>\n",
       "    <tr>\n",
       "      <th>5288</th>\n",
       "      <td>2017-12-31 22:59:59</td>\n",
       "      <td>179.697158</td>\n",
       "      <td>15.438979</td>\n",
       "      <td>8.070000</td>\n",
       "      <td>1.501068</td>\n",
       "      <td>1498.466243</td>\n",
       "      <td>-500.483984</td>\n",
       "      <td>1497.986986</td>\n",
       "      <td>-519.200340</td>\n",
       "      <td>1496.569047</td>\n",
       "      <td>...</td>\n",
       "      <td>19.958760</td>\n",
       "      <td>-499.958750</td>\n",
       "      <td>15.026853</td>\n",
       "      <td>-499.723143</td>\n",
       "      <td>11.011607</td>\n",
       "      <td>-499.985046</td>\n",
       "      <td>9.009783</td>\n",
       "      <td>-499.937902</td>\n",
       "      <td>9.012660</td>\n",
       "      <td>-500.154284</td>\n",
       "    </tr>\n",
       "    <tr>\n",
       "      <th>5289</th>\n",
       "      <td>2017-12-31 23:59:59</td>\n",
       "      <td>181.556856</td>\n",
       "      <td>14.995850</td>\n",
       "      <td>8.070000</td>\n",
       "      <td>1.623454</td>\n",
       "      <td>1498.096303</td>\n",
       "      <td>-499.796922</td>\n",
       "      <td>1501.743791</td>\n",
       "      <td>-505.146931</td>\n",
       "      <td>1499.535978</td>\n",
       "      <td>...</td>\n",
       "      <td>20.034715</td>\n",
       "      <td>-500.728588</td>\n",
       "      <td>14.914199</td>\n",
       "      <td>-499.948518</td>\n",
       "      <td>10.986607</td>\n",
       "      <td>-500.658027</td>\n",
       "      <td>8.989497</td>\n",
       "      <td>-500.337588</td>\n",
       "      <td>8.988632</td>\n",
       "      <td>-500.764937</td>\n",
       "    </tr>\n",
       "  </tbody>\n",
       "</table>\n",
       "<p>5290 rows × 53 columns</p>\n",
       "</div>"
      ],
      "text/plain": [
       "                     date  primary_cleaner.input.sulfate  \\\n",
       "0     2016-09-01 00:59:59                     210.800909   \n",
       "1     2016-09-01 01:59:59                     215.392455   \n",
       "2     2016-09-01 02:59:59                     215.259946   \n",
       "3     2016-09-01 03:59:59                     215.336236   \n",
       "4     2016-09-01 04:59:59                     199.099327   \n",
       "...                   ...                            ...   \n",
       "5285  2017-12-31 19:59:59                     173.957757   \n",
       "5286  2017-12-31 20:59:59                     172.910270   \n",
       "5287  2017-12-31 21:59:59                     171.135718   \n",
       "5288  2017-12-31 22:59:59                     179.697158   \n",
       "5289  2017-12-31 23:59:59                     181.556856   \n",
       "\n",
       "      primary_cleaner.input.depressant  primary_cleaner.input.feed_size  \\\n",
       "0                            14.993118                         8.080000   \n",
       "1                            14.987471                         8.080000   \n",
       "2                            12.884934                         7.786667   \n",
       "3                            12.006805                         7.640000   \n",
       "4                            10.682530                         7.530000   \n",
       "...                                ...                              ...   \n",
       "5285                         15.963399                         8.070000   \n",
       "5286                         16.002605                         8.070000   \n",
       "5287                         15.993669                         8.070000   \n",
       "5288                         15.438979                         8.070000   \n",
       "5289                         14.995850                         8.070000   \n",
       "\n",
       "      primary_cleaner.input.xanthate  primary_cleaner.state.floatbank8_a_air  \\\n",
       "0                           1.005021                             1398.981301   \n",
       "1                           0.990469                             1398.777912   \n",
       "2                           0.996043                             1398.493666   \n",
       "3                           0.863514                             1399.618111   \n",
       "4                           0.805575                             1401.268123   \n",
       "...                              ...                                     ...   \n",
       "5285                        0.896701                             1401.930554   \n",
       "5286                        0.896519                             1447.075722   \n",
       "5287                        1.165996                             1498.836182   \n",
       "5288                        1.501068                             1498.466243   \n",
       "5289                        1.623454                             1498.096303   \n",
       "\n",
       "      primary_cleaner.state.floatbank8_a_level  \\\n",
       "0                                  -500.225577   \n",
       "1                                  -500.057435   \n",
       "2                                  -500.868360   \n",
       "3                                  -498.863574   \n",
       "4                                  -500.808305   \n",
       "...                                        ...   \n",
       "5285                               -499.728848   \n",
       "5286                               -494.716823   \n",
       "5287                               -501.770403   \n",
       "5288                               -500.483984   \n",
       "5289                               -499.796922   \n",
       "\n",
       "      primary_cleaner.state.floatbank8_b_air  \\\n",
       "0                                1399.144926   \n",
       "1                                1398.055362   \n",
       "2                                1398.860436   \n",
       "3                                1397.440120   \n",
       "4                                1398.128818   \n",
       "...                                      ...   \n",
       "5285                             1401.441445   \n",
       "5286                             1448.851892   \n",
       "5287                             1499.572353   \n",
       "5288                             1497.986986   \n",
       "5289                             1501.743791   \n",
       "\n",
       "      primary_cleaner.state.floatbank8_b_level  \\\n",
       "0                                  -499.919735   \n",
       "1                                  -499.778182   \n",
       "2                                  -499.764529   \n",
       "3                                  -499.211024   \n",
       "4                                  -499.504543   \n",
       "...                                        ...   \n",
       "5285                               -499.193423   \n",
       "5286                               -465.963026   \n",
       "5287                               -495.516347   \n",
       "5288                               -519.200340   \n",
       "5289                               -505.146931   \n",
       "\n",
       "      primary_cleaner.state.floatbank8_c_air  ...  \\\n",
       "0                                1400.102998  ...   \n",
       "1                                1396.151033  ...   \n",
       "2                                1398.075709  ...   \n",
       "3                                1400.129303  ...   \n",
       "4                                1402.172226  ...   \n",
       "...                                      ...  ...   \n",
       "5285                             1399.810313  ...   \n",
       "5286                             1443.890424  ...   \n",
       "5287                             1502.749213  ...   \n",
       "5288                             1496.569047  ...   \n",
       "5289                             1499.535978  ...   \n",
       "\n",
       "      secondary_cleaner.state.floatbank4_a_air  \\\n",
       "0                                    12.023554   \n",
       "1                                    12.058140   \n",
       "2                                    11.962366   \n",
       "3                                    12.033091   \n",
       "4                                    12.025367   \n",
       "...                                        ...   \n",
       "5285                                 13.995957   \n",
       "5286                                 16.749781   \n",
       "5287                                 19.994130   \n",
       "5288                                 19.958760   \n",
       "5289                                 20.034715   \n",
       "\n",
       "      secondary_cleaner.state.floatbank4_a_level  \\\n",
       "0                                    -497.795834   \n",
       "1                                    -498.695773   \n",
       "2                                    -498.767484   \n",
       "3                                    -498.350935   \n",
       "4                                    -500.786497   \n",
       "...                                          ...   \n",
       "5285                                 -500.157454   \n",
       "5286                                 -496.031539   \n",
       "5287                                 -499.791312   \n",
       "5288                                 -499.958750   \n",
       "5289                                 -500.728588   \n",
       "\n",
       "      secondary_cleaner.state.floatbank4_b_air  \\\n",
       "0                                     8.016656   \n",
       "1                                     8.130979   \n",
       "2                                     8.096893   \n",
       "3                                     8.074946   \n",
       "4                                     8.054678   \n",
       "...                                        ...   \n",
       "5285                                 12.069155   \n",
       "5286                                 13.365371   \n",
       "5287                                 15.101425   \n",
       "5288                                 15.026853   \n",
       "5289                                 14.914199   \n",
       "\n",
       "      secondary_cleaner.state.floatbank4_b_level  \\\n",
       "0                                    -501.289139   \n",
       "1                                    -499.634209   \n",
       "2                                    -500.827423   \n",
       "3                                    -499.474407   \n",
       "4                                    -500.397500   \n",
       "...                                          ...   \n",
       "5285                                 -499.673279   \n",
       "5286                                 -499.122723   \n",
       "5287                                 -499.936252   \n",
       "5288                                 -499.723143   \n",
       "5289                                 -499.948518   \n",
       "\n",
       "      secondary_cleaner.state.floatbank5_a_air  \\\n",
       "0                                     7.946562   \n",
       "1                                     7.958270   \n",
       "2                                     8.071056   \n",
       "3                                     7.897085   \n",
       "4                                     8.107890   \n",
       "...                                        ...   \n",
       "5285                                  7.977259   \n",
       "5286                                  9.288553   \n",
       "5287                                 10.989181   \n",
       "5288                                 11.011607   \n",
       "5289                                 10.986607   \n",
       "\n",
       "      secondary_cleaner.state.floatbank5_a_level  \\\n",
       "0                                    -432.317850   \n",
       "1                                    -525.839648   \n",
       "2                                    -500.801673   \n",
       "3                                    -500.868509   \n",
       "4                                    -509.526725   \n",
       "...                                          ...   \n",
       "5285                                 -499.516126   \n",
       "5286                                 -496.892967   \n",
       "5287                                 -498.347898   \n",
       "5288                                 -499.985046   \n",
       "5289                                 -500.658027   \n",
       "\n",
       "      secondary_cleaner.state.floatbank5_b_air  \\\n",
       "0                                     4.872511   \n",
       "1                                     4.878850   \n",
       "2                                     4.905125   \n",
       "3                                     4.931400   \n",
       "4                                     4.957674   \n",
       "...                                        ...   \n",
       "5285                                  5.933319   \n",
       "5286                                  7.372897   \n",
       "5287                                  9.020944   \n",
       "5288                                  9.009783   \n",
       "5289                                  8.989497   \n",
       "\n",
       "      secondary_cleaner.state.floatbank5_b_level  \\\n",
       "0                                    -500.037437   \n",
       "1                                    -500.162375   \n",
       "2                                    -499.828510   \n",
       "3                                    -499.963623   \n",
       "4                                    -500.360026   \n",
       "...                                          ...   \n",
       "5285                                 -499.965973   \n",
       "5286                                 -499.942956   \n",
       "5287                                 -500.040448   \n",
       "5288                                 -499.937902   \n",
       "5289                                 -500.337588   \n",
       "\n",
       "      secondary_cleaner.state.floatbank6_a_air  \\\n",
       "0                                    26.705889   \n",
       "1                                    25.019940   \n",
       "2                                    24.994862   \n",
       "3                                    24.948919   \n",
       "4                                    25.003331   \n",
       "...                                        ...   \n",
       "5285                                  8.987171   \n",
       "5286                                  8.986832   \n",
       "5287                                  8.982038   \n",
       "5288                                  9.012660   \n",
       "5289                                  8.988632   \n",
       "\n",
       "      secondary_cleaner.state.floatbank6_a_level  \n",
       "0                                    -499.709414  \n",
       "1                                    -499.819438  \n",
       "2                                    -500.622559  \n",
       "3                                    -498.709987  \n",
       "4                                    -500.856333  \n",
       "...                                          ...  \n",
       "5285                                 -499.755909  \n",
       "5286                                 -499.903761  \n",
       "5287                                 -497.789882  \n",
       "5288                                 -500.154284  \n",
       "5289                                 -500.764937  \n",
       "\n",
       "[5290 rows x 53 columns]"
      ]
     },
     "execution_count": 5,
     "metadata": {},
     "output_type": "execute_result"
    }
   ],
   "source": [
    "df_test"
   ]
  },
  {
   "cell_type": "code",
   "execution_count": 6,
   "metadata": {},
   "outputs": [
    {
     "name": "stdout",
     "output_type": "stream",
     "text": [
      "<class 'pandas.core.frame.DataFrame'>\n",
      "RangeIndex: 5290 entries, 0 to 5289\n",
      "Data columns (total 53 columns):\n",
      " #   Column                                      Non-Null Count  Dtype  \n",
      "---  ------                                      --------------  -----  \n",
      " 0   date                                        5290 non-null   object \n",
      " 1   primary_cleaner.input.sulfate               5286 non-null   float64\n",
      " 2   primary_cleaner.input.depressant            5285 non-null   float64\n",
      " 3   primary_cleaner.input.feed_size             5290 non-null   float64\n",
      " 4   primary_cleaner.input.xanthate              5286 non-null   float64\n",
      " 5   primary_cleaner.state.floatbank8_a_air      5290 non-null   float64\n",
      " 6   primary_cleaner.state.floatbank8_a_level    5290 non-null   float64\n",
      " 7   primary_cleaner.state.floatbank8_b_air      5290 non-null   float64\n",
      " 8   primary_cleaner.state.floatbank8_b_level    5290 non-null   float64\n",
      " 9   primary_cleaner.state.floatbank8_c_air      5290 non-null   float64\n",
      " 10  primary_cleaner.state.floatbank8_c_level    5290 non-null   float64\n",
      " 11  primary_cleaner.state.floatbank8_d_air      5290 non-null   float64\n",
      " 12  primary_cleaner.state.floatbank8_d_level    5290 non-null   float64\n",
      " 13  rougher.input.feed_ag                       5290 non-null   float64\n",
      " 14  rougher.input.feed_pb                       5290 non-null   float64\n",
      " 15  rougher.input.feed_rate                     5287 non-null   float64\n",
      " 16  rougher.input.feed_size                     5289 non-null   float64\n",
      " 17  rougher.input.feed_sol                      5269 non-null   float64\n",
      " 18  rougher.input.feed_au                       5290 non-null   float64\n",
      " 19  rougher.input.floatbank10_sulfate           5285 non-null   float64\n",
      " 20  rougher.input.floatbank10_xanthate          5290 non-null   float64\n",
      " 21  rougher.input.floatbank11_sulfate           5282 non-null   float64\n",
      " 22  rougher.input.floatbank11_xanthate          5265 non-null   float64\n",
      " 23  rougher.state.floatbank10_a_air             5290 non-null   float64\n",
      " 24  rougher.state.floatbank10_a_level           5290 non-null   float64\n",
      " 25  rougher.state.floatbank10_b_air             5290 non-null   float64\n",
      " 26  rougher.state.floatbank10_b_level           5290 non-null   float64\n",
      " 27  rougher.state.floatbank10_c_air             5290 non-null   float64\n",
      " 28  rougher.state.floatbank10_c_level           5290 non-null   float64\n",
      " 29  rougher.state.floatbank10_d_air             5290 non-null   float64\n",
      " 30  rougher.state.floatbank10_d_level           5290 non-null   float64\n",
      " 31  rougher.state.floatbank10_e_air             5290 non-null   float64\n",
      " 32  rougher.state.floatbank10_e_level           5290 non-null   float64\n",
      " 33  rougher.state.floatbank10_f_air             5290 non-null   float64\n",
      " 34  rougher.state.floatbank10_f_level           5290 non-null   float64\n",
      " 35  secondary_cleaner.state.floatbank2_a_air    5287 non-null   float64\n",
      " 36  secondary_cleaner.state.floatbank2_a_level  5290 non-null   float64\n",
      " 37  secondary_cleaner.state.floatbank2_b_air    5288 non-null   float64\n",
      " 38  secondary_cleaner.state.floatbank2_b_level  5290 non-null   float64\n",
      " 39  secondary_cleaner.state.floatbank3_a_air    5281 non-null   float64\n",
      " 40  secondary_cleaner.state.floatbank3_a_level  5290 non-null   float64\n",
      " 41  secondary_cleaner.state.floatbank3_b_air    5290 non-null   float64\n",
      " 42  secondary_cleaner.state.floatbank3_b_level  5290 non-null   float64\n",
      " 43  secondary_cleaner.state.floatbank4_a_air    5290 non-null   float64\n",
      " 44  secondary_cleaner.state.floatbank4_a_level  5290 non-null   float64\n",
      " 45  secondary_cleaner.state.floatbank4_b_air    5290 non-null   float64\n",
      " 46  secondary_cleaner.state.floatbank4_b_level  5290 non-null   float64\n",
      " 47  secondary_cleaner.state.floatbank5_a_air    5290 non-null   float64\n",
      " 48  secondary_cleaner.state.floatbank5_a_level  5290 non-null   float64\n",
      " 49  secondary_cleaner.state.floatbank5_b_air    5290 non-null   float64\n",
      " 50  secondary_cleaner.state.floatbank5_b_level  5290 non-null   float64\n",
      " 51  secondary_cleaner.state.floatbank6_a_air    5290 non-null   float64\n",
      " 52  secondary_cleaner.state.floatbank6_a_level  5290 non-null   float64\n",
      "dtypes: float64(52), object(1)\n",
      "memory usage: 2.1+ MB\n"
     ]
    }
   ],
   "source": [
    "df_test.info()"
   ]
  },
  {
   "cell_type": "code",
   "execution_count": 7,
   "metadata": {},
   "outputs": [
    {
     "data": {
      "text/html": [
       "<div>\n",
       "<style scoped>\n",
       "    .dataframe tbody tr th:only-of-type {\n",
       "        vertical-align: middle;\n",
       "    }\n",
       "\n",
       "    .dataframe tbody tr th {\n",
       "        vertical-align: top;\n",
       "    }\n",
       "\n",
       "    .dataframe thead th {\n",
       "        text-align: right;\n",
       "    }\n",
       "</style>\n",
       "<table border=\"1\" class=\"dataframe\">\n",
       "  <thead>\n",
       "    <tr style=\"text-align: right;\">\n",
       "      <th></th>\n",
       "      <th>date</th>\n",
       "      <th>final.output.concentrate_ag</th>\n",
       "      <th>final.output.concentrate_pb</th>\n",
       "      <th>final.output.concentrate_sol</th>\n",
       "      <th>final.output.concentrate_au</th>\n",
       "      <th>final.output.recovery</th>\n",
       "      <th>final.output.tail_ag</th>\n",
       "      <th>final.output.tail_pb</th>\n",
       "      <th>final.output.tail_sol</th>\n",
       "      <th>final.output.tail_au</th>\n",
       "      <th>...</th>\n",
       "      <th>secondary_cleaner.state.floatbank4_a_air</th>\n",
       "      <th>secondary_cleaner.state.floatbank4_a_level</th>\n",
       "      <th>secondary_cleaner.state.floatbank4_b_air</th>\n",
       "      <th>secondary_cleaner.state.floatbank4_b_level</th>\n",
       "      <th>secondary_cleaner.state.floatbank5_a_air</th>\n",
       "      <th>secondary_cleaner.state.floatbank5_a_level</th>\n",
       "      <th>secondary_cleaner.state.floatbank5_b_air</th>\n",
       "      <th>secondary_cleaner.state.floatbank5_b_level</th>\n",
       "      <th>secondary_cleaner.state.floatbank6_a_air</th>\n",
       "      <th>secondary_cleaner.state.floatbank6_a_level</th>\n",
       "    </tr>\n",
       "  </thead>\n",
       "  <tbody>\n",
       "    <tr>\n",
       "      <th>0</th>\n",
       "      <td>2016-01-15 00:00:00</td>\n",
       "      <td>6.055403</td>\n",
       "      <td>9.889648</td>\n",
       "      <td>5.507324</td>\n",
       "      <td>42.192020</td>\n",
       "      <td>70.541216</td>\n",
       "      <td>10.411962</td>\n",
       "      <td>0.895447</td>\n",
       "      <td>16.904297</td>\n",
       "      <td>2.143149</td>\n",
       "      <td>...</td>\n",
       "      <td>14.016835</td>\n",
       "      <td>-502.488007</td>\n",
       "      <td>12.099931</td>\n",
       "      <td>-504.715942</td>\n",
       "      <td>9.925633</td>\n",
       "      <td>-498.310211</td>\n",
       "      <td>8.079666</td>\n",
       "      <td>-500.470978</td>\n",
       "      <td>14.151341</td>\n",
       "      <td>-605.841980</td>\n",
       "    </tr>\n",
       "    <tr>\n",
       "      <th>1</th>\n",
       "      <td>2016-01-15 01:00:00</td>\n",
       "      <td>6.029369</td>\n",
       "      <td>9.968944</td>\n",
       "      <td>5.257781</td>\n",
       "      <td>42.701629</td>\n",
       "      <td>69.266198</td>\n",
       "      <td>10.462676</td>\n",
       "      <td>0.927452</td>\n",
       "      <td>16.634514</td>\n",
       "      <td>2.224930</td>\n",
       "      <td>...</td>\n",
       "      <td>13.992281</td>\n",
       "      <td>-505.503262</td>\n",
       "      <td>11.950531</td>\n",
       "      <td>-501.331529</td>\n",
       "      <td>10.039245</td>\n",
       "      <td>-500.169983</td>\n",
       "      <td>7.984757</td>\n",
       "      <td>-500.582168</td>\n",
       "      <td>13.998353</td>\n",
       "      <td>-599.787184</td>\n",
       "    </tr>\n",
       "    <tr>\n",
       "      <th>2</th>\n",
       "      <td>2016-01-15 02:00:00</td>\n",
       "      <td>6.055926</td>\n",
       "      <td>10.213995</td>\n",
       "      <td>5.383759</td>\n",
       "      <td>42.657501</td>\n",
       "      <td>68.116445</td>\n",
       "      <td>10.507046</td>\n",
       "      <td>0.953716</td>\n",
       "      <td>16.208849</td>\n",
       "      <td>2.257889</td>\n",
       "      <td>...</td>\n",
       "      <td>14.015015</td>\n",
       "      <td>-502.520901</td>\n",
       "      <td>11.912783</td>\n",
       "      <td>-501.133383</td>\n",
       "      <td>10.070913</td>\n",
       "      <td>-500.129135</td>\n",
       "      <td>8.013877</td>\n",
       "      <td>-500.517572</td>\n",
       "      <td>14.028663</td>\n",
       "      <td>-601.427363</td>\n",
       "    </tr>\n",
       "    <tr>\n",
       "      <th>3</th>\n",
       "      <td>2016-01-15 03:00:00</td>\n",
       "      <td>6.047977</td>\n",
       "      <td>9.977019</td>\n",
       "      <td>4.858634</td>\n",
       "      <td>42.689819</td>\n",
       "      <td>68.347543</td>\n",
       "      <td>10.422762</td>\n",
       "      <td>0.883763</td>\n",
       "      <td>16.532835</td>\n",
       "      <td>2.146849</td>\n",
       "      <td>...</td>\n",
       "      <td>14.036510</td>\n",
       "      <td>-500.857308</td>\n",
       "      <td>11.999550</td>\n",
       "      <td>-501.193686</td>\n",
       "      <td>9.970366</td>\n",
       "      <td>-499.201640</td>\n",
       "      <td>7.977324</td>\n",
       "      <td>-500.255908</td>\n",
       "      <td>14.005551</td>\n",
       "      <td>-599.996129</td>\n",
       "    </tr>\n",
       "    <tr>\n",
       "      <th>4</th>\n",
       "      <td>2016-01-15 04:00:00</td>\n",
       "      <td>6.148599</td>\n",
       "      <td>10.142511</td>\n",
       "      <td>4.939416</td>\n",
       "      <td>42.774141</td>\n",
       "      <td>66.927016</td>\n",
       "      <td>10.360302</td>\n",
       "      <td>0.792826</td>\n",
       "      <td>16.525686</td>\n",
       "      <td>2.055292</td>\n",
       "      <td>...</td>\n",
       "      <td>14.027298</td>\n",
       "      <td>-499.838632</td>\n",
       "      <td>11.953070</td>\n",
       "      <td>-501.053894</td>\n",
       "      <td>9.925709</td>\n",
       "      <td>-501.686727</td>\n",
       "      <td>7.894242</td>\n",
       "      <td>-500.356035</td>\n",
       "      <td>13.996647</td>\n",
       "      <td>-601.496691</td>\n",
       "    </tr>\n",
       "    <tr>\n",
       "      <th>...</th>\n",
       "      <td>...</td>\n",
       "      <td>...</td>\n",
       "      <td>...</td>\n",
       "      <td>...</td>\n",
       "      <td>...</td>\n",
       "      <td>...</td>\n",
       "      <td>...</td>\n",
       "      <td>...</td>\n",
       "      <td>...</td>\n",
       "      <td>...</td>\n",
       "      <td>...</td>\n",
       "      <td>...</td>\n",
       "      <td>...</td>\n",
       "      <td>...</td>\n",
       "      <td>...</td>\n",
       "      <td>...</td>\n",
       "      <td>...</td>\n",
       "      <td>...</td>\n",
       "      <td>...</td>\n",
       "      <td>...</td>\n",
       "      <td>...</td>\n",
       "    </tr>\n",
       "    <tr>\n",
       "      <th>19434</th>\n",
       "      <td>2018-08-18 06:59:59</td>\n",
       "      <td>3.224920</td>\n",
       "      <td>11.356233</td>\n",
       "      <td>6.803482</td>\n",
       "      <td>46.713954</td>\n",
       "      <td>73.755150</td>\n",
       "      <td>8.769645</td>\n",
       "      <td>3.141541</td>\n",
       "      <td>10.403181</td>\n",
       "      <td>1.529220</td>\n",
       "      <td>...</td>\n",
       "      <td>23.031497</td>\n",
       "      <td>-501.167942</td>\n",
       "      <td>20.007571</td>\n",
       "      <td>-499.740028</td>\n",
       "      <td>18.006038</td>\n",
       "      <td>-499.834374</td>\n",
       "      <td>13.001114</td>\n",
       "      <td>-500.155694</td>\n",
       "      <td>20.007840</td>\n",
       "      <td>-501.296428</td>\n",
       "    </tr>\n",
       "    <tr>\n",
       "      <th>19435</th>\n",
       "      <td>2018-08-18 07:59:59</td>\n",
       "      <td>3.195978</td>\n",
       "      <td>11.349355</td>\n",
       "      <td>6.862249</td>\n",
       "      <td>46.866780</td>\n",
       "      <td>69.049291</td>\n",
       "      <td>8.897321</td>\n",
       "      <td>3.130493</td>\n",
       "      <td>10.549470</td>\n",
       "      <td>1.612542</td>\n",
       "      <td>...</td>\n",
       "      <td>22.960095</td>\n",
       "      <td>-501.612783</td>\n",
       "      <td>20.035660</td>\n",
       "      <td>-500.251357</td>\n",
       "      <td>17.998535</td>\n",
       "      <td>-500.395178</td>\n",
       "      <td>12.954048</td>\n",
       "      <td>-499.895163</td>\n",
       "      <td>19.968498</td>\n",
       "      <td>-501.041608</td>\n",
       "    </tr>\n",
       "    <tr>\n",
       "      <th>19436</th>\n",
       "      <td>2018-08-18 08:59:59</td>\n",
       "      <td>3.109998</td>\n",
       "      <td>11.434366</td>\n",
       "      <td>6.886013</td>\n",
       "      <td>46.795691</td>\n",
       "      <td>67.002189</td>\n",
       "      <td>8.529606</td>\n",
       "      <td>2.911418</td>\n",
       "      <td>11.115147</td>\n",
       "      <td>1.596616</td>\n",
       "      <td>...</td>\n",
       "      <td>23.015718</td>\n",
       "      <td>-501.711599</td>\n",
       "      <td>19.951231</td>\n",
       "      <td>-499.857027</td>\n",
       "      <td>18.019543</td>\n",
       "      <td>-500.451156</td>\n",
       "      <td>13.023431</td>\n",
       "      <td>-499.914391</td>\n",
       "      <td>19.990885</td>\n",
       "      <td>-501.518452</td>\n",
       "    </tr>\n",
       "    <tr>\n",
       "      <th>19437</th>\n",
       "      <td>2018-08-18 09:59:59</td>\n",
       "      <td>3.367241</td>\n",
       "      <td>11.625587</td>\n",
       "      <td>6.799433</td>\n",
       "      <td>46.408188</td>\n",
       "      <td>65.523246</td>\n",
       "      <td>8.777171</td>\n",
       "      <td>2.819214</td>\n",
       "      <td>10.463847</td>\n",
       "      <td>1.602879</td>\n",
       "      <td>...</td>\n",
       "      <td>23.024963</td>\n",
       "      <td>-501.153409</td>\n",
       "      <td>20.054122</td>\n",
       "      <td>-500.314711</td>\n",
       "      <td>17.979515</td>\n",
       "      <td>-499.272871</td>\n",
       "      <td>12.992404</td>\n",
       "      <td>-499.976268</td>\n",
       "      <td>20.013986</td>\n",
       "      <td>-500.625471</td>\n",
       "    </tr>\n",
       "    <tr>\n",
       "      <th>19438</th>\n",
       "      <td>2018-08-18 10:59:59</td>\n",
       "      <td>3.598375</td>\n",
       "      <td>11.737832</td>\n",
       "      <td>6.717509</td>\n",
       "      <td>46.299438</td>\n",
       "      <td>70.281454</td>\n",
       "      <td>8.406690</td>\n",
       "      <td>2.517518</td>\n",
       "      <td>10.652193</td>\n",
       "      <td>1.389434</td>\n",
       "      <td>...</td>\n",
       "      <td>23.018622</td>\n",
       "      <td>-500.492702</td>\n",
       "      <td>20.020205</td>\n",
       "      <td>-500.220296</td>\n",
       "      <td>17.963512</td>\n",
       "      <td>-499.939490</td>\n",
       "      <td>12.990306</td>\n",
       "      <td>-500.080993</td>\n",
       "      <td>19.990336</td>\n",
       "      <td>-499.191575</td>\n",
       "    </tr>\n",
       "  </tbody>\n",
       "</table>\n",
       "<p>19439 rows × 87 columns</p>\n",
       "</div>"
      ],
      "text/plain": [
       "                      date  final.output.concentrate_ag  \\\n",
       "0      2016-01-15 00:00:00                     6.055403   \n",
       "1      2016-01-15 01:00:00                     6.029369   \n",
       "2      2016-01-15 02:00:00                     6.055926   \n",
       "3      2016-01-15 03:00:00                     6.047977   \n",
       "4      2016-01-15 04:00:00                     6.148599   \n",
       "...                    ...                          ...   \n",
       "19434  2018-08-18 06:59:59                     3.224920   \n",
       "19435  2018-08-18 07:59:59                     3.195978   \n",
       "19436  2018-08-18 08:59:59                     3.109998   \n",
       "19437  2018-08-18 09:59:59                     3.367241   \n",
       "19438  2018-08-18 10:59:59                     3.598375   \n",
       "\n",
       "       final.output.concentrate_pb  final.output.concentrate_sol  \\\n",
       "0                         9.889648                      5.507324   \n",
       "1                         9.968944                      5.257781   \n",
       "2                        10.213995                      5.383759   \n",
       "3                         9.977019                      4.858634   \n",
       "4                        10.142511                      4.939416   \n",
       "...                            ...                           ...   \n",
       "19434                    11.356233                      6.803482   \n",
       "19435                    11.349355                      6.862249   \n",
       "19436                    11.434366                      6.886013   \n",
       "19437                    11.625587                      6.799433   \n",
       "19438                    11.737832                      6.717509   \n",
       "\n",
       "       final.output.concentrate_au  final.output.recovery  \\\n",
       "0                        42.192020              70.541216   \n",
       "1                        42.701629              69.266198   \n",
       "2                        42.657501              68.116445   \n",
       "3                        42.689819              68.347543   \n",
       "4                        42.774141              66.927016   \n",
       "...                            ...                    ...   \n",
       "19434                    46.713954              73.755150   \n",
       "19435                    46.866780              69.049291   \n",
       "19436                    46.795691              67.002189   \n",
       "19437                    46.408188              65.523246   \n",
       "19438                    46.299438              70.281454   \n",
       "\n",
       "       final.output.tail_ag  final.output.tail_pb  final.output.tail_sol  \\\n",
       "0                 10.411962              0.895447              16.904297   \n",
       "1                 10.462676              0.927452              16.634514   \n",
       "2                 10.507046              0.953716              16.208849   \n",
       "3                 10.422762              0.883763              16.532835   \n",
       "4                 10.360302              0.792826              16.525686   \n",
       "...                     ...                   ...                    ...   \n",
       "19434              8.769645              3.141541              10.403181   \n",
       "19435              8.897321              3.130493              10.549470   \n",
       "19436              8.529606              2.911418              11.115147   \n",
       "19437              8.777171              2.819214              10.463847   \n",
       "19438              8.406690              2.517518              10.652193   \n",
       "\n",
       "       final.output.tail_au  ...  secondary_cleaner.state.floatbank4_a_air  \\\n",
       "0                  2.143149  ...                                 14.016835   \n",
       "1                  2.224930  ...                                 13.992281   \n",
       "2                  2.257889  ...                                 14.015015   \n",
       "3                  2.146849  ...                                 14.036510   \n",
       "4                  2.055292  ...                                 14.027298   \n",
       "...                     ...  ...                                       ...   \n",
       "19434              1.529220  ...                                 23.031497   \n",
       "19435              1.612542  ...                                 22.960095   \n",
       "19436              1.596616  ...                                 23.015718   \n",
       "19437              1.602879  ...                                 23.024963   \n",
       "19438              1.389434  ...                                 23.018622   \n",
       "\n",
       "       secondary_cleaner.state.floatbank4_a_level  \\\n",
       "0                                     -502.488007   \n",
       "1                                     -505.503262   \n",
       "2                                     -502.520901   \n",
       "3                                     -500.857308   \n",
       "4                                     -499.838632   \n",
       "...                                           ...   \n",
       "19434                                 -501.167942   \n",
       "19435                                 -501.612783   \n",
       "19436                                 -501.711599   \n",
       "19437                                 -501.153409   \n",
       "19438                                 -500.492702   \n",
       "\n",
       "       secondary_cleaner.state.floatbank4_b_air  \\\n",
       "0                                     12.099931   \n",
       "1                                     11.950531   \n",
       "2                                     11.912783   \n",
       "3                                     11.999550   \n",
       "4                                     11.953070   \n",
       "...                                         ...   \n",
       "19434                                 20.007571   \n",
       "19435                                 20.035660   \n",
       "19436                                 19.951231   \n",
       "19437                                 20.054122   \n",
       "19438                                 20.020205   \n",
       "\n",
       "       secondary_cleaner.state.floatbank4_b_level  \\\n",
       "0                                     -504.715942   \n",
       "1                                     -501.331529   \n",
       "2                                     -501.133383   \n",
       "3                                     -501.193686   \n",
       "4                                     -501.053894   \n",
       "...                                           ...   \n",
       "19434                                 -499.740028   \n",
       "19435                                 -500.251357   \n",
       "19436                                 -499.857027   \n",
       "19437                                 -500.314711   \n",
       "19438                                 -500.220296   \n",
       "\n",
       "       secondary_cleaner.state.floatbank5_a_air  \\\n",
       "0                                      9.925633   \n",
       "1                                     10.039245   \n",
       "2                                     10.070913   \n",
       "3                                      9.970366   \n",
       "4                                      9.925709   \n",
       "...                                         ...   \n",
       "19434                                 18.006038   \n",
       "19435                                 17.998535   \n",
       "19436                                 18.019543   \n",
       "19437                                 17.979515   \n",
       "19438                                 17.963512   \n",
       "\n",
       "       secondary_cleaner.state.floatbank5_a_level  \\\n",
       "0                                     -498.310211   \n",
       "1                                     -500.169983   \n",
       "2                                     -500.129135   \n",
       "3                                     -499.201640   \n",
       "4                                     -501.686727   \n",
       "...                                           ...   \n",
       "19434                                 -499.834374   \n",
       "19435                                 -500.395178   \n",
       "19436                                 -500.451156   \n",
       "19437                                 -499.272871   \n",
       "19438                                 -499.939490   \n",
       "\n",
       "       secondary_cleaner.state.floatbank5_b_air  \\\n",
       "0                                      8.079666   \n",
       "1                                      7.984757   \n",
       "2                                      8.013877   \n",
       "3                                      7.977324   \n",
       "4                                      7.894242   \n",
       "...                                         ...   \n",
       "19434                                 13.001114   \n",
       "19435                                 12.954048   \n",
       "19436                                 13.023431   \n",
       "19437                                 12.992404   \n",
       "19438                                 12.990306   \n",
       "\n",
       "       secondary_cleaner.state.floatbank5_b_level  \\\n",
       "0                                     -500.470978   \n",
       "1                                     -500.582168   \n",
       "2                                     -500.517572   \n",
       "3                                     -500.255908   \n",
       "4                                     -500.356035   \n",
       "...                                           ...   \n",
       "19434                                 -500.155694   \n",
       "19435                                 -499.895163   \n",
       "19436                                 -499.914391   \n",
       "19437                                 -499.976268   \n",
       "19438                                 -500.080993   \n",
       "\n",
       "       secondary_cleaner.state.floatbank6_a_air  \\\n",
       "0                                     14.151341   \n",
       "1                                     13.998353   \n",
       "2                                     14.028663   \n",
       "3                                     14.005551   \n",
       "4                                     13.996647   \n",
       "...                                         ...   \n",
       "19434                                 20.007840   \n",
       "19435                                 19.968498   \n",
       "19436                                 19.990885   \n",
       "19437                                 20.013986   \n",
       "19438                                 19.990336   \n",
       "\n",
       "       secondary_cleaner.state.floatbank6_a_level  \n",
       "0                                     -605.841980  \n",
       "1                                     -599.787184  \n",
       "2                                     -601.427363  \n",
       "3                                     -599.996129  \n",
       "4                                     -601.496691  \n",
       "...                                           ...  \n",
       "19434                                 -501.296428  \n",
       "19435                                 -501.041608  \n",
       "19436                                 -501.518452  \n",
       "19437                                 -500.625471  \n",
       "19438                                 -499.191575  \n",
       "\n",
       "[19439 rows x 87 columns]"
      ]
     },
     "execution_count": 7,
     "metadata": {},
     "output_type": "execute_result"
    }
   ],
   "source": [
    "df_full"
   ]
  },
  {
   "cell_type": "code",
   "execution_count": 8,
   "metadata": {},
   "outputs": [
    {
     "name": "stdout",
     "output_type": "stream",
     "text": [
      "<class 'pandas.core.frame.DataFrame'>\n",
      "RangeIndex: 19439 entries, 0 to 19438\n",
      "Data columns (total 87 columns):\n",
      " #   Column                                              Non-Null Count  Dtype  \n",
      "---  ------                                              --------------  -----  \n",
      " 0   date                                                19439 non-null  object \n",
      " 1   final.output.concentrate_ag                         19438 non-null  float64\n",
      " 2   final.output.concentrate_pb                         19438 non-null  float64\n",
      " 3   final.output.concentrate_sol                        19228 non-null  float64\n",
      " 4   final.output.concentrate_au                         19439 non-null  float64\n",
      " 5   final.output.recovery                               19439 non-null  float64\n",
      " 6   final.output.tail_ag                                19438 non-null  float64\n",
      " 7   final.output.tail_pb                                19338 non-null  float64\n",
      " 8   final.output.tail_sol                               19433 non-null  float64\n",
      " 9   final.output.tail_au                                19439 non-null  float64\n",
      " 10  primary_cleaner.input.sulfate                       19415 non-null  float64\n",
      " 11  primary_cleaner.input.depressant                    19402 non-null  float64\n",
      " 12  primary_cleaner.input.feed_size                     19439 non-null  float64\n",
      " 13  primary_cleaner.input.xanthate                      19335 non-null  float64\n",
      " 14  primary_cleaner.output.concentrate_ag               19439 non-null  float64\n",
      " 15  primary_cleaner.output.concentrate_pb               19323 non-null  float64\n",
      " 16  primary_cleaner.output.concentrate_sol              19069 non-null  float64\n",
      " 17  primary_cleaner.output.concentrate_au               19439 non-null  float64\n",
      " 18  primary_cleaner.output.tail_ag                      19435 non-null  float64\n",
      " 19  primary_cleaner.output.tail_pb                      19418 non-null  float64\n",
      " 20  primary_cleaner.output.tail_sol                     19377 non-null  float64\n",
      " 21  primary_cleaner.output.tail_au                      19439 non-null  float64\n",
      " 22  primary_cleaner.state.floatbank8_a_air              19435 non-null  float64\n",
      " 23  primary_cleaner.state.floatbank8_a_level            19438 non-null  float64\n",
      " 24  primary_cleaner.state.floatbank8_b_air              19435 non-null  float64\n",
      " 25  primary_cleaner.state.floatbank8_b_level            19438 non-null  float64\n",
      " 26  primary_cleaner.state.floatbank8_c_air              19437 non-null  float64\n",
      " 27  primary_cleaner.state.floatbank8_c_level            19438 non-null  float64\n",
      " 28  primary_cleaner.state.floatbank8_d_air              19436 non-null  float64\n",
      " 29  primary_cleaner.state.floatbank8_d_level            19438 non-null  float64\n",
      " 30  rougher.calculation.sulfate_to_au_concentrate       19437 non-null  float64\n",
      " 31  rougher.calculation.floatbank10_sulfate_to_au_feed  19437 non-null  float64\n",
      " 32  rougher.calculation.floatbank11_sulfate_to_au_feed  19437 non-null  float64\n",
      " 33  rougher.calculation.au_pb_ratio                     19439 non-null  float64\n",
      " 34  rougher.input.feed_ag                               19439 non-null  float64\n",
      " 35  rougher.input.feed_pb                               19339 non-null  float64\n",
      " 36  rougher.input.feed_rate                             19428 non-null  float64\n",
      " 37  rougher.input.feed_size                             19294 non-null  float64\n",
      " 38  rougher.input.feed_sol                              19340 non-null  float64\n",
      " 39  rougher.input.feed_au                               19439 non-null  float64\n",
      " 40  rougher.input.floatbank10_sulfate                   19405 non-null  float64\n",
      " 41  rougher.input.floatbank10_xanthate                  19431 non-null  float64\n",
      " 42  rougher.input.floatbank11_sulfate                   19395 non-null  float64\n",
      " 43  rougher.input.floatbank11_xanthate                  18986 non-null  float64\n",
      " 44  rougher.output.concentrate_ag                       19439 non-null  float64\n",
      " 45  rougher.output.concentrate_pb                       19439 non-null  float64\n",
      " 46  rougher.output.concentrate_sol                      19416 non-null  float64\n",
      " 47  rougher.output.concentrate_au                       19439 non-null  float64\n",
      " 48  rougher.output.recovery                             19439 non-null  float64\n",
      " 49  rougher.output.tail_ag                              19438 non-null  float64\n",
      " 50  rougher.output.tail_pb                              19439 non-null  float64\n",
      " 51  rougher.output.tail_sol                             19439 non-null  float64\n",
      " 52  rougher.output.tail_au                              19439 non-null  float64\n",
      " 53  rougher.state.floatbank10_a_air                     19438 non-null  float64\n",
      " 54  rougher.state.floatbank10_a_level                   19438 non-null  float64\n",
      " 55  rougher.state.floatbank10_b_air                     19438 non-null  float64\n",
      " 56  rougher.state.floatbank10_b_level                   19438 non-null  float64\n",
      " 57  rougher.state.floatbank10_c_air                     19438 non-null  float64\n",
      " 58  rougher.state.floatbank10_c_level                   19438 non-null  float64\n",
      " 59  rougher.state.floatbank10_d_air                     19439 non-null  float64\n",
      " 60  rougher.state.floatbank10_d_level                   19439 non-null  float64\n",
      " 61  rougher.state.floatbank10_e_air                     19003 non-null  float64\n",
      " 62  rougher.state.floatbank10_e_level                   19439 non-null  float64\n",
      " 63  rougher.state.floatbank10_f_air                     19439 non-null  float64\n",
      " 64  rougher.state.floatbank10_f_level                   19439 non-null  float64\n",
      " 65  secondary_cleaner.output.tail_ag                    19437 non-null  float64\n",
      " 66  secondary_cleaner.output.tail_pb                    19427 non-null  float64\n",
      " 67  secondary_cleaner.output.tail_sol                   17691 non-null  float64\n",
      " 68  secondary_cleaner.output.tail_au                    19439 non-null  float64\n",
      " 69  secondary_cleaner.state.floatbank2_a_air            19219 non-null  float64\n",
      " 70  secondary_cleaner.state.floatbank2_a_level          19438 non-null  float64\n",
      " 71  secondary_cleaner.state.floatbank2_b_air            19416 non-null  float64\n",
      " 72  secondary_cleaner.state.floatbank2_b_level          19438 non-null  float64\n",
      " 73  secondary_cleaner.state.floatbank3_a_air            19426 non-null  float64\n",
      " 74  secondary_cleaner.state.floatbank3_a_level          19438 non-null  float64\n",
      " 75  secondary_cleaner.state.floatbank3_b_air            19438 non-null  float64\n",
      " 76  secondary_cleaner.state.floatbank3_b_level          19438 non-null  float64\n",
      " 77  secondary_cleaner.state.floatbank4_a_air            19433 non-null  float64\n",
      " 78  secondary_cleaner.state.floatbank4_a_level          19438 non-null  float64\n",
      " 79  secondary_cleaner.state.floatbank4_b_air            19438 non-null  float64\n",
      " 80  secondary_cleaner.state.floatbank4_b_level          19438 non-null  float64\n",
      " 81  secondary_cleaner.state.floatbank5_a_air            19438 non-null  float64\n",
      " 82  secondary_cleaner.state.floatbank5_a_level          19438 non-null  float64\n",
      " 83  secondary_cleaner.state.floatbank5_b_air            19438 non-null  float64\n",
      " 84  secondary_cleaner.state.floatbank5_b_level          19438 non-null  float64\n",
      " 85  secondary_cleaner.state.floatbank6_a_air            19437 non-null  float64\n",
      " 86  secondary_cleaner.state.floatbank6_a_level          19438 non-null  float64\n",
      "dtypes: float64(86), object(1)\n",
      "memory usage: 12.9+ MB\n"
     ]
    }
   ],
   "source": [
    "df_full.info()"
   ]
  },
  {
   "cell_type": "markdown",
   "metadata": {},
   "source": [
    "***Вывод:*** Столбец date нужно перевести в числовой формат данных, формат остальных столбцов цифровой и соответствует данным. Есть небольшое количество пропущенных значений, их нужно будет заполнить."
   ]
  },
  {
   "cell_type": "markdown",
   "metadata": {},
   "source": [
    "### Проверим, что эффективность обогащения расчитана правильно"
   ]
  },
  {
   "cell_type": "code",
   "execution_count": 9,
   "metadata": {},
   "outputs": [
    {
     "name": "stdout",
     "output_type": "stream",
     "text": [
      "MAE между расчётами и значением признака = 6.41\n"
     ]
    }
   ],
   "source": [
    "C = df_train['rougher.output.concentrate_ag'] # доля золота в концентрате после флотации\n",
    "F = df_train['rougher.input.feed_au'] # доля золота в концентрате до флотации\n",
    "T = df_train['rougher.output.tail_au'] # доля золота в хвостах после флотации\n",
    "\n",
    "recovery = (C * (F - T)) / (F * (C - T)) * 100\n",
    "\n",
    "recovery_mae = mean_absolute_error(df_train['rougher.output.recovery'], recovery)\n",
    "print(f'MAE между расчётами и значением признака = {recovery_mae:.2f}')"
   ]
  },
  {
   "cell_type": "markdown",
   "metadata": {},
   "source": [
    "***Вывод:*** отклонения фактических значений от расчетных могут быть связаны с ошибками измерений и отклонениями условий протекания процессов от идеальных"
   ]
  },
  {
   "cell_type": "markdown",
   "metadata": {},
   "source": [
    "### Признаки, недоступные в тестовой выборке"
   ]
  },
  {
   "cell_type": "code",
   "execution_count": 10,
   "metadata": {},
   "outputs": [
    {
     "name": "stdout",
     "output_type": "stream",
     "text": [
      "В тестовой выборке отсутствуют следующие столбцы\n"
     ]
    },
    {
     "data": {
      "text/plain": [
       "['final.output.concentrate_ag',\n",
       " 'final.output.concentrate_au',\n",
       " 'final.output.concentrate_pb',\n",
       " 'final.output.concentrate_sol',\n",
       " 'final.output.recovery',\n",
       " 'final.output.tail_ag',\n",
       " 'final.output.tail_au',\n",
       " 'final.output.tail_pb',\n",
       " 'final.output.tail_sol',\n",
       " 'primary_cleaner.output.concentrate_ag',\n",
       " 'primary_cleaner.output.concentrate_au',\n",
       " 'primary_cleaner.output.concentrate_pb',\n",
       " 'primary_cleaner.output.concentrate_sol',\n",
       " 'primary_cleaner.output.tail_ag',\n",
       " 'primary_cleaner.output.tail_au',\n",
       " 'primary_cleaner.output.tail_pb',\n",
       " 'primary_cleaner.output.tail_sol',\n",
       " 'rougher.calculation.au_pb_ratio',\n",
       " 'rougher.calculation.floatbank10_sulfate_to_au_feed',\n",
       " 'rougher.calculation.floatbank11_sulfate_to_au_feed',\n",
       " 'rougher.calculation.sulfate_to_au_concentrate',\n",
       " 'rougher.output.concentrate_ag',\n",
       " 'rougher.output.concentrate_au',\n",
       " 'rougher.output.concentrate_pb',\n",
       " 'rougher.output.concentrate_sol',\n",
       " 'rougher.output.recovery',\n",
       " 'rougher.output.tail_ag',\n",
       " 'rougher.output.tail_au',\n",
       " 'rougher.output.tail_pb',\n",
       " 'rougher.output.tail_sol',\n",
       " 'secondary_cleaner.output.tail_ag',\n",
       " 'secondary_cleaner.output.tail_au',\n",
       " 'secondary_cleaner.output.tail_pb',\n",
       " 'secondary_cleaner.output.tail_sol']"
      ]
     },
     "execution_count": 10,
     "metadata": {},
     "output_type": "execute_result"
    }
   ],
   "source": [
    "print('В тестовой выборке отсутствуют следующие столбцы')\n",
    "sorted(list(set(df_full.columns) - set(df_test.columns)))"
   ]
  },
  {
   "cell_type": "markdown",
   "metadata": {},
   "source": [
    "***Вывод:*** Отсутствующие в тестовой выборке столбцы замеряются и/или рассчитываются значительно позже. Кроме того, в тестовой выыборке отсутствуют целевые признаки."
   ]
  },
  {
   "cell_type": "markdown",
   "metadata": {},
   "source": [
    "### Предобработка данных"
   ]
  },
  {
   "cell_type": "markdown",
   "metadata": {},
   "source": [
    "Преобразуем формат столбца date в datetime. По условиям задания \"соседние по времени параметры часто похожи\", поэтому заполним пропущенные значения предыдущим доступным значением."
   ]
  },
  {
   "cell_type": "code",
   "execution_count": 11,
   "metadata": {},
   "outputs": [],
   "source": [
    "df_full['date'] = pd.to_datetime(df_full['date'], yearfirst=True)\n",
    "df_train['date'] = pd.to_datetime(df_train['date'], yearfirst=True)\n",
    "df_test['date'] = pd.to_datetime(df_test['date'], yearfirst=True)\n",
    "\n",
    "df_full.fillna(method='ffill', axis=0, inplace=True)\n",
    "df_train.fillna(method='ffill', axis=0, inplace=True)\n",
    "df_test.fillna(method='ffill', axis=0, inplace=True)"
   ]
  },
  {
   "cell_type": "code",
   "execution_count": 12,
   "metadata": {
    "scrolled": true
   },
   "outputs": [
    {
     "name": "stdout",
     "output_type": "stream",
     "text": [
      "<class 'pandas.core.frame.DataFrame'>\n",
      "RangeIndex: 14149 entries, 0 to 14148\n",
      "Data columns (total 87 columns):\n",
      " #   Column                                              Non-Null Count  Dtype         \n",
      "---  ------                                              --------------  -----         \n",
      " 0   date                                                14149 non-null  datetime64[ns]\n",
      " 1   final.output.concentrate_ag                         14149 non-null  float64       \n",
      " 2   final.output.concentrate_pb                         14149 non-null  float64       \n",
      " 3   final.output.concentrate_sol                        14149 non-null  float64       \n",
      " 4   final.output.concentrate_au                         14149 non-null  float64       \n",
      " 5   final.output.recovery                               14149 non-null  float64       \n",
      " 6   final.output.tail_ag                                14149 non-null  float64       \n",
      " 7   final.output.tail_pb                                14149 non-null  float64       \n",
      " 8   final.output.tail_sol                               14149 non-null  float64       \n",
      " 9   final.output.tail_au                                14149 non-null  float64       \n",
      " 10  primary_cleaner.input.sulfate                       14149 non-null  float64       \n",
      " 11  primary_cleaner.input.depressant                    14149 non-null  float64       \n",
      " 12  primary_cleaner.input.feed_size                     14149 non-null  float64       \n",
      " 13  primary_cleaner.input.xanthate                      14149 non-null  float64       \n",
      " 14  primary_cleaner.output.concentrate_ag               14149 non-null  float64       \n",
      " 15  primary_cleaner.output.concentrate_pb               14149 non-null  float64       \n",
      " 16  primary_cleaner.output.concentrate_sol              14149 non-null  float64       \n",
      " 17  primary_cleaner.output.concentrate_au               14149 non-null  float64       \n",
      " 18  primary_cleaner.output.tail_ag                      14149 non-null  float64       \n",
      " 19  primary_cleaner.output.tail_pb                      14149 non-null  float64       \n",
      " 20  primary_cleaner.output.tail_sol                     14149 non-null  float64       \n",
      " 21  primary_cleaner.output.tail_au                      14149 non-null  float64       \n",
      " 22  primary_cleaner.state.floatbank8_a_air              14149 non-null  float64       \n",
      " 23  primary_cleaner.state.floatbank8_a_level            14149 non-null  float64       \n",
      " 24  primary_cleaner.state.floatbank8_b_air              14149 non-null  float64       \n",
      " 25  primary_cleaner.state.floatbank8_b_level            14149 non-null  float64       \n",
      " 26  primary_cleaner.state.floatbank8_c_air              14149 non-null  float64       \n",
      " 27  primary_cleaner.state.floatbank8_c_level            14149 non-null  float64       \n",
      " 28  primary_cleaner.state.floatbank8_d_air              14149 non-null  float64       \n",
      " 29  primary_cleaner.state.floatbank8_d_level            14149 non-null  float64       \n",
      " 30  rougher.calculation.sulfate_to_au_concentrate       14149 non-null  float64       \n",
      " 31  rougher.calculation.floatbank10_sulfate_to_au_feed  14149 non-null  float64       \n",
      " 32  rougher.calculation.floatbank11_sulfate_to_au_feed  14149 non-null  float64       \n",
      " 33  rougher.calculation.au_pb_ratio                     14149 non-null  float64       \n",
      " 34  rougher.input.feed_ag                               14149 non-null  float64       \n",
      " 35  rougher.input.feed_pb                               14149 non-null  float64       \n",
      " 36  rougher.input.feed_rate                             14149 non-null  float64       \n",
      " 37  rougher.input.feed_size                             14149 non-null  float64       \n",
      " 38  rougher.input.feed_sol                              14149 non-null  float64       \n",
      " 39  rougher.input.feed_au                               14149 non-null  float64       \n",
      " 40  rougher.input.floatbank10_sulfate                   14149 non-null  float64       \n",
      " 41  rougher.input.floatbank10_xanthate                  14149 non-null  float64       \n",
      " 42  rougher.input.floatbank11_sulfate                   14149 non-null  float64       \n",
      " 43  rougher.input.floatbank11_xanthate                  14149 non-null  float64       \n",
      " 44  rougher.output.concentrate_ag                       14149 non-null  float64       \n",
      " 45  rougher.output.concentrate_pb                       14149 non-null  float64       \n",
      " 46  rougher.output.concentrate_sol                      14149 non-null  float64       \n",
      " 47  rougher.output.concentrate_au                       14149 non-null  float64       \n",
      " 48  rougher.output.recovery                             14149 non-null  float64       \n",
      " 49  rougher.output.tail_ag                              14149 non-null  float64       \n",
      " 50  rougher.output.tail_pb                              14149 non-null  float64       \n",
      " 51  rougher.output.tail_sol                             14149 non-null  float64       \n",
      " 52  rougher.output.tail_au                              14149 non-null  float64       \n",
      " 53  rougher.state.floatbank10_a_air                     14149 non-null  float64       \n",
      " 54  rougher.state.floatbank10_a_level                   14149 non-null  float64       \n",
      " 55  rougher.state.floatbank10_b_air                     14149 non-null  float64       \n",
      " 56  rougher.state.floatbank10_b_level                   14149 non-null  float64       \n",
      " 57  rougher.state.floatbank10_c_air                     14149 non-null  float64       \n",
      " 58  rougher.state.floatbank10_c_level                   14149 non-null  float64       \n",
      " 59  rougher.state.floatbank10_d_air                     14149 non-null  float64       \n",
      " 60  rougher.state.floatbank10_d_level                   14149 non-null  float64       \n",
      " 61  rougher.state.floatbank10_e_air                     14149 non-null  float64       \n",
      " 62  rougher.state.floatbank10_e_level                   14149 non-null  float64       \n",
      " 63  rougher.state.floatbank10_f_air                     14149 non-null  float64       \n",
      " 64  rougher.state.floatbank10_f_level                   14149 non-null  float64       \n",
      " 65  secondary_cleaner.output.tail_ag                    14149 non-null  float64       \n",
      " 66  secondary_cleaner.output.tail_pb                    14149 non-null  float64       \n",
      " 67  secondary_cleaner.output.tail_sol                   14149 non-null  float64       \n",
      " 68  secondary_cleaner.output.tail_au                    14149 non-null  float64       \n",
      " 69  secondary_cleaner.state.floatbank2_a_air            14149 non-null  float64       \n",
      " 70  secondary_cleaner.state.floatbank2_a_level          14149 non-null  float64       \n",
      " 71  secondary_cleaner.state.floatbank2_b_air            14149 non-null  float64       \n",
      " 72  secondary_cleaner.state.floatbank2_b_level          14149 non-null  float64       \n",
      " 73  secondary_cleaner.state.floatbank3_a_air            14149 non-null  float64       \n",
      " 74  secondary_cleaner.state.floatbank3_a_level          14149 non-null  float64       \n",
      " 75  secondary_cleaner.state.floatbank3_b_air            14149 non-null  float64       \n",
      " 76  secondary_cleaner.state.floatbank3_b_level          14149 non-null  float64       \n",
      " 77  secondary_cleaner.state.floatbank4_a_air            14149 non-null  float64       \n",
      " 78  secondary_cleaner.state.floatbank4_a_level          14149 non-null  float64       \n",
      " 79  secondary_cleaner.state.floatbank4_b_air            14149 non-null  float64       \n",
      " 80  secondary_cleaner.state.floatbank4_b_level          14149 non-null  float64       \n",
      " 81  secondary_cleaner.state.floatbank5_a_air            14149 non-null  float64       \n",
      " 82  secondary_cleaner.state.floatbank5_a_level          14149 non-null  float64       \n",
      " 83  secondary_cleaner.state.floatbank5_b_air            14149 non-null  float64       \n",
      " 84  secondary_cleaner.state.floatbank5_b_level          14149 non-null  float64       \n",
      " 85  secondary_cleaner.state.floatbank6_a_air            14149 non-null  float64       \n",
      " 86  secondary_cleaner.state.floatbank6_a_level          14149 non-null  float64       \n",
      "dtypes: datetime64[ns](1), float64(86)\n",
      "memory usage: 9.4 MB\n"
     ]
    }
   ],
   "source": [
    "df_train.info()"
   ]
  },
  {
   "cell_type": "code",
   "execution_count": 13,
   "metadata": {
    "scrolled": true
   },
   "outputs": [
    {
     "name": "stdout",
     "output_type": "stream",
     "text": [
      "<class 'pandas.core.frame.DataFrame'>\n",
      "RangeIndex: 5290 entries, 0 to 5289\n",
      "Data columns (total 53 columns):\n",
      " #   Column                                      Non-Null Count  Dtype         \n",
      "---  ------                                      --------------  -----         \n",
      " 0   date                                        5290 non-null   datetime64[ns]\n",
      " 1   primary_cleaner.input.sulfate               5290 non-null   float64       \n",
      " 2   primary_cleaner.input.depressant            5290 non-null   float64       \n",
      " 3   primary_cleaner.input.feed_size             5290 non-null   float64       \n",
      " 4   primary_cleaner.input.xanthate              5290 non-null   float64       \n",
      " 5   primary_cleaner.state.floatbank8_a_air      5290 non-null   float64       \n",
      " 6   primary_cleaner.state.floatbank8_a_level    5290 non-null   float64       \n",
      " 7   primary_cleaner.state.floatbank8_b_air      5290 non-null   float64       \n",
      " 8   primary_cleaner.state.floatbank8_b_level    5290 non-null   float64       \n",
      " 9   primary_cleaner.state.floatbank8_c_air      5290 non-null   float64       \n",
      " 10  primary_cleaner.state.floatbank8_c_level    5290 non-null   float64       \n",
      " 11  primary_cleaner.state.floatbank8_d_air      5290 non-null   float64       \n",
      " 12  primary_cleaner.state.floatbank8_d_level    5290 non-null   float64       \n",
      " 13  rougher.input.feed_ag                       5290 non-null   float64       \n",
      " 14  rougher.input.feed_pb                       5290 non-null   float64       \n",
      " 15  rougher.input.feed_rate                     5290 non-null   float64       \n",
      " 16  rougher.input.feed_size                     5290 non-null   float64       \n",
      " 17  rougher.input.feed_sol                      5290 non-null   float64       \n",
      " 18  rougher.input.feed_au                       5290 non-null   float64       \n",
      " 19  rougher.input.floatbank10_sulfate           5290 non-null   float64       \n",
      " 20  rougher.input.floatbank10_xanthate          5290 non-null   float64       \n",
      " 21  rougher.input.floatbank11_sulfate           5290 non-null   float64       \n",
      " 22  rougher.input.floatbank11_xanthate          5290 non-null   float64       \n",
      " 23  rougher.state.floatbank10_a_air             5290 non-null   float64       \n",
      " 24  rougher.state.floatbank10_a_level           5290 non-null   float64       \n",
      " 25  rougher.state.floatbank10_b_air             5290 non-null   float64       \n",
      " 26  rougher.state.floatbank10_b_level           5290 non-null   float64       \n",
      " 27  rougher.state.floatbank10_c_air             5290 non-null   float64       \n",
      " 28  rougher.state.floatbank10_c_level           5290 non-null   float64       \n",
      " 29  rougher.state.floatbank10_d_air             5290 non-null   float64       \n",
      " 30  rougher.state.floatbank10_d_level           5290 non-null   float64       \n",
      " 31  rougher.state.floatbank10_e_air             5290 non-null   float64       \n",
      " 32  rougher.state.floatbank10_e_level           5290 non-null   float64       \n",
      " 33  rougher.state.floatbank10_f_air             5290 non-null   float64       \n",
      " 34  rougher.state.floatbank10_f_level           5290 non-null   float64       \n",
      " 35  secondary_cleaner.state.floatbank2_a_air    5290 non-null   float64       \n",
      " 36  secondary_cleaner.state.floatbank2_a_level  5290 non-null   float64       \n",
      " 37  secondary_cleaner.state.floatbank2_b_air    5290 non-null   float64       \n",
      " 38  secondary_cleaner.state.floatbank2_b_level  5290 non-null   float64       \n",
      " 39  secondary_cleaner.state.floatbank3_a_air    5290 non-null   float64       \n",
      " 40  secondary_cleaner.state.floatbank3_a_level  5290 non-null   float64       \n",
      " 41  secondary_cleaner.state.floatbank3_b_air    5290 non-null   float64       \n",
      " 42  secondary_cleaner.state.floatbank3_b_level  5290 non-null   float64       \n",
      " 43  secondary_cleaner.state.floatbank4_a_air    5290 non-null   float64       \n",
      " 44  secondary_cleaner.state.floatbank4_a_level  5290 non-null   float64       \n",
      " 45  secondary_cleaner.state.floatbank4_b_air    5290 non-null   float64       \n",
      " 46  secondary_cleaner.state.floatbank4_b_level  5290 non-null   float64       \n",
      " 47  secondary_cleaner.state.floatbank5_a_air    5290 non-null   float64       \n",
      " 48  secondary_cleaner.state.floatbank5_a_level  5290 non-null   float64       \n",
      " 49  secondary_cleaner.state.floatbank5_b_air    5290 non-null   float64       \n",
      " 50  secondary_cleaner.state.floatbank5_b_level  5290 non-null   float64       \n",
      " 51  secondary_cleaner.state.floatbank6_a_air    5290 non-null   float64       \n",
      " 52  secondary_cleaner.state.floatbank6_a_level  5290 non-null   float64       \n",
      "dtypes: datetime64[ns](1), float64(52)\n",
      "memory usage: 2.1 MB\n"
     ]
    }
   ],
   "source": [
    "df_test.info()"
   ]
  },
  {
   "cell_type": "code",
   "execution_count": 14,
   "metadata": {
    "scrolled": true
   },
   "outputs": [
    {
     "name": "stdout",
     "output_type": "stream",
     "text": [
      "<class 'pandas.core.frame.DataFrame'>\n",
      "RangeIndex: 19439 entries, 0 to 19438\n",
      "Data columns (total 87 columns):\n",
      " #   Column                                              Non-Null Count  Dtype         \n",
      "---  ------                                              --------------  -----         \n",
      " 0   date                                                19439 non-null  datetime64[ns]\n",
      " 1   final.output.concentrate_ag                         19439 non-null  float64       \n",
      " 2   final.output.concentrate_pb                         19439 non-null  float64       \n",
      " 3   final.output.concentrate_sol                        19439 non-null  float64       \n",
      " 4   final.output.concentrate_au                         19439 non-null  float64       \n",
      " 5   final.output.recovery                               19439 non-null  float64       \n",
      " 6   final.output.tail_ag                                19439 non-null  float64       \n",
      " 7   final.output.tail_pb                                19439 non-null  float64       \n",
      " 8   final.output.tail_sol                               19439 non-null  float64       \n",
      " 9   final.output.tail_au                                19439 non-null  float64       \n",
      " 10  primary_cleaner.input.sulfate                       19439 non-null  float64       \n",
      " 11  primary_cleaner.input.depressant                    19439 non-null  float64       \n",
      " 12  primary_cleaner.input.feed_size                     19439 non-null  float64       \n",
      " 13  primary_cleaner.input.xanthate                      19439 non-null  float64       \n",
      " 14  primary_cleaner.output.concentrate_ag               19439 non-null  float64       \n",
      " 15  primary_cleaner.output.concentrate_pb               19439 non-null  float64       \n",
      " 16  primary_cleaner.output.concentrate_sol              19439 non-null  float64       \n",
      " 17  primary_cleaner.output.concentrate_au               19439 non-null  float64       \n",
      " 18  primary_cleaner.output.tail_ag                      19439 non-null  float64       \n",
      " 19  primary_cleaner.output.tail_pb                      19439 non-null  float64       \n",
      " 20  primary_cleaner.output.tail_sol                     19439 non-null  float64       \n",
      " 21  primary_cleaner.output.tail_au                      19439 non-null  float64       \n",
      " 22  primary_cleaner.state.floatbank8_a_air              19439 non-null  float64       \n",
      " 23  primary_cleaner.state.floatbank8_a_level            19439 non-null  float64       \n",
      " 24  primary_cleaner.state.floatbank8_b_air              19439 non-null  float64       \n",
      " 25  primary_cleaner.state.floatbank8_b_level            19439 non-null  float64       \n",
      " 26  primary_cleaner.state.floatbank8_c_air              19439 non-null  float64       \n",
      " 27  primary_cleaner.state.floatbank8_c_level            19439 non-null  float64       \n",
      " 28  primary_cleaner.state.floatbank8_d_air              19439 non-null  float64       \n",
      " 29  primary_cleaner.state.floatbank8_d_level            19439 non-null  float64       \n",
      " 30  rougher.calculation.sulfate_to_au_concentrate       19439 non-null  float64       \n",
      " 31  rougher.calculation.floatbank10_sulfate_to_au_feed  19439 non-null  float64       \n",
      " 32  rougher.calculation.floatbank11_sulfate_to_au_feed  19439 non-null  float64       \n",
      " 33  rougher.calculation.au_pb_ratio                     19439 non-null  float64       \n",
      " 34  rougher.input.feed_ag                               19439 non-null  float64       \n",
      " 35  rougher.input.feed_pb                               19439 non-null  float64       \n",
      " 36  rougher.input.feed_rate                             19439 non-null  float64       \n",
      " 37  rougher.input.feed_size                             19439 non-null  float64       \n",
      " 38  rougher.input.feed_sol                              19439 non-null  float64       \n",
      " 39  rougher.input.feed_au                               19439 non-null  float64       \n",
      " 40  rougher.input.floatbank10_sulfate                   19439 non-null  float64       \n",
      " 41  rougher.input.floatbank10_xanthate                  19439 non-null  float64       \n",
      " 42  rougher.input.floatbank11_sulfate                   19439 non-null  float64       \n",
      " 43  rougher.input.floatbank11_xanthate                  19439 non-null  float64       \n",
      " 44  rougher.output.concentrate_ag                       19439 non-null  float64       \n",
      " 45  rougher.output.concentrate_pb                       19439 non-null  float64       \n",
      " 46  rougher.output.concentrate_sol                      19439 non-null  float64       \n",
      " 47  rougher.output.concentrate_au                       19439 non-null  float64       \n",
      " 48  rougher.output.recovery                             19439 non-null  float64       \n",
      " 49  rougher.output.tail_ag                              19439 non-null  float64       \n",
      " 50  rougher.output.tail_pb                              19439 non-null  float64       \n",
      " 51  rougher.output.tail_sol                             19439 non-null  float64       \n",
      " 52  rougher.output.tail_au                              19439 non-null  float64       \n",
      " 53  rougher.state.floatbank10_a_air                     19439 non-null  float64       \n",
      " 54  rougher.state.floatbank10_a_level                   19439 non-null  float64       \n",
      " 55  rougher.state.floatbank10_b_air                     19439 non-null  float64       \n",
      " 56  rougher.state.floatbank10_b_level                   19439 non-null  float64       \n",
      " 57  rougher.state.floatbank10_c_air                     19439 non-null  float64       \n",
      " 58  rougher.state.floatbank10_c_level                   19439 non-null  float64       \n",
      " 59  rougher.state.floatbank10_d_air                     19439 non-null  float64       \n",
      " 60  rougher.state.floatbank10_d_level                   19439 non-null  float64       \n",
      " 61  rougher.state.floatbank10_e_air                     19439 non-null  float64       \n",
      " 62  rougher.state.floatbank10_e_level                   19439 non-null  float64       \n",
      " 63  rougher.state.floatbank10_f_air                     19439 non-null  float64       \n",
      " 64  rougher.state.floatbank10_f_level                   19439 non-null  float64       \n",
      " 65  secondary_cleaner.output.tail_ag                    19439 non-null  float64       \n",
      " 66  secondary_cleaner.output.tail_pb                    19439 non-null  float64       \n",
      " 67  secondary_cleaner.output.tail_sol                   19439 non-null  float64       \n",
      " 68  secondary_cleaner.output.tail_au                    19439 non-null  float64       \n",
      " 69  secondary_cleaner.state.floatbank2_a_air            19439 non-null  float64       \n",
      " 70  secondary_cleaner.state.floatbank2_a_level          19439 non-null  float64       \n",
      " 71  secondary_cleaner.state.floatbank2_b_air            19439 non-null  float64       \n",
      " 72  secondary_cleaner.state.floatbank2_b_level          19439 non-null  float64       \n",
      " 73  secondary_cleaner.state.floatbank3_a_air            19439 non-null  float64       \n",
      " 74  secondary_cleaner.state.floatbank3_a_level          19439 non-null  float64       \n",
      " 75  secondary_cleaner.state.floatbank3_b_air            19439 non-null  float64       \n",
      " 76  secondary_cleaner.state.floatbank3_b_level          19439 non-null  float64       \n",
      " 77  secondary_cleaner.state.floatbank4_a_air            19439 non-null  float64       \n",
      " 78  secondary_cleaner.state.floatbank4_a_level          19439 non-null  float64       \n",
      " 79  secondary_cleaner.state.floatbank4_b_air            19439 non-null  float64       \n",
      " 80  secondary_cleaner.state.floatbank4_b_level          19439 non-null  float64       \n",
      " 81  secondary_cleaner.state.floatbank5_a_air            19439 non-null  float64       \n",
      " 82  secondary_cleaner.state.floatbank5_a_level          19439 non-null  float64       \n",
      " 83  secondary_cleaner.state.floatbank5_b_air            19439 non-null  float64       \n",
      " 84  secondary_cleaner.state.floatbank5_b_level          19439 non-null  float64       \n",
      " 85  secondary_cleaner.state.floatbank6_a_air            19439 non-null  float64       \n",
      " 86  secondary_cleaner.state.floatbank6_a_level          19439 non-null  float64       \n",
      "dtypes: datetime64[ns](1), float64(86)\n",
      "memory usage: 12.9 MB\n"
     ]
    }
   ],
   "source": [
    "df_full.info()"
   ]
  },
  {
   "cell_type": "markdown",
   "metadata": {},
   "source": [
    "***Вывод:*** формат столбца date изменен на datetime, пропущенные значения заполнены"
   ]
  },
  {
   "cell_type": "markdown",
   "metadata": {},
   "source": [
    "## Анализ данных"
   ]
  },
  {
   "cell_type": "markdown",
   "metadata": {},
   "source": [
    "### Изменение концентрации металлов на различных этапах очистки"
   ]
  },
  {
   "cell_type": "code",
   "execution_count": 15,
   "metadata": {},
   "outputs": [],
   "source": [
    "metals = ['au', 'ag', 'pb']\n",
    "\n",
    "def metal_in_concentrate_plot(df, metal):\n",
    "    # функция для построения графиков содержания металлов в концентрате\n",
    "    plot_df = pd.DataFrame(columns=[\n",
    "                                  f'{metal} на входе', # rougher.input.feed\n",
    "                                  f'{metal} после флотации', # rougher.output.concentrate\n",
    "                                  f'{metal} после 1 очистки',# primary_cleaner.output.concentrate\n",
    "                                  f'{metal} на выходе', # final.output.concentrate\n",
    "                                  ]\n",
    "                         ) \n",
    "    plot_df.loc[0] = [\n",
    "             df[f'rougher.input.feed_{metal}'].mean(),\n",
    "             df[f'rougher.output.concentrate_{metal}'].mean(),\n",
    "             df[f'primary_cleaner.output.concentrate_{metal}'].mean(),\n",
    "             df[f'final.output.concentrate_{metal}'].mean()\n",
    "  ]\n",
    "    plot_df.plot(kind='bar', figsize=(12,6))\n",
    "    return plot_df\n",
    "\n",
    "def metal_in_tails_plot(df, metal):\n",
    "    # функция для построения графиков содержания металлов в хвостах\n",
    "    plot_df = pd.DataFrame(columns=[\n",
    "                                  f'{metal} после флотации', # rougher.output.tail\n",
    "                                  f'{metal} после 1 очистки',# primary_cleaner.output.tail\n",
    "                                  f'{metal} после 2 очистки', # secondary_cleaner.output.tail\n",
    "                                  f'{metal} на выходе' #final.output.tail\n",
    "                                  ]\n",
    "                         ) \n",
    "    plot_df.loc[0] = [\n",
    "             df[f'rougher.output.tail_{metal}'].mean(),\n",
    "             df[f'primary_cleaner.output.tail_{metal}'].mean(),\n",
    "             df[f'secondary_cleaner.output.tail_{metal}'].mean(),\n",
    "             df[f'final.output.tail_{metal}'].mean()\n",
    "  ]\n",
    "    plot_df.plot(kind='bar', figsize=(12,6))\n",
    "    return plot_df"
   ]
  },
  {
   "cell_type": "code",
   "execution_count": 16,
   "metadata": {},
   "outputs": [
    {
     "name": "stdout",
     "output_type": "stream",
     "text": [
      "Изменение содержания au в концентрате на различных этапах очистки\n"
     ]
    },
    {
     "data": {
      "image/png": "[encoded data removed]",
      "text/plain": [
       "<Figure size 864x432 with 1 Axes>"
      ]
     },
     "metadata": {
      "needs_background": "light"
     },
     "output_type": "display_data"
    },
    {
     "name": "stdout",
     "output_type": "stream",
     "text": [
      "Изменение содержания ag в концентрате на различных этапах очистки\n"
     ]
    },
    {
     "data": {
      "image/png": "[encoded data removed]",
      "text/plain": [
       "<Figure size 864x432 with 1 Axes>"
      ]
     },
     "metadata": {
      "needs_background": "light"
     },
     "output_type": "display_data"
    },
    {
     "name": "stdout",
     "output_type": "stream",
     "text": [
      "Изменение содержания pb в концентрате на различных этапах очистки\n"
     ]
    },
    {
     "data": {
      "image/png": "[encoded data removed]",
      "text/plain": [
       "<Figure size 864x432 with 1 Axes>"
      ]
     },
     "metadata": {
      "needs_background": "light"
     },
     "output_type": "display_data"
    }
   ],
   "source": [
    "for metal in metals:\n",
    "    print(f'Изменение содержания {metal} в концентрате на различных этапах очистки')\n",
    "    metal_in_concentrate_plot(df_full, metal)\n",
    "    plt.show()"
   ]
  },
  {
   "cell_type": "code",
   "execution_count": 17,
   "metadata": {},
   "outputs": [
    {
     "name": "stdout",
     "output_type": "stream",
     "text": [
      "Изменение содержания au в хвостах на различных этапах очистки\n"
     ]
    },
    {
     "data": {
      "image/png": "[encoded data removed]",
      "text/plain": [
       "<Figure size 864x432 with 1 Axes>"
      ]
     },
     "metadata": {
      "needs_background": "light"
     },
     "output_type": "display_data"
    },
    {
     "name": "stdout",
     "output_type": "stream",
     "text": [
      "Изменение содержания ag в хвостах на различных этапах очистки\n"
     ]
    },
    {
     "data": {
      "image/png": "[encoded data removed]",
      "text/plain": [
       "<Figure size 864x432 with 1 Axes>"
      ]
     },
     "metadata": {
      "needs_background": "light"
     },
     "output_type": "display_data"
    },
    {
     "name": "stdout",
     "output_type": "stream",
     "text": [
      "Изменение содержания pb в хвостах на различных этапах очистки\n"
     ]
    },
    {
     "data": {
      "image/png": "[encoded data removed]",
      "text/plain": [
       "<Figure size 864x432 with 1 Axes>"
      ]
     },
     "metadata": {
      "needs_background": "light"
     },
     "output_type": "display_data"
    }
   ],
   "source": [
    "for metal in metals:\n",
    "    print(f'Изменение содержания {metal} в хвостах на различных этапах очистки')\n",
    "    metal_in_tails_plot(df_full, metal)\n",
    "    plt.show()"
   ]
  },
  {
   "cell_type": "markdown",
   "metadata": {},
   "source": [
    "***Выводы:*** Содержание золота в концентрате увеличивается с каждым этапом, значит процесс работает. В этом и заключается смысл обогащения - увеличение содержания целевого продукта в концентрате и уменьшение содержание всех прочих компонентов. Содержание серебра в концентрате на начальных этапах увеличивается, а потом снижается - так и должно быть, потому что серебро побочный продукт. Содержание свинца в концентрате постепенно увеличивается. Возможно, это связано с тем, что плотности золота и свинца очень близки и поэтому их разделение затруднено."
   ]
  },
  {
   "cell_type": "markdown",
   "metadata": {},
   "source": [
    "### Распределение размеров гранул сырья"
   ]
  },
  {
   "cell_type": "code",
   "execution_count": 18,
   "metadata": {},
   "outputs": [],
   "source": [
    "def check_size_distribution(size1, size2):\n",
    "    x_lim_min = min(size1.min(), size2.min())\n",
    "    x_lim_max = max(size1.max(), size2.max())\n",
    "    size1.plot(kind='kde', figsize=(12,6), label='Выборка 1', legend=True, xlim=(x_lim_min, x_lim_max))\n",
    "    size2.plot(kind='kde', figsize=(12,6), label='Выборка 2', legend=True, xlim=(x_lim_min, x_lim_max))\n",
    "    plt.show()\n",
    "    size1.plot(kind='box', label='Выборка 1', legend=True)\n",
    "    plt.show()\n",
    "    size2.plot(kind='box', label='Выборка 2', legend=True)"
   ]
  },
  {
   "cell_type": "code",
   "execution_count": 19,
   "metadata": {},
   "outputs": [
    {
     "name": "stdout",
     "output_type": "stream",
     "text": [
      "Распределение размеров гранул сырья в обучающей и тестовой выборках на этапе флотации\n"
     ]
    },
    {
     "data": {
      "image/png": "[encoded data removed]",
      "text/plain": [
       "<Figure size 864x432 with 1 Axes>"
      ]
     },
     "metadata": {
      "needs_background": "light"
     },
     "output_type": "display_data"
    },
    {
     "data": {
      "image/png": "[encoded data removed]",
      "text/plain": [
       "<Figure size 432x288 with 1 Axes>"
      ]
     },
     "metadata": {
      "needs_background": "light"
     },
     "output_type": "display_data"
    },
    {
     "data": {
      "image/png": "[encoded data removed]",
      "text/plain": [
       "<Figure size 432x288 with 1 Axes>"
      ]
     },
     "metadata": {
      "needs_background": "light"
     },
     "output_type": "display_data"
    }
   ],
   "source": [
    "print('Распределение размеров гранул сырья в обучающей и тестовой выборках на этапе флотации')\n",
    "check_size_distribution(df_train['rougher.input.feed_size'],\n",
    "                        df_test['rougher.input.feed_size'])"
   ]
  },
  {
   "cell_type": "code",
   "execution_count": 20,
   "metadata": {},
   "outputs": [
    {
     "name": "stdout",
     "output_type": "stream",
     "text": [
      "Распределение размеров гранул сырья в обучающей и тестовой выборках на первом этапе очистки\n"
     ]
    },
    {
     "data": {
      "image/png": "[encoded data removed]",
      "text/plain": [
       "<Figure size 864x432 with 1 Axes>"
      ]
     },
     "metadata": {
      "needs_background": "light"
     },
     "output_type": "display_data"
    },
    {
     "data": {
      "image/png": "[encoded data removed]",
      "text/plain": [
       "<Figure size 432x288 with 1 Axes>"
      ]
     },
     "metadata": {
      "needs_background": "light"
     },
     "output_type": "display_data"
    },
    {
     "data": {
      "image/png": "[encoded data removed]",
      "text/plain": [
       "<Figure size 432x288 with 1 Axes>"
      ]
     },
     "metadata": {
      "needs_background": "light"
     },
     "output_type": "display_data"
    }
   ],
   "source": [
    "print('Распределение размеров гранул сырья в обучающей и тестовой выборках на первом этапе очистки')\n",
    "check_size_distribution(df_train['primary_cleaner.input.feed_size'],\n",
    "                        df_test['primary_cleaner.input.feed_size'])"
   ]
  },
  {
   "cell_type": "markdown",
   "metadata": {},
   "source": [
    "В выборках огромное количество выбросов. Удалим выбросы, оставив только объекты, которые укладываются в полтора межквартильных размаха."
   ]
  },
  {
   "cell_type": "code",
   "execution_count": 21,
   "metadata": {},
   "outputs": [],
   "source": [
    "def remove_outliers(s):\n",
    "    quantiles = s.quantile([.25, .5, .75])\n",
    "    q1 = quantiles.values[0]\n",
    "    q2 = quantiles.values[1]\n",
    "    q3 = quantiles.values[2]\n",
    "    anomal_up = q3+(q3-q1)*1.5\n",
    "    anomal_down = q1-(q3-q1)*1.5\n",
    "    outliers_count = len(s[(s>anomal_up)|(s<anomal_down)])\n",
    "    print(f'Верхняя граница репрезентативных значений: {anomal_up:.0f}')\n",
    "    print(f'Нижняя граница репрезентативных значений: {anomal_down:.0f}')\n",
    "    print(f'Количество выбросов: {outliers_count} ({outliers_count/len(s):.0%})')\n",
    "    print()\n",
    "    return s[(s>anomal_down)&(s<anomal_up)]"
   ]
  },
  {
   "cell_type": "code",
   "execution_count": 22,
   "metadata": {},
   "outputs": [
    {
     "name": "stdout",
     "output_type": "stream",
     "text": [
      "Верхняя граница репрезентативных значений: 92\n",
      "Нижняя граница репрезентативных значений: 23\n",
      "Количество выбросов: 473 (3%)\n",
      "\n",
      "Верхняя граница репрезентативных значений: 90\n",
      "Нижняя граница репрезентативных значений: 16\n",
      "Количество выбросов: 181 (3%)\n",
      "\n",
      "Верхняя граница репрезентативных значений: 9\n",
      "Нижняя граница репрезентативных значений: 6\n",
      "Количество выбросов: 257 (2%)\n",
      "\n",
      "Верхняя граница репрезентативных значений: 9\n",
      "Нижняя граница репрезентативных значений: 6\n",
      "Количество выбросов: 91 (2%)\n",
      "\n"
     ]
    }
   ],
   "source": [
    "train_rougher_no_outliers = remove_outliers(df_train['rougher.input.feed_size'])\n",
    "test_rougher_no_outliers = remove_outliers(df_test['rougher.input.feed_size'])\n",
    "train_primary_cleaner_no_outliers = remove_outliers(df_train['primary_cleaner.input.feed_size'])\n",
    "test_primary_cleaner_no_outliers = remove_outliers(df_test['primary_cleaner.input.feed_size'])"
   ]
  },
  {
   "cell_type": "code",
   "execution_count": 23,
   "metadata": {},
   "outputs": [
    {
     "name": "stdout",
     "output_type": "stream",
     "text": [
      "Распределение размеров гранул сырья в обучающей и тестовой выборках на этапе флотации без выбросов\n"
     ]
    },
    {
     "data": {
      "image/png": "[encoded data removed]",
      "text/plain": [
       "<Figure size 864x432 with 1 Axes>"
      ]
     },
     "metadata": {
      "needs_background": "light"
     },
     "output_type": "display_data"
    },
    {
     "data": {
      "image/png": "[encoded data removed]",
      "text/plain": [
       "<Figure size 432x288 with 1 Axes>"
      ]
     },
     "metadata": {
      "needs_background": "light"
     },
     "output_type": "display_data"
    },
    {
     "data": {
      "image/png": "[encoded data removed]",
      "text/plain": [
       "<Figure size 432x288 with 1 Axes>"
      ]
     },
     "metadata": {
      "needs_background": "light"
     },
     "output_type": "display_data"
    }
   ],
   "source": [
    "print('Распределение размеров гранул сырья в обучающей и тестовой выборках на этапе флотации без выбросов')\n",
    "check_size_distribution(train_rougher_no_outliers,\n",
    "                        test_rougher_no_outliers)"
   ]
  },
  {
   "cell_type": "code",
   "execution_count": 24,
   "metadata": {},
   "outputs": [
    {
     "name": "stdout",
     "output_type": "stream",
     "text": [
      "Распределение размеров гранул сырья в обучающей и тестовой выборках на первом этапе очистки без выбросов\n"
     ]
    },
    {
     "data": {
      "image/png": "[encoded data removed]",
      "text/plain": [
       "<Figure size 864x432 with 1 Axes>"
      ]
     },
     "metadata": {
      "needs_background": "light"
     },
     "output_type": "display_data"
    },
    {
     "data": {
      "image/png": "[encoded data removed]",
      "text/plain": [
       "<Figure size 432x288 with 1 Axes>"
      ]
     },
     "metadata": {
      "needs_background": "light"
     },
     "output_type": "display_data"
    },
    {
     "data": {
      "image/png": "[encoded data removed]",
      "text/plain": [
       "<Figure size 432x288 with 1 Axes>"
      ]
     },
     "metadata": {
      "needs_background": "light"
     },
     "output_type": "display_data"
    }
   ],
   "source": [
    "print('Распределение размеров гранул сырья в обучающей и тестовой выборках на первом этапе очистки без выбросов')\n",
    "check_size_distribution(train_primary_cleaner_no_outliers,\n",
    "                        test_primary_cleaner_no_outliers)"
   ]
  },
  {
   "cell_type": "markdown",
   "metadata": {},
   "source": [
    "***Выводы:*** Графики плотностей распределения размеров гранул показывают, что гранулы обучающей и тестовой выборок существенно по размеру не различаются."
   ]
  },
  {
   "cell_type": "markdown",
   "metadata": {},
   "source": [
    "### Суммарные концентрации"
   ]
  },
  {
   "cell_type": "code",
   "execution_count": 25,
   "metadata": {},
   "outputs": [],
   "source": [
    "total_con_train = df_train[[\n",
    "    'rougher.input.feed_au',\n",
    "    'rougher.output.concentrate_au',\n",
    "    'primary_cleaner.output.concentrate_au',\n",
    "    'final.output.concentrate_au',\n",
    "    'rougher.input.feed_ag',\n",
    "    'rougher.output.concentrate_ag',\n",
    "    'primary_cleaner.output.concentrate_ag',\n",
    "    'final.output.concentrate_ag',\n",
    "    'rougher.input.feed_pb',\n",
    "    'rougher.output.concentrate_pb',\n",
    "    'primary_cleaner.output.concentrate_pb',\n",
    "    'final.output.concentrate_pb',\n",
    "    'rougher.input.feed_sol',\n",
    "    'rougher.output.concentrate_sol',\n",
    "    'primary_cleaner.output.concentrate_sol',\n",
    "    'final.output.concentrate_sol'\n",
    "]]"
   ]
  },
  {
   "cell_type": "code",
   "execution_count": 26,
   "metadata": {},
   "outputs": [
    {
     "name": "stderr",
     "output_type": "stream",
     "text": [
      "/tmp/ipykernel_120/1883830523.py:1: SettingWithCopyWarning: \n",
      "A value is trying to be set on a copy of a slice from a DataFrame.\n",
      "Try using .loc[row_indexer,col_indexer] = value instead\n",
      "\n",
      "See the caveats in the documentation: https://pandas.pydata.org/pandas-docs/stable/user_guide/indexing.html#returning-a-view-versus-a-copy\n",
      "  total_con_train['total.con.rougher.input'] = total_con_train['rougher.input.feed_au'] + total_con_train['rougher.input.feed_ag']  + total_con_train['rougher.input.feed_pb'] + total_con_train['rougher.input.feed_sol']\n",
      "/tmp/ipykernel_120/1883830523.py:2: SettingWithCopyWarning: \n",
      "A value is trying to be set on a copy of a slice from a DataFrame.\n",
      "Try using .loc[row_indexer,col_indexer] = value instead\n",
      "\n",
      "See the caveats in the documentation: https://pandas.pydata.org/pandas-docs/stable/user_guide/indexing.html#returning-a-view-versus-a-copy\n",
      "  total_con_train['total.con.rougher.output'] = total_con_train['rougher.output.concentrate_au'] + total_con_train['rougher.output.concentrate_ag']  + total_con_train['rougher.output.concentrate_pb'] + total_con_train['rougher.output.concentrate_sol']\n",
      "/tmp/ipykernel_120/1883830523.py:3: SettingWithCopyWarning: \n",
      "A value is trying to be set on a copy of a slice from a DataFrame.\n",
      "Try using .loc[row_indexer,col_indexer] = value instead\n",
      "\n",
      "See the caveats in the documentation: https://pandas.pydata.org/pandas-docs/stable/user_guide/indexing.html#returning-a-view-versus-a-copy\n",
      "  total_con_train['total.con.primary_cleaner.input'] = total_con_train['primary_cleaner.output.concentrate_au'] + total_con_train['primary_cleaner.output.concentrate_ag']  + total_con_train['primary_cleaner.output.concentrate_pb'] + total_con_train['primary_cleaner.output.concentrate_sol']\n",
      "/tmp/ipykernel_120/1883830523.py:4: SettingWithCopyWarning: \n",
      "A value is trying to be set on a copy of a slice from a DataFrame.\n",
      "Try using .loc[row_indexer,col_indexer] = value instead\n",
      "\n",
      "See the caveats in the documentation: https://pandas.pydata.org/pandas-docs/stable/user_guide/indexing.html#returning-a-view-versus-a-copy\n",
      "  total_con_train['total.con.final.output'] = total_con_train['final.output.concentrate_au'] + total_con_train['final.output.concentrate_ag']  + total_con_train['final.output.concentrate_pb'] + total_con_train['final.output.concentrate_sol']\n"
     ]
    }
   ],
   "source": [
    "total_con_train['total.con.rougher.input'] = total_con_train['rougher.input.feed_au'] + total_con_train['rougher.input.feed_ag']  + total_con_train['rougher.input.feed_pb'] + total_con_train['rougher.input.feed_sol']\n",
    "total_con_train['total.con.rougher.output'] = total_con_train['rougher.output.concentrate_au'] + total_con_train['rougher.output.concentrate_ag']  + total_con_train['rougher.output.concentrate_pb'] + total_con_train['rougher.output.concentrate_sol']\n",
    "total_con_train['total.con.primary_cleaner.input'] = total_con_train['primary_cleaner.output.concentrate_au'] + total_con_train['primary_cleaner.output.concentrate_ag']  + total_con_train['primary_cleaner.output.concentrate_pb'] + total_con_train['primary_cleaner.output.concentrate_sol']\n",
    "total_con_train['total.con.final.output'] = total_con_train['final.output.concentrate_au'] + total_con_train['final.output.concentrate_ag']  + total_con_train['final.output.concentrate_pb'] + total_con_train['final.output.concentrate_sol']"
   ]
  },
  {
   "cell_type": "code",
   "execution_count": 27,
   "metadata": {},
   "outputs": [
    {
     "name": "stdout",
     "output_type": "stream",
     "text": [
      "Суммарные концентрации металлов по стадиям\n"
     ]
    },
    {
     "data": {
      "image/png": "[encoded data removed]",
      "text/plain": [
       "<Figure size 864x432 with 1 Axes>"
      ]
     },
     "metadata": {
      "needs_background": "light"
     },
     "output_type": "display_data"
    }
   ],
   "source": [
    "print('Суммарные концентрации металлов по стадиям')\n",
    "total_con_train['total.con.rougher.input'].plot(kind='kde', label='Суммарная концентрация в сырье', legend=True, figsize=(12,6))\n",
    "total_con_train['total.con.rougher.output'].plot(kind='kde', label='Суммарная концентрация после флотации', legend=True, figsize=(12,6))\n",
    "total_con_train['total.con.primary_cleaner.input'].plot(kind='kde', label='Суммарная концентрация после 1 очистки', legend=True, figsize=(12,6))\n",
    "total_con_train['total.con.final.output'].plot(kind='kde', label='Суммарная концентрация на выходе', legend=True, figsize=(12,6))\n",
    "None"
   ]
  },
  {
   "cell_type": "code",
   "execution_count": 28,
   "metadata": {},
   "outputs": [
    {
     "name": "stdout",
     "output_type": "stream",
     "text": [
      "Верхняя граница репрезентативных значений: 73\n",
      "Нижняя граница репрезентативных значений: 40\n",
      "Количество выбросов: 346 (2%)\n",
      "\n",
      "Верхняя граница репрезентативных значений: 86\n",
      "Нижняя граница репрезентативных значений: 52\n",
      "Количество выбросов: 769 (5%)\n",
      "\n",
      "Верхняя граница репрезентативных значений: 76\n",
      "Нижняя граница репрезентативных значений: 47\n",
      "Количество выбросов: 669 (5%)\n",
      "\n",
      "Верхняя граница репрезентативных значений: 76\n",
      "Нижняя граница репрезентативных значений: 62\n",
      "Количество выбросов: 987 (7%)\n",
      "\n"
     ]
    }
   ],
   "source": [
    "rougher_input_no_outliers = remove_outliers(total_con_train['total.con.rougher.input'])\n",
    "rougher_output_no_outliers = remove_outliers(total_con_train['total.con.rougher.output'])\n",
    "primary_cleaner_input_no_outliers = remove_outliers(total_con_train['total.con.primary_cleaner.input'])\n",
    "final_output_no_outliers = remove_outliers(total_con_train['total.con.final.output'])"
   ]
  },
  {
   "cell_type": "code",
   "execution_count": 29,
   "metadata": {},
   "outputs": [
    {
     "name": "stdout",
     "output_type": "stream",
     "text": [
      "Суммарные концентрации металлов по стадиям без выбросов\n"
     ]
    },
    {
     "data": {
      "image/png": "[encoded data removed]",
      "text/plain": [
       "<Figure size 864x432 with 1 Axes>"
      ]
     },
     "metadata": {
      "needs_background": "light"
     },
     "output_type": "display_data"
    }
   ],
   "source": [
    "print('Суммарные концентрации металлов по стадиям без выбросов')\n",
    "rougher_input_no_outliers.plot(kind='kde', label='Суммарная концентрация в сырье', legend=True, figsize=(12,6))\n",
    "rougher_output_no_outliers.plot(kind='kde', label='Суммарная концентрация после флотации', legend=True, figsize=(12,6))\n",
    "primary_cleaner_input_no_outliers.plot(kind='kde', label='Суммарная концентрация после 1 очистки', legend=True, figsize=(12,6))\n",
    "final_output_no_outliers.plot(kind='kde', label='Суммарная концентрация на выходе', legend=True, figsize=(12,6))\n",
    "None"
   ]
  },
  {
   "cell_type": "markdown",
   "metadata": {},
   "source": [
    "***Выводы:*** В районе 0 есть аномалии, их нужно удалить."
   ]
  },
  {
   "cell_type": "markdown",
   "metadata": {},
   "source": [
    "## Модель"
   ]
  },
  {
   "cell_type": "markdown",
   "metadata": {},
   "source": [
    "### Функция для вычисления итогового sMAPE"
   ]
  },
  {
   "cell_type": "code",
   "execution_count": 30,
   "metadata": {},
   "outputs": [],
   "source": [
    "def smape_score(y_true, y_preds):\n",
    "    y_true = np.array(y_true)\n",
    "    y_preds = np.array(y_preds)\n",
    "\n",
    "    smape_rougher = (np.abs(y_true[:,0] - y_preds[:,0]) / np.abs(y_true[:,0] + y_preds[:,0]) / 2).mean() * 100\n",
    "    smape_final = (np.abs(y_true[:,1] - y_preds[:,1]) / np.abs(y_true[:,1] + y_preds[:,1]) / 2).mean() * 100 \n",
    "\n",
    "    return 0.25 * smape_rougher + 0.75 * smape_final\n",
    "\n",
    "smape_scorer = make_scorer(smape_score)"
   ]
  },
  {
   "cell_type": "code",
   "execution_count": 31,
   "metadata": {},
   "outputs": [],
   "source": [
    "def smape(y_true, y_pred):\n",
    "    error = abs(y_true - y_pred)\n",
    "    scale = (abs(y_true) + abs(y_pred)) / 2\n",
    "    result = (error / scale).mean()\n",
    "    return result*100\n",
    " \n",
    "\n",
    "def smape_score(y_true, y_pred):\n",
    "    y_true.reset_index(drop=True, inplace=True)\n",
    "    y_pred = pd.DataFrame(data=y_pred)\n",
    "    rougher = smape(y_true.iloc[:, 0], y_pred.iloc[:, 0])\n",
    "    final = smape(y_true.iloc[:, 1], y_pred.iloc[:, 1])\n",
    "    return 0.25 * rougher + 0.75 * final\n",
    "\n",
    "smape_scorer = make_scorer(smape_score, greater_is_better=False)"
   ]
  },
  {
   "cell_type": "markdown",
   "metadata": {},
   "source": [
    "### Обучение моделей"
   ]
  },
  {
   "cell_type": "code",
   "execution_count": 32,
   "metadata": {},
   "outputs": [],
   "source": [
    "X_train = df_train[df_test.columns].drop(columns='date')\n",
    "y_train = df_train[['rougher.output.recovery', 'final.output.recovery']]\n",
    "X_test = df_test.drop(columns='date')\n",
    "y_test = df_test.merge(df_full, how='left', right_on='date', left_on='date')\n",
    "y_test = y_test[['rougher.output.recovery', 'final.output.recovery']]"
   ]
  },
  {
   "cell_type": "code",
   "execution_count": 33,
   "metadata": {},
   "outputs": [
    {
     "data": {
      "text/plain": [
       "((14149, 52), (14149, 2))"
      ]
     },
     "execution_count": 33,
     "metadata": {},
     "output_type": "execute_result"
    }
   ],
   "source": [
    "X_train.shape, y_train.shape"
   ]
  },
  {
   "cell_type": "code",
   "execution_count": 34,
   "metadata": {},
   "outputs": [
    {
     "data": {
      "text/html": [
       "<div>\n",
       "<style scoped>\n",
       "    .dataframe tbody tr th:only-of-type {\n",
       "        vertical-align: middle;\n",
       "    }\n",
       "\n",
       "    .dataframe tbody tr th {\n",
       "        vertical-align: top;\n",
       "    }\n",
       "\n",
       "    .dataframe thead th {\n",
       "        text-align: right;\n",
       "    }\n",
       "</style>\n",
       "<table border=\"1\" class=\"dataframe\">\n",
       "  <thead>\n",
       "    <tr style=\"text-align: right;\">\n",
       "      <th></th>\n",
       "      <th>rougher.output.recovery</th>\n",
       "      <th>final.output.recovery</th>\n",
       "    </tr>\n",
       "  </thead>\n",
       "  <tbody>\n",
       "    <tr>\n",
       "      <th>0</th>\n",
       "      <td>89.993421</td>\n",
       "      <td>70.273583</td>\n",
       "    </tr>\n",
       "    <tr>\n",
       "      <th>1</th>\n",
       "      <td>88.089657</td>\n",
       "      <td>68.910432</td>\n",
       "    </tr>\n",
       "    <tr>\n",
       "      <th>2</th>\n",
       "      <td>88.412756</td>\n",
       "      <td>68.143213</td>\n",
       "    </tr>\n",
       "    <tr>\n",
       "      <th>3</th>\n",
       "      <td>87.360133</td>\n",
       "      <td>67.776393</td>\n",
       "    </tr>\n",
       "    <tr>\n",
       "      <th>4</th>\n",
       "      <td>83.236367</td>\n",
       "      <td>61.467078</td>\n",
       "    </tr>\n",
       "    <tr>\n",
       "      <th>...</th>\n",
       "      <td>...</td>\n",
       "      <td>...</td>\n",
       "    </tr>\n",
       "    <tr>\n",
       "      <th>5285</th>\n",
       "      <td>95.172585</td>\n",
       "      <td>68.919891</td>\n",
       "    </tr>\n",
       "    <tr>\n",
       "      <th>5286</th>\n",
       "      <td>94.575036</td>\n",
       "      <td>68.440582</td>\n",
       "    </tr>\n",
       "    <tr>\n",
       "      <th>5287</th>\n",
       "      <td>93.018138</td>\n",
       "      <td>67.092759</td>\n",
       "    </tr>\n",
       "    <tr>\n",
       "      <th>5288</th>\n",
       "      <td>92.599042</td>\n",
       "      <td>68.061186</td>\n",
       "    </tr>\n",
       "    <tr>\n",
       "      <th>5289</th>\n",
       "      <td>91.177695</td>\n",
       "      <td>71.699976</td>\n",
       "    </tr>\n",
       "  </tbody>\n",
       "</table>\n",
       "<p>5290 rows × 2 columns</p>\n",
       "</div>"
      ],
      "text/plain": [
       "      rougher.output.recovery  final.output.recovery\n",
       "0                   89.993421              70.273583\n",
       "1                   88.089657              68.910432\n",
       "2                   88.412756              68.143213\n",
       "3                   87.360133              67.776393\n",
       "4                   83.236367              61.467078\n",
       "...                       ...                    ...\n",
       "5285                95.172585              68.919891\n",
       "5286                94.575036              68.440582\n",
       "5287                93.018138              67.092759\n",
       "5288                92.599042              68.061186\n",
       "5289                91.177695              71.699976\n",
       "\n",
       "[5290 rows x 2 columns]"
      ]
     },
     "execution_count": 34,
     "metadata": {},
     "output_type": "execute_result"
    }
   ],
   "source": [
    "y_test"
   ]
  },
  {
   "cell_type": "code",
   "execution_count": 35,
   "metadata": {},
   "outputs": [],
   "source": [
    "models = {\n",
    "    'Base line - Dummmy Regressor': DummyRegressor(strategy=\"median\"),\n",
    "    'Linear Regression': LinearRegression(),\n",
    "    'Random Forest': RandomForestRegressor(random_state=0)\n",
    "    }"
   ]
  },
  {
   "cell_type": "code",
   "execution_count": 36,
   "metadata": {},
   "outputs": [
    {
     "name": "stdout",
     "output_type": "stream",
     "text": [
      "Base line - Dummmy Regressor sMAPE = 11.48%\n",
      "Linear Regression sMAPE = 12.38%\n",
      "Random Forest sMAPE = 11.98%\n"
     ]
    }
   ],
   "source": [
    "for model_name in models:\n",
    "    score = cross_val_score(models[model_name], X_train, y_train, scoring=smape_scorer).mean()\n",
    "    print(f'{model_name} sMAPE = {-score:.2f}%')"
   ]
  },
  {
   "cell_type": "markdown",
   "metadata": {},
   "source": [
    "### Проверка лучшей модели на тестовой выборке"
   ]
  },
  {
   "cell_type": "code",
   "execution_count": 37,
   "metadata": {},
   "outputs": [
    {
     "name": "stdout",
     "output_type": "stream",
     "text": [
      "sMAPE случайного леса на тестовой выборке = 10.43%\n"
     ]
    }
   ],
   "source": [
    "model = RandomForestRegressor(random_state=0)\n",
    "model.fit(X_train, y_train)\n",
    "y_pred = model.predict(X_test)\n",
    "print(f'sMAPE случайного леса на тестовой выборке = {smape_score(y_test, y_pred):.2f}%')"
   ]
  },
  {
   "cell_type": "code",
   "execution_count": 38,
   "metadata": {},
   "outputs": [
    {
     "name": "stdout",
     "output_type": "stream",
     "text": [
      "sMAPE Dummmy Regressor на тестовой выборке = 9.48%\n"
     ]
    }
   ],
   "source": [
    "model = DummyRegressor(strategy=\"median\")\n",
    "model.fit(X_train, y_train)\n",
    "y_pred = model.predict(X_test)\n",
    "print(f'sMAPE Dummmy Regressor на тестовой выборке = {smape_score(y_test, y_pred):.2f}%')"
   ]
  },
  {
   "cell_type": "markdown",
   "metadata": {},
   "source": [
    "dummy_regressor_rougher = DummyRegressor(strategy=\"median\")\n",
    "dummy_regressor_rougher.fit(X_train, y_train_rougher)\n",
    "dummy_rougher_pred = dummy_regressor_rougher.predict(X_test)\n",
    "smape_dummy_rougher = smape(y_test_rougher, dummy_rougher_pred)\n",
    "print(smape_dummy_rougher) \n",
    "\n",
    "И ДАЛЕЕ: ДЛЯ FINAL И ИТОГОВЫЙ"
   ]
  },
  {
   "cell_type": "raw",
   "metadata": {},
   "source": [
    "# ПРОСТО ДЛЯ ОЗНАКОМЛЕНИЯ ВАРАИНТА КРОСС-ВАЛИДАЦИИ СО СВОЕЙ ФУНКЦИЕЙ\n",
    "\n",
    "random_state = 123\n",
    "cv = 5\n",
    "models = [DecisionTreeRegressor(random_state = random_state), \n",
    "          RandomForestRegressor(random_state=random_state), \n",
    "          LinearRegression()]\n",
    "\n",
    "\n",
    "results_cross_val = []\n",
    "\n",
    "for model in models: \n",
    "    \n",
    "    scorer = make_scorer(smape, greater_is_better=False) \n",
    "    \n",
    "    cross_val_score_rougher = cross_val_score(model, \n",
    "                                              features_train, \n",
    "                                              target_rougher_train, \n",
    "                                              cv=cv, scoring=scorer).mean()\n",
    "    cross_val_score_final = cross_val_score(model, \n",
    "                                            features_train, \n",
    "                                            target_final_train, \n",
    "                                            cv=cv, scoring=scorer).mean()\n",
    "\n",
    "    results_cross_val.append({'model name': model.__class__.__name__, \n",
    "                              'cross_val_score_rougher': cross_val_score_rougher, \n",
    "                              'cross_val_score_final': cross_val_score_final}) \n",
    "              \n",
    "pd.DataFrame(results_cross_val)"
   ]
  },
  {
   "cell_type": "markdown",
   "metadata": {},
   "source": [
    "***Вывод:*** Результат наиболее точной модели (случайный лес) хуже точности DummyRegression. То есть, если просто взять медианное значение в качестве предсказания, то результат будет лучше, чем у используемых моделей. Для повышения точности необходимо использовать более сложные модели (например, градиентный бустинг), а также подбирать гиперпараметры по сетке (GridSearchCV)."
   ]
  }
 ],
 "metadata": {
  "ExecuteTimeLog": [
   {
    "duration": 748,
    "start_time": "2022-03-26T20:57:42.991Z"
   },
   {
    "duration": 145,
    "start_time": "2022-03-26T20:59:35.035Z"
   },
   {
    "duration": 649,
    "start_time": "2022-03-26T21:00:00.268Z"
   },
   {
    "duration": 32,
    "start_time": "2022-03-26T21:00:02.529Z"
   },
   {
    "duration": 25,
    "start_time": "2022-03-26T21:00:24.888Z"
   },
   {
    "duration": 27,
    "start_time": "2022-03-26T21:00:33.328Z"
   },
   {
    "duration": 17,
    "start_time": "2022-03-26T21:01:07.641Z"
   },
   {
    "duration": 12,
    "start_time": "2022-03-26T21:01:49.479Z"
   },
   {
    "duration": 17,
    "start_time": "2022-03-26T21:02:11.734Z"
   },
   {
    "duration": 56,
    "start_time": "2022-03-28T19:32:19.072Z"
   },
   {
    "duration": 1695,
    "start_time": "2022-03-28T19:32:25.869Z"
   },
   {
    "duration": 700,
    "start_time": "2022-03-28T19:32:27.567Z"
   },
   {
    "duration": 37,
    "start_time": "2022-03-28T19:32:28.268Z"
   },
   {
    "duration": 32,
    "start_time": "2022-03-28T19:32:28.306Z"
   },
   {
    "duration": 30,
    "start_time": "2022-03-28T19:32:28.341Z"
   },
   {
    "duration": 15,
    "start_time": "2022-03-28T19:32:28.372Z"
   },
   {
    "duration": 68,
    "start_time": "2022-03-28T19:32:28.389Z"
   },
   {
    "duration": 18,
    "start_time": "2022-03-28T19:32:28.459Z"
   },
   {
    "duration": 9,
    "start_time": "2022-03-28T19:32:28.479Z"
   },
   {
    "duration": 5,
    "start_time": "2022-03-28T19:34:23.217Z"
   },
   {
    "duration": 6,
    "start_time": "2022-03-28T19:35:13.361Z"
   },
   {
    "duration": 23,
    "start_time": "2022-03-28T19:38:56.381Z"
   },
   {
    "duration": 16,
    "start_time": "2022-03-28T19:38:57.528Z"
   },
   {
    "duration": 13,
    "start_time": "2022-03-28T19:39:05.878Z"
   },
   {
    "duration": 18,
    "start_time": "2022-03-28T19:39:12.363Z"
   },
   {
    "duration": 9,
    "start_time": "2022-03-28T20:12:21.359Z"
   },
   {
    "duration": 423,
    "start_time": "2022-03-28T20:12:33.608Z"
   },
   {
    "duration": 422,
    "start_time": "2022-03-28T20:12:54.714Z"
   },
   {
    "duration": 7,
    "start_time": "2022-03-28T20:13:33.044Z"
   },
   {
    "duration": 557,
    "start_time": "2022-03-28T20:13:34.407Z"
   },
   {
    "duration": 501,
    "start_time": "2022-03-28T20:13:39.949Z"
   },
   {
    "duration": 499,
    "start_time": "2022-03-28T20:21:49.192Z"
   },
   {
    "duration": 175,
    "start_time": "2022-03-28T20:22:02.909Z"
   },
   {
    "duration": 158,
    "start_time": "2022-03-28T20:22:10.220Z"
   },
   {
    "duration": 461,
    "start_time": "2022-03-28T20:22:16.314Z"
   },
   {
    "duration": 461,
    "start_time": "2022-03-28T20:22:25.508Z"
   },
   {
    "duration": 572,
    "start_time": "2022-03-28T20:23:10.761Z"
   },
   {
    "duration": 113,
    "start_time": "2022-03-28T20:32:49.073Z"
   },
   {
    "duration": 4,
    "start_time": "2022-03-28T20:32:52.592Z"
   },
   {
    "duration": 654,
    "start_time": "2022-03-28T20:32:53.439Z"
   },
   {
    "duration": 676,
    "start_time": "2022-03-28T20:33:16.289Z"
   },
   {
    "duration": 609,
    "start_time": "2022-03-28T20:35:02.764Z"
   },
   {
    "duration": 626,
    "start_time": "2022-03-28T20:35:59.074Z"
   },
   {
    "duration": 4,
    "start_time": "2022-03-28T20:43:36.813Z"
   },
   {
    "duration": 12,
    "start_time": "2022-03-28T20:48:37.815Z"
   },
   {
    "duration": 3,
    "start_time": "2022-03-28T20:48:57.857Z"
   },
   {
    "duration": 6,
    "start_time": "2022-03-28T20:49:04.556Z"
   },
   {
    "duration": 4,
    "start_time": "2022-03-28T20:49:31.184Z"
   },
   {
    "duration": 4,
    "start_time": "2022-03-28T20:49:33.829Z"
   },
   {
    "duration": 4,
    "start_time": "2022-03-28T20:49:39.294Z"
   },
   {
    "duration": 5,
    "start_time": "2022-03-28T20:49:41.669Z"
   },
   {
    "duration": 5,
    "start_time": "2022-03-28T20:50:06.675Z"
   },
   {
    "duration": 4,
    "start_time": "2022-03-28T20:51:27.386Z"
   },
   {
    "duration": 5,
    "start_time": "2022-03-28T20:51:43.035Z"
   },
   {
    "duration": 7,
    "start_time": "2022-03-28T21:02:49.569Z"
   },
   {
    "duration": 906,
    "start_time": "2022-03-28T21:02:52.052Z"
   },
   {
    "duration": 5,
    "start_time": "2022-03-28T21:03:55.076Z"
   },
   {
    "duration": 790,
    "start_time": "2022-03-28T21:03:56.144Z"
   },
   {
    "duration": 5,
    "start_time": "2022-03-28T21:04:41.590Z"
   },
   {
    "duration": 722,
    "start_time": "2022-03-28T21:04:42.753Z"
   },
   {
    "duration": 6,
    "start_time": "2022-03-28T21:05:07.748Z"
   },
   {
    "duration": 944,
    "start_time": "2022-03-28T21:05:11.853Z"
   },
   {
    "duration": 889,
    "start_time": "2022-03-28T21:05:31.796Z"
   },
   {
    "duration": 4,
    "start_time": "2022-03-28T21:13:58.967Z"
   },
   {
    "duration": 5,
    "start_time": "2022-03-28T21:15:01.381Z"
   },
   {
    "duration": 17,
    "start_time": "2022-03-28T21:15:31.489Z"
   },
   {
    "duration": 6,
    "start_time": "2022-03-28T21:16:01.714Z"
   },
   {
    "duration": 13,
    "start_time": "2022-03-28T21:16:02.506Z"
   },
   {
    "duration": 18,
    "start_time": "2022-03-28T21:18:05.939Z"
   },
   {
    "duration": 4,
    "start_time": "2022-03-28T21:18:40.901Z"
   },
   {
    "duration": 4,
    "start_time": "2022-03-28T21:19:12.261Z"
   },
   {
    "duration": 4,
    "start_time": "2022-03-28T21:19:28.915Z"
   },
   {
    "duration": 5,
    "start_time": "2022-03-28T21:19:37.081Z"
   },
   {
    "duration": 4,
    "start_time": "2022-03-28T21:19:57.235Z"
   },
   {
    "duration": 6,
    "start_time": "2022-03-28T21:19:57.711Z"
   },
   {
    "duration": 5,
    "start_time": "2022-03-28T21:20:33.245Z"
   },
   {
    "duration": 20,
    "start_time": "2022-03-28T21:20:34.185Z"
   },
   {
    "duration": 830,
    "start_time": "2022-03-28T21:21:36.693Z"
   },
   {
    "duration": 785,
    "start_time": "2022-03-28T21:22:27.463Z"
   },
   {
    "duration": 868,
    "start_time": "2022-03-28T21:22:48.850Z"
   },
   {
    "duration": 1787,
    "start_time": "2022-03-29T20:56:05.689Z"
   },
   {
    "duration": 642,
    "start_time": "2022-03-29T20:56:07.478Z"
   },
   {
    "duration": 33,
    "start_time": "2022-03-29T20:56:08.122Z"
   },
   {
    "duration": 18,
    "start_time": "2022-03-29T20:56:08.157Z"
   },
   {
    "duration": 47,
    "start_time": "2022-03-29T20:56:08.178Z"
   },
   {
    "duration": 14,
    "start_time": "2022-03-29T20:56:08.227Z"
   },
   {
    "duration": 30,
    "start_time": "2022-03-29T20:56:08.242Z"
   },
   {
    "duration": 42,
    "start_time": "2022-03-29T20:56:08.273Z"
   },
   {
    "duration": 9,
    "start_time": "2022-03-29T20:56:08.316Z"
   },
   {
    "duration": 4,
    "start_time": "2022-03-29T20:56:08.327Z"
   },
   {
    "duration": 21,
    "start_time": "2022-03-29T20:56:08.333Z"
   },
   {
    "duration": 53,
    "start_time": "2022-03-29T20:56:08.356Z"
   },
   {
    "duration": 11,
    "start_time": "2022-03-29T20:56:08.411Z"
   },
   {
    "duration": 15,
    "start_time": "2022-03-29T20:56:08.425Z"
   },
   {
    "duration": 6,
    "start_time": "2022-03-29T20:56:08.442Z"
   },
   {
    "duration": 440,
    "start_time": "2022-03-29T20:56:08.450Z"
   },
   {
    "duration": 440,
    "start_time": "2022-03-29T20:56:08.892Z"
   },
   {
    "duration": 5,
    "start_time": "2022-03-29T20:56:09.334Z"
   },
   {
    "duration": 973,
    "start_time": "2022-03-29T20:56:09.341Z"
   },
   {
    "duration": 0,
    "start_time": "2022-03-29T20:56:10.315Z"
   },
   {
    "duration": 0,
    "start_time": "2022-03-29T20:56:10.317Z"
   },
   {
    "duration": 0,
    "start_time": "2022-03-29T20:56:10.318Z"
   },
   {
    "duration": 0,
    "start_time": "2022-03-29T20:56:10.319Z"
   },
   {
    "duration": 0,
    "start_time": "2022-03-29T20:56:10.320Z"
   },
   {
    "duration": 5,
    "start_time": "2022-03-29T20:56:48.425Z"
   },
   {
    "duration": 732,
    "start_time": "2022-03-29T20:56:48.433Z"
   },
   {
    "duration": 792,
    "start_time": "2022-03-29T20:56:49.166Z"
   },
   {
    "duration": 4,
    "start_time": "2022-03-29T20:56:49.960Z"
   },
   {
    "duration": 17,
    "start_time": "2022-03-29T20:56:49.965Z"
   },
   {
    "duration": 759,
    "start_time": "2022-03-29T20:56:49.983Z"
   },
   {
    "duration": 752,
    "start_time": "2022-03-29T20:56:50.743Z"
   },
   {
    "duration": 5,
    "start_time": "2022-03-29T21:06:54.108Z"
   },
   {
    "duration": 20,
    "start_time": "2022-03-29T21:06:59.677Z"
   },
   {
    "duration": 11,
    "start_time": "2022-03-29T21:13:48.255Z"
   },
   {
    "duration": 6,
    "start_time": "2022-03-29T21:14:23.027Z"
   },
   {
    "duration": 487,
    "start_time": "2022-03-29T21:14:42.726Z"
   },
   {
    "duration": 464,
    "start_time": "2022-03-29T21:15:19.820Z"
   },
   {
    "duration": 466,
    "start_time": "2022-03-29T21:15:37.147Z"
   },
   {
    "duration": 540,
    "start_time": "2022-03-29T21:15:50.072Z"
   },
   {
    "duration": 16,
    "start_time": "2022-03-29T21:22:38.255Z"
   },
   {
    "duration": 490,
    "start_time": "2022-03-29T21:24:32.073Z"
   },
   {
    "duration": 1613,
    "start_time": "2022-03-29T21:25:59.749Z"
   },
   {
    "duration": 1572,
    "start_time": "2022-03-29T21:26:42.532Z"
   },
   {
    "duration": 1623,
    "start_time": "2022-03-29T21:27:54.696Z"
   },
   {
    "duration": 6,
    "start_time": "2022-03-29T21:32:36.815Z"
   },
   {
    "duration": 1761,
    "start_time": "2022-03-29T21:37:27.490Z"
   },
   {
    "duration": 1722,
    "start_time": "2022-03-29T21:40:00.233Z"
   },
   {
    "duration": 1700,
    "start_time": "2022-03-29T21:40:21.224Z"
   },
   {
    "duration": 253,
    "start_time": "2022-03-29T22:31:11.014Z"
   },
   {
    "duration": 218,
    "start_time": "2022-03-29T22:31:23.130Z"
   },
   {
    "duration": 24,
    "start_time": "2022-03-29T22:31:29.233Z"
   },
   {
    "duration": 4,
    "start_time": "2022-03-29T22:32:00.725Z"
   },
   {
    "duration": 39,
    "start_time": "2022-03-29T22:33:46.375Z"
   },
   {
    "duration": 72,
    "start_time": "2022-03-29T22:37:13.385Z"
   },
   {
    "duration": 4,
    "start_time": "2022-03-29T22:38:04.824Z"
   },
   {
    "duration": 3,
    "start_time": "2022-03-29T22:39:11.033Z"
   },
   {
    "duration": 380817,
    "start_time": "2022-03-29T22:42:54.463Z"
   },
   {
    "duration": 3,
    "start_time": "2022-03-29T22:51:11.305Z"
   },
   {
    "duration": 3,
    "start_time": "2022-03-29T22:52:54.971Z"
   },
   {
    "duration": 384902,
    "start_time": "2022-03-29T22:52:58.418Z"
   },
   {
    "duration": 213,
    "start_time": "2022-03-29T22:59:32.902Z"
   },
   {
    "duration": 3,
    "start_time": "2022-03-29T22:59:39.087Z"
   },
   {
    "duration": 373384,
    "start_time": "2022-03-29T22:59:40.984Z"
   },
   {
    "duration": 132,
    "start_time": "2022-03-29T23:05:54.370Z"
   },
   {
    "duration": 2475,
    "start_time": "2022-03-30T20:11:39.071Z"
   },
   {
    "duration": 675,
    "start_time": "2022-03-30T20:11:41.548Z"
   },
   {
    "duration": 30,
    "start_time": "2022-03-30T20:12:26.516Z"
   },
   {
    "duration": 18,
    "start_time": "2022-03-30T20:12:27.305Z"
   },
   {
    "duration": 28,
    "start_time": "2022-03-30T20:12:27.881Z"
   },
   {
    "duration": 15,
    "start_time": "2022-03-30T20:12:28.578Z"
   },
   {
    "duration": 29,
    "start_time": "2022-03-30T20:12:29.159Z"
   },
   {
    "duration": 19,
    "start_time": "2022-03-30T20:12:29.999Z"
   },
   {
    "duration": 9,
    "start_time": "2022-03-30T20:13:05.165Z"
   },
   {
    "duration": 5,
    "start_time": "2022-03-30T20:15:18.113Z"
   },
   {
    "duration": 23,
    "start_time": "2022-03-30T20:15:29.179Z"
   },
   {
    "duration": 16,
    "start_time": "2022-03-30T20:15:29.865Z"
   },
   {
    "duration": 12,
    "start_time": "2022-03-30T20:15:30.617Z"
   },
   {
    "duration": 17,
    "start_time": "2022-03-30T20:15:31.169Z"
   },
   {
    "duration": 6,
    "start_time": "2022-03-30T20:16:27.866Z"
   },
   {
    "duration": 425,
    "start_time": "2022-03-30T20:16:29.041Z"
   },
   {
    "duration": 503,
    "start_time": "2022-03-30T20:16:29.973Z"
   },
   {
    "duration": 4,
    "start_time": "2022-03-30T20:17:13.531Z"
   },
   {
    "duration": 850,
    "start_time": "2022-03-30T20:17:13.973Z"
   },
   {
    "duration": 793,
    "start_time": "2022-03-30T20:17:14.825Z"
   },
   {
    "duration": 4,
    "start_time": "2022-03-30T20:17:22.897Z"
   },
   {
    "duration": 16,
    "start_time": "2022-03-30T20:17:23.274Z"
   },
   {
    "duration": 819,
    "start_time": "2022-03-30T20:17:23.873Z"
   },
   {
    "duration": 837,
    "start_time": "2022-03-30T20:17:24.694Z"
   },
   {
    "duration": 4,
    "start_time": "2022-03-30T20:17:27.663Z"
   },
   {
    "duration": 12,
    "start_time": "2022-03-30T20:17:28.148Z"
   },
   {
    "duration": 1741,
    "start_time": "2022-03-30T20:17:28.740Z"
   },
   {
    "duration": 26,
    "start_time": "2022-03-30T20:17:30.483Z"
   },
   {
    "duration": 1622,
    "start_time": "2022-03-30T20:17:30.511Z"
   },
   {
    "duration": 4,
    "start_time": "2022-03-30T20:19:01.202Z"
   },
   {
    "duration": 41,
    "start_time": "2022-03-30T20:19:33.108Z"
   },
   {
    "duration": 5,
    "start_time": "2022-03-30T20:20:00.000Z"
   },
   {
    "duration": 4,
    "start_time": "2022-03-30T20:21:00.090Z"
   },
   {
    "duration": 4,
    "start_time": "2022-03-30T20:21:03.786Z"
   },
   {
    "duration": 50885,
    "start_time": "2022-03-30T20:21:04.544Z"
   },
   {
    "duration": 0,
    "start_time": "2022-03-30T20:21:55.431Z"
   },
   {
    "duration": 5,
    "start_time": "2022-03-30T20:22:05.645Z"
   },
   {
    "duration": 2,
    "start_time": "2022-03-30T20:22:07.349Z"
   },
   {
    "duration": 1563,
    "start_time": "2022-03-30T20:22:09.155Z"
   },
   {
    "duration": 7,
    "start_time": "2022-03-30T20:22:20.378Z"
   },
   {
    "duration": 3,
    "start_time": "2022-03-30T20:22:22.880Z"
   },
   {
    "duration": 1629,
    "start_time": "2022-03-30T20:22:23.582Z"
   },
   {
    "duration": 10,
    "start_time": "2022-03-30T20:24:24.275Z"
   },
   {
    "duration": 60,
    "start_time": "2022-03-30T20:25:13.293Z"
   },
   {
    "duration": 1960,
    "start_time": "2022-03-31T20:20:15.288Z"
   },
   {
    "duration": 676,
    "start_time": "2022-03-31T20:20:17.251Z"
   },
   {
    "duration": 32,
    "start_time": "2022-03-31T20:20:17.928Z"
   },
   {
    "duration": 17,
    "start_time": "2022-03-31T20:20:17.963Z"
   },
   {
    "duration": 44,
    "start_time": "2022-03-31T20:20:17.982Z"
   },
   {
    "duration": 19,
    "start_time": "2022-03-31T20:20:18.028Z"
   },
   {
    "duration": 73,
    "start_time": "2022-03-31T20:20:18.050Z"
   },
   {
    "duration": 18,
    "start_time": "2022-03-31T20:20:18.125Z"
   },
   {
    "duration": 11,
    "start_time": "2022-03-31T20:20:18.146Z"
   },
   {
    "duration": 5,
    "start_time": "2022-03-31T20:20:18.160Z"
   },
   {
    "duration": 52,
    "start_time": "2022-03-31T20:20:18.168Z"
   },
   {
    "duration": 16,
    "start_time": "2022-03-31T20:20:18.222Z"
   },
   {
    "duration": 13,
    "start_time": "2022-03-31T20:20:18.239Z"
   },
   {
    "duration": 50,
    "start_time": "2022-03-31T20:20:18.254Z"
   },
   {
    "duration": 8,
    "start_time": "2022-03-31T20:20:18.306Z"
   },
   {
    "duration": 486,
    "start_time": "2022-03-31T20:20:18.317Z"
   },
   {
    "duration": 583,
    "start_time": "2022-03-31T20:20:18.805Z"
   },
   {
    "duration": 11,
    "start_time": "2022-03-31T20:20:19.390Z"
   },
   {
    "duration": 828,
    "start_time": "2022-03-31T20:20:19.403Z"
   },
   {
    "duration": 780,
    "start_time": "2022-03-31T20:20:20.233Z"
   },
   {
    "duration": 9,
    "start_time": "2022-03-31T20:20:21.015Z"
   },
   {
    "duration": 21,
    "start_time": "2022-03-31T20:20:21.027Z"
   },
   {
    "duration": 836,
    "start_time": "2022-03-31T20:20:21.050Z"
   },
   {
    "duration": 1240,
    "start_time": "2022-03-31T20:20:21.888Z"
   },
   {
    "duration": 6,
    "start_time": "2022-03-31T20:20:23.131Z"
   },
   {
    "duration": 17,
    "start_time": "2022-03-31T20:20:23.139Z"
   },
   {
    "duration": 1993,
    "start_time": "2022-03-31T20:20:23.158Z"
   },
   {
    "duration": 15,
    "start_time": "2022-03-31T20:20:25.154Z"
   },
   {
    "duration": 1645,
    "start_time": "2022-03-31T20:20:25.171Z"
   },
   {
    "duration": 4,
    "start_time": "2022-03-31T20:20:26.819Z"
   },
   {
    "duration": 7,
    "start_time": "2022-03-31T20:20:26.825Z"
   },
   {
    "duration": 41,
    "start_time": "2022-03-31T20:20:26.834Z"
   },
   {
    "duration": 4,
    "start_time": "2022-03-31T20:20:26.877Z"
   },
   {
    "duration": 13,
    "start_time": "2022-03-31T20:20:26.901Z"
   },
   {
    "duration": 3,
    "start_time": "2022-03-31T20:20:26.916Z"
   },
   {
    "duration": 393088,
    "start_time": "2022-03-31T20:20:26.921Z"
   },
   {
    "duration": 316,
    "start_time": "2022-03-31T20:27:00.012Z"
   },
   {
    "duration": 11,
    "start_time": "2022-03-31T20:36:43.342Z"
   },
   {
    "duration": 9,
    "start_time": "2022-03-31T20:37:04.878Z"
   },
   {
    "duration": 1782,
    "start_time": "2022-03-31T20:37:46.732Z"
   },
   {
    "duration": 13,
    "start_time": "2022-03-31T20:37:58.830Z"
   },
   {
    "duration": 3,
    "start_time": "2022-03-31T20:48:42.051Z"
   },
   {
    "duration": 3294,
    "start_time": "2022-03-31T20:49:10.007Z"
   },
   {
    "duration": 960,
    "start_time": "2022-03-31T20:49:48.248Z"
   },
   {
    "duration": 1100,
    "start_time": "2022-03-31T20:50:05.701Z"
   },
   {
    "duration": 1359,
    "start_time": "2022-03-31T20:50:19.042Z"
   },
   {
    "duration": 109,
    "start_time": "2022-03-31T20:56:04.845Z"
   },
   {
    "duration": 2,
    "start_time": "2022-03-31T20:56:08.740Z"
   },
   {
    "duration": 155078,
    "start_time": "2022-03-31T20:56:10.231Z"
   },
   {
    "duration": 269972,
    "start_time": "2022-03-31T20:59:00.942Z"
   },
   {
    "duration": 4,
    "start_time": "2022-03-31T21:10:10.600Z"
   },
   {
    "duration": 3,
    "start_time": "2022-03-31T21:10:24.449Z"
   },
   {
    "duration": 8,
    "start_time": "2022-03-31T21:10:39.667Z"
   },
   {
    "duration": 4,
    "start_time": "2022-03-31T21:11:57.984Z"
   },
   {
    "duration": 4,
    "start_time": "2022-03-31T21:12:03.712Z"
   },
   {
    "duration": 3,
    "start_time": "2022-03-31T21:15:52.189Z"
   },
   {
    "duration": 4,
    "start_time": "2022-03-31T21:16:23.848Z"
   },
   {
    "duration": 95194,
    "start_time": "2022-03-31T21:18:13.015Z"
   },
   {
    "duration": 3,
    "start_time": "2022-03-31T21:26:26.305Z"
   },
   {
    "duration": 4,
    "start_time": "2022-03-31T21:26:29.711Z"
   },
   {
    "duration": 3,
    "start_time": "2022-03-31T21:26:36.770Z"
   },
   {
    "duration": 79599,
    "start_time": "2022-03-31T21:27:54.604Z"
   },
   {
    "duration": 4,
    "start_time": "2022-03-31T21:33:53.027Z"
   },
   {
    "duration": 4,
    "start_time": "2022-03-31T21:33:55.979Z"
   },
   {
    "duration": 3,
    "start_time": "2022-03-31T21:33:59.525Z"
   },
   {
    "duration": 373,
    "start_time": "2022-03-31T21:35:06.537Z"
   },
   {
    "duration": 240,
    "start_time": "2022-03-31T21:35:34.568Z"
   },
   {
    "duration": 50,
    "start_time": "2022-03-31T21:40:27.390Z"
   },
   {
    "duration": 11,
    "start_time": "2022-03-31T21:42:02.494Z"
   },
   {
    "duration": 3244,
    "start_time": "2022-03-31T21:42:23.576Z"
   },
   {
    "duration": 2065,
    "start_time": "2022-03-31T21:43:30.785Z"
   },
   {
    "duration": 3071,
    "start_time": "2022-03-31T21:54:00.959Z"
   },
   {
    "duration": 6,
    "start_time": "2022-03-31T21:54:17.204Z"
   },
   {
    "duration": 202,
    "start_time": "2022-03-31T21:55:06.029Z"
   },
   {
    "duration": 193,
    "start_time": "2022-03-31T21:55:17.190Z"
   },
   {
    "duration": 17342,
    "start_time": "2022-03-31T21:55:26.148Z"
   },
   {
    "duration": 18016,
    "start_time": "2022-03-31T21:55:50.975Z"
   },
   {
    "duration": 17349,
    "start_time": "2022-03-31T21:56:38.184Z"
   },
   {
    "duration": 185,
    "start_time": "2022-03-31T22:04:24.207Z"
   },
   {
    "duration": 184347,
    "start_time": "2022-03-31T22:04:41.638Z"
   },
   {
    "duration": 11,
    "start_time": "2022-03-31T22:25:11.598Z"
   },
   {
    "duration": 42319,
    "start_time": "2022-03-31T22:25:31.723Z"
   },
   {
    "duration": 4266433,
    "start_time": "2022-03-31T22:28:15.379Z"
   },
   {
    "duration": 75527,
    "start_time": "2022-03-31T23:39:21.814Z"
   },
   {
    "duration": 15253,
    "start_time": "2022-03-31T23:40:37.343Z"
   },
   {
    "duration": 194,
    "start_time": "2022-04-01T03:46:31.334Z"
   },
   {
    "duration": 1517,
    "start_time": "2022-04-01T03:53:46.839Z"
   },
   {
    "duration": 679,
    "start_time": "2022-04-01T03:53:48.358Z"
   },
   {
    "duration": 31,
    "start_time": "2022-04-01T03:53:49.039Z"
   },
   {
    "duration": 29,
    "start_time": "2022-04-01T03:53:49.072Z"
   },
   {
    "duration": 26,
    "start_time": "2022-04-01T03:53:49.103Z"
   },
   {
    "duration": 13,
    "start_time": "2022-04-01T03:53:49.131Z"
   },
   {
    "duration": 39,
    "start_time": "2022-04-01T03:53:49.146Z"
   },
   {
    "duration": 29,
    "start_time": "2022-04-01T03:53:49.188Z"
   },
   {
    "duration": 16,
    "start_time": "2022-04-01T03:53:49.219Z"
   },
   {
    "duration": 27,
    "start_time": "2022-04-01T03:53:49.239Z"
   },
   {
    "duration": 43,
    "start_time": "2022-04-01T03:53:49.268Z"
   },
   {
    "duration": 35,
    "start_time": "2022-04-01T03:53:49.313Z"
   },
   {
    "duration": 18,
    "start_time": "2022-04-01T03:53:49.349Z"
   },
   {
    "duration": 31,
    "start_time": "2022-04-01T03:53:49.368Z"
   },
   {
    "duration": 5,
    "start_time": "2022-04-01T03:53:49.401Z"
   },
   {
    "duration": 434,
    "start_time": "2022-04-01T03:53:49.408Z"
   },
   {
    "duration": 482,
    "start_time": "2022-04-01T03:53:49.844Z"
   },
   {
    "duration": 5,
    "start_time": "2022-04-01T03:53:50.328Z"
   },
   {
    "duration": 722,
    "start_time": "2022-04-01T03:53:50.335Z"
   },
   {
    "duration": 778,
    "start_time": "2022-04-01T03:53:51.059Z"
   },
   {
    "duration": 4,
    "start_time": "2022-04-01T03:53:51.839Z"
   },
   {
    "duration": 19,
    "start_time": "2022-04-01T03:53:51.844Z"
   },
   {
    "duration": 776,
    "start_time": "2022-04-01T03:53:51.864Z"
   },
   {
    "duration": 735,
    "start_time": "2022-04-01T03:53:52.641Z"
   },
   {
    "duration": 4,
    "start_time": "2022-04-01T03:53:53.378Z"
   },
   {
    "duration": 23,
    "start_time": "2022-04-01T03:53:53.384Z"
   },
   {
    "duration": 1744,
    "start_time": "2022-04-01T03:53:53.409Z"
   },
   {
    "duration": 14,
    "start_time": "2022-04-01T03:53:55.157Z"
   },
   {
    "duration": 1624,
    "start_time": "2022-04-01T03:53:55.173Z"
   },
   {
    "duration": 5,
    "start_time": "2022-04-01T03:53:56.798Z"
   },
   {
    "duration": 38,
    "start_time": "2022-04-01T03:53:56.804Z"
   },
   {
    "duration": 67,
    "start_time": "2022-04-01T03:53:56.843Z"
   },
   {
    "duration": 8,
    "start_time": "2022-04-01T03:53:56.911Z"
   },
   {
    "duration": 24,
    "start_time": "2022-04-01T03:53:56.921Z"
   },
   {
    "duration": 14,
    "start_time": "2022-04-01T03:53:56.947Z"
   },
   {
    "duration": 374127,
    "start_time": "2022-04-01T03:53:56.962Z"
   },
   {
    "duration": 211,
    "start_time": "2022-04-01T04:00:11.091Z"
   },
   {
    "duration": 97,
    "start_time": "2022-04-01T04:00:11.305Z"
   },
   {
    "duration": 2489,
    "start_time": "2022-04-01T19:34:49.554Z"
   },
   {
    "duration": 854,
    "start_time": "2022-04-01T19:34:52.046Z"
   },
   {
    "duration": 49,
    "start_time": "2022-04-01T19:34:52.903Z"
   },
   {
    "duration": 46,
    "start_time": "2022-04-01T19:34:52.956Z"
   },
   {
    "duration": 42,
    "start_time": "2022-04-01T19:34:53.005Z"
   },
   {
    "duration": 49,
    "start_time": "2022-04-01T19:34:53.050Z"
   },
   {
    "duration": 47,
    "start_time": "2022-04-01T19:34:53.101Z"
   },
   {
    "duration": 50,
    "start_time": "2022-04-01T19:34:53.150Z"
   },
   {
    "duration": 21,
    "start_time": "2022-04-01T19:34:53.204Z"
   },
   {
    "duration": 7,
    "start_time": "2022-04-01T19:34:53.230Z"
   },
   {
    "duration": 58,
    "start_time": "2022-04-01T19:34:53.239Z"
   },
   {
    "duration": 25,
    "start_time": "2022-04-01T19:34:53.299Z"
   },
   {
    "duration": 19,
    "start_time": "2022-04-01T19:34:53.327Z"
   },
   {
    "duration": 55,
    "start_time": "2022-04-01T19:34:53.348Z"
   },
   {
    "duration": 9,
    "start_time": "2022-04-01T19:34:53.405Z"
   },
   {
    "duration": 757,
    "start_time": "2022-04-01T19:34:53.416Z"
   },
   {
    "duration": 833,
    "start_time": "2022-04-01T19:34:54.183Z"
   },
   {
    "duration": 7,
    "start_time": "2022-04-01T19:34:55.019Z"
   },
   {
    "duration": 1199,
    "start_time": "2022-04-01T19:34:55.028Z"
   },
   {
    "duration": 1184,
    "start_time": "2022-04-01T19:34:56.229Z"
   },
   {
    "duration": 6,
    "start_time": "2022-04-01T19:34:57.416Z"
   },
   {
    "duration": 28,
    "start_time": "2022-04-01T19:34:57.424Z"
   },
   {
    "duration": 1143,
    "start_time": "2022-04-01T19:34:57.454Z"
   },
   {
    "duration": 1151,
    "start_time": "2022-04-01T19:34:58.599Z"
   },
   {
    "duration": 6,
    "start_time": "2022-04-01T19:34:59.752Z"
   },
   {
    "duration": 29,
    "start_time": "2022-04-01T19:34:59.760Z"
   },
   {
    "duration": 2373,
    "start_time": "2022-04-01T19:34:59.791Z"
   },
   {
    "duration": 34,
    "start_time": "2022-04-01T19:35:02.169Z"
   },
   {
    "duration": 2047,
    "start_time": "2022-04-01T19:35:02.205Z"
   },
   {
    "duration": 6,
    "start_time": "2022-04-01T19:35:04.254Z"
   },
   {
    "duration": 22,
    "start_time": "2022-04-01T19:35:04.262Z"
   },
   {
    "duration": 61,
    "start_time": "2022-04-01T19:35:04.286Z"
   },
   {
    "duration": 5,
    "start_time": "2022-04-01T19:35:04.349Z"
   },
   {
    "duration": 29,
    "start_time": "2022-04-01T19:35:04.356Z"
   },
   {
    "duration": 8,
    "start_time": "2022-04-01T19:35:04.387Z"
   },
   {
    "duration": 10,
    "start_time": "2022-04-01T19:35:04.397Z"
   },
   {
    "duration": 2027,
    "start_time": "2022-04-01T19:37:45.527Z"
   },
   {
    "duration": 785,
    "start_time": "2022-04-01T19:37:47.557Z"
   },
   {
    "duration": 55,
    "start_time": "2022-04-01T19:37:48.344Z"
   },
   {
    "duration": 25,
    "start_time": "2022-04-01T19:37:48.402Z"
   },
   {
    "duration": 64,
    "start_time": "2022-04-01T19:37:48.429Z"
   },
   {
    "duration": 18,
    "start_time": "2022-04-01T19:37:48.495Z"
   },
   {
    "duration": 43,
    "start_time": "2022-04-01T19:37:48.515Z"
   },
   {
    "duration": 24,
    "start_time": "2022-04-01T19:37:48.584Z"
   },
   {
    "duration": 13,
    "start_time": "2022-04-01T19:37:48.611Z"
   },
   {
    "duration": 8,
    "start_time": "2022-04-01T19:37:48.628Z"
   },
   {
    "duration": 66,
    "start_time": "2022-04-01T19:37:48.638Z"
   },
   {
    "duration": 25,
    "start_time": "2022-04-01T19:37:48.706Z"
   },
   {
    "duration": 19,
    "start_time": "2022-04-01T19:37:48.733Z"
   },
   {
    "duration": 50,
    "start_time": "2022-04-01T19:37:48.754Z"
   },
   {
    "duration": 9,
    "start_time": "2022-04-01T19:37:48.807Z"
   },
   {
    "duration": 765,
    "start_time": "2022-04-01T19:37:48.818Z"
   },
   {
    "duration": 818,
    "start_time": "2022-04-01T19:37:49.586Z"
   },
   {
    "duration": 7,
    "start_time": "2022-04-01T19:37:50.406Z"
   },
   {
    "duration": 1149,
    "start_time": "2022-04-01T19:37:50.415Z"
   },
   {
    "duration": 1143,
    "start_time": "2022-04-01T19:37:51.566Z"
   },
   {
    "duration": 7,
    "start_time": "2022-04-01T19:37:52.712Z"
   },
   {
    "duration": 43,
    "start_time": "2022-04-01T19:37:52.722Z"
   },
   {
    "duration": 1153,
    "start_time": "2022-04-01T19:37:52.768Z"
   },
   {
    "duration": 1251,
    "start_time": "2022-04-01T19:37:53.923Z"
   },
   {
    "duration": 11,
    "start_time": "2022-04-01T19:37:55.177Z"
   },
   {
    "duration": 42,
    "start_time": "2022-04-01T19:37:55.191Z"
   },
   {
    "duration": 2333,
    "start_time": "2022-04-01T19:37:55.235Z"
   },
   {
    "duration": 32,
    "start_time": "2022-04-01T19:37:57.574Z"
   },
   {
    "duration": 2288,
    "start_time": "2022-04-01T19:37:57.609Z"
   },
   {
    "duration": 6,
    "start_time": "2022-04-01T19:37:59.900Z"
   },
   {
    "duration": 13,
    "start_time": "2022-04-01T19:37:59.908Z"
   },
   {
    "duration": 76,
    "start_time": "2022-04-01T19:37:59.923Z"
   },
   {
    "duration": 9,
    "start_time": "2022-04-01T19:38:00.001Z"
   },
   {
    "duration": 25,
    "start_time": "2022-04-01T19:38:00.013Z"
   },
   {
    "duration": 13,
    "start_time": "2022-04-01T19:38:00.040Z"
   },
   {
    "duration": 31,
    "start_time": "2022-04-01T19:38:00.055Z"
   },
   {
    "duration": 423781,
    "start_time": "2022-04-01T19:38:00.089Z"
   },
   {
    "duration": 311,
    "start_time": "2022-04-01T19:45:03.872Z"
   },
   {
    "duration": 13,
    "start_time": "2022-04-01T19:45:04.186Z"
   },
   {
    "duration": 102540,
    "start_time": "2022-04-01T19:51:30.316Z"
   },
   {
    "duration": 1939,
    "start_time": "2022-04-01T19:55:07.923Z"
   },
   {
    "duration": 791,
    "start_time": "2022-04-01T19:55:09.865Z"
   },
   {
    "duration": 58,
    "start_time": "2022-04-01T19:55:10.658Z"
   },
   {
    "duration": 24,
    "start_time": "2022-04-01T19:55:10.719Z"
   },
   {
    "duration": 62,
    "start_time": "2022-04-01T19:55:10.746Z"
   },
   {
    "duration": 19,
    "start_time": "2022-04-01T19:55:10.810Z"
   },
   {
    "duration": 68,
    "start_time": "2022-04-01T19:55:10.831Z"
   },
   {
    "duration": 25,
    "start_time": "2022-04-01T19:55:10.901Z"
   },
   {
    "duration": 13,
    "start_time": "2022-04-01T19:55:10.929Z"
   },
   {
    "duration": 7,
    "start_time": "2022-04-01T19:55:10.946Z"
   },
   {
    "duration": 55,
    "start_time": "2022-04-01T19:55:10.955Z"
   },
   {
    "duration": 24,
    "start_time": "2022-04-01T19:55:11.012Z"
   },
   {
    "duration": 51,
    "start_time": "2022-04-01T19:55:11.038Z"
   },
   {
    "duration": 25,
    "start_time": "2022-04-01T19:55:11.092Z"
   },
   {
    "duration": 9,
    "start_time": "2022-04-01T19:55:11.120Z"
   },
   {
    "duration": 768,
    "start_time": "2022-04-01T19:55:11.131Z"
   },
   {
    "duration": 827,
    "start_time": "2022-04-01T19:55:11.901Z"
   },
   {
    "duration": 7,
    "start_time": "2022-04-01T19:55:12.730Z"
   },
   {
    "duration": 1213,
    "start_time": "2022-04-01T19:55:12.739Z"
   },
   {
    "duration": 1166,
    "start_time": "2022-04-01T19:55:13.954Z"
   },
   {
    "duration": 7,
    "start_time": "2022-04-01T19:55:15.122Z"
   },
   {
    "duration": 38,
    "start_time": "2022-04-01T19:55:15.132Z"
   },
   {
    "duration": 1139,
    "start_time": "2022-04-01T19:55:15.172Z"
   },
   {
    "duration": 1190,
    "start_time": "2022-04-01T19:55:16.313Z"
   },
   {
    "duration": 7,
    "start_time": "2022-04-01T19:55:17.505Z"
   },
   {
    "duration": 27,
    "start_time": "2022-04-01T19:55:17.514Z"
   },
   {
    "duration": 2749,
    "start_time": "2022-04-01T19:55:17.543Z"
   },
   {
    "duration": 23,
    "start_time": "2022-04-01T19:55:20.297Z"
   },
   {
    "duration": 2117,
    "start_time": "2022-04-01T19:55:20.323Z"
   },
   {
    "duration": 6,
    "start_time": "2022-04-01T19:55:22.442Z"
   },
   {
    "duration": 11,
    "start_time": "2022-04-01T19:55:22.450Z"
   },
   {
    "duration": 75,
    "start_time": "2022-04-01T19:55:22.464Z"
   },
   {
    "duration": 5,
    "start_time": "2022-04-01T19:55:22.542Z"
   },
   {
    "duration": 24,
    "start_time": "2022-04-01T19:55:22.549Z"
   },
   {
    "duration": 12,
    "start_time": "2022-04-01T19:55:22.584Z"
   },
   {
    "duration": 415891,
    "start_time": "2022-04-01T19:55:22.598Z"
   },
   {
    "duration": 103594,
    "start_time": "2022-04-01T20:02:18.491Z"
   },
   {
    "duration": 21,
    "start_time": "2022-04-01T20:04:02.087Z"
   }
  ],
  "kernelspec": {
   "display_name": "Python 3",
   "language": "python",
   "name": "python3"
  },
  "language_info": {
   "codemirror_mode": {
    "name": "ipython",
    "version": 3
   },
   "file_extension": ".py",
   "mimetype": "text/x-python",
   "name": "python",
   "nbconvert_exporter": "python",
   "pygments_lexer": "ipython3",
   "version": "3.8.5"
  },
  "toc": {
   "base_numbering": 1,
   "nav_menu": {},
   "number_sections": true,
   "sideBar": true,
   "skip_h1_title": true,
   "title_cell": "Содержание",
   "title_sidebar": "Contents",
   "toc_cell": true,
   "toc_position": {},
   "toc_section_display": true,
   "toc_window_display": false
  }
 },
 "nbformat": 4,
 "nbformat_minor": 2
}
